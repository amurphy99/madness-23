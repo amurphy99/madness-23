{
 "cells": [
  {
   "cell_type": "markdown",
   "id": "c3202742",
   "metadata": {},
   "source": [
    "# Imports"
   ]
  },
  {
   "cell_type": "code",
   "execution_count": 1,
   "id": "f092886a",
   "metadata": {},
   "outputs": [],
   "source": [
    "from network_classes.neuron import Neuron\n",
    "from network_classes.agent  import Agent"
   ]
  },
  {
   "cell_type": "markdown",
   "id": "2e5ead5b",
   "metadata": {},
   "source": [
    "# Testing Creation"
   ]
  },
  {
   "cell_type": "code",
   "execution_count": 2,
   "id": "af3ef1af",
   "metadata": {},
   "outputs": [],
   "source": [
    "test1 = Agent(2)"
   ]
  },
  {
   "cell_type": "code",
   "execution_count": 3,
   "id": "f2c6ff97",
   "metadata": {},
   "outputs": [
    {
     "name": "stdout",
     "output_type": "stream",
     "text": [
      "format  ->  final value   \n",
      "            ------------- \n",
      "            # connections \n",
      "\n",
      "\n",
      " 0.00  0.00 \n",
      "    1     2 \n",
      "\n",
      " 0.00  0.00 \n",
      "    1     1 \n",
      "\n",
      " 0.00 \n",
      "    0 \n",
      "\n"
     ]
    }
   ],
   "source": [
    "test1.print1()"
   ]
  },
  {
   "cell_type": "code",
   "execution_count": 4,
   "id": "af22510e",
   "metadata": {},
   "outputs": [
    {
     "name": "stdout",
     "output_type": "stream",
     "text": [
      "[(1, 0), -0.32787638307096834]\n",
      "\n",
      "[(1, 1), 0.02714878266911569]\n",
      "[(1, 0), 0.2613912952396853]\n",
      "\n",
      "((-1, 0), 1)\n",
      "\n",
      "((-1, 0), 1)\n",
      "\n",
      "\n"
     ]
    }
   ],
   "source": [
    "for layer in test1.layers:\n",
    "    for agent in layer:\n",
    "        for connection in agent.sending:\n",
    "            print(connection)\n",
    "        print()"
   ]
  },
  {
   "cell_type": "markdown",
   "id": "ef757d44",
   "metadata": {},
   "source": [
    "## AND/OR/XOR ?"
   ]
  },
  {
   "cell_type": "markdown",
   "id": "6416f42a",
   "metadata": {},
   "source": [
    "### inputs and solutions"
   ]
  },
  {
   "cell_type": "code",
   "execution_count": 5,
   "id": "3cd29eff",
   "metadata": {},
   "outputs": [],
   "source": [
    "def format_result(output):\n",
    "    if output > 0: return 1\n",
    "    else: return 0"
   ]
  },
  {
   "cell_type": "code",
   "execution_count": 6,
   "id": "329b4ee4",
   "metadata": {},
   "outputs": [],
   "source": [
    "logic_inputs =[ [0,0],\n",
    "                [0,1],\n",
    "                [1,0],\n",
    "                [1,1]  ]\n",
    "\n",
    "and_solutions = [0,0,0,1]\n",
    "or__solutions = [0,1,1,1]\n",
    "xor_solutions = [0,1,1,0]"
   ]
  },
  {
   "cell_type": "markdown",
   "id": "ec6f00cb",
   "metadata": {},
   "source": [
    "### AND"
   ]
  },
  {
   "cell_type": "code",
   "execution_count": 12,
   "id": "3dae60a3",
   "metadata": {},
   "outputs": [
    {
     "name": "stdout",
     "output_type": "stream",
     "text": [
      "format  ->  final value   \n",
      "            ------------- \n",
      "            # connections \n",
      "\n",
      "\n",
      " 0.00  0.00 \n",
      "    2     2 \n",
      "\n",
      " 0.00  0.00 \n",
      "    1     1 \n",
      "\n",
      " 0.00 \n",
      "    0 \n",
      "\n",
      "846 iterations\n",
      "agent scored 4 out of 4 for AND\n"
     ]
    }
   ],
   "source": [
    "AND_agent = Agent(2)\n",
    "\n",
    "iterations = 0\n",
    "for i in range(1000):\n",
    "    score = 0\n",
    "    for i in range(len(and_solutions)):\n",
    "        AND_agent.set_inputs(logic_inputs[i])\n",
    "        output = AND_agent.calculate_value()\n",
    "        result = format_result(output)\n",
    "        \n",
    "        if result == and_solutions[i]: score += 1\n",
    "            \n",
    "    if score == 4: break\n",
    "    else:\n",
    "        AND_agent.mutate()\n",
    "        iterations += 1\n",
    "\n",
    "    \n",
    "AND_agent.set_inputs(logic_inputs[0])\n",
    "AND_agent.calculate_value()\n",
    "AND_agent.print1()\n",
    "\n",
    "\n",
    "print(\"{} iterations\".format(iterations))\n",
    "print(\"agent scored {} out of {} for AND\".format(score, len(and_solutions)))"
   ]
  },
  {
   "cell_type": "markdown",
   "id": "28a19e81",
   "metadata": {},
   "source": [
    "### OR"
   ]
  },
  {
   "cell_type": "code",
   "execution_count": 8,
   "id": "21f26aad",
   "metadata": {},
   "outputs": [
    {
     "name": "stdout",
     "output_type": "stream",
     "text": [
      "format  ->  final value   \n",
      "            ------------- \n",
      "            # connections \n",
      "\n",
      "\n",
      " 0.00  0.00 \n",
      "    2     2 \n",
      "\n",
      " 0.00  0.00 \n",
      "    1     1 \n",
      "\n",
      " 0.00 \n",
      "    0 \n",
      "\n",
      "327 iterations\n",
      "agent scored 4 out of 4 for OR\n"
     ]
    }
   ],
   "source": [
    "OR__agent = Agent(2)\n",
    "\n",
    "iterations = 0\n",
    "for i in range(1000):\n",
    "    score = 0\n",
    "    for i in range(len(or__solutions)):\n",
    "        OR__agent.set_inputs(logic_inputs[i])\n",
    "        output = OR__agent.calculate_value()\n",
    "        result = format_result(output)\n",
    "        \n",
    "        if result == or__solutions[i]: score += 1\n",
    "            \n",
    "    if score == 4: break\n",
    "    else:\n",
    "        OR__agent.mutate()\n",
    "        iterations += 1\n",
    "\n",
    "    \n",
    "OR__agent.set_inputs(logic_inputs[0])\n",
    "OR__agent.calculate_value()\n",
    "OR__agent.print1()\n",
    "\n",
    "\n",
    "print(\"{} iterations\".format(iterations))\n",
    "print(\"agent scored {} out of {} for OR\".format(score, len(and_solutions)))"
   ]
  },
  {
   "cell_type": "markdown",
   "id": "4079ac26",
   "metadata": {},
   "source": [
    "### XOR"
   ]
  },
  {
   "cell_type": "code",
   "execution_count": 9,
   "id": "777b07be",
   "metadata": {},
   "outputs": [
    {
     "name": "stdout",
     "output_type": "stream",
     "text": [
      "\n",
      "        (0,1) -> bias, final value\n",
      "        ----------------------------\n",
      "        (1,0) -> weight | value sent\n",
      "        (1,2) -> weight | value sent\n",
      "\n",
      "        \n",
      "\n",
      "\n",
      "(0,0)  -> -0.97,   0.00   (0,1)  -> -0.30,   0.00   \n",
      "-----------------------   -----------------------   \n",
      "(1,1)  ->  0.93 |  0.00   (1,0)  ->  1.00 |  0.00   \n",
      "(1,0)  -> -0.46 | -0.00   (1,1)  -> -0.46 | -0.00   \n",
      "\n",
      "\n",
      "(1,0)  -> -0.70,   0.00   (1,1)  -> -0.52,   0.00   \n",
      "-----------------------   -----------------------   \n",
      "(-1,0) ->  1.00 |  0.00   (-1,0) ->  1.00 |  0.00   \n",
      "\n",
      "\n",
      "\n",
      "(2,0)  ->  0.00,   0.00   \n",
      "-----------------------   \n",
      "\n",
      "\n",
      "\n",
      "\n",
      "661 iterations\n",
      "agent scored 4 out of 4 for XOR\n"
     ]
    }
   ],
   "source": [
    "XOR_agent = Agent(2)\n",
    "\n",
    "iterations = 0\n",
    "for i in range(10000):\n",
    "    score = 0\n",
    "    for i in range(len(xor_solutions)):\n",
    "        XOR_agent.set_inputs(logic_inputs[i])\n",
    "        output = XOR_agent.calculate_value()\n",
    "        result = format_result(output)\n",
    "        \n",
    "        if result == xor_solutions[i]: score += 1\n",
    "            \n",
    "    if score == 4: break\n",
    "    else:\n",
    "        XOR_agent.mutate()\n",
    "        iterations += 1\n",
    "\n",
    "    \n",
    "XOR_agent.set_inputs(logic_inputs[0])\n",
    "XOR_agent.calculate_value()\n",
    "XOR_agent.print2()\n",
    "\n",
    "\n",
    "print(\"{} iterations\".format(iterations))\n",
    "print(\"agent scored {} out of {} for XOR\".format(score, len(and_solutions)))"
   ]
  },
  {
   "cell_type": "code",
   "execution_count": null,
   "id": "b73b89b1",
   "metadata": {},
   "outputs": [],
   "source": []
  },
  {
   "cell_type": "code",
   "execution_count": null,
   "id": "1697dc44",
   "metadata": {},
   "outputs": [],
   "source": []
  },
  {
   "cell_type": "code",
   "execution_count": null,
   "id": "3104c53b",
   "metadata": {},
   "outputs": [],
   "source": []
  },
  {
   "cell_type": "code",
   "execution_count": null,
   "id": "08ada614",
   "metadata": {},
   "outputs": [],
   "source": []
  },
  {
   "cell_type": "code",
   "execution_count": null,
   "id": "b0ce3d2b",
   "metadata": {},
   "outputs": [],
   "source": []
  }
 ],
 "metadata": {
  "kernelspec": {
   "display_name": "Python 3 (ipykernel)",
   "language": "python",
   "name": "python3"
  },
  "language_info": {
   "codemirror_mode": {
    "name": "ipython",
    "version": 3
   },
   "file_extension": ".py",
   "mimetype": "text/x-python",
   "name": "python",
   "nbconvert_exporter": "python",
   "pygments_lexer": "ipython3",
   "version": "3.8.8"
  }
 },
 "nbformat": 4,
 "nbformat_minor": 5
}
