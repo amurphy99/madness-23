{
 "cells": [
  {
   "cell_type": "markdown",
   "id": "eeef8436",
   "metadata": {},
   "source": [
    "# Import Starting Data"
   ]
  },
  {
   "cell_type": "code",
   "execution_count": 1,
   "id": "64042f25",
   "metadata": {},
   "outputs": [],
   "source": [
    "import pandas as pd #1\n",
    "import os           #3\n",
    "import numpy as np"
   ]
  },
  {
   "cell_type": "code",
   "execution_count": 2,
   "id": "70cfda46",
   "metadata": {},
   "outputs": [],
   "source": [
    "from copy import deepcopy\n",
    "from statistics import stdev\n",
    "import matplotlib.pyplot as plt"
   ]
  },
  {
   "cell_type": "code",
   "execution_count": 3,
   "id": "c51e12d5",
   "metadata": {},
   "outputs": [
    {
     "data": {
      "text/plain": [
       "['MMasseyOrdinals.csv',\n",
       " 'MNCAATourneyDetailedResults.csv',\n",
       " 'MRegularSeasonDetailedResults.csv',\n",
       " 'SampleSubmission2023.csv',\n",
       " 'SampleSubmissionWarmup.csv',\n",
       " 'WRegularSeasonDetailedResults.csv']"
      ]
     },
     "execution_count": 3,
     "metadata": {},
     "output_type": "execute_result"
    }
   ],
   "source": [
    "given_data_folder = 'base'\n",
    "\n",
    "file_names = os.listdir(given_data_folder)\n",
    "file_names.sort()\n",
    "file_names"
   ]
  },
  {
   "cell_type": "code",
   "execution_count": 4,
   "id": "8f71ff2a",
   "metadata": {},
   "outputs": [],
   "source": [
    "reg_season_file_name = 'MRegularSeasonDetailedResults.csv'"
   ]
  },
  {
   "cell_type": "code",
   "execution_count": 5,
   "id": "1b5267a0",
   "metadata": {},
   "outputs": [
    {
     "name": "stdout",
     "output_type": "stream",
     "text": [
      "106834\n"
     ]
    },
    {
     "data": {
      "text/html": [
       "<div>\n",
       "<style scoped>\n",
       "    .dataframe tbody tr th:only-of-type {\n",
       "        vertical-align: middle;\n",
       "    }\n",
       "\n",
       "    .dataframe tbody tr th {\n",
       "        vertical-align: top;\n",
       "    }\n",
       "\n",
       "    .dataframe thead th {\n",
       "        text-align: right;\n",
       "    }\n",
       "</style>\n",
       "<table border=\"1\" class=\"dataframe\">\n",
       "  <thead>\n",
       "    <tr style=\"text-align: right;\">\n",
       "      <th></th>\n",
       "      <th>Season</th>\n",
       "      <th>DayNum</th>\n",
       "      <th>WTeamID</th>\n",
       "      <th>WScore</th>\n",
       "      <th>LTeamID</th>\n",
       "      <th>LScore</th>\n",
       "      <th>WLoc</th>\n",
       "      <th>NumOT</th>\n",
       "      <th>WFGM</th>\n",
       "      <th>WFGA</th>\n",
       "      <th>...</th>\n",
       "      <th>LFGA3</th>\n",
       "      <th>LFTM</th>\n",
       "      <th>LFTA</th>\n",
       "      <th>LOR</th>\n",
       "      <th>LDR</th>\n",
       "      <th>LAst</th>\n",
       "      <th>LTO</th>\n",
       "      <th>LStl</th>\n",
       "      <th>LBlk</th>\n",
       "      <th>LPF</th>\n",
       "    </tr>\n",
       "  </thead>\n",
       "  <tbody>\n",
       "    <tr>\n",
       "      <th>0</th>\n",
       "      <td>2003</td>\n",
       "      <td>10</td>\n",
       "      <td>1104</td>\n",
       "      <td>68</td>\n",
       "      <td>1328</td>\n",
       "      <td>62</td>\n",
       "      <td>N</td>\n",
       "      <td>0</td>\n",
       "      <td>27</td>\n",
       "      <td>58</td>\n",
       "      <td>...</td>\n",
       "      <td>10</td>\n",
       "      <td>16</td>\n",
       "      <td>22</td>\n",
       "      <td>10</td>\n",
       "      <td>22</td>\n",
       "      <td>8</td>\n",
       "      <td>18</td>\n",
       "      <td>9</td>\n",
       "      <td>2</td>\n",
       "      <td>20</td>\n",
       "    </tr>\n",
       "    <tr>\n",
       "      <th>1</th>\n",
       "      <td>2003</td>\n",
       "      <td>10</td>\n",
       "      <td>1272</td>\n",
       "      <td>70</td>\n",
       "      <td>1393</td>\n",
       "      <td>63</td>\n",
       "      <td>N</td>\n",
       "      <td>0</td>\n",
       "      <td>26</td>\n",
       "      <td>62</td>\n",
       "      <td>...</td>\n",
       "      <td>24</td>\n",
       "      <td>9</td>\n",
       "      <td>20</td>\n",
       "      <td>20</td>\n",
       "      <td>25</td>\n",
       "      <td>7</td>\n",
       "      <td>12</td>\n",
       "      <td>8</td>\n",
       "      <td>6</td>\n",
       "      <td>16</td>\n",
       "    </tr>\n",
       "    <tr>\n",
       "      <th>2</th>\n",
       "      <td>2003</td>\n",
       "      <td>11</td>\n",
       "      <td>1266</td>\n",
       "      <td>73</td>\n",
       "      <td>1437</td>\n",
       "      <td>61</td>\n",
       "      <td>N</td>\n",
       "      <td>0</td>\n",
       "      <td>24</td>\n",
       "      <td>58</td>\n",
       "      <td>...</td>\n",
       "      <td>26</td>\n",
       "      <td>14</td>\n",
       "      <td>23</td>\n",
       "      <td>31</td>\n",
       "      <td>22</td>\n",
       "      <td>9</td>\n",
       "      <td>12</td>\n",
       "      <td>2</td>\n",
       "      <td>5</td>\n",
       "      <td>23</td>\n",
       "    </tr>\n",
       "    <tr>\n",
       "      <th>3</th>\n",
       "      <td>2003</td>\n",
       "      <td>11</td>\n",
       "      <td>1296</td>\n",
       "      <td>56</td>\n",
       "      <td>1457</td>\n",
       "      <td>50</td>\n",
       "      <td>N</td>\n",
       "      <td>0</td>\n",
       "      <td>18</td>\n",
       "      <td>38</td>\n",
       "      <td>...</td>\n",
       "      <td>22</td>\n",
       "      <td>8</td>\n",
       "      <td>15</td>\n",
       "      <td>17</td>\n",
       "      <td>20</td>\n",
       "      <td>9</td>\n",
       "      <td>19</td>\n",
       "      <td>4</td>\n",
       "      <td>3</td>\n",
       "      <td>23</td>\n",
       "    </tr>\n",
       "    <tr>\n",
       "      <th>4</th>\n",
       "      <td>2003</td>\n",
       "      <td>11</td>\n",
       "      <td>1400</td>\n",
       "      <td>77</td>\n",
       "      <td>1208</td>\n",
       "      <td>71</td>\n",
       "      <td>N</td>\n",
       "      <td>0</td>\n",
       "      <td>30</td>\n",
       "      <td>61</td>\n",
       "      <td>...</td>\n",
       "      <td>16</td>\n",
       "      <td>17</td>\n",
       "      <td>27</td>\n",
       "      <td>21</td>\n",
       "      <td>15</td>\n",
       "      <td>12</td>\n",
       "      <td>10</td>\n",
       "      <td>7</td>\n",
       "      <td>1</td>\n",
       "      <td>14</td>\n",
       "    </tr>\n",
       "  </tbody>\n",
       "</table>\n",
       "<p>5 rows × 34 columns</p>\n",
       "</div>"
      ],
      "text/plain": [
       "   Season  DayNum  WTeamID  WScore  LTeamID  LScore WLoc  NumOT  WFGM  WFGA  \\\n",
       "0    2003      10     1104      68     1328      62    N      0    27    58   \n",
       "1    2003      10     1272      70     1393      63    N      0    26    62   \n",
       "2    2003      11     1266      73     1437      61    N      0    24    58   \n",
       "3    2003      11     1296      56     1457      50    N      0    18    38   \n",
       "4    2003      11     1400      77     1208      71    N      0    30    61   \n",
       "\n",
       "   ...  LFGA3  LFTM  LFTA  LOR  LDR  LAst  LTO  LStl  LBlk  LPF  \n",
       "0  ...     10    16    22   10   22     8   18     9     2   20  \n",
       "1  ...     24     9    20   20   25     7   12     8     6   16  \n",
       "2  ...     26    14    23   31   22     9   12     2     5   23  \n",
       "3  ...     22     8    15   17   20     9   19     4     3   23  \n",
       "4  ...     16    17    27   21   15    12   10     7     1   14  \n",
       "\n",
       "[5 rows x 34 columns]"
      ]
     },
     "execution_count": 5,
     "metadata": {},
     "output_type": "execute_result"
    }
   ],
   "source": [
    "file_path = given_data_folder + '/' + reg_season_file_name \n",
    "reg_season_df  = pd.read_csv(file_path)\n",
    "print(len(reg_season_df))\n",
    "\n",
    "reg_season_df.head(5)"
   ]
  },
  {
   "cell_type": "markdown",
   "id": "1e55b5a7",
   "metadata": {},
   "source": [
    "### (only need to change if mens)"
   ]
  },
  {
   "cell_type": "code",
   "execution_count": 6,
   "id": "57074dec",
   "metadata": {},
   "outputs": [],
   "source": [
    "ranks_file_name = 'MMasseyOrdinals.csv'"
   ]
  },
  {
   "cell_type": "code",
   "execution_count": 7,
   "id": "9696e6bd",
   "metadata": {},
   "outputs": [
    {
     "name": "stdout",
     "output_type": "stream",
     "text": [
      "4877976\n"
     ]
    },
    {
     "data": {
      "text/html": [
       "<div>\n",
       "<style scoped>\n",
       "    .dataframe tbody tr th:only-of-type {\n",
       "        vertical-align: middle;\n",
       "    }\n",
       "\n",
       "    .dataframe tbody tr th {\n",
       "        vertical-align: top;\n",
       "    }\n",
       "\n",
       "    .dataframe thead th {\n",
       "        text-align: right;\n",
       "    }\n",
       "</style>\n",
       "<table border=\"1\" class=\"dataframe\">\n",
       "  <thead>\n",
       "    <tr style=\"text-align: right;\">\n",
       "      <th></th>\n",
       "      <th>Season</th>\n",
       "      <th>RankingDayNum</th>\n",
       "      <th>SystemName</th>\n",
       "      <th>TeamID</th>\n",
       "      <th>OrdinalRank</th>\n",
       "    </tr>\n",
       "  </thead>\n",
       "  <tbody>\n",
       "    <tr>\n",
       "      <th>0</th>\n",
       "      <td>2003</td>\n",
       "      <td>35</td>\n",
       "      <td>SEL</td>\n",
       "      <td>1102</td>\n",
       "      <td>159</td>\n",
       "    </tr>\n",
       "    <tr>\n",
       "      <th>1</th>\n",
       "      <td>2003</td>\n",
       "      <td>35</td>\n",
       "      <td>SEL</td>\n",
       "      <td>1103</td>\n",
       "      <td>229</td>\n",
       "    </tr>\n",
       "    <tr>\n",
       "      <th>2</th>\n",
       "      <td>2003</td>\n",
       "      <td>35</td>\n",
       "      <td>SEL</td>\n",
       "      <td>1104</td>\n",
       "      <td>12</td>\n",
       "    </tr>\n",
       "    <tr>\n",
       "      <th>3</th>\n",
       "      <td>2003</td>\n",
       "      <td>35</td>\n",
       "      <td>SEL</td>\n",
       "      <td>1105</td>\n",
       "      <td>314</td>\n",
       "    </tr>\n",
       "    <tr>\n",
       "      <th>4</th>\n",
       "      <td>2003</td>\n",
       "      <td>35</td>\n",
       "      <td>SEL</td>\n",
       "      <td>1106</td>\n",
       "      <td>260</td>\n",
       "    </tr>\n",
       "  </tbody>\n",
       "</table>\n",
       "</div>"
      ],
      "text/plain": [
       "   Season  RankingDayNum SystemName  TeamID  OrdinalRank\n",
       "0    2003             35        SEL    1102          159\n",
       "1    2003             35        SEL    1103          229\n",
       "2    2003             35        SEL    1104           12\n",
       "3    2003             35        SEL    1105          314\n",
       "4    2003             35        SEL    1106          260"
      ]
     },
     "execution_count": 7,
     "metadata": {},
     "output_type": "execute_result"
    }
   ],
   "source": [
    "file_path = given_data_folder + '/' + ranks_file_name \n",
    "ranks_df  = pd.read_csv(file_path)\n",
    "print(len(ranks_df))\n",
    "\n",
    "ranks_df.head(5)"
   ]
  },
  {
   "cell_type": "markdown",
   "id": "c8cb06a3",
   "metadata": {},
   "source": [
    "<hr>"
   ]
  },
  {
   "cell_type": "markdown",
   "id": "5a63dc44",
   "metadata": {},
   "source": [
    "# Initial Data Prep"
   ]
  },
  {
   "cell_type": "code",
   "execution_count": 8,
   "id": "87aadbe5",
   "metadata": {},
   "outputs": [],
   "source": [
    "from embeddings_data_prep import *"
   ]
  },
  {
   "cell_type": "markdown",
   "id": "4cd6e20d",
   "metadata": {},
   "source": [
    "<ul>\n",
    "    <li> Cut both down to just the last X years </li>\n",
    "    <li> Turn Both DFs into lists of columns    </li>\n",
    "    <li>  Combine team IDs and season years     </li>\n",
    "    \n",
    "</ul>"
   ]
  },
  {
   "cell_type": "code",
   "execution_count": 9,
   "id": "21983f47",
   "metadata": {},
   "outputs": [],
   "source": [
    "#reg_season_df\n",
    "#ranks_df"
   ]
  },
  {
   "cell_type": "code",
   "execution_count": 10,
   "id": "12876f50",
   "metadata": {},
   "outputs": [],
   "source": [
    "#seasons = [2017, 2018, 2019, 2021, 2022]\n",
    "#seasons = [2023]\n",
    "seasons = [2021, 2022, 2023]\n",
    "mens = True"
   ]
  },
  {
   "cell_type": "code",
   "execution_count": 11,
   "id": "355ea09e",
   "metadata": {},
   "outputs": [
    {
     "name": "stdout",
     "output_type": "stream",
     "text": [
      "rows: 14002   columns: 34\n",
      "rows: 757090   columns: 5\n"
     ]
    }
   ],
   "source": [
    "recent_season_df = get_seasons(reg_season_df, seasons)\n",
    "season_columns   = df_to_list_of_columns(recent_season_df, print_report=True)\n",
    "\n",
    "season_columns = combine_season_and_team_ids(season_columns, 0, [2,4])\n",
    "\n",
    "# there is no ranks df for womens\n",
    "if mens:\n",
    "    recent_ranks_df = get_seasons(ranks_df, seasons)\n",
    "    ranks_columns   = df_to_list_of_columns(recent_ranks_df, print_report=True)\n",
    "\n",
    "    ranks_columns = combine_season_and_team_ids(ranks_columns, 0, [3])"
   ]
  },
  {
   "cell_type": "markdown",
   "id": "ee4d56ad",
   "metadata": {},
   "source": [
    "### separate_fga_and_fgp"
   ]
  },
  {
   "cell_type": "code",
   "execution_count": 12,
   "id": "fc241918",
   "metadata": {},
   "outputs": [
    {
     "name": "stdout",
     "output_type": "stream",
     "text": [
      "number columns   | rows: 26, columns: 14002\n",
      "original columns | rows: 34, columns: 14002\n",
      "fgp columns      | rows: 34, columns: 14002\n"
     ]
    }
   ],
   "source": [
    "fgp_columns = separate_fga_and_fgp(season_columns, print_report=True)\n",
    "\n",
    "recent_season_df_columns = fgp_columns"
   ]
  },
  {
   "cell_type": "markdown",
   "id": "0b8417c6",
   "metadata": {},
   "source": [
    "### (if mens) create a ranks dictionary and add team ranks to data "
   ]
  },
  {
   "cell_type": "code",
   "execution_count": 13,
   "id": "179123c9",
   "metadata": {},
   "outputs": [
    {
     "name": "stdout",
     "output_type": "stream",
     "text": [
      "1113_2021\n",
      "[42.0, [['AP', 25], ['BNZ', 46], ['BWE', 67], ['DES', 25], ['DII', 20], ['DOK', 58], ['EBP', 35], ['HAS', 49], ['INC', 26], ['JNG', 51], ['LEF', 54], ['MAS', 59], ['MOR', 81], ['PGH', 32], ['POM', 29], ['SAG', 41], ['SMS', 68], ['TRK', 27], ['TRP', 40], ['USA', 17], ['WIL', 32]]]\n"
     ]
    }
   ],
   "source": [
    "if mens:\n",
    "    ranks_dict = create_ranks_dictionary(ranks_columns, print_report=True)"
   ]
  },
  {
   "cell_type": "code",
   "execution_count": 14,
   "id": "e7b07657",
   "metadata": {},
   "outputs": [],
   "source": [
    "if mens:\n",
    "    add_team_ranks_to_data(recent_season_df_columns, ranks_dict, print_report=False)"
   ]
  },
  {
   "cell_type": "markdown",
   "id": "4683fc2b",
   "metadata": {},
   "source": [
    "<hr>"
   ]
  },
  {
   "cell_type": "markdown",
   "id": "91049189",
   "metadata": {},
   "source": [
    "# Create Inputs and Solutions "
   ]
  },
  {
   "cell_type": "markdown",
   "id": "adc05949",
   "metadata": {},
   "source": [
    "### Normalizing each input stat to 0-1 and getting variance"
   ]
  },
  {
   "cell_type": "code",
   "execution_count": 15,
   "id": "47c07af0",
   "metadata": {},
   "outputs": [],
   "source": [
    "df_columns = deepcopy(recent_season_df_columns)"
   ]
  },
  {
   "cell_type": "code",
   "execution_count": 16,
   "id": "d0ecebf1",
   "metadata": {},
   "outputs": [],
   "source": [
    "df_columns, output_max_columns, output_variance = normalizing_stats(df_columns, mens=mens)"
   ]
  },
  {
   "cell_type": "markdown",
   "id": "48a0a62e",
   "metadata": {},
   "source": [
    "### create team dictionary, inputs, and solutions"
   ]
  },
  {
   "cell_type": "code",
   "execution_count": 17,
   "id": "54857b02",
   "metadata": {},
   "outputs": [
    {
     "name": "stdout",
     "output_type": "stream",
     "text": [
      "25156 88\n",
      "  Pts   FG%2   FGA2   FG%3   FGA3    FT%    FTA     OR     DR    Ast     TO    Stl    Blk     PF    Str  \n",
      " 0.54   0.53   0.66   0.28   0.82   0.75   0.36    0.8   0.56   0.31   0.78   0.71  0.071    0.0   0.79  \n",
      "recW%   xPts  xFG%2  xFGA2  xFG%3  xFGA3   xFT%   xFTA    xOR    xDR   xAst    xTO   xStl   xBlk    xPF   xStr  \n",
      " 0.59   0.49   0.79   0.57   0.74    0.5   0.93   0.76    0.6   0.42   0.46   0.43    0.0   0.45   0.59  -0.28  \n"
     ]
    }
   ],
   "source": [
    "team_dictionary, inputs, solutions = create_team_dict_and_input_rows(df_columns, \n",
    "                                                                     num_kept=5, \n",
    "                                                                     mens=mens, \n",
    "                                                                     print_report=True,\n",
    "                                                                     #existing_dict = team_dictionary\n",
    "                                                                    )"
   ]
  },
  {
   "cell_type": "markdown",
   "id": "c6bd16ae",
   "metadata": {},
   "source": [
    "<hr>"
   ]
  },
  {
   "cell_type": "markdown",
   "id": "13c01f63",
   "metadata": {},
   "source": [
    "# save training data to a csv"
   ]
  },
  {
   "cell_type": "code",
   "execution_count": 18,
   "id": "8e6bf7b4",
   "metadata": {},
   "outputs": [
    {
     "name": "stdout",
     "output_type": "stream",
     "text": [
      "headers length: 89 \n",
      "\n",
      "new_solutions   | rows: 25156, columns: 1\n",
      "new_inputs      | rows: 25156, columns: 89\n",
      "output_rows     | rows: 25156, columns: 89\n"
     ]
    }
   ],
   "source": [
    "output_rows, headers_output = prepare_inputs_for_csv(inputs, solutions, mens=mens, print_report=True)"
   ]
  },
  {
   "cell_type": "code",
   "execution_count": 19,
   "id": "9690a75c",
   "metadata": {},
   "outputs": [
    {
     "name": "stdout",
     "output_type": "stream",
     "text": [
      "(25156, 89)\n"
     ]
    },
    {
     "data": {
      "text/html": [
       "<div>\n",
       "<style scoped>\n",
       "    .dataframe tbody tr th:only-of-type {\n",
       "        vertical-align: middle;\n",
       "    }\n",
       "\n",
       "    .dataframe tbody tr th {\n",
       "        vertical-align: top;\n",
       "    }\n",
       "\n",
       "    .dataframe thead th {\n",
       "        text-align: right;\n",
       "    }\n",
       "</style>\n",
       "<table border=\"1\" class=\"dataframe\">\n",
       "  <thead>\n",
       "    <tr style=\"text-align: right;\">\n",
       "      <th></th>\n",
       "      <th>team1_id</th>\n",
       "      <th>team2_id</th>\n",
       "      <th>Pts</th>\n",
       "      <th>FG%2</th>\n",
       "      <th>FGA2</th>\n",
       "      <th>FG%3</th>\n",
       "      <th>FGA3</th>\n",
       "      <th>FT%</th>\n",
       "      <th>FTA</th>\n",
       "      <th>OR</th>\n",
       "      <th>...</th>\n",
       "      <th>xOR_a</th>\n",
       "      <th>xDR_a</th>\n",
       "      <th>xAst_a</th>\n",
       "      <th>xTO_a</th>\n",
       "      <th>xStl_a</th>\n",
       "      <th>xBlk_a</th>\n",
       "      <th>xPF_a</th>\n",
       "      <th>xStr_a</th>\n",
       "      <th>xrecW%</th>\n",
       "      <th>solution</th>\n",
       "    </tr>\n",
       "  </thead>\n",
       "  <tbody>\n",
       "    <tr>\n",
       "      <th>0</th>\n",
       "      <td>11332021.0</td>\n",
       "      <td>13242021.0</td>\n",
       "      <td>0.590426</td>\n",
       "      <td>0.592805</td>\n",
       "      <td>0.85</td>\n",
       "      <td>0.554705</td>\n",
       "      <td>0.560606</td>\n",
       "      <td>0.586207</td>\n",
       "      <td>0.562500</td>\n",
       "      <td>0.866667</td>\n",
       "      <td>...</td>\n",
       "      <td>0.733333</td>\n",
       "      <td>0.090909</td>\n",
       "      <td>-0.714286</td>\n",
       "      <td>-0.00</td>\n",
       "      <td>-0.916667</td>\n",
       "      <td>-2.220446e-16</td>\n",
       "      <td>-0.0</td>\n",
       "      <td>-0.0</td>\n",
       "      <td>-0.231378</td>\n",
       "      <td>1</td>\n",
       "    </tr>\n",
       "    <tr>\n",
       "      <th>1</th>\n",
       "      <td>13242021.0</td>\n",
       "      <td>11332021.0</td>\n",
       "      <td>0.542553</td>\n",
       "      <td>0.533241</td>\n",
       "      <td>0.66</td>\n",
       "      <td>0.282976</td>\n",
       "      <td>0.818182</td>\n",
       "      <td>0.748863</td>\n",
       "      <td>0.359375</td>\n",
       "      <td>0.800000</td>\n",
       "      <td>...</td>\n",
       "      <td>0.133333</td>\n",
       "      <td>0.060606</td>\n",
       "      <td>0.571429</td>\n",
       "      <td>0.75</td>\n",
       "      <td>0.333333</td>\n",
       "      <td>-2.857143e-01</td>\n",
       "      <td>-0.0</td>\n",
       "      <td>-0.5</td>\n",
       "      <td>-0.231378</td>\n",
       "      <td>-1</td>\n",
       "    </tr>\n",
       "    <tr>\n",
       "      <th>2</th>\n",
       "      <td>12282021.0</td>\n",
       "      <td>13252021.0</td>\n",
       "      <td>1.164894</td>\n",
       "      <td>0.943766</td>\n",
       "      <td>0.86</td>\n",
       "      <td>0.848012</td>\n",
       "      <td>0.742424</td>\n",
       "      <td>0.754310</td>\n",
       "      <td>0.750000</td>\n",
       "      <td>1.100000</td>\n",
       "      <td>...</td>\n",
       "      <td>-0.200000</td>\n",
       "      <td>0.090909</td>\n",
       "      <td>0.476190</td>\n",
       "      <td>-0.15</td>\n",
       "      <td>0.250000</td>\n",
       "      <td>7.142857e-01</td>\n",
       "      <td>-0.0</td>\n",
       "      <td>-1.0</td>\n",
       "      <td>-0.882903</td>\n",
       "      <td>1</td>\n",
       "    </tr>\n",
       "    <tr>\n",
       "      <th>3</th>\n",
       "      <td>13252021.0</td>\n",
       "      <td>12282021.0</td>\n",
       "      <td>0.893617</td>\n",
       "      <td>0.885057</td>\n",
       "      <td>0.59</td>\n",
       "      <td>0.726891</td>\n",
       "      <td>0.803030</td>\n",
       "      <td>0.633677</td>\n",
       "      <td>0.843750</td>\n",
       "      <td>0.700000</td>\n",
       "      <td>...</td>\n",
       "      <td>-0.266667</td>\n",
       "      <td>-0.121212</td>\n",
       "      <td>0.095238</td>\n",
       "      <td>0.10</td>\n",
       "      <td>-0.333333</td>\n",
       "      <td>4.285714e-01</td>\n",
       "      <td>-0.0</td>\n",
       "      <td>-1.0</td>\n",
       "      <td>-0.882903</td>\n",
       "      <td>1</td>\n",
       "    </tr>\n",
       "    <tr>\n",
       "      <th>4</th>\n",
       "      <td>12992021.0</td>\n",
       "      <td>11522021.0</td>\n",
       "      <td>0.702128</td>\n",
       "      <td>0.578101</td>\n",
       "      <td>0.83</td>\n",
       "      <td>0.563810</td>\n",
       "      <td>0.666667</td>\n",
       "      <td>0.719212</td>\n",
       "      <td>0.437500</td>\n",
       "      <td>0.400000</td>\n",
       "      <td>...</td>\n",
       "      <td>0.666667</td>\n",
       "      <td>0.303030</td>\n",
       "      <td>0.333333</td>\n",
       "      <td>0.20</td>\n",
       "      <td>0.416667</td>\n",
       "      <td>-5.714286e-01</td>\n",
       "      <td>-0.0</td>\n",
       "      <td>-0.0</td>\n",
       "      <td>-0.188285</td>\n",
       "      <td>1</td>\n",
       "    </tr>\n",
       "  </tbody>\n",
       "</table>\n",
       "<p>5 rows × 89 columns</p>\n",
       "</div>"
      ],
      "text/plain": [
       "     team1_id    team2_id       Pts      FG%2  FGA2      FG%3      FGA3  \\\n",
       "0  11332021.0  13242021.0  0.590426  0.592805  0.85  0.554705  0.560606   \n",
       "1  13242021.0  11332021.0  0.542553  0.533241  0.66  0.282976  0.818182   \n",
       "2  12282021.0  13252021.0  1.164894  0.943766  0.86  0.848012  0.742424   \n",
       "3  13252021.0  12282021.0  0.893617  0.885057  0.59  0.726891  0.803030   \n",
       "4  12992021.0  11522021.0  0.702128  0.578101  0.83  0.563810  0.666667   \n",
       "\n",
       "        FT%       FTA        OR  ...     xOR_a     xDR_a    xAst_a  xTO_a  \\\n",
       "0  0.586207  0.562500  0.866667  ...  0.733333  0.090909 -0.714286  -0.00   \n",
       "1  0.748863  0.359375  0.800000  ...  0.133333  0.060606  0.571429   0.75   \n",
       "2  0.754310  0.750000  1.100000  ... -0.200000  0.090909  0.476190  -0.15   \n",
       "3  0.633677  0.843750  0.700000  ... -0.266667 -0.121212  0.095238   0.10   \n",
       "4  0.719212  0.437500  0.400000  ...  0.666667  0.303030  0.333333   0.20   \n",
       "\n",
       "     xStl_a        xBlk_a  xPF_a  xStr_a    xrecW%  solution  \n",
       "0 -0.916667 -2.220446e-16   -0.0    -0.0 -0.231378         1  \n",
       "1  0.333333 -2.857143e-01   -0.0    -0.5 -0.231378        -1  \n",
       "2  0.250000  7.142857e-01   -0.0    -1.0 -0.882903         1  \n",
       "3 -0.333333  4.285714e-01   -0.0    -1.0 -0.882903         1  \n",
       "4  0.416667 -5.714286e-01   -0.0    -0.0 -0.188285         1  \n",
       "\n",
       "[5 rows x 89 columns]"
      ]
     },
     "execution_count": 19,
     "metadata": {},
     "output_type": "execute_result"
    }
   ],
   "source": [
    "# create the final dataframe\n",
    "training_df = pd.DataFrame(output_rows, columns=headers_output)\n",
    "\n",
    "print(training_df.shape)\n",
    "training_df.head()"
   ]
  },
  {
   "cell_type": "code",
   "execution_count": 20,
   "id": "9a1feb44",
   "metadata": {},
   "outputs": [],
   "source": [
    "# to csv\n",
    "file_name = \"prepped/M_training_data_embedding_.csv\"\n",
    "training_df.to_csv(file_name, index=False)"
   ]
  },
  {
   "cell_type": "markdown",
   "id": "8c4b685e",
   "metadata": {},
   "source": [
    "<hr>"
   ]
  },
  {
   "cell_type": "markdown",
   "id": "715e4915",
   "metadata": {},
   "source": [
    "# using final team dictionary entries, create input data for final solutions"
   ]
  },
  {
   "cell_type": "code",
   "execution_count": 21,
   "id": "92960263",
   "metadata": {},
   "outputs": [],
   "source": [
    "# import the sample answer sheet\n",
    "#sample_submission_file_name = 'SampleSubmissionWarmup.csv'\n",
    "sample_submission_file_name = 'SampleSubmission2023.csv'"
   ]
  },
  {
   "cell_type": "code",
   "execution_count": 22,
   "id": "d91b375e",
   "metadata": {},
   "outputs": [
    {
     "name": "stdout",
     "output_type": "stream",
     "text": [
      "130683\n"
     ]
    },
    {
     "data": {
      "text/html": [
       "<div>\n",
       "<style scoped>\n",
       "    .dataframe tbody tr th:only-of-type {\n",
       "        vertical-align: middle;\n",
       "    }\n",
       "\n",
       "    .dataframe tbody tr th {\n",
       "        vertical-align: top;\n",
       "    }\n",
       "\n",
       "    .dataframe thead th {\n",
       "        text-align: right;\n",
       "    }\n",
       "</style>\n",
       "<table border=\"1\" class=\"dataframe\">\n",
       "  <thead>\n",
       "    <tr style=\"text-align: right;\">\n",
       "      <th></th>\n",
       "      <th>ID</th>\n",
       "      <th>Pred</th>\n",
       "    </tr>\n",
       "  </thead>\n",
       "  <tbody>\n",
       "    <tr>\n",
       "      <th>0</th>\n",
       "      <td>2023_1101_1102</td>\n",
       "      <td>0.5</td>\n",
       "    </tr>\n",
       "    <tr>\n",
       "      <th>1</th>\n",
       "      <td>2023_1101_1103</td>\n",
       "      <td>0.5</td>\n",
       "    </tr>\n",
       "    <tr>\n",
       "      <th>2</th>\n",
       "      <td>2023_1101_1104</td>\n",
       "      <td>0.5</td>\n",
       "    </tr>\n",
       "    <tr>\n",
       "      <th>3</th>\n",
       "      <td>2023_1101_1105</td>\n",
       "      <td>0.5</td>\n",
       "    </tr>\n",
       "    <tr>\n",
       "      <th>4</th>\n",
       "      <td>2023_1101_1106</td>\n",
       "      <td>0.5</td>\n",
       "    </tr>\n",
       "  </tbody>\n",
       "</table>\n",
       "</div>"
      ],
      "text/plain": [
       "               ID  Pred\n",
       "0  2023_1101_1102   0.5\n",
       "1  2023_1101_1103   0.5\n",
       "2  2023_1101_1104   0.5\n",
       "3  2023_1101_1105   0.5\n",
       "4  2023_1101_1106   0.5"
      ]
     },
     "execution_count": 22,
     "metadata": {},
     "output_type": "execute_result"
    }
   ],
   "source": [
    "file_path = given_data_folder + '/' + sample_submission_file_name \n",
    "sample_submission_df  = pd.read_csv(file_path)\n",
    "print(len(sample_submission_df))\n",
    "\n",
    "sample_submission_df.head(5)"
   ]
  },
  {
   "cell_type": "code",
   "execution_count": 23,
   "id": "b4d05de6",
   "metadata": {},
   "outputs": [],
   "source": [
    "# missing data in the womens dictionary\n",
    "if (not mens) and (2021 in seasons) and (2019 in seasons):\n",
    "    team_dictionary['3169_2021'] = team_dictionary['3169_2019']\n",
    "    team_dictionary['3197_2021'] = team_dictionary['3197_2019']"
   ]
  },
  {
   "cell_type": "code",
   "execution_count": 24,
   "id": "189ab347",
   "metadata": {},
   "outputs": [
    {
     "name": "stdout",
     "output_type": "stream",
     "text": [
      "headers length: 84 \n",
      "\n",
      "matchup_column  | rows: 130683, columns: 1\n",
      "final_inputs    | rows: 131406, columns: 84\n"
     ]
    }
   ],
   "source": [
    "final_inputs, headers = submission_input_data(sample_submission_df, team_dictionary, mens=mens, print_report=True)"
   ]
  },
  {
   "cell_type": "code",
   "execution_count": 25,
   "id": "564d1ae5",
   "metadata": {},
   "outputs": [
    {
     "name": "stdout",
     "output_type": "stream",
     "text": [
      "(131406, 84)\n"
     ]
    },
    {
     "data": {
      "text/html": [
       "<div>\n",
       "<style scoped>\n",
       "    .dataframe tbody tr th:only-of-type {\n",
       "        vertical-align: middle;\n",
       "    }\n",
       "\n",
       "    .dataframe tbody tr th {\n",
       "        vertical-align: top;\n",
       "    }\n",
       "\n",
       "    .dataframe thead th {\n",
       "        text-align: right;\n",
       "    }\n",
       "</style>\n",
       "<table border=\"1\" class=\"dataframe\">\n",
       "  <thead>\n",
       "    <tr style=\"text-align: right;\">\n",
       "      <th></th>\n",
       "      <th>team1_id</th>\n",
       "      <th>team2_id</th>\n",
       "      <th>Pts</th>\n",
       "      <th>FG%2</th>\n",
       "      <th>FGA2</th>\n",
       "      <th>FG%3</th>\n",
       "      <th>FGA3</th>\n",
       "      <th>FT%</th>\n",
       "      <th>FTA</th>\n",
       "      <th>OR</th>\n",
       "      <th>...</th>\n",
       "      <th>xFGA3_a</th>\n",
       "      <th>xFTA_a</th>\n",
       "      <th>xOR_a</th>\n",
       "      <th>xDR_a</th>\n",
       "      <th>xAst_a</th>\n",
       "      <th>xTO_a</th>\n",
       "      <th>xStl_a</th>\n",
       "      <th>xBlk_a</th>\n",
       "      <th>xPF_a</th>\n",
       "      <th>xrecW%</th>\n",
       "    </tr>\n",
       "  </thead>\n",
       "  <tbody>\n",
       "    <tr>\n",
       "      <th>0</th>\n",
       "      <td>1101_2023</td>\n",
       "      <td>1102_2023</td>\n",
       "      <td>0.805319</td>\n",
       "      <td>0.716581</td>\n",
       "      <td>0.842</td>\n",
       "      <td>0.608050</td>\n",
       "      <td>0.542424</td>\n",
       "      <td>0.758318</td>\n",
       "      <td>0.631250</td>\n",
       "      <td>0.513333</td>\n",
       "      <td>...</td>\n",
       "      <td>0.224242</td>\n",
       "      <td>-0.975000</td>\n",
       "      <td>-0.813333</td>\n",
       "      <td>-0.187879</td>\n",
       "      <td>0.047619</td>\n",
       "      <td>-0.835</td>\n",
       "      <td>0.308333</td>\n",
       "      <td>-0.228571</td>\n",
       "      <td>-0.842857</td>\n",
       "      <td>-0.2</td>\n",
       "    </tr>\n",
       "    <tr>\n",
       "      <th>1</th>\n",
       "      <td>1102_2023</td>\n",
       "      <td>1101_2023</td>\n",
       "      <td>0.680851</td>\n",
       "      <td>0.837502</td>\n",
       "      <td>0.540</td>\n",
       "      <td>0.647953</td>\n",
       "      <td>0.669697</td>\n",
       "      <td>0.716463</td>\n",
       "      <td>0.421875</td>\n",
       "      <td>0.273333</td>\n",
       "      <td>...</td>\n",
       "      <td>-0.375758</td>\n",
       "      <td>1.006250</td>\n",
       "      <td>0.793333</td>\n",
       "      <td>-0.366667</td>\n",
       "      <td>-0.661905</td>\n",
       "      <td>0.325</td>\n",
       "      <td>0.108333</td>\n",
       "      <td>0.057143</td>\n",
       "      <td>0.703571</td>\n",
       "      <td>-0.4</td>\n",
       "    </tr>\n",
       "    <tr>\n",
       "      <th>2</th>\n",
       "      <td>1101_2023</td>\n",
       "      <td>1103_2023</td>\n",
       "      <td>0.805319</td>\n",
       "      <td>0.716581</td>\n",
       "      <td>0.842</td>\n",
       "      <td>0.608050</td>\n",
       "      <td>0.542424</td>\n",
       "      <td>0.758318</td>\n",
       "      <td>0.631250</td>\n",
       "      <td>0.513333</td>\n",
       "      <td>...</td>\n",
       "      <td>0.363636</td>\n",
       "      <td>-0.025000</td>\n",
       "      <td>-0.286667</td>\n",
       "      <td>-0.112121</td>\n",
       "      <td>0.609524</td>\n",
       "      <td>-0.125</td>\n",
       "      <td>0.416667</td>\n",
       "      <td>-0.285714</td>\n",
       "      <td>-0.407143</td>\n",
       "      <td>-0.7</td>\n",
       "    </tr>\n",
       "    <tr>\n",
       "      <th>3</th>\n",
       "      <td>1103_2023</td>\n",
       "      <td>1101_2023</td>\n",
       "      <td>0.796809</td>\n",
       "      <td>0.750199</td>\n",
       "      <td>0.652</td>\n",
       "      <td>0.714995</td>\n",
       "      <td>0.760606</td>\n",
       "      <td>0.755332</td>\n",
       "      <td>0.537500</td>\n",
       "      <td>0.600000</td>\n",
       "      <td>...</td>\n",
       "      <td>-0.796970</td>\n",
       "      <td>0.243750</td>\n",
       "      <td>-0.413333</td>\n",
       "      <td>-0.124242</td>\n",
       "      <td>-0.600000</td>\n",
       "      <td>0.415</td>\n",
       "      <td>-0.433333</td>\n",
       "      <td>0.957143</td>\n",
       "      <td>0.089286</td>\n",
       "      <td>-0.4</td>\n",
       "    </tr>\n",
       "    <tr>\n",
       "      <th>4</th>\n",
       "      <td>1101_2023</td>\n",
       "      <td>1104_2023</td>\n",
       "      <td>0.805319</td>\n",
       "      <td>0.716581</td>\n",
       "      <td>0.842</td>\n",
       "      <td>0.608050</td>\n",
       "      <td>0.542424</td>\n",
       "      <td>0.758318</td>\n",
       "      <td>0.631250</td>\n",
       "      <td>0.513333</td>\n",
       "      <td>...</td>\n",
       "      <td>-0.045455</td>\n",
       "      <td>-0.596875</td>\n",
       "      <td>0.473333</td>\n",
       "      <td>-0.190909</td>\n",
       "      <td>-0.071429</td>\n",
       "      <td>-0.755</td>\n",
       "      <td>0.391667</td>\n",
       "      <td>-0.157143</td>\n",
       "      <td>-0.671429</td>\n",
       "      <td>-0.8</td>\n",
       "    </tr>\n",
       "  </tbody>\n",
       "</table>\n",
       "<p>5 rows × 84 columns</p>\n",
       "</div>"
      ],
      "text/plain": [
       "    team1_id   team2_id       Pts      FG%2   FGA2      FG%3      FGA3  \\\n",
       "0  1101_2023  1102_2023  0.805319  0.716581  0.842  0.608050  0.542424   \n",
       "1  1102_2023  1101_2023  0.680851  0.837502  0.540  0.647953  0.669697   \n",
       "2  1101_2023  1103_2023  0.805319  0.716581  0.842  0.608050  0.542424   \n",
       "3  1103_2023  1101_2023  0.796809  0.750199  0.652  0.714995  0.760606   \n",
       "4  1101_2023  1104_2023  0.805319  0.716581  0.842  0.608050  0.542424   \n",
       "\n",
       "        FT%       FTA        OR  ...   xFGA3_a    xFTA_a     xOR_a     xDR_a  \\\n",
       "0  0.758318  0.631250  0.513333  ...  0.224242 -0.975000 -0.813333 -0.187879   \n",
       "1  0.716463  0.421875  0.273333  ... -0.375758  1.006250  0.793333 -0.366667   \n",
       "2  0.758318  0.631250  0.513333  ...  0.363636 -0.025000 -0.286667 -0.112121   \n",
       "3  0.755332  0.537500  0.600000  ... -0.796970  0.243750 -0.413333 -0.124242   \n",
       "4  0.758318  0.631250  0.513333  ... -0.045455 -0.596875  0.473333 -0.190909   \n",
       "\n",
       "     xAst_a  xTO_a    xStl_a    xBlk_a     xPF_a  xrecW%  \n",
       "0  0.047619 -0.835  0.308333 -0.228571 -0.842857    -0.2  \n",
       "1 -0.661905  0.325  0.108333  0.057143  0.703571    -0.4  \n",
       "2  0.609524 -0.125  0.416667 -0.285714 -0.407143    -0.7  \n",
       "3 -0.600000  0.415 -0.433333  0.957143  0.089286    -0.4  \n",
       "4 -0.071429 -0.755  0.391667 -0.157143 -0.671429    -0.8  \n",
       "\n",
       "[5 rows x 84 columns]"
      ]
     },
     "execution_count": 25,
     "metadata": {},
     "output_type": "execute_result"
    }
   ],
   "source": [
    "# create the final dataframe\n",
    "testing_df = pd.DataFrame(final_inputs, columns=headers)\n",
    "\n",
    "print(testing_df.shape)\n",
    "testing_df.head()"
   ]
  },
  {
   "cell_type": "code",
   "execution_count": 26,
   "id": "2504ba3e",
   "metadata": {},
   "outputs": [],
   "source": [
    "# to csv\n",
    "file_name = \"prepped/M_testing_embedding_2023_.csv\"\n",
    "testing_df.to_csv(file_name, index=False)"
   ]
  },
  {
   "cell_type": "code",
   "execution_count": null,
   "id": "d2e4a085",
   "metadata": {},
   "outputs": [],
   "source": []
  },
  {
   "cell_type": "code",
   "execution_count": null,
   "id": "1736e9c7",
   "metadata": {},
   "outputs": [],
   "source": [
    "\n",
    "\n",
    "\n",
    "\n",
    "\n",
    "\n",
    "\n",
    "\n",
    "\n",
    "\n",
    "\n",
    "\n",
    "\n",
    "\n",
    "\n",
    "\n",
    "\n",
    "\n",
    "\n",
    "\n",
    "\n",
    "\n"
   ]
  },
  {
   "cell_type": "code",
   "execution_count": null,
   "id": "6771a557",
   "metadata": {},
   "outputs": [],
   "source": []
  }
 ],
 "metadata": {
  "kernelspec": {
   "display_name": "Python 3 (ipykernel)",
   "language": "python",
   "name": "python3"
  },
  "language_info": {
   "codemirror_mode": {
    "name": "ipython",
    "version": 3
   },
   "file_extension": ".py",
   "mimetype": "text/x-python",
   "name": "python",
   "nbconvert_exporter": "python",
   "pygments_lexer": "ipython3",
   "version": "3.8.8"
  }
 },
 "nbformat": 4,
 "nbformat_minor": 5
}
