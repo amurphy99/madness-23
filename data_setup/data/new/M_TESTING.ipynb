{
 "cells": [
  {
   "cell_type": "code",
   "execution_count": 1,
   "id": "01be5eca",
   "metadata": {},
   "outputs": [],
   "source": [
    "from copy import deepcopy\n",
    "from statistics import stdev\n",
    "import matplotlib.pyplot as plt\n",
    "import numpy as np"
   ]
  },
  {
   "cell_type": "code",
   "execution_count": 2,
   "id": "cd4b45db",
   "metadata": {},
   "outputs": [],
   "source": [
    "def graph_progress(all_costs, all_accuracies, show_recents=True):\n",
    "    # last 5 results\n",
    "    # ---------------\n",
    "    if show_recents:\n",
    "        line1 = \"cost: \"\n",
    "        line2 = \"acc:  \"\n",
    "        for i in range(-5, 0):\n",
    "            line1 += \"{:>6} \".format(round(all_costs[i], 3))\n",
    "            line2 += \"{:>6}%\".format(round(all_accuracies[i]*100, 2))\n",
    "        print(line1)\n",
    "        print(line2)\n",
    "\n",
    "\n",
    "    # graphs\n",
    "    # -------\n",
    "    fig, axes = plt.subplots(nrows=1, ncols=2, figsize=(10, 5))\n",
    "\n",
    "    axes[0].plot(range(len(all_costs)), all_costs, label=\"costs\")\n",
    "    axes[0].set_xlabel('step') # Set the y axis label of the current axis.\n",
    "    axes[0].set_ylabel('cost') # Set a title of the current axes.\n",
    "    axes[0].set_title('cost over training steps') \n",
    "    axes[0].legend() # show a legend on the plot\n",
    "\n",
    "    axes[1].plot(range(len(all_accuracies)), all_accuracies, label=\"accuracies\")\n",
    "    axes[1].set_xlabel('step') # Set the y axis label of the current axis.\n",
    "    axes[1].set_ylabel('accuracy') # Set a title of the current axes.\n",
    "    axes[1].set_title('accuracy over training steps') \n",
    "    axes[1].legend() # show a legend on the plot\n",
    "\n",
    "    return fig.tight_layout()"
   ]
  },
  {
   "cell_type": "markdown",
   "id": "8cf0b09d",
   "metadata": {},
   "source": [
    "# import training data"
   ]
  },
  {
   "cell_type": "code",
   "execution_count": 3,
   "id": "f1fd1e82",
   "metadata": {},
   "outputs": [],
   "source": [
    "import pandas as pd #1\n",
    "import os           #3"
   ]
  },
  {
   "cell_type": "code",
   "execution_count": 4,
   "id": "8bbe85e9",
   "metadata": {},
   "outputs": [
    {
     "data": {
      "text/plain": [
       "['.DS_Store',\n",
       " 'M_predictions.csv',\n",
       " 'M_testing.csv',\n",
       " 'M_training_data.csv',\n",
       " 'W_predictions.csv',\n",
       " 'W_testing.csv',\n",
       " 'W_training_data.csv',\n",
       " 'predictions']"
      ]
     },
     "execution_count": 4,
     "metadata": {},
     "output_type": "execute_result"
    }
   ],
   "source": [
    "given_data_folder = 'prepped'\n",
    "\n",
    "file_names = os.listdir(given_data_folder)\n",
    "file_names.sort()\n",
    "file_names"
   ]
  },
  {
   "cell_type": "code",
   "execution_count": 5,
   "id": "0b805811",
   "metadata": {},
   "outputs": [],
   "source": [
    "training_data_file = 'M_training_data.csv'"
   ]
  },
  {
   "cell_type": "code",
   "execution_count": 6,
   "id": "980e916c",
   "metadata": {},
   "outputs": [
    {
     "name": "stdout",
     "output_type": "stream",
     "text": [
      "46338\n"
     ]
    },
    {
     "data": {
      "text/html": [
       "<div>\n",
       "<style scoped>\n",
       "    .dataframe tbody tr th:only-of-type {\n",
       "        vertical-align: middle;\n",
       "    }\n",
       "\n",
       "    .dataframe tbody tr th {\n",
       "        vertical-align: top;\n",
       "    }\n",
       "\n",
       "    .dataframe thead th {\n",
       "        text-align: right;\n",
       "    }\n",
       "</style>\n",
       "<table border=\"1\" class=\"dataframe\">\n",
       "  <thead>\n",
       "    <tr style=\"text-align: right;\">\n",
       "      <th></th>\n",
       "      <th>Pts</th>\n",
       "      <th>FGM</th>\n",
       "      <th>FGA</th>\n",
       "      <th>FGM3</th>\n",
       "      <th>FGA3</th>\n",
       "      <th>FTM</th>\n",
       "      <th>FTA</th>\n",
       "      <th>OR</th>\n",
       "      <th>DR</th>\n",
       "      <th>Ast</th>\n",
       "      <th>...</th>\n",
       "      <th>xFTA_a</th>\n",
       "      <th>xOR_a</th>\n",
       "      <th>xDR_a</th>\n",
       "      <th>xAst_a</th>\n",
       "      <th>xTO_a</th>\n",
       "      <th>xStl_a</th>\n",
       "      <th>xBlk_a</th>\n",
       "      <th>xPF_a</th>\n",
       "      <th>xStr_a</th>\n",
       "      <th>solution</th>\n",
       "    </tr>\n",
       "  </thead>\n",
       "  <tbody>\n",
       "    <tr>\n",
       "      <th>0</th>\n",
       "      <td>0.750000</td>\n",
       "      <td>0.633800</td>\n",
       "      <td>0.787037</td>\n",
       "      <td>0.439078</td>\n",
       "      <td>0.680556</td>\n",
       "      <td>0.750842</td>\n",
       "      <td>0.662162</td>\n",
       "      <td>0.605263</td>\n",
       "      <td>0.851351</td>\n",
       "      <td>0.645833</td>\n",
       "      <td>...</td>\n",
       "      <td>-0.567568</td>\n",
       "      <td>-0.605263</td>\n",
       "      <td>-0.675676</td>\n",
       "      <td>-0.479167</td>\n",
       "      <td>-0.659091</td>\n",
       "      <td>-0.538462</td>\n",
       "      <td>-0.500000</td>\n",
       "      <td>-0.621212</td>\n",
       "      <td>-0.847291</td>\n",
       "      <td>1</td>\n",
       "    </tr>\n",
       "    <tr>\n",
       "      <th>1</th>\n",
       "      <td>0.754902</td>\n",
       "      <td>0.658602</td>\n",
       "      <td>0.555556</td>\n",
       "      <td>0.582219</td>\n",
       "      <td>0.930556</td>\n",
       "      <td>0.601307</td>\n",
       "      <td>0.594595</td>\n",
       "      <td>0.578947</td>\n",
       "      <td>0.783784</td>\n",
       "      <td>0.645833</td>\n",
       "      <td>...</td>\n",
       "      <td>-0.675676</td>\n",
       "      <td>-0.578947</td>\n",
       "      <td>-0.770270</td>\n",
       "      <td>-0.354167</td>\n",
       "      <td>-0.659091</td>\n",
       "      <td>-0.807692</td>\n",
       "      <td>-0.375000</td>\n",
       "      <td>-0.606061</td>\n",
       "      <td>-0.400841</td>\n",
       "      <td>-1</td>\n",
       "    </tr>\n",
       "    <tr>\n",
       "      <th>2</th>\n",
       "      <td>0.833333</td>\n",
       "      <td>0.763211</td>\n",
       "      <td>0.648148</td>\n",
       "      <td>0.694010</td>\n",
       "      <td>0.555556</td>\n",
       "      <td>0.798333</td>\n",
       "      <td>0.662162</td>\n",
       "      <td>0.236842</td>\n",
       "      <td>0.810811</td>\n",
       "      <td>0.791667</td>\n",
       "      <td>...</td>\n",
       "      <td>-0.567568</td>\n",
       "      <td>-0.657895</td>\n",
       "      <td>-0.635135</td>\n",
       "      <td>-0.687500</td>\n",
       "      <td>-0.454545</td>\n",
       "      <td>-0.615385</td>\n",
       "      <td>-0.500000</td>\n",
       "      <td>-0.606061</td>\n",
       "      <td>-0.768758</td>\n",
       "      <td>1</td>\n",
       "    </tr>\n",
       "    <tr>\n",
       "      <th>3</th>\n",
       "      <td>0.699346</td>\n",
       "      <td>0.750538</td>\n",
       "      <td>0.629630</td>\n",
       "      <td>0.404228</td>\n",
       "      <td>0.712963</td>\n",
       "      <td>0.706472</td>\n",
       "      <td>0.513513</td>\n",
       "      <td>0.280702</td>\n",
       "      <td>0.684685</td>\n",
       "      <td>0.625000</td>\n",
       "      <td>...</td>\n",
       "      <td>-0.675676</td>\n",
       "      <td>-0.543860</td>\n",
       "      <td>-0.702703</td>\n",
       "      <td>-0.569444</td>\n",
       "      <td>-0.666667</td>\n",
       "      <td>-0.615385</td>\n",
       "      <td>-0.458333</td>\n",
       "      <td>-0.545455</td>\n",
       "      <td>-0.541014</td>\n",
       "      <td>-1</td>\n",
       "    </tr>\n",
       "    <tr>\n",
       "      <th>4</th>\n",
       "      <td>0.700980</td>\n",
       "      <td>0.737634</td>\n",
       "      <td>0.750000</td>\n",
       "      <td>0.435882</td>\n",
       "      <td>0.583333</td>\n",
       "      <td>0.632353</td>\n",
       "      <td>0.391892</td>\n",
       "      <td>0.684211</td>\n",
       "      <td>0.716216</td>\n",
       "      <td>0.708333</td>\n",
       "      <td>...</td>\n",
       "      <td>-0.297297</td>\n",
       "      <td>-0.394737</td>\n",
       "      <td>-0.567568</td>\n",
       "      <td>-0.312500</td>\n",
       "      <td>-0.863636</td>\n",
       "      <td>-0.538462</td>\n",
       "      <td>-0.562500</td>\n",
       "      <td>-0.439394</td>\n",
       "      <td>-0.598615</td>\n",
       "      <td>1</td>\n",
       "    </tr>\n",
       "  </tbody>\n",
       "</table>\n",
       "<p>5 rows × 123 columns</p>\n",
       "</div>"
      ],
      "text/plain": [
       "        Pts       FGM       FGA      FGM3      FGA3       FTM       FTA  \\\n",
       "0  0.750000  0.633800  0.787037  0.439078  0.680556  0.750842  0.662162   \n",
       "1  0.754902  0.658602  0.555556  0.582219  0.930556  0.601307  0.594595   \n",
       "2  0.833333  0.763211  0.648148  0.694010  0.555556  0.798333  0.662162   \n",
       "3  0.699346  0.750538  0.629630  0.404228  0.712963  0.706472  0.513513   \n",
       "4  0.700980  0.737634  0.750000  0.435882  0.583333  0.632353  0.391892   \n",
       "\n",
       "         OR        DR       Ast  ...    xFTA_a     xOR_a     xDR_a    xAst_a  \\\n",
       "0  0.605263  0.851351  0.645833  ... -0.567568 -0.605263 -0.675676 -0.479167   \n",
       "1  0.578947  0.783784  0.645833  ... -0.675676 -0.578947 -0.770270 -0.354167   \n",
       "2  0.236842  0.810811  0.791667  ... -0.567568 -0.657895 -0.635135 -0.687500   \n",
       "3  0.280702  0.684685  0.625000  ... -0.675676 -0.543860 -0.702703 -0.569444   \n",
       "4  0.684211  0.716216  0.708333  ... -0.297297 -0.394737 -0.567568 -0.312500   \n",
       "\n",
       "      xTO_a    xStl_a    xBlk_a     xPF_a    xStr_a  solution  \n",
       "0 -0.659091 -0.538462 -0.500000 -0.621212 -0.847291         1  \n",
       "1 -0.659091 -0.807692 -0.375000 -0.606061 -0.400841        -1  \n",
       "2 -0.454545 -0.615385 -0.500000 -0.606061 -0.768758         1  \n",
       "3 -0.666667 -0.615385 -0.458333 -0.545455 -0.541014        -1  \n",
       "4 -0.863636 -0.538462 -0.562500 -0.439394 -0.598615         1  \n",
       "\n",
       "[5 rows x 123 columns]"
      ]
     },
     "execution_count": 6,
     "metadata": {},
     "output_type": "execute_result"
    }
   ],
   "source": [
    "file_path = given_data_folder + '/' + training_data_file \n",
    "training_df  = pd.read_csv(file_path)\n",
    "print(len(training_df))\n",
    "\n",
    "training_df.head(5)"
   ]
  },
  {
   "cell_type": "markdown",
   "id": "e7fd3499",
   "metadata": {},
   "source": [
    "## get as rows"
   ]
  },
  {
   "cell_type": "code",
   "execution_count": 7,
   "id": "25ede746",
   "metadata": {},
   "outputs": [],
   "source": [
    "# wether or not to keep the data for stats against a team\n",
    "keep_against = True"
   ]
  },
  {
   "cell_type": "code",
   "execution_count": 8,
   "id": "fa9d2ec5",
   "metadata": {},
   "outputs": [
    {
     "name": "stdout",
     "output_type": "stream",
     "text": [
      "46338 122\n",
      "46338 1\n"
     ]
    }
   ],
   "source": [
    "training_column_names = training_df.columns.tolist()\n",
    "\n",
    "# get all data as columns\n",
    "training_columns = []\n",
    "for i in range(len(training_column_names)):\n",
    "    new_column = list(training_df[training_column_names[i]])\n",
    "    training_columns.append(new_column)\n",
    "    \n",
    "\n",
    "    \n",
    "# indicis\n",
    "# 30 each 0:15, 15:30, 30:45, 45:60\n",
    "if not keep_against:\n",
    "    new_training_columns = training_columns[0:15] + training_columns[30:45] + [training_columns[60]]\n",
    "    training_columns = new_training_columns\n",
    "    \n",
    "    \n",
    "    \n",
    "# get as rows\n",
    "training_input_rows    = []\n",
    "training_solution_rows = []\n",
    "for i in range(len(training_columns[0])):\n",
    "    new_input_row    = []\n",
    "    new_solution_row = [training_columns[-1][i]]\n",
    "    for j in range(len(training_columns)-1):\n",
    "        new_input_row.append(training_columns[j][i])\n",
    "        \n",
    "    training_input_rows   .append(new_input_row)\n",
    "    training_solution_rows.append(new_solution_row)\n",
    "    \n",
    "print(len(training_input_rows), len(training_input_rows[0]))\n",
    "print(len(training_solution_rows), len(training_solution_rows[0]))"
   ]
  },
  {
   "cell_type": "code",
   "execution_count": 9,
   "id": "b8ef8ac4",
   "metadata": {},
   "outputs": [],
   "source": [
    "split = 7_000\n",
    "np_inputs    = np.array(training_input_rows[:split])\n",
    "np_solutions = np.array(training_solution_rows[:split])\n",
    "\n",
    "#np_inputs    = np.array(training_input_rows)\n",
    "#np_solutions = np.array(training_solution_rows)\n",
    "\n",
    "np_data = [np_inputs, np_solutions]"
   ]
  },
  {
   "cell_type": "markdown",
   "id": "8a6e37e9",
   "metadata": {},
   "source": [
    "# Create and Train population"
   ]
  },
  {
   "cell_type": "code",
   "execution_count": 10,
   "id": "d5d17f7c",
   "metadata": {},
   "outputs": [],
   "source": [
    "import sys\n",
    "sys.path.append(\"../../..\")\n",
    "\n",
    "from network_matrix.population_v3 import Population"
   ]
  },
  {
   "cell_type": "markdown",
   "id": "b8411328",
   "metadata": {},
   "source": [
    "### create it here"
   ]
  },
  {
   "cell_type": "code",
   "execution_count": 11,
   "id": "ae937842",
   "metadata": {},
   "outputs": [
    {
     "data": {
      "text/plain": [
       "122"
      ]
     },
     "execution_count": 11,
     "metadata": {},
     "output_type": "execute_result"
    }
   ],
   "source": [
    "'''\n",
    "learning_rate, steps, batch_size,    cost,      acc,\n",
    "-------------- ------ ----------- -------- ---------\n",
    "       0.0001,    50,          2,   0.215,   65.51%,\n",
    "       \n",
    "       0.0001     50,          2,   0.190,   71.27%,  # recent 5 games, no stats against\n",
    "       0.0001    100,          2,   0.188,   71.19%,  # recent 5 games, with stats against\n",
    "''';\n",
    "\n",
    "num_inputs = len(np_inputs[0])\n",
    "num_inputs"
   ]
  },
  {
   "cell_type": "code",
   "execution_count": 12,
   "id": "8601d91f",
   "metadata": {},
   "outputs": [],
   "source": [
    "TEST_population  = Population(num_inputs, 1, learning_rate=0.001)\n",
    "\n",
    "all_times = [0,0,0,0,0]\n",
    "all_costs = []\n",
    "all_accuracies = []"
   ]
  },
  {
   "cell_type": "code",
   "execution_count": 13,
   "id": "46dbbed7",
   "metadata": {},
   "outputs": [
    {
     "name": "stdout",
     "output_type": "stream",
     "text": [
      "Training Progress:                             |    cost     acc  |     steps           time      remaining  \n",
      "                                               | --------  ------ | ----------  -------------  ------------- \n",
      "[#################################] -  100.0%  |  0.18509  70.96% |    100/100       6m 30.7s           0.0s     \r"
     ]
    }
   ],
   "source": [
    "# training loops\n",
    "# ---------------\n",
    "#times, costs, accuracies = TEST_population.train_and_test(np_data, 6_000)\n",
    "times, costs, accuracies = TEST_population.train_and_test_stochastic(np_data, 100, batch_size=10)\n",
    "\n",
    "# update tracking\n",
    "# ---------------\n",
    "for i in range(len(all_times)):\n",
    "    all_times[i] += times[i]\n",
    "all_costs      += costs\n",
    "all_accuracies += accuracies"
   ]
  },
  {
   "cell_type": "code",
   "execution_count": 14,
   "id": "b0bc3161",
   "metadata": {
    "scrolled": false
   },
   "outputs": [
    {
     "name": "stdout",
     "output_type": "stream",
     "text": [
      " \n",
      "               time(s)   percent  per step       | steps:              100\n",
      "            ----------  --------  --------       | learning rate:    0.001\n",
      "calc value     2m 9.6s     33.16%      1.3       | # connections:    90344\n",
      "grad dscnt    3m 47.9s     58.33%     2.28       | L1 (sum):          -0.0\n",
      "scoring          15.4s      3.94%     0.15       | L2 (**2):        0.0021\n",
      "step time     6m 30.7s     100.0%     3.91\n",
      "\n",
      "cost:  0.185  0.185  0.185  0.185  0.185 \n",
      "acc:   71.04% 70.94% 70.99% 70.99% 70.96%\n"
     ]
    },
    {
     "data": {
      "image/png": "[encoded data removed]",
      "text/plain": [
       "<Figure size 720x360 with 2 Axes>"
      ]
     },
     "metadata": {
      "needs_background": "light"
     },
     "output_type": "display_data"
    }
   ],
   "source": [
    "TEST_population.report_training_progress(all_times)     # timing\n",
    "graph_progress(all_costs, all_accuracies)               # graphs\n",
    "#graph_progress(all_costs[70:], all_accuracies[70:], show_recents=False) # graphs (recent)"
   ]
  },
  {
   "cell_type": "code",
   "execution_count": 15,
   "id": "b378ab44",
   "metadata": {},
   "outputs": [
    {
     "name": "stdout",
     "output_type": "stream",
     "text": [
      "\n",
      "           abs_avg   abs_med       sum       max       min\n",
      "          --------  --------  --------  --------  --------\n",
      "values       0.547     0.588     -2.87     0.991    -0.994\n",
      "biases       0.019     0.013    -0.441     0.112    -0.146\n",
      "weights      0.037     0.025    -8.187     0.319    -0.298\n",
      "          --------  --------  --------  --------  --------\n",
      "values       0.222     0.171    -1.879     0.711    -0.698\n",
      "biases       0.012     0.008    -0.052     0.051     -0.07\n",
      "weights       0.03     0.019    -1.787      0.25     -0.27\n",
      "          --------  --------  --------  --------  --------\n",
      "values        0.12     0.094     0.959     0.526    -0.384\n",
      "biases       0.007     0.004     0.158     0.053    -0.046\n",
      "weights      0.029     0.019     8.292     0.246    -0.268\n",
      "          --------  --------  --------  --------  --------\n",
      "values        0.65      0.65      0.65      0.65      0.65\n",
      "biases       0.153     0.153    -0.153    -0.153    -0.153\n",
      "weights      0.063     0.046    -1.182     0.283    -0.295\n"
     ]
    }
   ],
   "source": [
    "TEST_population.print_magnitudes_report()"
   ]
  },
  {
   "cell_type": "code",
   "execution_count": null,
   "id": "49b06e01",
   "metadata": {},
   "outputs": [],
   "source": []
  },
  {
   "cell_type": "code",
   "execution_count": null,
   "id": "fd488501",
   "metadata": {},
   "outputs": [],
   "source": [
    "\n",
    "\n",
    "\n",
    "\n",
    "\n",
    "\n",
    "\n",
    "\n",
    "\n",
    "\n",
    "\n",
    "\n",
    "\n"
   ]
  },
  {
   "cell_type": "code",
   "execution_count": null,
   "id": "91585e35",
   "metadata": {},
   "outputs": [],
   "source": []
  }
 ],
 "metadata": {
  "kernelspec": {
   "display_name": "Python 3 (ipykernel)",
   "language": "python",
   "name": "python3"
  },
  "language_info": {
   "codemirror_mode": {
    "name": "ipython",
    "version": 3
   },
   "file_extension": ".py",
   "mimetype": "text/x-python",
   "name": "python",
   "nbconvert_exporter": "python",
   "pygments_lexer": "ipython3",
   "version": "3.8.8"
  }
 },
 "nbformat": 4,
 "nbformat_minor": 5
}
