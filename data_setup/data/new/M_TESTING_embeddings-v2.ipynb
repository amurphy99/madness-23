{
 "cells": [
  {
   "cell_type": "code",
   "execution_count": 1,
   "id": "01be5eca",
   "metadata": {},
   "outputs": [],
   "source": [
    "from copy import deepcopy\n",
    "from statistics import stdev\n",
    "import matplotlib.pyplot as plt\n",
    "import numpy as np"
   ]
  },
  {
   "cell_type": "code",
   "execution_count": 2,
   "id": "cd4b45db",
   "metadata": {},
   "outputs": [],
   "source": [
    "def graph_progress(all_costs, all_accuracies, show_recents=True):\n",
    "    # last 5 results\n",
    "    # ---------------\n",
    "    if show_recents:\n",
    "        line1 = \"cost: \"\n",
    "        line2 = \"acc:  \"\n",
    "        if len(all_costs) < 5: show = len(all_costs)\n",
    "        else:                  show = 5\n",
    "        for i in range(-show, 0):\n",
    "            line1 += \"{:>8} \".format(round(all_costs[i], 5))\n",
    "            line2 += \"{:>8}%\".format(round(all_accuracies[i]*100, 2))\n",
    "        print(line1)\n",
    "        print(line2)\n",
    "\n",
    "\n",
    "    # graphs\n",
    "    # -------\n",
    "    fig, axes = plt.subplots(nrows=1, ncols=2, figsize=(10, 5))\n",
    "\n",
    "    axes[0].plot(range(len(all_costs)), all_costs, label=\"costs\")\n",
    "    axes[0].set_xlabel('step') # Set the y axis label of the current axis.\n",
    "    axes[0].set_ylabel('cost') # Set a title of the current axes.\n",
    "    axes[0].set_title('cost over training steps') \n",
    "    axes[0].legend() # show a legend on the plot\n",
    "\n",
    "    axes[1].plot(range(len(all_accuracies)), all_accuracies, label=\"accuracies\")\n",
    "    axes[1].set_xlabel('step') # Set the y axis label of the current axis.\n",
    "    axes[1].set_ylabel('accuracy') # Set a title of the current axes.\n",
    "    axes[1].set_title('accuracy over training steps') \n",
    "    axes[1].legend() # show a legend on the plot\n",
    "\n",
    "    return fig.tight_layout()"
   ]
  },
  {
   "cell_type": "markdown",
   "id": "8cf0b09d",
   "metadata": {},
   "source": [
    "# import training data"
   ]
  },
  {
   "cell_type": "code",
   "execution_count": 3,
   "id": "f1fd1e82",
   "metadata": {},
   "outputs": [],
   "source": [
    "import pandas as pd #1\n",
    "import os           #3"
   ]
  },
  {
   "cell_type": "code",
   "execution_count": 4,
   "id": "8bbe85e9",
   "metadata": {},
   "outputs": [
    {
     "data": {
      "text/plain": [
       "['.DS_Store',\n",
       " 'M_predictions.csv',\n",
       " 'M_testing.csv',\n",
       " 'M_training_data.csv',\n",
       " 'M_training_data_embedding.csv',\n",
       " 'W_predictions.csv',\n",
       " 'W_testing.csv',\n",
       " 'W_training_data.csv',\n",
       " 'predictions']"
      ]
     },
     "execution_count": 4,
     "metadata": {},
     "output_type": "execute_result"
    }
   ],
   "source": [
    "given_data_folder = 'prepped'\n",
    "\n",
    "file_names = os.listdir(given_data_folder)\n",
    "file_names.sort()\n",
    "file_names"
   ]
  },
  {
   "cell_type": "code",
   "execution_count": 5,
   "id": "0b805811",
   "metadata": {},
   "outputs": [],
   "source": [
    "training_data_file = 'M_training_data_embedding.csv'"
   ]
  },
  {
   "cell_type": "code",
   "execution_count": 6,
   "id": "980e916c",
   "metadata": {},
   "outputs": [
    {
     "name": "stdout",
     "output_type": "stream",
     "text": [
      "46338\n"
     ]
    },
    {
     "data": {
      "text/html": [
       "<div>\n",
       "<style scoped>\n",
       "    .dataframe tbody tr th:only-of-type {\n",
       "        vertical-align: middle;\n",
       "    }\n",
       "\n",
       "    .dataframe tbody tr th {\n",
       "        vertical-align: top;\n",
       "    }\n",
       "\n",
       "    .dataframe thead th {\n",
       "        text-align: right;\n",
       "    }\n",
       "</style>\n",
       "<table border=\"1\" class=\"dataframe\">\n",
       "  <thead>\n",
       "    <tr style=\"text-align: right;\">\n",
       "      <th></th>\n",
       "      <th>team1_id</th>\n",
       "      <th>team2_id</th>\n",
       "      <th>Pts</th>\n",
       "      <th>FG%2</th>\n",
       "      <th>FGA2</th>\n",
       "      <th>FG%3</th>\n",
       "      <th>FGA3</th>\n",
       "      <th>FT%</th>\n",
       "      <th>FTA</th>\n",
       "      <th>OR</th>\n",
       "      <th>...</th>\n",
       "      <th>xFTA_a</th>\n",
       "      <th>xOR_a</th>\n",
       "      <th>xDR_a</th>\n",
       "      <th>xAst_a</th>\n",
       "      <th>xTO_a</th>\n",
       "      <th>xStl_a</th>\n",
       "      <th>xBlk_a</th>\n",
       "      <th>xPF_a</th>\n",
       "      <th>xStr_a</th>\n",
       "      <th>solution</th>\n",
       "    </tr>\n",
       "  </thead>\n",
       "  <tbody>\n",
       "    <tr>\n",
       "      <th>0</th>\n",
       "      <td>11872022.0</td>\n",
       "      <td>14412022.0</td>\n",
       "      <td>0.750000</td>\n",
       "      <td>0.633800</td>\n",
       "      <td>0.787037</td>\n",
       "      <td>0.439078</td>\n",
       "      <td>0.680556</td>\n",
       "      <td>0.750842</td>\n",
       "      <td>0.662162</td>\n",
       "      <td>0.605263</td>\n",
       "      <td>...</td>\n",
       "      <td>-0.567568</td>\n",
       "      <td>-0.605263</td>\n",
       "      <td>-0.675676</td>\n",
       "      <td>-0.479167</td>\n",
       "      <td>-0.659091</td>\n",
       "      <td>-0.538462</td>\n",
       "      <td>-0.500000</td>\n",
       "      <td>-0.621212</td>\n",
       "      <td>-0.847291</td>\n",
       "      <td>1</td>\n",
       "    </tr>\n",
       "    <tr>\n",
       "      <th>1</th>\n",
       "      <td>14412022.0</td>\n",
       "      <td>11872022.0</td>\n",
       "      <td>0.754902</td>\n",
       "      <td>0.658602</td>\n",
       "      <td>0.555556</td>\n",
       "      <td>0.582219</td>\n",
       "      <td>0.930556</td>\n",
       "      <td>0.601307</td>\n",
       "      <td>0.594595</td>\n",
       "      <td>0.578947</td>\n",
       "      <td>...</td>\n",
       "      <td>-0.675676</td>\n",
       "      <td>-0.578947</td>\n",
       "      <td>-0.770270</td>\n",
       "      <td>-0.354167</td>\n",
       "      <td>-0.659091</td>\n",
       "      <td>-0.807692</td>\n",
       "      <td>-0.375000</td>\n",
       "      <td>-0.606061</td>\n",
       "      <td>-0.400841</td>\n",
       "      <td>-1</td>\n",
       "    </tr>\n",
       "    <tr>\n",
       "      <th>2</th>\n",
       "      <td>12522022.0</td>\n",
       "      <td>12592022.0</td>\n",
       "      <td>0.833333</td>\n",
       "      <td>0.763211</td>\n",
       "      <td>0.648148</td>\n",
       "      <td>0.694010</td>\n",
       "      <td>0.555556</td>\n",
       "      <td>0.798333</td>\n",
       "      <td>0.662162</td>\n",
       "      <td>0.236842</td>\n",
       "      <td>...</td>\n",
       "      <td>-0.567568</td>\n",
       "      <td>-0.657895</td>\n",
       "      <td>-0.635135</td>\n",
       "      <td>-0.687500</td>\n",
       "      <td>-0.454545</td>\n",
       "      <td>-0.615385</td>\n",
       "      <td>-0.500000</td>\n",
       "      <td>-0.606061</td>\n",
       "      <td>-0.768758</td>\n",
       "      <td>1</td>\n",
       "    </tr>\n",
       "    <tr>\n",
       "      <th>3</th>\n",
       "      <td>12592022.0</td>\n",
       "      <td>12522022.0</td>\n",
       "      <td>0.699346</td>\n",
       "      <td>0.750538</td>\n",
       "      <td>0.629630</td>\n",
       "      <td>0.404228</td>\n",
       "      <td>0.712963</td>\n",
       "      <td>0.706472</td>\n",
       "      <td>0.513513</td>\n",
       "      <td>0.280702</td>\n",
       "      <td>...</td>\n",
       "      <td>-0.675676</td>\n",
       "      <td>-0.543860</td>\n",
       "      <td>-0.702703</td>\n",
       "      <td>-0.569444</td>\n",
       "      <td>-0.666667</td>\n",
       "      <td>-0.615385</td>\n",
       "      <td>-0.458333</td>\n",
       "      <td>-0.545455</td>\n",
       "      <td>-0.541014</td>\n",
       "      <td>-1</td>\n",
       "    </tr>\n",
       "    <tr>\n",
       "      <th>4</th>\n",
       "      <td>13292022.0</td>\n",
       "      <td>13412022.0</td>\n",
       "      <td>0.700980</td>\n",
       "      <td>0.737634</td>\n",
       "      <td>0.750000</td>\n",
       "      <td>0.435882</td>\n",
       "      <td>0.583333</td>\n",
       "      <td>0.632353</td>\n",
       "      <td>0.391892</td>\n",
       "      <td>0.684211</td>\n",
       "      <td>...</td>\n",
       "      <td>-0.297297</td>\n",
       "      <td>-0.394737</td>\n",
       "      <td>-0.567568</td>\n",
       "      <td>-0.312500</td>\n",
       "      <td>-0.863636</td>\n",
       "      <td>-0.538462</td>\n",
       "      <td>-0.562500</td>\n",
       "      <td>-0.439394</td>\n",
       "      <td>-0.598615</td>\n",
       "      <td>1</td>\n",
       "    </tr>\n",
       "  </tbody>\n",
       "</table>\n",
       "<p>5 rows × 117 columns</p>\n",
       "</div>"
      ],
      "text/plain": [
       "     team1_id    team2_id       Pts      FG%2      FGA2      FG%3      FGA3  \\\n",
       "0  11872022.0  14412022.0  0.750000  0.633800  0.787037  0.439078  0.680556   \n",
       "1  14412022.0  11872022.0  0.754902  0.658602  0.555556  0.582219  0.930556   \n",
       "2  12522022.0  12592022.0  0.833333  0.763211  0.648148  0.694010  0.555556   \n",
       "3  12592022.0  12522022.0  0.699346  0.750538  0.629630  0.404228  0.712963   \n",
       "4  13292022.0  13412022.0  0.700980  0.737634  0.750000  0.435882  0.583333   \n",
       "\n",
       "        FT%       FTA        OR  ...    xFTA_a     xOR_a     xDR_a    xAst_a  \\\n",
       "0  0.750842  0.662162  0.605263  ... -0.567568 -0.605263 -0.675676 -0.479167   \n",
       "1  0.601307  0.594595  0.578947  ... -0.675676 -0.578947 -0.770270 -0.354167   \n",
       "2  0.798333  0.662162  0.236842  ... -0.567568 -0.657895 -0.635135 -0.687500   \n",
       "3  0.706472  0.513513  0.280702  ... -0.675676 -0.543860 -0.702703 -0.569444   \n",
       "4  0.632353  0.391892  0.684211  ... -0.297297 -0.394737 -0.567568 -0.312500   \n",
       "\n",
       "      xTO_a    xStl_a    xBlk_a     xPF_a    xStr_a  solution  \n",
       "0 -0.659091 -0.538462 -0.500000 -0.621212 -0.847291         1  \n",
       "1 -0.659091 -0.807692 -0.375000 -0.606061 -0.400841        -1  \n",
       "2 -0.454545 -0.615385 -0.500000 -0.606061 -0.768758         1  \n",
       "3 -0.666667 -0.615385 -0.458333 -0.545455 -0.541014        -1  \n",
       "4 -0.863636 -0.538462 -0.562500 -0.439394 -0.598615         1  \n",
       "\n",
       "[5 rows x 117 columns]"
      ]
     },
     "execution_count": 6,
     "metadata": {},
     "output_type": "execute_result"
    }
   ],
   "source": [
    "file_path = given_data_folder + '/' + training_data_file \n",
    "training_df  = pd.read_csv(file_path)\n",
    "print(len(training_df))\n",
    "\n",
    "training_df.head(5)"
   ]
  },
  {
   "cell_type": "markdown",
   "id": "e7fd3499",
   "metadata": {},
   "source": [
    "## get as rows"
   ]
  },
  {
   "cell_type": "code",
   "execution_count": 7,
   "id": "25ede746",
   "metadata": {},
   "outputs": [],
   "source": [
    "# wether or not to keep the data for stats against a team\n",
    "keep_against = True"
   ]
  },
  {
   "cell_type": "code",
   "execution_count": 8,
   "id": "fa9d2ec5",
   "metadata": {},
   "outputs": [
    {
     "name": "stdout",
     "output_type": "stream",
     "text": [
      "46338 114\n",
      "46338 1\n",
      "46338 2\n"
     ]
    }
   ],
   "source": [
    "training_column_names = training_df.columns.tolist()\n",
    "\n",
    "# get all data as columns\n",
    "training_columns = []\n",
    "for i in range(len(training_column_names)):\n",
    "    new_column = list(training_df[training_column_names[i]])\n",
    "    training_columns.append(new_column)\n",
    "    \n",
    "\n",
    "    \n",
    "# indicis\n",
    "# 30 each 0:15, 15:30, 30:45, 45:60\n",
    "if not keep_against:\n",
    "    new_training_columns = training_columns[0:15] + training_columns[30:45] + [training_columns[60]]\n",
    "    training_columns = new_training_columns\n",
    "    \n",
    "    \n",
    "    \n",
    "# get as rows\n",
    "training_input_rows    = []\n",
    "training_solution_rows = []\n",
    "embedding_key_rows     = []\n",
    "for i in range(len(training_columns[0])):\n",
    "    new_input_row         = []\n",
    "    new_solution_row      = [training_columns[-1][i]]\n",
    "    new_embedding_key_row = [int(training_columns[0][i]), int(training_columns[1][i])]\n",
    "    for j in range(2, len(training_columns)-1):\n",
    "        new_input_row.append(training_columns[j][i])\n",
    "        \n",
    "    training_input_rows   .append(new_input_row)\n",
    "    training_solution_rows.append(new_solution_row)\n",
    "    embedding_key_rows    .append(new_embedding_key_row)\n",
    "    \n",
    "print(len(training_input_rows), len(training_input_rows[0]))\n",
    "print(len(training_solution_rows), len(training_solution_rows[0]))\n",
    "print(len(embedding_key_rows), len(embedding_key_rows[0]))"
   ]
  },
  {
   "cell_type": "code",
   "execution_count": 371,
   "id": "b8ef8ac4",
   "metadata": {},
   "outputs": [],
   "source": [
    "#split = 7_000\n",
    "#np_inputs    = np.array(training_input_rows[:split])\n",
    "#np_solutions = np.array(training_solution_rows[:split])\n",
    "\n",
    "#embedding_key_rows = embedding_key_rows[:split]\n",
    "\n",
    "np_inputs    = np.array(training_input_rows)\n",
    "np_solutions = np.array(training_solution_rows)\n",
    "\n",
    "np_data = [np_inputs, np_solutions]"
   ]
  },
  {
   "cell_type": "markdown",
   "id": "0bf10e44",
   "metadata": {},
   "source": [
    "# My Custom Graphing Setup"
   ]
  },
  {
   "cell_type": "code",
   "execution_count": 81,
   "id": "b73d7325",
   "metadata": {},
   "outputs": [],
   "source": [
    "import matplotlib.pyplot as plt"
   ]
  },
  {
   "cell_type": "code",
   "execution_count": 226,
   "id": "19f371fb",
   "metadata": {},
   "outputs": [],
   "source": [
    "def progress_graph(graph_history, start_at=0):\n",
    "    # data for graphs\n",
    "    # ----------------\n",
    "    loss = graph_history[\"loss\"][start_at:]\n",
    "    mse = graph_history[\"mse\"][start_at:]\n",
    "    binary_accuracy = graph_history[\"binary_accuracy\"][start_at:]\n",
    "    \n",
    "    \n",
    "    fig, axes = plt.subplots(nrows=1, ncols=3, figsize=(12, 4))\n",
    "\n",
    "    # Binary Cross Entropy\n",
    "    # ---------------------\n",
    "    axes[0].plot(range(len(loss)), loss, label=\"loss\")\n",
    "    axes[0].set_xlabel('step') # Set the y axis label of the current axis.\n",
    "    axes[0].set_ylabel('loss') # Set a title of the current axes.\n",
    "    axes[0].set_title('loss over training steps') \n",
    "    axes[0].legend() # show a legend on the plot\n",
    "\n",
    "    \n",
    "    # Mean Squared Error\n",
    "    # -------------------\n",
    "    axes[1].plot(range(len(mse)), mse, label=\"mse\")\n",
    "    axes[1].set_xlabel('step') # Set the y axis label of the current axis.\n",
    "    axes[1].set_ylabel('mse') # Set a title of the current axes.\n",
    "    axes[1].set_title('mse over training steps') \n",
    "    axes[1].legend() # show a legend on the plot\n",
    "    \n",
    "    \n",
    "    # Binary Accuracy\n",
    "    # ----------------\n",
    "    axes[2].plot(range(len(binary_accuracy)), binary_accuracy, label=\"accuracies\")\n",
    "    axes[2].set_xlabel('step') # Set the y axis label of the current axis.\n",
    "    axes[2].set_ylabel('accuracy') # Set a title of the current axes.\n",
    "    axes[2].set_title('accuracy over training steps') \n",
    "    axes[2].legend() # show a legend on the plot\n",
    "\n",
    "    \n",
    "    return fig.tight_layout()"
   ]
  },
  {
   "cell_type": "markdown",
   "id": "8a6e37e9",
   "metadata": {},
   "source": [
    "# Create and Train population"
   ]
  },
  {
   "cell_type": "code",
   "execution_count": 14,
   "id": "f64cc8b0",
   "metadata": {},
   "outputs": [],
   "source": [
    "#!pip install tensorflow"
   ]
  },
  {
   "cell_type": "code",
   "execution_count": 16,
   "id": "82c97217",
   "metadata": {},
   "outputs": [],
   "source": [
    "import tensorflow as tf"
   ]
  },
  {
   "cell_type": "code",
   "execution_count": 12,
   "id": "10de12c7",
   "metadata": {},
   "outputs": [
    {
     "name": "stderr",
     "output_type": "stream",
     "text": [
      "2023-03-13 00:07:20.692785: I tensorflow/core/platform/cpu_feature_guard.cc:193] This TensorFlow binary is optimized with oneAPI Deep Neural Network Library (oneDNN) to use the following CPU instructions in performance-critical operations:  AVX2 FMA\n",
      "To enable them in other operations, rebuild TensorFlow with the appropriate compiler flags.\n"
     ]
    }
   ],
   "source": [
    "from tensorflow.keras.models import Sequential\n",
    "from tensorflow.keras.layers import Dense"
   ]
  },
  {
   "cell_type": "code",
   "execution_count": 372,
   "id": "b8db91a5",
   "metadata": {},
   "outputs": [],
   "source": [
    "np_solutions = np.divide(np.add(np_solutions, 1), 2)"
   ]
  },
  {
   "cell_type": "code",
   "execution_count": 373,
   "id": "7c18e910",
   "metadata": {},
   "outputs": [
    {
     "name": "stdout",
     "output_type": "stream",
     "text": [
      "(46338, 114)\n",
      "(46338, 1)\n"
     ]
    }
   ],
   "source": [
    "print(np_inputs.shape)\n",
    "print(np_solutions.shape)"
   ]
  },
  {
   "cell_type": "code",
   "execution_count": 374,
   "id": "9a5e0b27",
   "metadata": {},
   "outputs": [
    {
     "name": "stdout",
     "output_type": "stream",
     "text": [
      "285\n"
     ]
    }
   ],
   "source": [
    "print(int(114*5/2))"
   ]
  },
  {
   "cell_type": "code",
   "execution_count": 375,
   "id": "930eb5e1",
   "metadata": {},
   "outputs": [],
   "source": [
    "inner_activations = 'tanh'\n",
    "inner_size = 285"
   ]
  },
  {
   "cell_type": "code",
   "execution_count": 376,
   "id": "7408c6f3",
   "metadata": {},
   "outputs": [],
   "source": [
    "# define the keras model\n",
    "model = Sequential()\n",
    "model.add(Dense(inner_size, input_shape=(114,), activation=inner_activations))\n",
    "model.add(Dense(inner_size, activation=inner_activations)) # 1\n",
    "model.add(Dense(inner_size, activation=inner_activations)) # 2\n",
    "model.add(Dense(inner_size, activation=inner_activations)) # 3 --\n",
    "model.add(Dense(inner_size, activation=inner_activations)) # 4\n",
    "#model.add(Dense(inner_size, activation=inner_activations)) # 5\n",
    "#model.add(Dense(inner_size, activation=inner_activations)) # 6\n",
    "#model.add(Dense(inner_size, activation=inner_activations)) # 7\n",
    "#model.add(Dense(inner_size, activation=inner_activations)) # 8\n",
    "model.add(Dense(1, activation='linear'))"
   ]
  },
  {
   "cell_type": "code",
   "execution_count": 377,
   "id": "2645f45a",
   "metadata": {},
   "outputs": [],
   "source": [
    "model.compile(optimizer=tf.keras.optimizers.Adam(learning_rate=1e-6),\n",
    "              #loss=tf.keras.losses.BinaryCrossentropy(from_logits=True),\n",
    "              loss='mse',\n",
    "              metrics=[tf.keras.metrics.BinaryAccuracy(), 'mse'])"
   ]
  },
  {
   "cell_type": "code",
   "execution_count": 378,
   "id": "37a764f5",
   "metadata": {},
   "outputs": [],
   "source": [
    "graph_history = {\"loss\": [], \"mse\": [], \"binary_accuracy\": []}"
   ]
  },
  {
   "cell_type": "code",
   "execution_count": 379,
   "id": "bb3fdd7e",
   "metadata": {
    "scrolled": true
   },
   "outputs": [
    {
     "name": "stdout",
     "output_type": "stream",
     "text": [
      "LOSS:     [0.1987176537513733, 0.1986670047044754, 0.19855429232120514, 0.1986338049173355, 0.1985148787498474]\n",
      "ACCURACY: [0.6924183368682861, 0.6926341652870178, 0.6930657625198364, 0.6934254169464111, 0.693641185760498]\n"
     ]
    }
   ],
   "source": [
    "# This builds the model for the first time:\n",
    "#model.fit(np_inputs, np_solutions, batch_size=10, epochs=30)\n",
    "history = model.fit(np_inputs, np_solutions, validation_split=0.30, \n",
    "          epochs=1800, \n",
    "          batch_size=100,\n",
    "          verbose=0)\n",
    "\n",
    "graph_history[\"loss\"] += history.history['val_loss']\n",
    "graph_history[\"mse\"] += history.history['val_mse']\n",
    "graph_history[\"binary_accuracy\"] += history.history['val_binary_accuracy']\n",
    "\n",
    "print(\"LOSS:    \", history.history['val_loss'][-5:])\n",
    "print(\"ACCURACY:\", history.history['val_binary_accuracy'][-5:])"
   ]
  },
  {
   "cell_type": "code",
   "execution_count": 380,
   "id": "c4949efc",
   "metadata": {},
   "outputs": [
    {
     "data": {
      "image/png": "[encoded data removed]",
      "text/plain": [
       "<Figure size 864x288 with 3 Axes>"
      ]
     },
     "metadata": {
      "needs_background": "light"
     },
     "output_type": "display_data"
    }
   ],
   "source": [
    "progress_graph(graph_history, start_at=0)"
   ]
  },
  {
   "cell_type": "code",
   "execution_count": 364,
   "id": "baeb81d9",
   "metadata": {},
   "outputs": [],
   "source": [
    "'''\n",
    "900 steps, 285, 4 layers, tanh, 1e-6\n",
    "LOSS:     [0.20348791778087616, 0.2044401615858078, 0.2037125676870346, 0.2039404809474945, 0.204872727394104]\n",
    "ACCURACY: [0.691428542137146, 0.689047634601593, 0.6866666674613953, 0.6857143044471741, 0.6819047331809998]\n",
    "\n",
    "900 steps, 285, 5 layers, tanh, 1e-6\n",
    "LOSS:     [0.20485517382621765, 0.20482157170772552, 0.2048875093460083, 0.20482952892780304, 0.20482312142848969]\n",
    "ACCURACY: [0.6823809742927551, 0.6819047331809998, 0.6809523701667786, 0.6828571557998657, 0.6857143044471741]\n",
    "\n",
    "900 steps, 114, 8 layers, tanh, 1e-6\n",
    "LOSS:     [0.21138890087604523, 0.21108748018741608, 0.21135681867599487, 0.21115154027938843, 0.2110992968082428]\n",
    "ACCURACY: [0.6619047522544861, 0.6676190495491028, 0.6604762077331543, 0.6628571152687073, 0.6638095378875732]\n",
    "\n",
    "\n",
    "\n",
    "\n",
    "900 steps, 114, 5 layers, tanh, 5e-7\n",
    "LOSS:     [0.21519961953163147, 0.2151254117488861, 0.21521975100040436, 0.21517185866832733, 0.21519938111305237]\n",
    "ACCURACY: [0.6580952405929565, 0.6595237851142883, 0.6590476036071777, 0.657619059085846, 0.6580952405929565]\n",
    "1800 steps, 114, 5 layers, tanh, 5e-7\n",
    "LOSS:     [0.21039246022701263, 0.21049287915229797, 0.21038582921028137, 0.21027831733226776, 0.2105008065700531]\n",
    "ACCURACY: [0.6752380728721619, 0.6747618913650513, 0.6752380728721619, 0.677142858505249, 0.6747618913650513]\n",
    "2700 steps, 114, 5 layers, tanh, 5e-7\n",
    "LOSS:     [0.20813001692295074, 0.20821788907051086, 0.2081948220729828, 0.20820313692092896, 0.20820526778697968]\n",
    "ACCURACY: [0.6838095188140869, 0.6838095188140869, 0.6828571557998657, 0.6833333373069763, 0.6833333373069763]\n",
    "3600 steps, 114, 5 layers, tanh, 5e-7\n",
    "LOSS:     [0.20722869038581848, 0.20715150237083435, 0.20715796947479248, 0.20718446373939514, 0.20714379847049713]\n",
    "ACCURACY: [0.6790476441383362, 0.6838095188140869, 0.6819047331809998, 0.6809523701667786, 0.6838095188140869]\n",
    "\n",
    "\n",
    "\n",
    "\n",
    "900 steps, 114, 4 layers, tanh, 1e-6\n",
    "LOSS:     [0.20626215636730194, 0.2062297761440277, 0.2062915861606598, 0.206207275390625, 0.20624925196170807]\n",
    "ACCURACY: [0.6838095188140869, 0.6838095188140869, 0.6842857003211975, 0.6833333373069763, 0.6833333373069763]\n",
    "900 steps, 114, 5 layers, tanh, 1e-6\n",
    "LOSS:     [0.20984473824501038, 0.21001917123794556, 0.20971661806106567, 0.21001145243644714, 0.2095995396375656]\n",
    "ACCURACY: [0.6647619009017944, 0.6676190495491028, 0.6647619009017944, 0.6671428680419922, 0.6642857193946838]\n",
    "\n",
    "\n",
    "\n",
    "900 steps, 285, 4 layers, relu, 1e-6\n",
    "LOSS:     [0.20740726590156555, 0.20726948976516724, 0.2073499858379364, 0.20787569880485535, 0.20728017389774323]\n",
    "ACCURACY: [0.6742857098579407, 0.6752380728721619, 0.6733333468437195, 0.680476188659668, 0.6761904954910278]\n",
    "900 steps, 114, 4 layers, relu, 1e-6\n",
    "LOSS:     [0.2093418538570404, 0.20932115614414215, 0.20932385325431824, 0.2093067616224289, 0.209292471408844]\n",
    "ACCURACY: [0.6757143139839172, 0.677142858505249, 0.6766666769981384, 0.677142858505249, 0.677142858505249]\n",
    "''';"
   ]
  },
  {
   "cell_type": "code",
   "execution_count": null,
   "id": "e9382a46",
   "metadata": {},
   "outputs": [],
   "source": [
    "#result = model.evaluate(test_dataset)"
   ]
  },
  {
   "cell_type": "code",
   "execution_count": 79,
   "id": "2b3b9c0a",
   "metadata": {},
   "outputs": [
    {
     "data": {
      "text/plain": [
       "dict_keys(['loss', 'binary_accuracy', 'val_loss', 'val_binary_accuracy'])"
      ]
     },
     "execution_count": 79,
     "metadata": {},
     "output_type": "execute_result"
    }
   ],
   "source": [
    "history.history.keys()"
   ]
  },
  {
   "cell_type": "code",
   "execution_count": null,
   "id": "a0d73dc0",
   "metadata": {},
   "outputs": [],
   "source": []
  },
  {
   "cell_type": "code",
   "execution_count": 54,
   "id": "5b4d67e9",
   "metadata": {},
   "outputs": [],
   "source": [
    "# compile the keras model\n",
    "#model.compile(loss='binary_crossentropy', optimizer='adam', metrics=['accuracy'])\n",
    "#model.compile(optimizer='sgd', loss='mse')\n",
    "#model.compile(optimizer='sgd', loss=tf.keras.losses.BinaryCrossentropy(from_logits=True))\n",
    "\n",
    "model.compile(loss=tf.keras.losses.BinaryCrossentropy(from_logits=True), \n",
    "              optimizer='sgd', \n",
    "              metrics=['accuracy'])\n"
   ]
  },
  {
   "cell_type": "code",
   "execution_count": null,
   "id": "ee0d1ef4",
   "metadata": {},
   "outputs": [],
   "source": []
  },
  {
   "cell_type": "code",
   "execution_count": null,
   "id": "70c25e66",
   "metadata": {},
   "outputs": [],
   "source": []
  },
  {
   "cell_type": "code",
   "execution_count": null,
   "id": "c6d3996a",
   "metadata": {},
   "outputs": [],
   "source": [
    "batch_size = 64\n",
    "train_dataset = train_dataset.shuffle(buffer_size=1024).batch(batch_size)\n",
    "val_dataset = val_dataset.batch(batch_size)"
   ]
  },
  {
   "cell_type": "code",
   "execution_count": null,
   "id": "80b7859c",
   "metadata": {},
   "outputs": [],
   "source": [
    "epochs = 2\n",
    "for epoch in range(epochs):\n",
    "    print(\"\\nStart of epoch %d\" % (epoch,))\n",
    "\n",
    "    # Iterate over the batches of the dataset.\n",
    "    for step, (x_batch_train, y_batch_train) in enumerate(train_dataset):\n",
    "\n",
    "        # Open a GradientTape to record the operations run\n",
    "        # during the forward pass, which enables auto-differentiation.\n",
    "        with tf.GradientTape() as tape:\n",
    "\n",
    "            # Run the forward pass of the layer.\n",
    "            # The operations that the layer applies\n",
    "            # to its inputs are going to be recorded\n",
    "            # on the GradientTape.\n",
    "            logits = model(x_batch_train, training=True)  # Logits for this minibatch\n",
    "\n",
    "            # Compute the loss value for this minibatch.\n",
    "            loss_value = loss_fn(y_batch_train, logits)\n",
    "\n",
    "        # Use the gradient tape to automatically retrieve\n",
    "        # the gradients of the trainable variables with respect to the loss.\n",
    "        grads = tape.gradient(loss_value, model.trainable_weights)\n",
    "\n",
    "        # Run one step of gradient descent by updating\n",
    "        # the value of the variables to minimize the loss.\n",
    "        optimizer.apply_gradients(zip(grads, model.trainable_weights))\n",
    "\n",
    "        # Log every 200 batches.\n",
    "        if step % 200 == 0:\n",
    "            print(\n",
    "                \"Training loss (for one batch) at step %d: %.4f\"\n",
    "                % (step, float(loss_value))\n",
    "            )\n",
    "            print(\"Seen so far: %s samples\" % ((step + 1) * batch_size))"
   ]
  },
  {
   "cell_type": "code",
   "execution_count": null,
   "id": "753a169a",
   "metadata": {},
   "outputs": [],
   "source": []
  },
  {
   "cell_type": "code",
   "execution_count": null,
   "id": "4f5836de",
   "metadata": {},
   "outputs": [],
   "source": []
  },
  {
   "cell_type": "code",
   "execution_count": null,
   "id": "c0697893",
   "metadata": {},
   "outputs": [],
   "source": []
  },
  {
   "cell_type": "code",
   "execution_count": null,
   "id": "fd488501",
   "metadata": {},
   "outputs": [],
   "source": [
    "\n",
    "\n",
    "\n",
    "\n",
    "\n",
    "\n",
    "\n",
    "\n",
    "\n",
    "\n",
    "\n",
    "\n",
    "\n"
   ]
  },
  {
   "cell_type": "code",
   "execution_count": null,
   "id": "3d1d7eee",
   "metadata": {},
   "outputs": [],
   "source": []
  },
  {
   "cell_type": "code",
   "execution_count": null,
   "id": "07d38362",
   "metadata": {},
   "outputs": [],
   "source": []
  }
 ],
 "metadata": {
  "kernelspec": {
   "display_name": "Python 3 (ipykernel)",
   "language": "python",
   "name": "python3"
  },
  "language_info": {
   "codemirror_mode": {
    "name": "ipython",
    "version": 3
   },
   "file_extension": ".py",
   "mimetype": "text/x-python",
   "name": "python",
   "nbconvert_exporter": "python",
   "pygments_lexer": "ipython3",
   "version": "3.8.8"
  }
 },
 "nbformat": 4,
 "nbformat_minor": 5
}
