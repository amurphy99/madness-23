{
 "cells": [
  {
   "cell_type": "code",
   "execution_count": 1,
   "id": "01be5eca",
   "metadata": {},
   "outputs": [],
   "source": [
    "from copy import deepcopy\n",
    "from statistics import stdev\n",
    "import matplotlib.pyplot as plt\n",
    "import numpy as np"
   ]
  },
  {
   "cell_type": "code",
   "execution_count": 2,
   "id": "cd4b45db",
   "metadata": {},
   "outputs": [],
   "source": [
    "def graph_progress(all_costs, all_accuracies, show_recents=True):\n",
    "    # last 5 results\n",
    "    # ---------------\n",
    "    if show_recents:\n",
    "        line1 = \"cost: \"\n",
    "        line2 = \"acc:  \"\n",
    "        if len(all_costs) < 5: show = len(all_costs)\n",
    "        else:                  show = 5\n",
    "        for i in range(-show, 0):\n",
    "            line1 += \"{:>8} \".format(round(all_costs[i], 5))\n",
    "            line2 += \"{:>8}%\".format(round(all_accuracies[i]*100, 2))\n",
    "        print(line1)\n",
    "        print(line2)\n",
    "\n",
    "\n",
    "    # graphs\n",
    "    # -------\n",
    "    fig, axes = plt.subplots(nrows=1, ncols=2, figsize=(10, 5))\n",
    "\n",
    "    axes[0].plot(range(len(all_costs)), all_costs, label=\"costs\")\n",
    "    axes[0].set_xlabel('step') # Set the y axis label of the current axis.\n",
    "    axes[0].set_ylabel('cost') # Set a title of the current axes.\n",
    "    axes[0].set_title('cost over training steps') \n",
    "    axes[0].legend() # show a legend on the plot\n",
    "\n",
    "    axes[1].plot(range(len(all_accuracies)), all_accuracies, label=\"accuracies\")\n",
    "    axes[1].set_xlabel('step') # Set the y axis label of the current axis.\n",
    "    axes[1].set_ylabel('accuracy') # Set a title of the current axes.\n",
    "    axes[1].set_title('accuracy over training steps') \n",
    "    axes[1].legend() # show a legend on the plot\n",
    "\n",
    "    return fig.tight_layout()"
   ]
  },
  {
   "cell_type": "markdown",
   "id": "8cf0b09d",
   "metadata": {},
   "source": [
    "# import training data"
   ]
  },
  {
   "cell_type": "code",
   "execution_count": 3,
   "id": "f1fd1e82",
   "metadata": {},
   "outputs": [],
   "source": [
    "import pandas as pd #1\n",
    "import os           #3"
   ]
  },
  {
   "cell_type": "code",
   "execution_count": 4,
   "id": "8bbe85e9",
   "metadata": {},
   "outputs": [
    {
     "data": {
      "text/plain": [
       "['.DS_Store',\n",
       " 'M_predictions.csv',\n",
       " 'M_testing.csv',\n",
       " 'M_training_data.csv',\n",
       " 'M_training_data_embedding.csv',\n",
       " 'W_predictions.csv',\n",
       " 'W_testing.csv',\n",
       " 'W_training_data.csv',\n",
       " 'predictions']"
      ]
     },
     "execution_count": 4,
     "metadata": {},
     "output_type": "execute_result"
    }
   ],
   "source": [
    "given_data_folder = 'prepped'\n",
    "\n",
    "file_names = os.listdir(given_data_folder)\n",
    "file_names.sort()\n",
    "file_names"
   ]
  },
  {
   "cell_type": "code",
   "execution_count": 5,
   "id": "0b805811",
   "metadata": {},
   "outputs": [],
   "source": [
    "training_data_file = 'M_training_data_embedding.csv'"
   ]
  },
  {
   "cell_type": "code",
   "execution_count": 6,
   "id": "980e916c",
   "metadata": {},
   "outputs": [
    {
     "name": "stdout",
     "output_type": "stream",
     "text": [
      "46338\n"
     ]
    },
    {
     "data": {
      "text/html": [
       "<div>\n",
       "<style scoped>\n",
       "    .dataframe tbody tr th:only-of-type {\n",
       "        vertical-align: middle;\n",
       "    }\n",
       "\n",
       "    .dataframe tbody tr th {\n",
       "        vertical-align: top;\n",
       "    }\n",
       "\n",
       "    .dataframe thead th {\n",
       "        text-align: right;\n",
       "    }\n",
       "</style>\n",
       "<table border=\"1\" class=\"dataframe\">\n",
       "  <thead>\n",
       "    <tr style=\"text-align: right;\">\n",
       "      <th></th>\n",
       "      <th>team1_id</th>\n",
       "      <th>team2_id</th>\n",
       "      <th>Pts</th>\n",
       "      <th>FG%2</th>\n",
       "      <th>FGA2</th>\n",
       "      <th>FG%3</th>\n",
       "      <th>FGA3</th>\n",
       "      <th>FT%</th>\n",
       "      <th>FTA</th>\n",
       "      <th>OR</th>\n",
       "      <th>...</th>\n",
       "      <th>xFTA_a</th>\n",
       "      <th>xOR_a</th>\n",
       "      <th>xDR_a</th>\n",
       "      <th>xAst_a</th>\n",
       "      <th>xTO_a</th>\n",
       "      <th>xStl_a</th>\n",
       "      <th>xBlk_a</th>\n",
       "      <th>xPF_a</th>\n",
       "      <th>xStr_a</th>\n",
       "      <th>solution</th>\n",
       "    </tr>\n",
       "  </thead>\n",
       "  <tbody>\n",
       "    <tr>\n",
       "      <th>0</th>\n",
       "      <td>11872022.0</td>\n",
       "      <td>14412022.0</td>\n",
       "      <td>0.750000</td>\n",
       "      <td>0.633800</td>\n",
       "      <td>0.787037</td>\n",
       "      <td>0.439078</td>\n",
       "      <td>0.680556</td>\n",
       "      <td>0.750842</td>\n",
       "      <td>0.662162</td>\n",
       "      <td>0.605263</td>\n",
       "      <td>...</td>\n",
       "      <td>-0.567568</td>\n",
       "      <td>-0.605263</td>\n",
       "      <td>-0.675676</td>\n",
       "      <td>-0.479167</td>\n",
       "      <td>-0.659091</td>\n",
       "      <td>-0.538462</td>\n",
       "      <td>-0.500000</td>\n",
       "      <td>-0.621212</td>\n",
       "      <td>-0.847291</td>\n",
       "      <td>1</td>\n",
       "    </tr>\n",
       "    <tr>\n",
       "      <th>1</th>\n",
       "      <td>14412022.0</td>\n",
       "      <td>11872022.0</td>\n",
       "      <td>0.754902</td>\n",
       "      <td>0.658602</td>\n",
       "      <td>0.555556</td>\n",
       "      <td>0.582219</td>\n",
       "      <td>0.930556</td>\n",
       "      <td>0.601307</td>\n",
       "      <td>0.594595</td>\n",
       "      <td>0.578947</td>\n",
       "      <td>...</td>\n",
       "      <td>-0.675676</td>\n",
       "      <td>-0.578947</td>\n",
       "      <td>-0.770270</td>\n",
       "      <td>-0.354167</td>\n",
       "      <td>-0.659091</td>\n",
       "      <td>-0.807692</td>\n",
       "      <td>-0.375000</td>\n",
       "      <td>-0.606061</td>\n",
       "      <td>-0.400841</td>\n",
       "      <td>-1</td>\n",
       "    </tr>\n",
       "    <tr>\n",
       "      <th>2</th>\n",
       "      <td>12522022.0</td>\n",
       "      <td>12592022.0</td>\n",
       "      <td>0.833333</td>\n",
       "      <td>0.763211</td>\n",
       "      <td>0.648148</td>\n",
       "      <td>0.694010</td>\n",
       "      <td>0.555556</td>\n",
       "      <td>0.798333</td>\n",
       "      <td>0.662162</td>\n",
       "      <td>0.236842</td>\n",
       "      <td>...</td>\n",
       "      <td>-0.567568</td>\n",
       "      <td>-0.657895</td>\n",
       "      <td>-0.635135</td>\n",
       "      <td>-0.687500</td>\n",
       "      <td>-0.454545</td>\n",
       "      <td>-0.615385</td>\n",
       "      <td>-0.500000</td>\n",
       "      <td>-0.606061</td>\n",
       "      <td>-0.768758</td>\n",
       "      <td>1</td>\n",
       "    </tr>\n",
       "    <tr>\n",
       "      <th>3</th>\n",
       "      <td>12592022.0</td>\n",
       "      <td>12522022.0</td>\n",
       "      <td>0.699346</td>\n",
       "      <td>0.750538</td>\n",
       "      <td>0.629630</td>\n",
       "      <td>0.404228</td>\n",
       "      <td>0.712963</td>\n",
       "      <td>0.706472</td>\n",
       "      <td>0.513513</td>\n",
       "      <td>0.280702</td>\n",
       "      <td>...</td>\n",
       "      <td>-0.675676</td>\n",
       "      <td>-0.543860</td>\n",
       "      <td>-0.702703</td>\n",
       "      <td>-0.569444</td>\n",
       "      <td>-0.666667</td>\n",
       "      <td>-0.615385</td>\n",
       "      <td>-0.458333</td>\n",
       "      <td>-0.545455</td>\n",
       "      <td>-0.541014</td>\n",
       "      <td>-1</td>\n",
       "    </tr>\n",
       "    <tr>\n",
       "      <th>4</th>\n",
       "      <td>13292022.0</td>\n",
       "      <td>13412022.0</td>\n",
       "      <td>0.700980</td>\n",
       "      <td>0.737634</td>\n",
       "      <td>0.750000</td>\n",
       "      <td>0.435882</td>\n",
       "      <td>0.583333</td>\n",
       "      <td>0.632353</td>\n",
       "      <td>0.391892</td>\n",
       "      <td>0.684211</td>\n",
       "      <td>...</td>\n",
       "      <td>-0.297297</td>\n",
       "      <td>-0.394737</td>\n",
       "      <td>-0.567568</td>\n",
       "      <td>-0.312500</td>\n",
       "      <td>-0.863636</td>\n",
       "      <td>-0.538462</td>\n",
       "      <td>-0.562500</td>\n",
       "      <td>-0.439394</td>\n",
       "      <td>-0.598615</td>\n",
       "      <td>1</td>\n",
       "    </tr>\n",
       "  </tbody>\n",
       "</table>\n",
       "<p>5 rows × 117 columns</p>\n",
       "</div>"
      ],
      "text/plain": [
       "     team1_id    team2_id       Pts      FG%2      FGA2      FG%3      FGA3  \\\n",
       "0  11872022.0  14412022.0  0.750000  0.633800  0.787037  0.439078  0.680556   \n",
       "1  14412022.0  11872022.0  0.754902  0.658602  0.555556  0.582219  0.930556   \n",
       "2  12522022.0  12592022.0  0.833333  0.763211  0.648148  0.694010  0.555556   \n",
       "3  12592022.0  12522022.0  0.699346  0.750538  0.629630  0.404228  0.712963   \n",
       "4  13292022.0  13412022.0  0.700980  0.737634  0.750000  0.435882  0.583333   \n",
       "\n",
       "        FT%       FTA        OR  ...    xFTA_a     xOR_a     xDR_a    xAst_a  \\\n",
       "0  0.750842  0.662162  0.605263  ... -0.567568 -0.605263 -0.675676 -0.479167   \n",
       "1  0.601307  0.594595  0.578947  ... -0.675676 -0.578947 -0.770270 -0.354167   \n",
       "2  0.798333  0.662162  0.236842  ... -0.567568 -0.657895 -0.635135 -0.687500   \n",
       "3  0.706472  0.513513  0.280702  ... -0.675676 -0.543860 -0.702703 -0.569444   \n",
       "4  0.632353  0.391892  0.684211  ... -0.297297 -0.394737 -0.567568 -0.312500   \n",
       "\n",
       "      xTO_a    xStl_a    xBlk_a     xPF_a    xStr_a  solution  \n",
       "0 -0.659091 -0.538462 -0.500000 -0.621212 -0.847291         1  \n",
       "1 -0.659091 -0.807692 -0.375000 -0.606061 -0.400841        -1  \n",
       "2 -0.454545 -0.615385 -0.500000 -0.606061 -0.768758         1  \n",
       "3 -0.666667 -0.615385 -0.458333 -0.545455 -0.541014        -1  \n",
       "4 -0.863636 -0.538462 -0.562500 -0.439394 -0.598615         1  \n",
       "\n",
       "[5 rows x 117 columns]"
      ]
     },
     "execution_count": 6,
     "metadata": {},
     "output_type": "execute_result"
    }
   ],
   "source": [
    "file_path = given_data_folder + '/' + training_data_file \n",
    "training_df  = pd.read_csv(file_path)\n",
    "print(len(training_df))\n",
    "\n",
    "training_df.head(5)"
   ]
  },
  {
   "cell_type": "markdown",
   "id": "e7fd3499",
   "metadata": {},
   "source": [
    "## get as rows"
   ]
  },
  {
   "cell_type": "code",
   "execution_count": 7,
   "id": "25ede746",
   "metadata": {},
   "outputs": [],
   "source": [
    "# wether or not to keep the data for stats against a team\n",
    "keep_against = True"
   ]
  },
  {
   "cell_type": "code",
   "execution_count": 8,
   "id": "fa9d2ec5",
   "metadata": {},
   "outputs": [
    {
     "name": "stdout",
     "output_type": "stream",
     "text": [
      "46338 114\n",
      "46338 1\n",
      "46338 2\n"
     ]
    }
   ],
   "source": [
    "training_column_names = training_df.columns.tolist()\n",
    "\n",
    "# get all data as columns\n",
    "training_columns = []\n",
    "for i in range(len(training_column_names)):\n",
    "    new_column = list(training_df[training_column_names[i]])\n",
    "    training_columns.append(new_column)\n",
    "    \n",
    "\n",
    "    \n",
    "# indicis\n",
    "# 30 each 0:15, 15:30, 30:45, 45:60\n",
    "if not keep_against:\n",
    "    new_training_columns = training_columns[0:15] + training_columns[30:45] + [training_columns[60]]\n",
    "    training_columns = new_training_columns\n",
    "    \n",
    "    \n",
    "    \n",
    "# get as rows\n",
    "training_input_rows    = []\n",
    "training_solution_rows = []\n",
    "embedding_key_rows     = []\n",
    "for i in range(len(training_columns[0])):\n",
    "    new_input_row         = []\n",
    "    new_solution_row      = [training_columns[-1][i]]\n",
    "    new_embedding_key_row = [int(training_columns[0][i]), int(training_columns[1][i])]\n",
    "    for j in range(2, len(training_columns)-1):\n",
    "        new_input_row.append(training_columns[j][i])\n",
    "        \n",
    "    training_input_rows   .append(new_input_row)\n",
    "    training_solution_rows.append(new_solution_row)\n",
    "    embedding_key_rows    .append(new_embedding_key_row)\n",
    "    \n",
    "print(len(training_input_rows), len(training_input_rows[0]))\n",
    "print(len(training_solution_rows), len(training_solution_rows[0]))\n",
    "print(len(embedding_key_rows), len(embedding_key_rows[0]))"
   ]
  },
  {
   "cell_type": "code",
   "execution_count": 9,
   "id": "b8ef8ac4",
   "metadata": {},
   "outputs": [],
   "source": [
    "split = 7_000\n",
    "np_inputs    = np.array(training_input_rows[:split])\n",
    "np_solutions = np.array(training_solution_rows[:split])\n",
    "\n",
    "embedding_key_rows = embedding_key_rows[:split]\n",
    "\n",
    "#np_inputs    = np.array(training_input_rows)\n",
    "#np_solutions = np.array(training_solution_rows)\n",
    "\n",
    "np_data = [np_inputs, np_solutions]"
   ]
  },
  {
   "cell_type": "markdown",
   "id": "8a6e37e9",
   "metadata": {},
   "source": [
    "# Create and Train population"
   ]
  },
  {
   "cell_type": "code",
   "execution_count": 10,
   "id": "d5d17f7c",
   "metadata": {},
   "outputs": [],
   "source": [
    "import sys\n",
    "sys.path.append(\"../../..\")\n",
    "\n",
    "from network_matrix.population_v3 import Population\n",
    "from network_matrix.population_v3 import create_embedding"
   ]
  },
  {
   "cell_type": "markdown",
   "id": "1dfc03d6",
   "metadata": {},
   "source": [
    "### create embeddings"
   ]
  },
  {
   "cell_type": "code",
   "execution_count": 11,
   "id": "b834e8de",
   "metadata": {},
   "outputs": [
    {
     "data": {
      "text/plain": [
       "array([ 0.6586467 ,  0.3798173 , -0.79908   , -0.2773201 , -0.97297245,\n",
       "       -0.5205656 ,  0.2665245 ,  0.2596843 , -0.3050352 , -0.77887243,\n",
       "        0.11896353,  0.3375049 ,  0.23917578,  0.27832744,  0.95084614,\n",
       "        0.23632239,  0.80453986, -0.6146963 , -0.8311841 ,  0.18898907,\n",
       "        0.0929279 ,  0.93859553,  0.14376307,  0.711651  ,  0.01112569,\n",
       "        0.9860521 ,  0.36727256, -0.59089035,  0.32101175,  0.6510694 ,\n",
       "        0.01111768,  0.9743364 , -0.21381907,  0.46437874, -0.7945986 ,\n",
       "       -0.7579802 , -0.56646526, -0.93482554,  0.17873868, -0.34347188,\n",
       "        0.7610254 ,  0.11180535, -0.225381  ,  0.44464293, -0.7253598 ,\n",
       "        0.8363989 ,  0.90624255, -0.9147598 ,  0.40974706,  0.925536  ,\n",
       "       -0.04075904,  0.6879139 , -0.07791705,  0.38305792, -0.9443535 ,\n",
       "       -0.0986512 , -0.4771773 ,  0.9782801 , -0.12157764, -0.35868374,\n",
       "        0.14840595,  0.08078104,  0.02181147,  0.6479078 , -0.8367503 ,\n",
       "       -0.0951722 , -0.11722691,  0.42382368, -0.6526953 ,  0.12154811,\n",
       "        0.32256803,  0.54267466,  0.6261317 , -0.11744486,  0.7412565 ],\n",
       "      dtype=float32)"
      ]
     },
     "execution_count": 11,
     "metadata": {},
     "output_type": "execute_result"
    }
   ],
   "source": [
    "embedding_length = 75\n",
    "\n",
    "unique_team_ids = []\n",
    "embeddings_dict = {}\n",
    "for i in range(len(embedding_key_rows)):\n",
    "    row = embedding_key_rows[i]\n",
    "    \n",
    "    for team in row:\n",
    "        if team not in unique_team_ids:\n",
    "            unique_team_ids.append(team)\n",
    "            embeddings_dict[team] = create_embedding(embedding_length, init_range=1.0)\n",
    "        \n",
    "embeddings_dict[11872022]"
   ]
  },
  {
   "cell_type": "code",
   "execution_count": 20,
   "id": "f0460a58",
   "metadata": {},
   "outputs": [
    {
     "data": {
      "text/plain": [
       "array([ 0.02157759,  0.6483883 ,  0.14364906,  0.09035692, -0.12123352,\n",
       "       -0.43681282,  0.04650299, -0.93639565, -0.19044226,  0.1799832 ,\n",
       "        0.01213782, -0.05558179,  0.8238375 ,  0.4998128 ,  0.6785987 ,\n",
       "        0.81655836,  0.5363494 , -0.85091805,  0.11168158, -0.3000549 ,\n",
       "       -0.1024701 ,  0.1738263 , -0.92336214, -0.39101973, -0.7861493 ,\n",
       "        0.12137592, -0.09399392,  0.90383184,  0.5522422 ,  0.86117065,\n",
       "       -0.33645487,  0.27415696,  0.54659486, -0.2675567 ,  0.14792085,\n",
       "        0.08065153, -0.7455556 , -0.31134886, -0.07912376,  0.89161694,\n",
       "        0.18373238, -0.4017597 ,  0.90919954, -0.2490196 , -0.20061143,\n",
       "        0.85521275, -0.44987896,  0.28702408, -0.46672562, -0.9352145 ,\n",
       "        0.30376363,  0.03462115,  0.67048705,  0.42113438,  0.13357627,\n",
       "       -0.50825447,  0.52334106,  0.3651401 , -0.66202646,  0.6542599 ,\n",
       "        0.33360374, -0.0610722 ,  0.6272555 , -0.4343993 , -0.14527299,\n",
       "       -0.48435324,  0.4121263 ,  0.62738544, -0.82127905, -0.8554599 ,\n",
       "       -0.16145347, -0.07340042,  0.9126799 , -0.08099157,  0.7380377 ],\n",
       "      dtype=float32)"
      ]
     },
     "execution_count": 20,
     "metadata": {},
     "output_type": "execute_result"
    }
   ],
   "source": [
    "embeddings_dict[11872022]"
   ]
  },
  {
   "cell_type": "markdown",
   "id": "b8411328",
   "metadata": {},
   "source": [
    "### create it here"
   ]
  },
  {
   "cell_type": "code",
   "execution_count": 13,
   "id": "ae937842",
   "metadata": {},
   "outputs": [
    {
     "data": {
      "text/plain": [
       "264"
      ]
     },
     "execution_count": 13,
     "metadata": {},
     "output_type": "execute_result"
    }
   ],
   "source": [
    "'''\n",
    "learning_rate, steps, batch_size,    cost,      acc,\n",
    "-------------- ------ ----------- -------- ---------\n",
    "       0.0001,    50,          2,   0.215,   65.51%,\n",
    "       \n",
    "       0.0001     50,          2,   0.190,   71.27%,  # recent 5 games, no stats against\n",
    "       0.0001    100,          2,   0.188,   71.19%,  # recent 5 games, with stats against\n",
    "''';\n",
    "\n",
    "num_inputs = len(np_inputs[0]) + (2*embedding_length)\n",
    "num_inputs"
   ]
  },
  {
   "cell_type": "code",
   "execution_count": 24,
   "id": "86ea9525",
   "metadata": {},
   "outputs": [
    {
     "data": {
      "text/plain": [
       "25200"
      ]
     },
     "execution_count": 24,
     "metadata": {},
     "output_type": "execute_result"
    }
   ],
   "source": [
    "7*60*60"
   ]
  },
  {
   "cell_type": "code",
   "execution_count": 15,
   "id": "8601d91f",
   "metadata": {},
   "outputs": [],
   "source": [
    "TEST_population  = Population(num_inputs, 1, learning_rate=0.00001)\n",
    "\n",
    "all_times = [0,0,0,0,0]\n",
    "all_costs = []\n",
    "all_accuracies = []"
   ]
  },
  {
   "cell_type": "code",
   "execution_count": 25,
   "id": "46dbbed7",
   "metadata": {},
   "outputs": [
    {
     "name": "stdout",
     "output_type": "stream",
     "text": [
      "Training Progress:                             |    cost     acc  |     steps           time      remaining  \n",
      "                                               | --------  ------ | ----------  -------------  ------------- \n",
      "[####                             ] -  12.29%  |  0.18356  71.27% |  1106/9000   6h 58m 49.7s  50h 22m 45.9s     \r"
     ]
    }
   ],
   "source": [
    "# training loops\n",
    "# ---------------\n",
    "#times, costs, accuracies = TEST_population.train_and_test(np_data, 6_000)\n",
    "#times, costs, accuracies = TEST_population.train_and_test_stochastic(np_data, 100, batch_size=10)\n",
    "\n",
    "times, data, costs, accuracies = TEST_population.train_and_test_embeddings(np_inputs, embedding_key_rows, \n",
    "                                                                           np_solutions, \n",
    "                                                                           embeddings_dict, \n",
    "                                                                           steps=9000,\n",
    "                                                                           training_time=25200,\n",
    "                                                                           use_time=True,\n",
    "                                                                           report_frequency=5)\n",
    "\n",
    "\n",
    "# update tracking\n",
    "# ---------------\n",
    "for i in range(len(all_times)):\n",
    "    all_times[i] += times[i]\n",
    "all_costs      += costs\n",
    "all_accuracies += accuracies"
   ]
  },
  {
   "cell_type": "code",
   "execution_count": 26,
   "id": "b0bc3161",
   "metadata": {
    "scrolled": false
   },
   "outputs": [
    {
     "name": "stdout",
     "output_type": "stream",
     "text": [
      " \n",
      "                 time(s)   percent  per step       | steps:             1309\n",
      "            ------------  --------  --------       | learning rate:    1e-05\n",
      "set inputs      6m 52.8s      1.64%     0.05       | # connections:   348744\n",
      "calc value   1h 33m 17.2s      22.2%     0.62       | L1 (sum):          -0.0\n",
      "grad dscnt   2h 56m 10.6s     41.92%     1.17       | L2 (**2):        0.0013\n",
      "update vals  2h  3m 44.6s     29.44%     0.82\n",
      "scoring        19m 48.9s      4.71%     0.13       \n",
      "step time    8h 18m 19.6s     100.0%     3.32\n",
      "\n",
      "cost:   0.1837  0.18403  0.18372  0.18506  0.18356 \n",
      "acc:     71.24%   71.24%   71.33%   70.91%   71.27%\n"
     ]
    },
    {
     "data": {
      "image/png": "[encoded data removed]",
      "text/plain": [
       "<Figure size 720x360 with 2 Axes>"
      ]
     },
     "metadata": {
      "needs_background": "light"
     },
     "output_type": "display_data"
    }
   ],
   "source": [
    "TEST_population.report_training_progress(all_times, data) # timing\n",
    "graph_progress(all_costs, all_accuracies)                 # graphs\n",
    "#graph_progress(all_costs[70:], all_accuracies[70:], show_recents=False) # graphs (recent)"
   ]
  },
  {
   "cell_type": "code",
   "execution_count": 18,
   "id": "b378ab44",
   "metadata": {},
   "outputs": [
    {
     "name": "stdout",
     "output_type": "stream",
     "text": [
      "\n",
      "           abs_avg   abs_med       sum       max       min\n",
      "          --------  --------  --------  --------  --------\n",
      "values       0.393     0.354    -5.546     0.897    -0.939\n",
      "biases       0.001     0.001     0.031     0.009    -0.009\n",
      "weights      0.024     0.015    -1.079     0.215    -0.218\n",
      "          --------  --------  --------  --------  --------\n",
      "values       0.202     0.168     2.375     0.602    -0.657\n",
      "biases       0.001       0.0    -0.035      0.01    -0.015\n",
      "weights      0.024     0.015   -19.267     0.232    -0.242\n",
      "          --------  --------  --------  --------  --------\n",
      "values       0.116     0.093     6.176     0.445    -0.371\n",
      "biases         0.0       0.0     -0.04     0.003    -0.008\n",
      "weights      0.024     0.015     8.305     0.218    -0.228\n",
      "          --------  --------  --------  --------  --------\n",
      "values       0.065     0.051     3.607     0.235     -0.24\n",
      "biases         0.0       0.0    -0.015     0.004    -0.003\n",
      "weights      0.024     0.015    -2.072     0.192    -0.252\n",
      "          --------  --------  --------  --------  --------\n",
      "values       0.038     0.032     1.016     0.143    -0.153\n",
      "biases         0.0       0.0    -0.003     0.002    -0.006\n",
      "weights      0.024     0.016     7.187     0.224    -0.219\n",
      "          --------  --------  --------  --------  --------\n",
      "values       0.024     0.024     0.024     0.024     0.024\n",
      "biases        0.02      0.02     -0.02     -0.02     -0.02\n",
      "weights      0.028     0.018     0.266     0.121    -0.123\n"
     ]
    }
   ],
   "source": [
    "TEST_population.print_magnitudes_report()"
   ]
  },
  {
   "cell_type": "code",
   "execution_count": 19,
   "id": "49b06e01",
   "metadata": {},
   "outputs": [],
   "source": [
    "'''\n",
    "create embeddings\n",
    "calculate num inputs\n",
    "create test population\n",
    "record values\n",
    "\n",
    "values:\n",
    "--------\n",
    "\n",
    "steps/time\n",
    "learning rate     - [0.01, 0.001, 0.0001]\n",
    "\n",
    "embedding size    - [50, 75, 100]\n",
    "neurons per layer - [1, 1.5, 2]\n",
    "layers            - [1,2,3]\n",
    "\n",
    "cost\n",
    "accuracy\n",
    "\n",
    "\n",
    "\n",
    "''';"
   ]
  },
  {
   "cell_type": "code",
   "execution_count": null,
   "id": "fd488501",
   "metadata": {},
   "outputs": [],
   "source": [
    "\n",
    "\n",
    "\n",
    "\n",
    "\n",
    "\n",
    "\n",
    "\n",
    "\n",
    "\n",
    "\n",
    "\n",
    "\n"
   ]
  },
  {
   "cell_type": "code",
   "execution_count": null,
   "id": "91585e35",
   "metadata": {},
   "outputs": [],
   "source": []
  }
 ],
 "metadata": {
  "kernelspec": {
   "display_name": "Python 3 (ipykernel)",
   "language": "python",
   "name": "python3"
  },
  "language_info": {
   "codemirror_mode": {
    "name": "ipython",
    "version": 3
   },
   "file_extension": ".py",
   "mimetype": "text/x-python",
   "name": "python",
   "nbconvert_exporter": "python",
   "pygments_lexer": "ipython3",
   "version": "3.8.8"
  }
 },
 "nbformat": 4,
 "nbformat_minor": 5
}
