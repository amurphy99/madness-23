{
 "cells": [
  {
   "cell_type": "markdown",
   "id": "ad63b127",
   "metadata": {},
   "source": [
    "# Combine the Mens and Womens predictions into one file for submission"
   ]
  },
  {
   "cell_type": "code",
   "execution_count": 1,
   "id": "b3cf4d10",
   "metadata": {},
   "outputs": [],
   "source": [
    "import pandas as pd #1\n",
    "import os           #3"
   ]
  },
  {
   "cell_type": "code",
   "execution_count": 2,
   "id": "afce03c2",
   "metadata": {},
   "outputs": [
    {
     "data": {
      "text/plain": [
       "['.DS_Store',\n",
       " 'M_predictions.csv',\n",
       " 'M_testing.csv',\n",
       " 'M_training_data.csv',\n",
       " 'W_predictions.csv',\n",
       " 'W_testing.csv',\n",
       " 'W_training_data.csv',\n",
       " 'predictions']"
      ]
     },
     "execution_count": 2,
     "metadata": {},
     "output_type": "execute_result"
    }
   ],
   "source": [
    "given_data_folder = 'prepped'\n",
    "\n",
    "file_names = os.listdir(given_data_folder)\n",
    "file_names.sort()\n",
    "file_names"
   ]
  },
  {
   "cell_type": "code",
   "execution_count": 3,
   "id": "bd2ecaab",
   "metadata": {},
   "outputs": [],
   "source": [
    "M_predictions_file = 'M_predictions.csv'\n",
    "W_predictions_file = 'W_predictions.csv'"
   ]
  },
  {
   "cell_type": "markdown",
   "id": "68089336",
   "metadata": {},
   "source": [
    "## import as dataframes"
   ]
  },
  {
   "cell_type": "code",
   "execution_count": 4,
   "id": "b0e6ff8c",
   "metadata": {},
   "outputs": [
    {
     "name": "stdout",
     "output_type": "stream",
     "text": [
      "(308912, 2)\n"
     ]
    },
    {
     "data": {
      "text/html": [
       "<div>\n",
       "<style scoped>\n",
       "    .dataframe tbody tr th:only-of-type {\n",
       "        vertical-align: middle;\n",
       "    }\n",
       "\n",
       "    .dataframe tbody tr th {\n",
       "        vertical-align: top;\n",
       "    }\n",
       "\n",
       "    .dataframe thead th {\n",
       "        text-align: right;\n",
       "    }\n",
       "</style>\n",
       "<table border=\"1\" class=\"dataframe\">\n",
       "  <thead>\n",
       "    <tr style=\"text-align: right;\">\n",
       "      <th></th>\n",
       "      <th>ID</th>\n",
       "      <th>Pred</th>\n",
       "    </tr>\n",
       "  </thead>\n",
       "  <tbody>\n",
       "    <tr>\n",
       "      <th>0</th>\n",
       "      <td>2017_1101_1102</td>\n",
       "      <td>0.304698</td>\n",
       "    </tr>\n",
       "    <tr>\n",
       "      <th>1</th>\n",
       "      <td>2017_1101_1103</td>\n",
       "      <td>0.054563</td>\n",
       "    </tr>\n",
       "    <tr>\n",
       "      <th>2</th>\n",
       "      <td>2017_1101_1104</td>\n",
       "      <td>0.029072</td>\n",
       "    </tr>\n",
       "    <tr>\n",
       "      <th>3</th>\n",
       "      <td>2017_1101_1105</td>\n",
       "      <td>0.736127</td>\n",
       "    </tr>\n",
       "    <tr>\n",
       "      <th>4</th>\n",
       "      <td>2017_1101_1106</td>\n",
       "      <td>0.728175</td>\n",
       "    </tr>\n",
       "  </tbody>\n",
       "</table>\n",
       "</div>"
      ],
      "text/plain": [
       "               ID      Pred\n",
       "0  2017_1101_1102  0.304698\n",
       "1  2017_1101_1103  0.054563\n",
       "2  2017_1101_1104  0.029072\n",
       "3  2017_1101_1105  0.736127\n",
       "4  2017_1101_1106  0.728175"
      ]
     },
     "execution_count": 4,
     "metadata": {},
     "output_type": "execute_result"
    }
   ],
   "source": [
    "file_path = given_data_folder + '/' + M_predictions_file \n",
    "M_predictions_df  = pd.read_csv(file_path)\n",
    "\n",
    "print(M_predictions_df.shape)\n",
    "M_predictions_df.head(5)"
   ]
  },
  {
   "cell_type": "code",
   "execution_count": 5,
   "id": "7c69ed92",
   "metadata": {},
   "outputs": [
    {
     "name": "stdout",
     "output_type": "stream",
     "text": [
      "(305407, 2)\n"
     ]
    },
    {
     "data": {
      "text/html": [
       "<div>\n",
       "<style scoped>\n",
       "    .dataframe tbody tr th:only-of-type {\n",
       "        vertical-align: middle;\n",
       "    }\n",
       "\n",
       "    .dataframe tbody tr th {\n",
       "        vertical-align: top;\n",
       "    }\n",
       "\n",
       "    .dataframe thead th {\n",
       "        text-align: right;\n",
       "    }\n",
       "</style>\n",
       "<table border=\"1\" class=\"dataframe\">\n",
       "  <thead>\n",
       "    <tr style=\"text-align: right;\">\n",
       "      <th></th>\n",
       "      <th>ID</th>\n",
       "      <th>Pred</th>\n",
       "    </tr>\n",
       "  </thead>\n",
       "  <tbody>\n",
       "    <tr>\n",
       "      <th>0</th>\n",
       "      <td>2017_3101_3102</td>\n",
       "      <td>0.738079</td>\n",
       "    </tr>\n",
       "    <tr>\n",
       "      <th>1</th>\n",
       "      <td>2017_3101_3103</td>\n",
       "      <td>0.766036</td>\n",
       "    </tr>\n",
       "    <tr>\n",
       "      <th>2</th>\n",
       "      <td>2017_3101_3104</td>\n",
       "      <td>0.697640</td>\n",
       "    </tr>\n",
       "    <tr>\n",
       "      <th>3</th>\n",
       "      <td>2017_3101_3105</td>\n",
       "      <td>0.679742</td>\n",
       "    </tr>\n",
       "    <tr>\n",
       "      <th>4</th>\n",
       "      <td>2017_3101_3106</td>\n",
       "      <td>0.650297</td>\n",
       "    </tr>\n",
       "  </tbody>\n",
       "</table>\n",
       "</div>"
      ],
      "text/plain": [
       "               ID      Pred\n",
       "0  2017_3101_3102  0.738079\n",
       "1  2017_3101_3103  0.766036\n",
       "2  2017_3101_3104  0.697640\n",
       "3  2017_3101_3105  0.679742\n",
       "4  2017_3101_3106  0.650297"
      ]
     },
     "execution_count": 5,
     "metadata": {},
     "output_type": "execute_result"
    }
   ],
   "source": [
    "file_path = given_data_folder + '/' + W_predictions_file \n",
    "W_predictions_df  = pd.read_csv(file_path)\n",
    "\n",
    "print(W_predictions_df.shape)\n",
    "W_predictions_df.head(5)"
   ]
  },
  {
   "cell_type": "markdown",
   "id": "e11ea6b7",
   "metadata": {},
   "source": [
    "## get as columns"
   ]
  },
  {
   "cell_type": "code",
   "execution_count": 6,
   "id": "e308204d",
   "metadata": {},
   "outputs": [],
   "source": [
    "M_predictions_column_names = M_predictions_df.columns.tolist()\n",
    "\n",
    "# get all data as columns\n",
    "M_columns = []\n",
    "for i in range(len(M_predictions_column_names)):\n",
    "    new_column = list(M_predictions_df[M_predictions_column_names[i]])\n",
    "    M_columns.append(new_column)"
   ]
  },
  {
   "cell_type": "code",
   "execution_count": 7,
   "id": "b9a9be9c",
   "metadata": {},
   "outputs": [],
   "source": [
    "W_predictions_column_names = W_predictions_df.columns.tolist()\n",
    "\n",
    "# get all data as columns\n",
    "W_columns = []\n",
    "for i in range(len(W_predictions_column_names)):\n",
    "    new_column = list(W_predictions_df[W_predictions_column_names[i]])\n",
    "    W_columns.append(new_column)"
   ]
  },
  {
   "cell_type": "markdown",
   "id": "5bf1d93b",
   "metadata": {},
   "source": [
    "## combine columns and create df"
   ]
  },
  {
   "cell_type": "code",
   "execution_count": 8,
   "id": "77d9ea0e",
   "metadata": {},
   "outputs": [
    {
     "name": "stdout",
     "output_type": "stream",
     "text": [
      "2 614319\n"
     ]
    }
   ],
   "source": [
    "combined_columns = []\n",
    "\n",
    "for i in range(len(M_columns)):\n",
    "    combined_columns.append( M_columns[i] + W_columns[i] )\n",
    "    \n",
    "print(len(combined_columns), len(combined_columns[0]))"
   ]
  },
  {
   "cell_type": "code",
   "execution_count": 9,
   "id": "dd543a3b",
   "metadata": {},
   "outputs": [
    {
     "name": "stdout",
     "output_type": "stream",
     "text": [
      "(614319, 2)\n"
     ]
    },
    {
     "data": {
      "text/html": [
       "<div>\n",
       "<style scoped>\n",
       "    .dataframe tbody tr th:only-of-type {\n",
       "        vertical-align: middle;\n",
       "    }\n",
       "\n",
       "    .dataframe tbody tr th {\n",
       "        vertical-align: top;\n",
       "    }\n",
       "\n",
       "    .dataframe thead th {\n",
       "        text-align: right;\n",
       "    }\n",
       "</style>\n",
       "<table border=\"1\" class=\"dataframe\">\n",
       "  <thead>\n",
       "    <tr style=\"text-align: right;\">\n",
       "      <th></th>\n",
       "      <th>ID</th>\n",
       "      <th>Pred</th>\n",
       "    </tr>\n",
       "  </thead>\n",
       "  <tbody>\n",
       "    <tr>\n",
       "      <th>0</th>\n",
       "      <td>2017_1101_1102</td>\n",
       "      <td>0.304698</td>\n",
       "    </tr>\n",
       "    <tr>\n",
       "      <th>1</th>\n",
       "      <td>2017_1101_1103</td>\n",
       "      <td>0.054563</td>\n",
       "    </tr>\n",
       "    <tr>\n",
       "      <th>2</th>\n",
       "      <td>2017_1101_1104</td>\n",
       "      <td>0.029072</td>\n",
       "    </tr>\n",
       "    <tr>\n",
       "      <th>3</th>\n",
       "      <td>2017_1101_1105</td>\n",
       "      <td>0.736127</td>\n",
       "    </tr>\n",
       "    <tr>\n",
       "      <th>4</th>\n",
       "      <td>2017_1101_1106</td>\n",
       "      <td>0.728175</td>\n",
       "    </tr>\n",
       "  </tbody>\n",
       "</table>\n",
       "</div>"
      ],
      "text/plain": [
       "               ID      Pred\n",
       "0  2017_1101_1102  0.304698\n",
       "1  2017_1101_1103  0.054563\n",
       "2  2017_1101_1104  0.029072\n",
       "3  2017_1101_1105  0.736127\n",
       "4  2017_1101_1106  0.728175"
      ]
     },
     "execution_count": 9,
     "metadata": {},
     "output_type": "execute_result"
    }
   ],
   "source": [
    "# create the final dataframe\n",
    "predictions_df = pd.DataFrame(data    = list(zip(combined_columns[0], combined_columns[1])), \n",
    "                              columns = M_predictions_column_names)\n",
    "\n",
    "print(predictions_df.shape)\n",
    "predictions_df.head()"
   ]
  },
  {
   "cell_type": "markdown",
   "id": "3bcf4743",
   "metadata": {},
   "source": [
    "## enter file name and output as csv"
   ]
  },
  {
   "cell_type": "code",
   "execution_count": 10,
   "id": "6040061d",
   "metadata": {},
   "outputs": [],
   "source": [
    "from datetime import datetime, date"
   ]
  },
  {
   "cell_type": "code",
   "execution_count": 21,
   "id": "992e2ccb",
   "metadata": {},
   "outputs": [
    {
     "data": {
      "text/plain": [
       "'230305_17:06'"
      ]
     },
     "execution_count": 21,
     "metadata": {},
     "output_type": "execute_result"
    }
   ],
   "source": [
    "# date\n",
    "# -----\n",
    "today = date.today()\n",
    "day_str = str(today)\n",
    "\n",
    "# 0123456789\n",
    "# 2023-03-03\n",
    "current_day = day_str[2:4] + day_str[5:7] + day_str[8:]\n",
    "current_day\n",
    "\n",
    "# time\n",
    "# -----\n",
    "now = datetime.now()\n",
    "current_time = now.strftime(\"%H:%M\")\n",
    "\n",
    "# together\n",
    "# ---------\n",
    "file_time = current_day + \"_\" + current_time\n",
    "file_time"
   ]
  },
  {
   "cell_type": "markdown",
   "id": "b7b1c4b5",
   "metadata": {},
   "source": [
    "### file name"
   ]
  },
  {
   "cell_type": "code",
   "execution_count": 22,
   "id": "be91cb9f",
   "metadata": {},
   "outputs": [
    {
     "data": {
      "text/plain": [
       "'aem_230305_17:06.csv'"
      ]
     },
     "execution_count": 22,
     "metadata": {},
     "output_type": "execute_result"
    }
   ],
   "source": [
    "file_prefix = \"aem\"\n",
    "\n",
    "file_name = \"{}_{}.csv\".format(file_prefix, file_time)\n",
    "file_name"
   ]
  },
  {
   "cell_type": "markdown",
   "id": "cac2359e",
   "metadata": {},
   "source": [
    "### output as csv"
   ]
  },
  {
   "cell_type": "code",
   "execution_count": 23,
   "id": "43cc0fd7",
   "metadata": {},
   "outputs": [],
   "source": [
    "# to csv\n",
    "file_name = \"prepped/predictions/\" + file_name\n",
    "predictions_df.to_csv(file_name, index=False)"
   ]
  },
  {
   "cell_type": "code",
   "execution_count": null,
   "id": "4aab2b94",
   "metadata": {},
   "outputs": [],
   "source": []
  },
  {
   "cell_type": "code",
   "execution_count": null,
   "id": "a015f8de",
   "metadata": {},
   "outputs": [],
   "source": []
  }
 ],
 "metadata": {
  "kernelspec": {
   "display_name": "Python 3 (ipykernel)",
   "language": "python",
   "name": "python3"
  },
  "language_info": {
   "codemirror_mode": {
    "name": "ipython",
    "version": 3
   },
   "file_extension": ".py",
   "mimetype": "text/x-python",
   "name": "python",
   "nbconvert_exporter": "python",
   "pygments_lexer": "ipython3",
   "version": "3.8.8"
  }
 },
 "nbformat": 4,
 "nbformat_minor": 5
}
