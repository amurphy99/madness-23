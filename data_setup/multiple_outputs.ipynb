{
 "cells": [
  {
   "cell_type": "markdown",
   "id": "499c7e2d",
   "metadata": {},
   "source": [
    "# Import Starting Data"
   ]
  },
  {
   "cell_type": "code",
   "execution_count": 1,
   "id": "b8e924d5",
   "metadata": {},
   "outputs": [],
   "source": [
    "import pandas as pd #1\n",
    "import os           #3"
   ]
  },
  {
   "cell_type": "code",
   "execution_count": 2,
   "id": "a4e6039a",
   "metadata": {},
   "outputs": [
    {
     "data": {
      "text/plain": [
       "['MRegularSeasonDetailedResults.csv', 'bracket-2022.csv']"
      ]
     },
     "execution_count": 2,
     "metadata": {},
     "output_type": "execute_result"
    }
   ],
   "source": [
    "given_data_folder = 'data'\n",
    "\n",
    "file_names = os.listdir(given_data_folder)\n",
    "file_names.sort()\n",
    "file_names"
   ]
  },
  {
   "cell_type": "code",
   "execution_count": 3,
   "id": "08ccd4fc",
   "metadata": {},
   "outputs": [],
   "source": [
    "file_name = 'MRegularSeasonDetailedResults.csv'"
   ]
  },
  {
   "cell_type": "code",
   "execution_count": 1,
   "id": "d850adce",
   "metadata": {},
   "outputs": [
    {
     "ename": "NameError",
     "evalue": "name 'given_data_folder' is not defined",
     "output_type": "error",
     "traceback": [
      "\u001b[0;31m---------------------------------------------------------------------------\u001b[0m",
      "\u001b[0;31mNameError\u001b[0m                                 Traceback (most recent call last)",
      "\u001b[0;32m/var/folders/ym/7b7x_jyx78zgvfy3352yp71w0000gn/T/ipykernel_91168/3066315633.py\u001b[0m in \u001b[0;36m<module>\u001b[0;34m\u001b[0m\n\u001b[0;32m----> 1\u001b[0;31m \u001b[0mfile_path\u001b[0m \u001b[0;34m=\u001b[0m \u001b[0mgiven_data_folder\u001b[0m \u001b[0;34m+\u001b[0m \u001b[0;34m'/'\u001b[0m \u001b[0;34m+\u001b[0m \u001b[0mfile_name\u001b[0m\u001b[0;34m\u001b[0m\u001b[0;34m\u001b[0m\u001b[0m\n\u001b[0m\u001b[1;32m      2\u001b[0m \u001b[0mgiven_df\u001b[0m  \u001b[0;34m=\u001b[0m \u001b[0mpd\u001b[0m\u001b[0;34m.\u001b[0m\u001b[0mread_csv\u001b[0m\u001b[0;34m(\u001b[0m\u001b[0mfile_path\u001b[0m\u001b[0;34m)\u001b[0m\u001b[0;34m\u001b[0m\u001b[0;34m\u001b[0m\u001b[0m\n\u001b[1;32m      3\u001b[0m \u001b[0mprint\u001b[0m\u001b[0;34m(\u001b[0m\u001b[0mlen\u001b[0m\u001b[0;34m(\u001b[0m\u001b[0mgiven_df\u001b[0m\u001b[0;34m)\u001b[0m\u001b[0;34m)\u001b[0m\u001b[0;34m\u001b[0m\u001b[0;34m\u001b[0m\u001b[0m\n\u001b[1;32m      4\u001b[0m \u001b[0;34m\u001b[0m\u001b[0m\n\u001b[1;32m      5\u001b[0m \u001b[0mgiven_df\u001b[0m\u001b[0;34m.\u001b[0m\u001b[0mhead\u001b[0m\u001b[0;34m(\u001b[0m\u001b[0;36m5\u001b[0m\u001b[0;34m)\u001b[0m\u001b[0;34m\u001b[0m\u001b[0;34m\u001b[0m\u001b[0m\n",
      "\u001b[0;31mNameError\u001b[0m: name 'given_data_folder' is not defined"
     ]
    }
   ],
   "source": [
    "file_path = given_data_folder + '/' + file_name \n",
    "given_df  = pd.read_csv(file_path)\n",
    "print(len(given_df))\n",
    "\n",
    "given_df.head(5)"
   ]
  },
  {
   "cell_type": "markdown",
   "id": "fe0d106d",
   "metadata": {},
   "source": [
    "# Imports"
   ]
  },
  {
   "cell_type": "code",
   "execution_count": 5,
   "id": "40075135",
   "metadata": {},
   "outputs": [],
   "source": [
    "import sys\n",
    "sys.path.append(\"..\")"
   ]
  },
  {
   "cell_type": "code",
   "execution_count": 6,
   "id": "2e47caea",
   "metadata": {},
   "outputs": [],
   "source": [
    "import random\n",
    "import time\n",
    "import threading\n",
    "import math\n",
    "\n",
    "from copy import deepcopy"
   ]
  },
  {
   "cell_type": "code",
   "execution_count": 7,
   "id": "9890b22a",
   "metadata": {},
   "outputs": [],
   "source": [
    "from network_multiple.neuron      import Neuron\n",
    "from network_multiple.agent       import Agent\n",
    "from network_multiple.population  import Population\n",
    "\n",
    "from network_multiple.data_prep     import *\n",
    "from network_multiple.testingreport import TestingReport\n",
    "\n",
    "from extra.progress_package import *"
   ]
  },
  {
   "cell_type": "code",
   "execution_count": 8,
   "id": "40b15a3f",
   "metadata": {},
   "outputs": [],
   "source": [
    "headers_list = [\"Pts\", \"FGM\", \"FGA\", \"FGM3\", \"FGA3\", \"FTM\", \"FTA\", \"OR\", \n",
    "                \"DR\", \"Ast\", \"TO\", \"Stl\", \"Blk\", \"PF\", \n",
    "                \"xPts\", \"xFGM\", \"xFGA\", \"xFGM3\", \"xFGA3\", \"xFTM\", \"xFTA\", \"xOR\",\n",
    "                \"xDR\", \"xAst\", \"xTO\", \"xStl\", \"xBlk\", \"xPF\"]"
   ]
  },
  {
   "cell_type": "markdown",
   "id": "36292c5c",
   "metadata": {},
   "source": [
    "# Get inputs and outputs from a given season"
   ]
  },
  {
   "cell_type": "markdown",
   "id": "c2f10113",
   "metadata": {},
   "source": [
    "### 2021"
   ]
  },
  {
   "cell_type": "code",
   "execution_count": 9,
   "id": "a30f5689",
   "metadata": {},
   "outputs": [],
   "source": [
    "# inputs, solutions, output_max_columns, variance\n",
    "inputs_2021, solutions_2021, max_2021, variance_2021 = inputs_outputs_for_season(given_df, 2021)"
   ]
  },
  {
   "cell_type": "code",
   "execution_count": 10,
   "id": "9aacb85e",
   "metadata": {},
   "outputs": [
    {
     "name": "stdout",
     "output_type": "stream",
     "text": [
      "7228 7228\n",
      "   Pts    FGM    FGA   FGM3   FGA3    FTM    FTA     OR     DR    Ast     TO    Stl    Blk     PF \n",
      "  1.44%  1.69%  0.88%  4.77%  2.73%  4.44%  4.12%  4.57%  1.95%  3.38%  3.26%  4.88%  7.04% 10.42%\n"
     ]
    }
   ],
   "source": [
    "print(len(inputs_2021), len(solutions_2021))\n",
    "line1 = \"\"\n",
    "line2 = \"\"\n",
    "for i in range(len(variance_2021)//2):\n",
    "    line1 += \"{:>6} \".format(headers_list[i])\n",
    "    line2 += \"{:>6}%\".format(round(variance_2021[i]*100, 2))\n",
    "print(line1)\n",
    "print(line2)"
   ]
  },
  {
   "cell_type": "markdown",
   "id": "9b67bf71",
   "metadata": {},
   "source": [
    "### 2022"
   ]
  },
  {
   "cell_type": "code",
   "execution_count": 11,
   "id": "472c1bf9",
   "metadata": {},
   "outputs": [],
   "source": [
    "# inputs, solutions, output_max_columns, variance\n",
    "inputs_2022, solutions_2022, max_2022, variance_2022 = inputs_outputs_for_season(given_df, 2022)"
   ]
  },
  {
   "cell_type": "code",
   "execution_count": 12,
   "id": "d011bada",
   "metadata": {},
   "outputs": [
    {
     "name": "stdout",
     "output_type": "stream",
     "text": [
      "7036 7036\n",
      "   Pts    FGM    FGA   FGM3   FGA3    FTM    FTA     OR     DR    Ast     TO    Stl    Blk     PF \n",
      "  1.45%  1.68%  0.87%  4.34%   2.7%  4.84%  4.31%  4.59%  2.04%  3.65%  3.27%  5.04%  7.76%  2.51%\n"
     ]
    }
   ],
   "source": [
    "print(len(inputs_2022), len(solutions_2022))\n",
    "line1 = \"\"\n",
    "line2 = \"\"\n",
    "for i in range(len(variance_2022)//2):\n",
    "    line1 += \"{:>6} \".format(headers_list[i])\n",
    "    line2 += \"{:>6}%\".format( round(variance_2022[i]*100, 2) )\n",
    "print(line1)\n",
    "print(line2)"
   ]
  },
  {
   "cell_type": "markdown",
   "id": "e15d8727",
   "metadata": {},
   "source": [
    "# Create and test population"
   ]
  },
  {
   "cell_type": "code",
   "execution_count": 13,
   "id": "5dcdabe1",
   "metadata": {},
   "outputs": [],
   "source": [
    "TEST_population = Population( len(inputs_2022[0]), 10)\n",
    "\n",
    "for i in range(10):\n",
    "    for agent in TEST_population.agents:\n",
    "        agent.mutate(delete_neurons=True)\n",
    "        \n",
    "current_test = TestingReport(TEST_population)"
   ]
  },
  {
   "cell_type": "code",
   "execution_count": 14,
   "id": "1762cee5",
   "metadata": {},
   "outputs": [],
   "source": [
    "#report_data = [inputs_2021, solutions_2021, inputs_2022, solutions_2022]\n",
    "#print( 7036//2, 7036//4, 7036//8, 7036//16 )"
   ]
  },
  {
   "cell_type": "code",
   "execution_count": 15,
   "id": "f709c124",
   "metadata": {},
   "outputs": [],
   "source": [
    "#                0,   1,    2,    3,    4 \n",
    "trial_sizes = [440, 880, 1760, 3518, 7036]\n",
    "t_size = trial_sizes[4]\n",
    "\n",
    "report_data = [inputs_2021[:t_size], solutions_2021[:t_size], variance_2021[:t_size],\n",
    "               inputs_2022[:t_size], solutions_2022[:t_size], variance_2022[:t_size]]"
   ]
  },
  {
   "cell_type": "markdown",
   "id": "98a7b823",
   "metadata": {},
   "source": [
    "### training and testing"
   ]
  },
  {
   "cell_type": "code",
   "execution_count": 16,
   "id": "8c957b83",
   "metadata": {},
   "outputs": [
    {
     "name": "stdout",
     "output_type": "stream",
     "text": [
      "[##################################################] - 100.0%                                       \n",
      "\n",
      "\n",
      "            current    prev       change  \n",
      "            --------   --------   --------\n",
      "timer       6695.84s      0.00s   6695.84s\n",
      "steps            95          0         95 \n",
      "steps/sec      0.01       0.00       0.01 \n",
      "secs/step     70.48s      0.00s     70.48s\n",
      "evolu time    18.47s      0.00s     18.47s\n",
      "score time  6677.36s      0.00s   6677.36s\n",
      "            --------   --------   --------\n",
      "conf score  -135496          0    -135496 \n",
      "base score     1997          0       1997 \n",
      "accuracy      56.77%      0.00%     56.77%\n",
      "\n",
      "        \n",
      "id - [ c r, nc r, nc w,  c w] | ovrl | score |  conf | weight  (-135496)\n",
      "--------------------------------------------------------------\n",
      " 0 - [   0,    0,    0,    0] | 1896 | -442262 | -442248 |    -15 \n",
      " 1 - [   0,    0,    0,    0] | 1929 | -154460 | -154445 |    -15 \n",
      " 2 - [   0,    0,    0,    0] | 1888 | -156345 | -156330 |    -15 \n",
      " 3 - [   0,    0,    0,    0] | 1815 | -135496 | -135482 |    -14 \n",
      " 4 - [   0,    0,    0,    0] | 1952 | -322155 | -322141 |    -14 \n",
      " 5 - [   0,    0,    0,    0] | 1615 | -262322 | -262308 |    -14 \n",
      " 6 - [   0,    0,    0,    0] | 1871 | -145016 | -145002 |    -14 \n",
      " 7 - [   0,    0,    0,    0] | 1963 | -406819 | -406805 |    -14 \n",
      " 8 - [   0,    0,    0,    0] | 1997 | -262343 | -262328 |    -15 \n",
      " 9 - [   0,    0,    0,    0] | 1902 | -143359 | -143345 |    -14 \n",
      "\n",
      "\n",
      "            time     % total\n",
      "            -------  -------\n",
      "total       6677.36s\n",
      "calc val    1969.79s    29.5%\n",
      "send time   5593.1s   83.76%\n",
      "set time    1078.73s   16.16%\n",
      "inv tanh     36.28s    0.54%\n",
      "weight         0.0s     0.0%\n",
      "            -------  -------\n",
      "acc for     8677.9s  129.96%\n",
      "            -------  -------\n",
      "thread time 9274.56s   138.9%\n",
      "creating         0s     0.0%\n",
      "starting         0s     0.0%\n",
      "joining          0s     0.0%\n",
      "\n",
      "\n",
      "format:\n",
      "\n",
      " # neurons    |  avg conn weight     \n",
      " ------------ |  ---------------     \n",
      " average from |  (# to, # from)  \n",
      "\n",
      "\n",
      "  56 |   0.06   0.69  -0.09  -0.36  -0.92   0.48   0.21   0.15  -0.51   0.06   0.64   0.25   0.00  -2.78 \n",
      " 7.1 |  (1,7) (1,10) (1,11) (1,10)  (1,2)  (1,3)  (1,3) (1,11)  (1,6) (1,10)  (1,1)  (1,6)  (1,9)  (1,1) \n",
      "      \n",
      "  65 |   0.96  -0.30  -0.09  -0.06   0.10  -1.01   0.40   1.34  -1.10  -0.23  -0.10   0.06  -0.30  -0.22 \n",
      " 7.8 |  (7,2) (7,11)  (6,3)  (5,5) (10,3)  (6,5) (8,16)  (6,2)  (3,3)  (2,9) (6,23)  (4,4)  (4,2) (7,11) \n",
      "      \n",
      "  67 |   0.80   0.00  -0.40  -0.28   0.08  -0.03  -0.15   0.15  -0.08   0.35   0.41   0.64   0.38   0.52 \n",
      " 8.6 | (8,16) (5,13) (11,2) (3,12) (10,5) (7,11)  (6,6)  (2,7) (7,19)  (8,3) (10,6)  (8,2) (11,17)  (7,5) \n",
      "      \n",
      "  76 |   0.39   0.02   0.87  -0.96   0.55   0.41   1.57   0.29  -0.32   1.14  -0.06   0.30  -0.13  -0.55 \n",
      " 8.0 |  (6,8)  (8,8)  (7,8)  (9,8) (10,8)  (7,8)  (8,8)  (6,8)  (6,8) (11,8)  (6,8)  (6,8)  (5,8)  (5,8) \n",
      "      \n",
      "  28 |   0.00   0.00   0.00   0.00   0.00   0.00   0.00   0.00   0.00   0.00   0.00   0.00   0.00   0.00 \n",
      " 0.0 | (19,0) (23,0) (21,0) (17,0) (24,0) (26,0) (28,0) (28,0) (20,0) (16,0) (17,0) (24,0) (27,0) (22,0) \n",
      "      \n",
      "\n",
      "5 layers, 292 neurons, 2090 connections\n"
     ]
    }
   ],
   "source": [
    "training_time = 6000 # (in seconds)\n",
    "\n",
    "current_test.run_test(training_time, report_data)\n",
    "\n",
    "\n",
    "current_test.print_report(); print()\n",
    "current_test.scoring_time_report(); print()\n",
    "current_test.print_top_agent()"
   ]
  },
  {
   "cell_type": "code",
   "execution_count": 17,
   "id": "723b72aa",
   "metadata": {},
   "outputs": [],
   "source": [
    "#121314/1760"
   ]
  },
  {
   "cell_type": "code",
   "execution_count": 18,
   "id": "63097afa",
   "metadata": {},
   "outputs": [],
   "source": [
    "#TEST_population.agents[1].mutate()\n",
    "\n",
    "#TEST_population.reset_all_scores()\n",
    "#TEST_population.timed_test_agents_double(report_data[3], report_data[4], report_data[5])\n",
    "\n",
    "#for i in range(len(TEST_population.agents)):\n",
    "    #print(i, \n",
    "          #TEST_population.base_scores[i], \n",
    "          #round(TEST_population.scores[i]), \n",
    "          #round(TEST_population.weight_scores[i]))"
   ]
  },
  {
   "cell_type": "code",
   "execution_count": 19,
   "id": "d0e6992b",
   "metadata": {},
   "outputs": [],
   "source": [
    "'''\n",
    "0 422 -97245 100\n",
    "1 437 -91953 99\n",
    "2 518 -85546 98\n",
    "3 460 -96818 102\n",
    "4 464 -89356 103\n",
    "5 412 -88936 100\n",
    "6 457 -87993 99\n",
    "7 442 -89738 102\n",
    "8 457 -86625 100\n",
    "9 514 -87384 102\n",
    "''';"
   ]
  },
  {
   "cell_type": "code",
   "execution_count": 20,
   "id": "7576f907",
   "metadata": {},
   "outputs": [],
   "source": [
    "game_number = 102 # must be even\n",
    "\n",
    "\n",
    "# use the best scoring agent right now\n",
    "top = current_test.get_top_agent_index()\n",
    "\n",
    "\n",
    "# FIRST way around\n",
    "TEST_population.agents[top].set_inputs( report_data[3][game_number] )\n",
    "TEST_population.agents[top].calculate_value()\n",
    "\n",
    "outputs1 = []\n",
    "for i in range(len(TEST_population.agents[top].layers[-1])):\n",
    "    outputs1.append(TEST_population.agents[top].layers[-1][i].value * max_2022[i])\n",
    "\n",
    "\n",
    "\n",
    "# SECOND way around\n",
    "TEST_population.agents[top].set_inputs( report_data[3][game_number+1] )\n",
    "TEST_population.agents[top].calculate_value()\n",
    "\n",
    "\n",
    "offset = len(report_data[4][game_number+1])//2\n",
    "\n",
    "outputs2 = []\n",
    "for i in range(len(TEST_population.agents[top].layers[-1])):\n",
    "    \n",
    "    if i < offset:\n",
    "        first_value  = outputs1[i]\n",
    "        second_value = TEST_population.agents[top].layers[-1][i+offset].value * max_2022[i+offset]\n",
    "        \n",
    "        outputs2.append( (first_value-second_value)/2 )\n",
    "        \n",
    "    else:\n",
    "        first_value  = outputs1[i]\n",
    "        second_value = TEST_population.agents[top].layers[-1][i-offset].value * max_2022[i-offset]\n",
    "        \n",
    "        outputs2.append( (first_value-second_value)/2 )\n",
    "\n",
    "    \n",
    "    \n",
    "\n",
    "outputs = []\n",
    "actual  = []\n",
    "error   = []\n",
    "for i in range(len(TEST_population.agents[top].layers[-1])):\n",
    "    \n",
    "    estimated  = outputs2[i]\n",
    "    actual_val = report_data[4][game_number][i] * max_2022[i]\n",
    "    \n",
    "    #percent_er = abs(((estimated-actual_val)/estimated)*100)\n",
    "    #percent_er = abs(((actual_val-estimated)/actual_val)*100)\n",
    "    #percent_er = abs(actual_val-estimated)\n",
    "    percent_er = ((actual_val/max_2022[i]-estimated/max_2022[i])**2)*5\n",
    "    \n",
    "    outputs.append(estimated)\n",
    "    actual.append(actual_val)\n",
    "    error.append(percent_er)\n",
    "     "
   ]
  },
  {
   "cell_type": "code",
   "execution_count": 21,
   "id": "141969a8",
   "metadata": {},
   "outputs": [
    {
     "name": "stdout",
     "output_type": "stream",
     "text": [
      "          Pts    FGM    FGA   FGM3   FGA3    FTM    FTA     OR     DR    Ast     TO    Stl    Blk     PF \n",
      "actual   86.0   32.0   68.0   13.0   27.0    9.0   15.0   11.0   26.0   23.0    9.0    6.0    5.0   17.0 \n",
      "model    -0.7  -21.1    0.0    9.2  -33.2    0.0  -32.6  -16.8    0.6  -23.0    0.0   -0.0    7.8   -0.0 \n",
      "        -----  -----  -----  -----  -----  -----  -----  -----  -----  -----  -----  -----  -----  ----- \n",
      "% err     3.8   10.3    4.1    0.3   13.2    0.6    9.3   13.4    2.6   20.0    0.8    1.1    0.6    2.0 \n",
      "\n",
      "         xPts   xFGM   xFGA  xFGM3  xFGA3   xFTM   xFTA    xOR    xDR   xAst    xTO   xStl   xBlk    xPF \n",
      "actual  -69.0  -24.0  -53.0  -13.0  -31.0   -8.0  -11.0   -3.0  -22.0  -17.0  -15.0   -4.0   -2.0  -18.0 \n",
      "model   -64.0   29.2   -2.4  -15.0   34.5  -10.7    0.1   17.0   -0.0   -0.3   -0.3    0.0   -2.4   -2.6 \n",
      "        -----  -----  -----  -----  -----  -----  -----  -----  -----  -----  -----  -----  -----  ----- \n",
      "% err     0.0   10.3    2.3    0.1   15.6    0.1    0.5    6.9    2.0    2.6    2.2    0.5    0.0    1.6 \n"
     ]
    }
   ],
   "source": [
    "lines = [\"       \",\n",
    "         \"actual \",\n",
    "         \"model  \",\n",
    "         \"       \",\n",
    "         \"% err  \",\n",
    "         \"\",\n",
    "         \"       \",\n",
    "         \"actual \",\n",
    "         \"model  \",\n",
    "         \"       \",\n",
    "         \"% err  \"]\n",
    "\n",
    "for i in range(len(outputs)):\n",
    "    if i < len(outputs)//2:\n",
    "        lines[ 0] += \"{:>6} \".format(headers_list [i])\n",
    "        lines[ 1] += \"{:>6} \".format(round(actual [i], 1))\n",
    "        lines[ 2] += \"{:>6} \".format(round(outputs[i], 1))\n",
    "        lines[ 3] += \"{:>6} \".format(\"-----\")\n",
    "        lines[ 4] += \"{:>6} \".format(round(error  [i], 1))\n",
    "        \n",
    "    else:\n",
    "        lines[ 6] += \"{:>6} \".format(headers_list [i])\n",
    "        lines[ 7] += \"{:>6} \".format(round(actual [i], 1))\n",
    "        lines[ 8] += \"{:>6} \".format(round(outputs[i], 1))\n",
    "        lines[ 9] += \"{:>6} \".format(\"-----\")\n",
    "        lines[10] += \"{:>6} \".format(round(error  [i], 1))\n",
    "\n",
    "        \n",
    "for line in lines:\n",
    "    print(line)"
   ]
  },
  {
   "cell_type": "code",
   "execution_count": 22,
   "id": "caa0e24e",
   "metadata": {},
   "outputs": [],
   "source": [
    "'''\n",
    "\n",
    "''';"
   ]
  },
  {
   "cell_type": "code",
   "execution_count": null,
   "id": "b320a10d",
   "metadata": {},
   "outputs": [],
   "source": [
    "\n",
    "\n",
    "\n",
    "\n",
    "\n",
    "\n",
    "\n",
    "\n",
    "\n",
    "\n",
    "\n",
    "\n",
    "\n",
    "\n",
    "\n",
    "\n",
    "\n",
    "\n"
   ]
  },
  {
   "cell_type": "code",
   "execution_count": null,
   "id": "70980400",
   "metadata": {},
   "outputs": [],
   "source": []
  },
  {
   "cell_type": "code",
   "execution_count": null,
   "id": "bbab0272",
   "metadata": {},
   "outputs": [],
   "source": []
  }
 ],
 "metadata": {
  "kernelspec": {
   "display_name": "Python 3 (ipykernel)",
   "language": "python",
   "name": "python3"
  },
  "language_info": {
   "codemirror_mode": {
    "name": "ipython",
    "version": 3
   },
   "file_extension": ".py",
   "mimetype": "text/x-python",
   "name": "python",
   "nbconvert_exporter": "python",
   "pygments_lexer": "ipython3",
   "version": "3.8.8"
  }
 },
 "nbformat": 4,
 "nbformat_minor": 5
}
