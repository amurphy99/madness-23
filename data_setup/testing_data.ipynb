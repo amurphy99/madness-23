{
 "cells": [
  {
   "cell_type": "code",
   "execution_count": 1,
   "id": "32c631a3",
   "metadata": {},
   "outputs": [],
   "source": [
    "import pandas as pd #1\n",
    "import datetime     #2\n",
    "import os           #3"
   ]
  },
  {
   "cell_type": "code",
   "execution_count": 2,
   "id": "78367933",
   "metadata": {},
   "outputs": [
    {
     "data": {
      "text/plain": [
       "['MRegularSeasonDetailedResults.csv', 'bracket-2022.csv']"
      ]
     },
     "execution_count": 2,
     "metadata": {},
     "output_type": "execute_result"
    }
   ],
   "source": [
    "given_data_folder = 'data'\n",
    "\n",
    "file_names = os.listdir(given_data_folder)\n",
    "file_names.sort()\n",
    "file_names"
   ]
  },
  {
   "cell_type": "code",
   "execution_count": 3,
   "id": "33480836",
   "metadata": {},
   "outputs": [],
   "source": [
    "file_name = 'MRegularSeasonDetailedResults.csv'"
   ]
  },
  {
   "cell_type": "code",
   "execution_count": 4,
   "id": "8d04fc89",
   "metadata": {},
   "outputs": [
    {
     "name": "stdout",
     "output_type": "stream",
     "text": [
      "100423\n"
     ]
    },
    {
     "data": {
      "text/html": [
       "<div>\n",
       "<style scoped>\n",
       "    .dataframe tbody tr th:only-of-type {\n",
       "        vertical-align: middle;\n",
       "    }\n",
       "\n",
       "    .dataframe tbody tr th {\n",
       "        vertical-align: top;\n",
       "    }\n",
       "\n",
       "    .dataframe thead th {\n",
       "        text-align: right;\n",
       "    }\n",
       "</style>\n",
       "<table border=\"1\" class=\"dataframe\">\n",
       "  <thead>\n",
       "    <tr style=\"text-align: right;\">\n",
       "      <th></th>\n",
       "      <th>Season</th>\n",
       "      <th>DayNum</th>\n",
       "      <th>WTeamID</th>\n",
       "      <th>WScore</th>\n",
       "      <th>LTeamID</th>\n",
       "      <th>LScore</th>\n",
       "      <th>WLoc</th>\n",
       "      <th>NumOT</th>\n",
       "      <th>WFGM</th>\n",
       "      <th>WFGA</th>\n",
       "      <th>...</th>\n",
       "      <th>LFGA3</th>\n",
       "      <th>LFTM</th>\n",
       "      <th>LFTA</th>\n",
       "      <th>LOR</th>\n",
       "      <th>LDR</th>\n",
       "      <th>LAst</th>\n",
       "      <th>LTO</th>\n",
       "      <th>LStl</th>\n",
       "      <th>LBlk</th>\n",
       "      <th>LPF</th>\n",
       "    </tr>\n",
       "  </thead>\n",
       "  <tbody>\n",
       "    <tr>\n",
       "      <th>0</th>\n",
       "      <td>2003</td>\n",
       "      <td>10</td>\n",
       "      <td>1104</td>\n",
       "      <td>68</td>\n",
       "      <td>1328</td>\n",
       "      <td>62</td>\n",
       "      <td>N</td>\n",
       "      <td>0</td>\n",
       "      <td>27</td>\n",
       "      <td>58</td>\n",
       "      <td>...</td>\n",
       "      <td>10</td>\n",
       "      <td>16</td>\n",
       "      <td>22</td>\n",
       "      <td>10</td>\n",
       "      <td>22</td>\n",
       "      <td>8</td>\n",
       "      <td>18</td>\n",
       "      <td>9</td>\n",
       "      <td>2</td>\n",
       "      <td>20</td>\n",
       "    </tr>\n",
       "    <tr>\n",
       "      <th>1</th>\n",
       "      <td>2003</td>\n",
       "      <td>10</td>\n",
       "      <td>1272</td>\n",
       "      <td>70</td>\n",
       "      <td>1393</td>\n",
       "      <td>63</td>\n",
       "      <td>N</td>\n",
       "      <td>0</td>\n",
       "      <td>26</td>\n",
       "      <td>62</td>\n",
       "      <td>...</td>\n",
       "      <td>24</td>\n",
       "      <td>9</td>\n",
       "      <td>20</td>\n",
       "      <td>20</td>\n",
       "      <td>25</td>\n",
       "      <td>7</td>\n",
       "      <td>12</td>\n",
       "      <td>8</td>\n",
       "      <td>6</td>\n",
       "      <td>16</td>\n",
       "    </tr>\n",
       "    <tr>\n",
       "      <th>2</th>\n",
       "      <td>2003</td>\n",
       "      <td>11</td>\n",
       "      <td>1266</td>\n",
       "      <td>73</td>\n",
       "      <td>1437</td>\n",
       "      <td>61</td>\n",
       "      <td>N</td>\n",
       "      <td>0</td>\n",
       "      <td>24</td>\n",
       "      <td>58</td>\n",
       "      <td>...</td>\n",
       "      <td>26</td>\n",
       "      <td>14</td>\n",
       "      <td>23</td>\n",
       "      <td>31</td>\n",
       "      <td>22</td>\n",
       "      <td>9</td>\n",
       "      <td>12</td>\n",
       "      <td>2</td>\n",
       "      <td>5</td>\n",
       "      <td>23</td>\n",
       "    </tr>\n",
       "    <tr>\n",
       "      <th>3</th>\n",
       "      <td>2003</td>\n",
       "      <td>11</td>\n",
       "      <td>1296</td>\n",
       "      <td>56</td>\n",
       "      <td>1457</td>\n",
       "      <td>50</td>\n",
       "      <td>N</td>\n",
       "      <td>0</td>\n",
       "      <td>18</td>\n",
       "      <td>38</td>\n",
       "      <td>...</td>\n",
       "      <td>22</td>\n",
       "      <td>8</td>\n",
       "      <td>15</td>\n",
       "      <td>17</td>\n",
       "      <td>20</td>\n",
       "      <td>9</td>\n",
       "      <td>19</td>\n",
       "      <td>4</td>\n",
       "      <td>3</td>\n",
       "      <td>23</td>\n",
       "    </tr>\n",
       "    <tr>\n",
       "      <th>4</th>\n",
       "      <td>2003</td>\n",
       "      <td>11</td>\n",
       "      <td>1400</td>\n",
       "      <td>77</td>\n",
       "      <td>1208</td>\n",
       "      <td>71</td>\n",
       "      <td>N</td>\n",
       "      <td>0</td>\n",
       "      <td>30</td>\n",
       "      <td>61</td>\n",
       "      <td>...</td>\n",
       "      <td>16</td>\n",
       "      <td>17</td>\n",
       "      <td>27</td>\n",
       "      <td>21</td>\n",
       "      <td>15</td>\n",
       "      <td>12</td>\n",
       "      <td>10</td>\n",
       "      <td>7</td>\n",
       "      <td>1</td>\n",
       "      <td>14</td>\n",
       "    </tr>\n",
       "  </tbody>\n",
       "</table>\n",
       "<p>5 rows × 34 columns</p>\n",
       "</div>"
      ],
      "text/plain": [
       "   Season  DayNum  WTeamID  WScore  LTeamID  LScore WLoc  NumOT  WFGM  WFGA  \\\n",
       "0    2003      10     1104      68     1328      62    N      0    27    58   \n",
       "1    2003      10     1272      70     1393      63    N      0    26    62   \n",
       "2    2003      11     1266      73     1437      61    N      0    24    58   \n",
       "3    2003      11     1296      56     1457      50    N      0    18    38   \n",
       "4    2003      11     1400      77     1208      71    N      0    30    61   \n",
       "\n",
       "   ...  LFGA3  LFTM  LFTA  LOR  LDR  LAst  LTO  LStl  LBlk  LPF  \n",
       "0  ...     10    16    22   10   22     8   18     9     2   20  \n",
       "1  ...     24     9    20   20   25     7   12     8     6   16  \n",
       "2  ...     26    14    23   31   22     9   12     2     5   23  \n",
       "3  ...     22     8    15   17   20     9   19     4     3   23  \n",
       "4  ...     16    17    27   21   15    12   10     7     1   14  \n",
       "\n",
       "[5 rows x 34 columns]"
      ]
     },
     "execution_count": 4,
     "metadata": {},
     "output_type": "execute_result"
    }
   ],
   "source": [
    "file_path = given_data_folder + '/' + file_name \n",
    "given_df  = pd.read_csv(file_path)\n",
    "print(len(given_df))\n",
    "\n",
    "given_df.head(5)"
   ]
  },
  {
   "cell_type": "markdown",
   "id": "fb5549eb",
   "metadata": {},
   "source": [
    "## get only games from 2022 season"
   ]
  },
  {
   "cell_type": "code",
   "execution_count": 5,
   "id": "96ab14ef",
   "metadata": {},
   "outputs": [
    {
     "name": "stdout",
     "output_type": "stream",
     "text": [
      "3736\n"
     ]
    },
    {
     "data": {
      "text/html": [
       "<div>\n",
       "<style scoped>\n",
       "    .dataframe tbody tr th:only-of-type {\n",
       "        vertical-align: middle;\n",
       "    }\n",
       "\n",
       "    .dataframe tbody tr th {\n",
       "        vertical-align: top;\n",
       "    }\n",
       "\n",
       "    .dataframe thead th {\n",
       "        text-align: right;\n",
       "    }\n",
       "</style>\n",
       "<table border=\"1\" class=\"dataframe\">\n",
       "  <thead>\n",
       "    <tr style=\"text-align: right;\">\n",
       "      <th></th>\n",
       "      <th>Season</th>\n",
       "      <th>DayNum</th>\n",
       "      <th>WTeamID</th>\n",
       "      <th>WScore</th>\n",
       "      <th>LTeamID</th>\n",
       "      <th>LScore</th>\n",
       "      <th>WLoc</th>\n",
       "      <th>NumOT</th>\n",
       "      <th>WFGM</th>\n",
       "      <th>WFGA</th>\n",
       "      <th>...</th>\n",
       "      <th>LFGA3</th>\n",
       "      <th>LFTM</th>\n",
       "      <th>LFTA</th>\n",
       "      <th>LOR</th>\n",
       "      <th>LDR</th>\n",
       "      <th>LAst</th>\n",
       "      <th>LTO</th>\n",
       "      <th>LStl</th>\n",
       "      <th>LBlk</th>\n",
       "      <th>LPF</th>\n",
       "    </tr>\n",
       "  </thead>\n",
       "  <tbody>\n",
       "    <tr>\n",
       "      <th>96687</th>\n",
       "      <td>2022</td>\n",
       "      <td>8</td>\n",
       "      <td>1104</td>\n",
       "      <td>93</td>\n",
       "      <td>1256</td>\n",
       "      <td>64</td>\n",
       "      <td>H</td>\n",
       "      <td>0</td>\n",
       "      <td>32</td>\n",
       "      <td>64</td>\n",
       "      <td>...</td>\n",
       "      <td>26</td>\n",
       "      <td>6</td>\n",
       "      <td>19</td>\n",
       "      <td>14</td>\n",
       "      <td>20</td>\n",
       "      <td>11</td>\n",
       "      <td>10</td>\n",
       "      <td>3</td>\n",
       "      <td>1</td>\n",
       "      <td>18</td>\n",
       "    </tr>\n",
       "    <tr>\n",
       "      <th>96688</th>\n",
       "      <td>2022</td>\n",
       "      <td>8</td>\n",
       "      <td>1105</td>\n",
       "      <td>82</td>\n",
       "      <td>1398</td>\n",
       "      <td>73</td>\n",
       "      <td>H</td>\n",
       "      <td>0</td>\n",
       "      <td>31</td>\n",
       "      <td>71</td>\n",
       "      <td>...</td>\n",
       "      <td>27</td>\n",
       "      <td>2</td>\n",
       "      <td>5</td>\n",
       "      <td>14</td>\n",
       "      <td>27</td>\n",
       "      <td>12</td>\n",
       "      <td>14</td>\n",
       "      <td>5</td>\n",
       "      <td>2</td>\n",
       "      <td>16</td>\n",
       "    </tr>\n",
       "    <tr>\n",
       "      <th>96689</th>\n",
       "      <td>2022</td>\n",
       "      <td>8</td>\n",
       "      <td>1110</td>\n",
       "      <td>77</td>\n",
       "      <td>1265</td>\n",
       "      <td>73</td>\n",
       "      <td>H</td>\n",
       "      <td>1</td>\n",
       "      <td>27</td>\n",
       "      <td>59</td>\n",
       "      <td>...</td>\n",
       "      <td>19</td>\n",
       "      <td>7</td>\n",
       "      <td>12</td>\n",
       "      <td>10</td>\n",
       "      <td>26</td>\n",
       "      <td>5</td>\n",
       "      <td>15</td>\n",
       "      <td>6</td>\n",
       "      <td>3</td>\n",
       "      <td>20</td>\n",
       "    </tr>\n",
       "    <tr>\n",
       "      <th>96690</th>\n",
       "      <td>2022</td>\n",
       "      <td>8</td>\n",
       "      <td>1112</td>\n",
       "      <td>81</td>\n",
       "      <td>1319</td>\n",
       "      <td>52</td>\n",
       "      <td>H</td>\n",
       "      <td>0</td>\n",
       "      <td>28</td>\n",
       "      <td>69</td>\n",
       "      <td>...</td>\n",
       "      <td>16</td>\n",
       "      <td>9</td>\n",
       "      <td>17</td>\n",
       "      <td>11</td>\n",
       "      <td>28</td>\n",
       "      <td>11</td>\n",
       "      <td>20</td>\n",
       "      <td>3</td>\n",
       "      <td>1</td>\n",
       "      <td>22</td>\n",
       "    </tr>\n",
       "    <tr>\n",
       "      <th>96691</th>\n",
       "      <td>2022</td>\n",
       "      <td>8</td>\n",
       "      <td>1113</td>\n",
       "      <td>76</td>\n",
       "      <td>1339</td>\n",
       "      <td>60</td>\n",
       "      <td>H</td>\n",
       "      <td>0</td>\n",
       "      <td>31</td>\n",
       "      <td>66</td>\n",
       "      <td>...</td>\n",
       "      <td>24</td>\n",
       "      <td>10</td>\n",
       "      <td>11</td>\n",
       "      <td>2</td>\n",
       "      <td>22</td>\n",
       "      <td>10</td>\n",
       "      <td>21</td>\n",
       "      <td>9</td>\n",
       "      <td>1</td>\n",
       "      <td>14</td>\n",
       "    </tr>\n",
       "  </tbody>\n",
       "</table>\n",
       "<p>5 rows × 34 columns</p>\n",
       "</div>"
      ],
      "text/plain": [
       "       Season  DayNum  WTeamID  WScore  LTeamID  LScore WLoc  NumOT  WFGM  \\\n",
       "96687    2022       8     1104      93     1256      64    H      0    32   \n",
       "96688    2022       8     1105      82     1398      73    H      0    31   \n",
       "96689    2022       8     1110      77     1265      73    H      1    27   \n",
       "96690    2022       8     1112      81     1319      52    H      0    28   \n",
       "96691    2022       8     1113      76     1339      60    H      0    31   \n",
       "\n",
       "       WFGA  ...  LFGA3  LFTM  LFTA  LOR  LDR  LAst  LTO  LStl  LBlk  LPF  \n",
       "96687    64  ...     26     6    19   14   20    11   10     3     1   18  \n",
       "96688    71  ...     27     2     5   14   27    12   14     5     2   16  \n",
       "96689    59  ...     19     7    12   10   26     5   15     6     3   20  \n",
       "96690    69  ...     16     9    17   11   28    11   20     3     1   22  \n",
       "96691    66  ...     24    10    11    2   22    10   21     9     1   14  \n",
       "\n",
       "[5 rows x 34 columns]"
      ]
     },
     "execution_count": 5,
     "metadata": {},
     "output_type": "execute_result"
    }
   ],
   "source": [
    "given_df = given_df[given_df.Season == 2022]\n",
    "print(len(given_df))\n",
    "\n",
    "given_df.head(5)"
   ]
  },
  {
   "cell_type": "markdown",
   "id": "15612d3d",
   "metadata": {},
   "source": [
    "## change from df to just a list of columns"
   ]
  },
  {
   "cell_type": "code",
   "execution_count": 6,
   "id": "2a86e5ab",
   "metadata": {},
   "outputs": [
    {
     "data": {
      "text/plain": [
       "34"
      ]
     },
     "execution_count": 6,
     "metadata": {},
     "output_type": "execute_result"
    }
   ],
   "source": [
    "# Creates list of the column names from the df\n",
    "columns = given_df.columns.tolist()\n",
    "\n",
    "# Creates list of the columns\n",
    "df_columns = []\n",
    "for expected_column in columns:\n",
    "    temp = given_df[expected_column].tolist()\n",
    "    df_columns.append(temp)\n",
    "    \n",
    "len(df_columns)"
   ]
  },
  {
   "cell_type": "code",
   "execution_count": 7,
   "id": "dffae6c8",
   "metadata": {},
   "outputs": [
    {
     "data": {
      "text/plain": [
       "3736"
      ]
     },
     "execution_count": 7,
     "metadata": {},
     "output_type": "execute_result"
    }
   ],
   "source": [
    "# Make a list of rows too\n",
    "df_rows = []\n",
    "\n",
    "for i in range(len(df_columns[0])):\n",
    "    new_row = []\n",
    "    \n",
    "    for j in range(len(df_columns)):\n",
    "        new_row.append(df_columns[j][i])\n",
    "    \n",
    "    df_rows.append(new_row)\n",
    "\n",
    "len(df_rows)"
   ]
  },
  {
   "cell_type": "code",
   "execution_count": 8,
   "id": "065bf14e",
   "metadata": {},
   "outputs": [
    {
     "name": "stdout",
     "output_type": "stream",
     "text": [
      "  0: Season      1: DayNum      2: WTeamID     3: WScore      4: LTeamID     5: LScore      6: WLoc      \n",
      "  7: NumOT       8: WFGM        9: WFGA       10: WFGM3      11: WFGA3      12: WFTM       13: WFTA      \n",
      " 14: WOR        15: WDR        16: WAst       17: WTO        18: WStl       19: WBlk       20: WPF       \n",
      " 21: LFGM       22: LFGA       23: LFGM3      24: LFGA3      25: LFTM       26: LFTA       27: LOR       \n",
      " 28: LDR        29: LAst       30: LTO        31: LStl       32: LBlk       33: LPF       \n"
     ]
    }
   ],
   "source": [
    "row   = \"\"\n",
    "count = 0\n",
    "for i in range(len(columns)):\n",
    "    temp   = \"{:>3}: {}\".format(i, columns[i])\n",
    "    row   += \"{:<15}\"   .format(temp)\n",
    "    count += 1\n",
    "    \n",
    "    if count > 6:\n",
    "        row   +=(\"\\n\")\n",
    "        count  = 0\n",
    "\n",
    "print(row)"
   ]
  },
  {
   "cell_type": "markdown",
   "id": "24b7b67c",
   "metadata": {},
   "source": [
    "## get each teams stats"
   ]
  },
  {
   "cell_type": "code",
   "execution_count": 9,
   "id": "58a88566",
   "metadata": {},
   "outputs": [
    {
     "name": "stdout",
     "output_type": "stream",
     "text": [
      "game_solutions  length:  3736\n",
      "team_dictionary length:  358 \n",
      "\n",
      "[23, [1110, 2585, 355, 1112, 573, 797, 448, 1028, 568, 560, 282, 164, 746], [1131, 2538, 333, 998, 602, 836, 389, 1011, 550, 507, 301, 129, 712]]\n",
      "\n"
     ]
    }
   ],
   "source": [
    "game_solutions = []\n",
    "# team1 ID, team2 ID, team1 win? (1 or 0)\n",
    "\n",
    "team_dictionary = {}\n",
    "# key = teamID\n",
    "# value = [count, team]\n",
    "\n",
    "for i in range(len(df_rows)):\n",
    "    row = df_rows[i]\n",
    "    \n",
    "    # game_solutions\n",
    "    # ---------------\n",
    "    game_solutions.append( [row[2], row[4], 1] )\n",
    "    \n",
    "    \n",
    "    # team dictionary\n",
    "    # ----------------\n",
    "    \n",
    "    #team_for     = [row[3]] + row[ 8:21].copy()\n",
    "    #team_allowed = [row[5]] + row[21:  ].copy()\n",
    "    \n",
    "    team_for     = row[ 8:21].copy()\n",
    "    team_allowed = row[21:  ].copy()\n",
    "    \n",
    "    \n",
    "    # WTEAM\n",
    "    if row[2] not in team_dictionary:\n",
    "        team_dictionary[row[2]] = [1, team_for, team_allowed]\n",
    "    else:\n",
    "        # count\n",
    "        team_dictionary[row[2]][0] += 1\n",
    "        # team for\n",
    "        for j in range(len(team_for)):\n",
    "            team_dictionary[row[2]][1][j] += team_for[j]\n",
    "            team_dictionary[row[2]][2][j] += team_allowed[j]\n",
    "\n",
    "    # LTEAM\n",
    "    if row[4] not in team_dictionary:\n",
    "        team_dictionary[row[4]] = [1, team_allowed, team_for]\n",
    "    else:\n",
    "        # count\n",
    "        team_dictionary[row[4]][0] += 1\n",
    "        # team for\n",
    "        for j in range(len(team_for)):\n",
    "            team_dictionary[row[4]][1][j] += team_allowed[j]\n",
    "            team_dictionary[row[4]][2][j] += team_for[j]\n",
    "\n",
    "            \n",
    "        \n",
    "print(\"game_solutions  length: \", len(game_solutions ))\n",
    "print(\"team_dictionary length: \", len(team_dictionary), \"\\n\")\n",
    "\n",
    "for i in range(1):\n",
    "    print(team_dictionary[ list(team_dictionary.keys())[i] ])\n",
    "    print()"
   ]
  },
  {
   "cell_type": "markdown",
   "id": "fdfb90a0",
   "metadata": {},
   "source": [
    "## change to averages"
   ]
  },
  {
   "cell_type": "code",
   "execution_count": 10,
   "id": "65d04d43",
   "metadata": {},
   "outputs": [
    {
     "name": "stdout",
     "output_type": "stream",
     "text": [
      "358 \n",
      "\n"
     ]
    }
   ],
   "source": [
    "team_averages = {}\n",
    "team_keys = list(team_dictionary.keys())\n",
    "\n",
    "for key in team_keys:\n",
    "    entry = team_dictionary[key]\n",
    "    count = entry[0]\n",
    "    \n",
    "    avg_team_for     = []\n",
    "    avg_team_allowed = []\n",
    "    \n",
    "    for i in range(len(entry[1])):\n",
    "        avg_team_for.append( (entry[1][i] / count) )\n",
    "        avg_team_allowed.append( (entry[2][i] / count) )\n",
    "        \n",
    "    team_averages[key] = [avg_team_for, avg_team_allowed]\n",
    "    \n",
    "print(len(team_averages), \"\\n\")\n",
    "#for i in range(2):\n",
    "    #print(team_averages[ list(team_averages.keys())[i] ])\n",
    "    #print()"
   ]
  },
  {
   "cell_type": "markdown",
   "id": "9c6433ab",
   "metadata": {},
   "source": [
    "# Testing With The Network"
   ]
  },
  {
   "cell_type": "code",
   "execution_count": 11,
   "id": "6c46e50d",
   "metadata": {},
   "outputs": [],
   "source": [
    "import sys\n",
    "sys.path.append(\"..\")"
   ]
  },
  {
   "cell_type": "code",
   "execution_count": 12,
   "id": "332c1ac2",
   "metadata": {},
   "outputs": [],
   "source": [
    "import random\n",
    "import time\n",
    "import threading"
   ]
  },
  {
   "cell_type": "code",
   "execution_count": 13,
   "id": "21bdd280",
   "metadata": {},
   "outputs": [],
   "source": [
    "from network_classes.neuron      import Neuron\n",
    "from network_classes.agent       import Agent\n",
    "from network_classes.population  import Population\n",
    "\n",
    "from extra.progress_package import *"
   ]
  },
  {
   "cell_type": "markdown",
   "id": "2b7eb851",
   "metadata": {},
   "source": [
    "## setting up inputs and solutions"
   ]
  },
  {
   "cell_type": "code",
   "execution_count": 14,
   "id": "55c9bf44",
   "metadata": {},
   "outputs": [
    {
     "name": "stdout",
     "output_type": "stream",
     "text": [
      "inputs length: 3736\n",
      "solutions length: 3736\n"
     ]
    }
   ],
   "source": [
    "inputs = []\n",
    "solutions = []\n",
    "\n",
    "for i in range(len(game_solutions)):\n",
    "    game = game_solutions[i]\n",
    "    team1 = game[0]\n",
    "    team2 = game[1]\n",
    "    \n",
    "    if random.uniform(0,1) > 0.5:\n",
    "        #input_row = team_dictionary[team1][1] + team_dictionary[team2][1]\n",
    "        input_row = []\n",
    "        for j in range(len(team_averages[team1][0])):\n",
    "            input_row.append( (team_averages[team1][0][j] - team_averages[team2][0][j]) )\n",
    "        \n",
    "        inputs.append(input_row)\n",
    "        solutions.append(1)\n",
    "        \n",
    "    else:\n",
    "        #input_row = team_dictionary[team2][1] + team_dictionary[team1][1]\n",
    "        input_row = []\n",
    "        for j in range(len(team_averages[team1][0])):\n",
    "            input_row.append( (team_averages[team2][0][j] - team_averages[team1][0][j]) )\n",
    "        \n",
    "        inputs.append(input_row)\n",
    "        solutions.append(0)\n",
    "        \n",
    "print(\"inputs length:\", len(inputs))\n",
    "print(\"solutions length:\", len(solutions))"
   ]
  },
  {
   "cell_type": "code",
   "execution_count": 15,
   "id": "0f8226cb",
   "metadata": {},
   "outputs": [],
   "source": [
    "# training ->   0:2615\n",
    "# testing -> 2615:"
   ]
  },
  {
   "cell_type": "markdown",
   "id": "8c571ede",
   "metadata": {},
   "source": [
    "## First Test"
   ]
  },
  {
   "cell_type": "markdown",
   "id": "5eb7af7e",
   "metadata": {},
   "source": [
    "# THREADING\n",
    "# -------------------"
   ]
  },
  {
   "cell_type": "code",
   "execution_count": 16,
   "id": "d7aa52be",
   "metadata": {},
   "outputs": [
    {
     "data": {
      "text/plain": [
       "[1371, 1345, 1341, 1341, 1341, 1337, 1280, 1274, 1274, 1273]"
      ]
     },
     "execution_count": 16,
     "metadata": {},
     "output_type": "execute_result"
    }
   ],
   "source": [
    "TEST_inputs = inputs[:2615].copy()\n",
    "TEST_solutions = solutions[:2615].copy()\n",
    "\n",
    "TEST_population = Population( len(TEST_inputs[0]) , 10)\n",
    "TEST_population.test_agents(TEST_inputs, TEST_solutions)\n",
    "#TEST_population.test_agents_threading(TEST_inputs, TEST_solutions)\n",
    "\n",
    "count1 = 0\n",
    "timer1 = 0\n",
    "\n",
    "scores = TEST_population.scores.copy()\n",
    "scores.sort(reverse=True)\n",
    "scores"
   ]
  },
  {
   "cell_type": "code",
   "execution_count": 26,
   "id": "e035fd0a",
   "metadata": {
    "scrolled": true
   },
   "outputs": [
    {
     "name": "stdout",
     "output_type": "stream",
     "text": [
      "[#####################################################] - 107.92%                                   \n",
      "\n",
      "timer:  53.672685861587524\n",
      "steps:  20\n",
      "accuracy: 57.97%\n"
     ]
    },
    {
     "data": {
      "text/plain": [
       "[1516, 1509, 1495, 1486, 1481, 1479, 1468, 1440, 1399, 1379]"
      ]
     },
     "execution_count": 26,
     "metadata": {},
     "output_type": "execute_result"
    }
   ],
   "source": [
    "training_time = 10 # (in seconds)\n",
    "\n",
    "max_steps  = 900\n",
    "steps      = 0\n",
    "start_time = time.time()\n",
    "elapsed    = 0\n",
    "\n",
    "for i in range(max_steps):\n",
    "    elapsed = time.time() - start_time\n",
    "    \n",
    "    if elapsed > training_time: \n",
    "        progress_bar(elapsed, training_time)\n",
    "        break\n",
    "        \n",
    "    # ----------------------------------------------\n",
    "\n",
    "    TEST_population.evolution_step()\n",
    "    count1 += 1\n",
    "    \n",
    "    #TEST_population.test_agents(TEST_inputs, TEST_solutions)\n",
    "    TEST_population.test_agents_threading(TEST_inputs, TEST_solutions)\n",
    "\n",
    "    # ----------------------------------------------\n",
    "    \n",
    "    progress_bar(elapsed, training_time)\n",
    "    \n",
    "    \n",
    "timer1 += elapsed\n",
    "\n",
    "print(\"\\n\")\n",
    "print(\"timer: \", timer1)\n",
    "print(\"steps: \", count1)\n",
    "\n",
    "#TEST_population.test_agents(TEST_inputs, TEST_solutions)\n",
    "scores = TEST_population.scores.copy()\n",
    "scores.sort(reverse=True)\n",
    "\n",
    "print(\"accuracy: {}%\".format(round( (scores[0]/len(TEST_inputs))*100, 2 )))\n",
    "scores"
   ]
  },
  {
   "cell_type": "code",
   "execution_count": 27,
   "id": "3f0aad2d",
   "metadata": {},
   "outputs": [
    {
     "name": "stdout",
     "output_type": "stream",
     "text": [
      "format  ->  final value   \n",
      "            ------------- \n",
      "            # connections \n",
      "\n",
      "\n",
      "-0.01 -1.00  0.90  0.63 -1.00 -1.00 -1.00 -1.00  0.97 -1.00  0.80 -0.86 -1.00 \n",
      "    2     3     4     2     3     4     3     6     3     4     4     4     5 \n",
      "\n",
      "-0.27 -0.42  0.17  0.96  0.90  1.00  0.85 -0.62 -1.00  0.99  0.13  0.05  0.14 \n",
      "    5     5     4     3     4     2     3     3     3     2     4     3     5 \n",
      "\n",
      "-0.62 -0.93  0.77  0.63  0.81 -0.14  0.72  0.47 -0.34 -0.34  0.07  0.19 -0.06 \n",
      "    2     5     2     4     4     4     4     4     4     2     4     5     4 \n",
      "\n",
      "-0.63  0.96  0.82  0.70 -0.94  0.53  0.00  0.75 -0.64 -0.47  0.92 -0.88  0.43 \n",
      "    1     1     1     1     1     1     1     1     1     1     1     1     1 \n",
      "\n",
      " 0.30 \n",
      "    0 \n",
      "\n"
     ]
    }
   ],
   "source": [
    "TEST_population.agents[0].print1()"
   ]
  },
  {
   "cell_type": "code",
   "execution_count": 19,
   "id": "dde84ed5",
   "metadata": {},
   "outputs": [
    {
     "name": "stdout",
     "output_type": "stream",
     "text": [
      "total layers: 5 \n",
      "\n",
      "layer: 0 |  13 neurons\n",
      "layer: 1 |  13 neurons\n",
      "layer: 2 |  13 neurons\n",
      "layer: 3 |  13 neurons\n",
      "layer: 4 |  1 neurons\n"
     ]
    }
   ],
   "source": [
    "print(\"total layers:\", len(TEST_population.agents[0].layers), \"\\n\")\n",
    "\n",
    "for i in range(len(TEST_population.agents[0].layers)):\n",
    "    print(\"layer:\", i, \"| \", len(TEST_population.agents[0].layers[i]), \"neurons\")"
   ]
  },
  {
   "cell_type": "code",
   "execution_count": null,
   "id": "0154036b",
   "metadata": {},
   "outputs": [],
   "source": []
  },
  {
   "cell_type": "code",
   "execution_count": null,
   "id": "18d0ea01",
   "metadata": {},
   "outputs": [],
   "source": []
  },
  {
   "cell_type": "code",
   "execution_count": null,
   "id": "c01b89e7",
   "metadata": {},
   "outputs": [],
   "source": []
  },
  {
   "cell_type": "code",
   "execution_count": null,
   "id": "646c555d",
   "metadata": {},
   "outputs": [],
   "source": []
  },
  {
   "cell_type": "code",
   "execution_count": null,
   "id": "e58a0271",
   "metadata": {},
   "outputs": [],
   "source": []
  }
 ],
 "metadata": {
  "kernelspec": {
   "display_name": "Python 3 (ipykernel)",
   "language": "python",
   "name": "python3"
  },
  "language_info": {
   "codemirror_mode": {
    "name": "ipython",
    "version": 3
   },
   "file_extension": ".py",
   "mimetype": "text/x-python",
   "name": "python",
   "nbconvert_exporter": "python",
   "pygments_lexer": "ipython3",
   "version": "3.8.8"
  }
 },
 "nbformat": 4,
 "nbformat_minor": 5
}
