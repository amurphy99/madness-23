{
 "cells": [
  {
   "cell_type": "markdown",
   "id": "31545a60",
   "metadata": {},
   "source": [
    "# Import Starting Data"
   ]
  },
  {
   "cell_type": "code",
   "execution_count": 1,
   "id": "32c631a3",
   "metadata": {},
   "outputs": [],
   "source": [
    "import pandas as pd #1\n",
    "import os           #3"
   ]
  },
  {
   "cell_type": "code",
   "execution_count": 2,
   "id": "78367933",
   "metadata": {},
   "outputs": [
    {
     "data": {
      "text/plain": [
       "['MRegularSeasonDetailedResults.csv', 'bracket-2022.csv']"
      ]
     },
     "execution_count": 2,
     "metadata": {},
     "output_type": "execute_result"
    }
   ],
   "source": [
    "given_data_folder = 'data'\n",
    "\n",
    "file_names = os.listdir(given_data_folder)\n",
    "file_names.sort()\n",
    "file_names"
   ]
  },
  {
   "cell_type": "code",
   "execution_count": 3,
   "id": "33480836",
   "metadata": {},
   "outputs": [],
   "source": [
    "file_name = 'MRegularSeasonDetailedResults.csv'"
   ]
  },
  {
   "cell_type": "code",
   "execution_count": 4,
   "id": "8d04fc89",
   "metadata": {},
   "outputs": [
    {
     "name": "stdout",
     "output_type": "stream",
     "text": [
      "100423\n"
     ]
    },
    {
     "data": {
      "text/html": [
       "<div>\n",
       "<style scoped>\n",
       "    .dataframe tbody tr th:only-of-type {\n",
       "        vertical-align: middle;\n",
       "    }\n",
       "\n",
       "    .dataframe tbody tr th {\n",
       "        vertical-align: top;\n",
       "    }\n",
       "\n",
       "    .dataframe thead th {\n",
       "        text-align: right;\n",
       "    }\n",
       "</style>\n",
       "<table border=\"1\" class=\"dataframe\">\n",
       "  <thead>\n",
       "    <tr style=\"text-align: right;\">\n",
       "      <th></th>\n",
       "      <th>Season</th>\n",
       "      <th>DayNum</th>\n",
       "      <th>WTeamID</th>\n",
       "      <th>WScore</th>\n",
       "      <th>LTeamID</th>\n",
       "      <th>LScore</th>\n",
       "      <th>WLoc</th>\n",
       "      <th>NumOT</th>\n",
       "      <th>WFGM</th>\n",
       "      <th>WFGA</th>\n",
       "      <th>...</th>\n",
       "      <th>LFGA3</th>\n",
       "      <th>LFTM</th>\n",
       "      <th>LFTA</th>\n",
       "      <th>LOR</th>\n",
       "      <th>LDR</th>\n",
       "      <th>LAst</th>\n",
       "      <th>LTO</th>\n",
       "      <th>LStl</th>\n",
       "      <th>LBlk</th>\n",
       "      <th>LPF</th>\n",
       "    </tr>\n",
       "  </thead>\n",
       "  <tbody>\n",
       "    <tr>\n",
       "      <th>0</th>\n",
       "      <td>2003</td>\n",
       "      <td>10</td>\n",
       "      <td>1104</td>\n",
       "      <td>68</td>\n",
       "      <td>1328</td>\n",
       "      <td>62</td>\n",
       "      <td>N</td>\n",
       "      <td>0</td>\n",
       "      <td>27</td>\n",
       "      <td>58</td>\n",
       "      <td>...</td>\n",
       "      <td>10</td>\n",
       "      <td>16</td>\n",
       "      <td>22</td>\n",
       "      <td>10</td>\n",
       "      <td>22</td>\n",
       "      <td>8</td>\n",
       "      <td>18</td>\n",
       "      <td>9</td>\n",
       "      <td>2</td>\n",
       "      <td>20</td>\n",
       "    </tr>\n",
       "    <tr>\n",
       "      <th>1</th>\n",
       "      <td>2003</td>\n",
       "      <td>10</td>\n",
       "      <td>1272</td>\n",
       "      <td>70</td>\n",
       "      <td>1393</td>\n",
       "      <td>63</td>\n",
       "      <td>N</td>\n",
       "      <td>0</td>\n",
       "      <td>26</td>\n",
       "      <td>62</td>\n",
       "      <td>...</td>\n",
       "      <td>24</td>\n",
       "      <td>9</td>\n",
       "      <td>20</td>\n",
       "      <td>20</td>\n",
       "      <td>25</td>\n",
       "      <td>7</td>\n",
       "      <td>12</td>\n",
       "      <td>8</td>\n",
       "      <td>6</td>\n",
       "      <td>16</td>\n",
       "    </tr>\n",
       "    <tr>\n",
       "      <th>2</th>\n",
       "      <td>2003</td>\n",
       "      <td>11</td>\n",
       "      <td>1266</td>\n",
       "      <td>73</td>\n",
       "      <td>1437</td>\n",
       "      <td>61</td>\n",
       "      <td>N</td>\n",
       "      <td>0</td>\n",
       "      <td>24</td>\n",
       "      <td>58</td>\n",
       "      <td>...</td>\n",
       "      <td>26</td>\n",
       "      <td>14</td>\n",
       "      <td>23</td>\n",
       "      <td>31</td>\n",
       "      <td>22</td>\n",
       "      <td>9</td>\n",
       "      <td>12</td>\n",
       "      <td>2</td>\n",
       "      <td>5</td>\n",
       "      <td>23</td>\n",
       "    </tr>\n",
       "    <tr>\n",
       "      <th>3</th>\n",
       "      <td>2003</td>\n",
       "      <td>11</td>\n",
       "      <td>1296</td>\n",
       "      <td>56</td>\n",
       "      <td>1457</td>\n",
       "      <td>50</td>\n",
       "      <td>N</td>\n",
       "      <td>0</td>\n",
       "      <td>18</td>\n",
       "      <td>38</td>\n",
       "      <td>...</td>\n",
       "      <td>22</td>\n",
       "      <td>8</td>\n",
       "      <td>15</td>\n",
       "      <td>17</td>\n",
       "      <td>20</td>\n",
       "      <td>9</td>\n",
       "      <td>19</td>\n",
       "      <td>4</td>\n",
       "      <td>3</td>\n",
       "      <td>23</td>\n",
       "    </tr>\n",
       "    <tr>\n",
       "      <th>4</th>\n",
       "      <td>2003</td>\n",
       "      <td>11</td>\n",
       "      <td>1400</td>\n",
       "      <td>77</td>\n",
       "      <td>1208</td>\n",
       "      <td>71</td>\n",
       "      <td>N</td>\n",
       "      <td>0</td>\n",
       "      <td>30</td>\n",
       "      <td>61</td>\n",
       "      <td>...</td>\n",
       "      <td>16</td>\n",
       "      <td>17</td>\n",
       "      <td>27</td>\n",
       "      <td>21</td>\n",
       "      <td>15</td>\n",
       "      <td>12</td>\n",
       "      <td>10</td>\n",
       "      <td>7</td>\n",
       "      <td>1</td>\n",
       "      <td>14</td>\n",
       "    </tr>\n",
       "  </tbody>\n",
       "</table>\n",
       "<p>5 rows × 34 columns</p>\n",
       "</div>"
      ],
      "text/plain": [
       "   Season  DayNum  WTeamID  WScore  LTeamID  LScore WLoc  NumOT  WFGM  WFGA  \\\n",
       "0    2003      10     1104      68     1328      62    N      0    27    58   \n",
       "1    2003      10     1272      70     1393      63    N      0    26    62   \n",
       "2    2003      11     1266      73     1437      61    N      0    24    58   \n",
       "3    2003      11     1296      56     1457      50    N      0    18    38   \n",
       "4    2003      11     1400      77     1208      71    N      0    30    61   \n",
       "\n",
       "   ...  LFGA3  LFTM  LFTA  LOR  LDR  LAst  LTO  LStl  LBlk  LPF  \n",
       "0  ...     10    16    22   10   22     8   18     9     2   20  \n",
       "1  ...     24     9    20   20   25     7   12     8     6   16  \n",
       "2  ...     26    14    23   31   22     9   12     2     5   23  \n",
       "3  ...     22     8    15   17   20     9   19     4     3   23  \n",
       "4  ...     16    17    27   21   15    12   10     7     1   14  \n",
       "\n",
       "[5 rows x 34 columns]"
      ]
     },
     "execution_count": 4,
     "metadata": {},
     "output_type": "execute_result"
    }
   ],
   "source": [
    "file_path = given_data_folder + '/' + file_name \n",
    "given_df  = pd.read_csv(file_path)\n",
    "print(len(given_df))\n",
    "\n",
    "given_df.head(5)"
   ]
  },
  {
   "cell_type": "markdown",
   "id": "9c6433ab",
   "metadata": {},
   "source": [
    "# Testing With The Network"
   ]
  },
  {
   "cell_type": "code",
   "execution_count": 5,
   "id": "6c46e50d",
   "metadata": {},
   "outputs": [],
   "source": [
    "import sys\n",
    "sys.path.append(\"..\")"
   ]
  },
  {
   "cell_type": "code",
   "execution_count": 6,
   "id": "332c1ac2",
   "metadata": {},
   "outputs": [],
   "source": [
    "import random\n",
    "import time\n",
    "import threading\n",
    "import math\n",
    "\n",
    "from copy import deepcopy"
   ]
  },
  {
   "cell_type": "code",
   "execution_count": 7,
   "id": "21bdd280",
   "metadata": {},
   "outputs": [],
   "source": [
    "from network_classes.neuron      import Neuron\n",
    "from network_classes.agent       import Agent\n",
    "from network_classes.population  import Population\n",
    "\n",
    "from network_classes.data_prep     import *\n",
    "from network_classes.testingreport import TestingReport\n",
    "\n",
    "\n",
    "from extra.progress_package import *"
   ]
  },
  {
   "cell_type": "markdown",
   "id": "29bd5e8a",
   "metadata": {},
   "source": [
    "# Get each teams stats from a given season"
   ]
  },
  {
   "cell_type": "markdown",
   "id": "0b305617",
   "metadata": {},
   "source": [
    "### 2021 season"
   ]
  },
  {
   "cell_type": "code",
   "execution_count": 8,
   "id": "a2056230",
   "metadata": {},
   "outputs": [],
   "source": [
    "game_solutions_2021, team_dictionary_2021, headers_2021 = stats_for_season(given_df, 2021, print_report=False)"
   ]
  },
  {
   "cell_type": "markdown",
   "id": "887cc833",
   "metadata": {},
   "source": [
    "### 2022 season"
   ]
  },
  {
   "cell_type": "code",
   "execution_count": 9,
   "id": "83fc3f53",
   "metadata": {},
   "outputs": [
    {
     "name": "stdout",
     "output_type": "stream",
     "text": [
      "data size: \n",
      "-----------\n",
      "number of games for 2022 season:  3736 \n",
      "number of columns in base data:   34 \n",
      "number of rows:                   3736 \n",
      "\n",
      "\n",
      "column titles and indicis: \n",
      "---------------------------\n",
      "  0: Season      1: DayNum      2: WTeamID     3: WScore      4: LTeamID     5: LScore      6: WLoc      \n",
      "  7: NumOT       8: WFGM        9: WFGA       10: WFGM3      11: WFGA3      12: WFTM       13: WFTA      \n",
      " 14: WOR        15: WDR        16: WAst       17: WTO        18: WStl       19: WBlk       20: WPF       \n",
      " 21: LFGM       22: LFGA       23: LFGM3      24: LFGA3      25: LFTM       26: LFTA       27: LOR       \n",
      " 28: LDR        29: LAst       30: LTO        31: LStl       32: LBlk       33: LPF       \n",
      "\n",
      "\n",
      "base stats report: \n",
      "-------------------\n",
      "game_solutions length:    3736 games\n",
      "team_dictionary length:    358 teams\n",
      "\n",
      "team_dictionary[team_id] = [# of games played, [stats FOR totals], [stats AGAINST totals]]\n",
      "\n",
      "\n",
      "example row:    \n",
      "------------- \n",
      "\n",
      "  number of games played by team: 23 \n",
      "\n",
      "   id     FGM    FGA   FGM3   FGA3    FTM    FTA     OR     DR    Ast     TO    Stl    Blk     PF   \n",
      " 0.75: [26.26, 27.88, 18.29, 22.01,  15.5, 16.12, 18.32, 23.36, 18.86, 18.92, 14.12, 10.92, 21.26] - 13 values \n",
      "\n",
      "   id    xFGM   xFGA  xFGM3  xFGA3   xFTM   xFTA    xOR    xDR   xAst    xTO   xStl   xBlk    xPF   \n",
      " 0.75: [26.46, 27.58,  17.0, 19.79, 16.15, 16.83, 15.88, 22.98, 17.77, 17.24, 14.97,  8.56, 20.39] - 13 values\n"
     ]
    }
   ],
   "source": [
    "game_solutions_2022, team_dictionary_2022, headers_2022 = stats_for_season(given_df, 2022, print_report=True)"
   ]
  },
  {
   "cell_type": "markdown",
   "id": "4a997114",
   "metadata": {},
   "source": [
    "## base stats with FOR and AGAINST"
   ]
  },
  {
   "cell_type": "markdown",
   "id": "1b933e82",
   "metadata": {},
   "source": [
    "### 2021"
   ]
  },
  {
   "cell_type": "code",
   "execution_count": 10,
   "id": "e4e47595",
   "metadata": {},
   "outputs": [],
   "source": [
    "# get team dictionary using custom stats\n",
    "# ---------------------------------------\n",
    "FA_team_dictionary_2021, FA_headers_list_2021 = for_and_against(team_dictionary_2021)\n",
    "\n",
    "\n",
    "# change team dictionary to averages instead of totals\n",
    "# -----------------------------------------------------\n",
    "FA_team_averages_2021 = team_totals_to_averages(FA_team_dictionary_2021, FA_headers_list_2021, print_report=False)\n",
    "\n",
    "\n",
    "# prepare the final input and solution data\n",
    "# ------------------------------------------\n",
    "FA_inputs_2021, FA_solutions_2021 = prep_inputs_and_solutions(FA_team_averages_2021, game_solutions_2021)\n",
    "\n",
    "\n",
    "# set up final inputs and solutions\n",
    "# ----------------------------------\n",
    "inputs_2021    = FA_inputs_2021\n",
    "solutions_2021 = FA_solutions_2021"
   ]
  },
  {
   "cell_type": "markdown",
   "id": "4c7339dd",
   "metadata": {},
   "source": [
    "### 2022"
   ]
  },
  {
   "cell_type": "code",
   "execution_count": 11,
   "id": "8f2dd13f",
   "metadata": {},
   "outputs": [],
   "source": [
    "# get team dictionary using custom stats\n",
    "# ---------------------------------------\n",
    "FA_team_dictionary_2022, FA_headers_list_2022 = for_and_against(team_dictionary_2022)\n",
    "\n",
    "\n",
    "# change team dictionary to averages instead of totals\n",
    "# -----------------------------------------------------\n",
    "FA_team_averages_2022 = team_totals_to_averages(FA_team_dictionary_2022, FA_headers_list_2022)\n",
    "\n",
    "\n",
    "# prepare the final input and solution data\n",
    "# ------------------------------------------\n",
    "FA_inputs_2022, FA_solutions_2022 = prep_inputs_and_solutions(FA_team_averages_2022, game_solutions_2022)\n",
    "\n",
    "\n",
    "# set up final inputs and solutions\n",
    "# ----------------------------------\n",
    "inputs_2022    = FA_inputs_2022\n",
    "solutions_2022 = FA_solutions_2022"
   ]
  },
  {
   "cell_type": "markdown",
   "id": "49eeb0ee",
   "metadata": {},
   "source": [
    "# Random Tests"
   ]
  },
  {
   "cell_type": "code",
   "execution_count": 12,
   "id": "b8030747",
   "metadata": {},
   "outputs": [],
   "source": [
    "import numpy as np"
   ]
  },
  {
   "cell_type": "code",
   "execution_count": 13,
   "id": "1f22db58",
   "metadata": {},
   "outputs": [
    {
     "name": "stdout",
     "output_type": "stream",
     "text": [
      "[1.1, 2.2, 3.3]\n",
      "[1.1 2.2 3.3]\n",
      "[0.88 1.76 2.64]\n"
     ]
    }
   ],
   "source": [
    "list_1 = [1.1,2.2,3.3]\n",
    "list_2 = np.asarray(list_1)\n",
    "\n",
    "list_3 = np.multiply(list_2, 0.8)\n",
    "\n",
    "print(list_1)\n",
    "print(list_2)\n",
    "print(list_3)\n"
   ]
  },
  {
   "cell_type": "code",
   "execution_count": 14,
   "id": "0154036b",
   "metadata": {},
   "outputs": [],
   "source": [
    "#3220*7472\n",
    "# 10*161*7472 = 12_029_920\n",
    "# 10*322*7472 = 24_059_840"
   ]
  },
  {
   "cell_type": "markdown",
   "id": "0126ccb0",
   "metadata": {},
   "source": [
    "## Testing with splitting the input data into 10 parts"
   ]
  },
  {
   "cell_type": "code",
   "execution_count": 15,
   "id": "2fd5e7d3",
   "metadata": {},
   "outputs": [],
   "source": [
    "''' \n",
    "split_count = 10\n",
    "\n",
    "inputs_splits = []\n",
    "solutions_splits = []\n",
    "\n",
    "for i in range(split_count):\n",
    "    actual_length = len(inputs) // 2\n",
    "    split_length  = (actual_length // split_count) * 2\n",
    "    \n",
    "    start_index =  i    * split_length\n",
    "    end_index   = (i+1) * split_length\n",
    "    \n",
    "    inputs_splits.append(    inputs   [start_index:end_index].copy() )\n",
    "    solutions_splits.append( solutions[start_index:end_index].copy() )\n",
    "    \n",
    "    print(len( inputs[start_index:end_index] ))\n",
    "    \n",
    "TEST_inputs = inputs[:2615].copy()\n",
    "TEST_solutions = solutions[:2615].copy()\n",
    "''';"
   ]
  },
  {
   "cell_type": "markdown",
   "id": "8c571ede",
   "metadata": {},
   "source": [
    "# First Test (uses threading)"
   ]
  },
  {
   "cell_type": "markdown",
   "id": "d47a7584",
   "metadata": {},
   "source": [
    "### variables for stat tracking"
   ]
  },
  {
   "cell_type": "markdown",
   "id": "6bcf33e8",
   "metadata": {},
   "source": [
    "### initialize population"
   ]
  },
  {
   "cell_type": "code",
   "execution_count": 16,
   "id": "d7aa52be",
   "metadata": {},
   "outputs": [],
   "source": [
    "TEST_population = Population( len(inputs_2022[0]), 16)\n",
    "\n",
    "for i in range(10):\n",
    "    for agent in TEST_population.agents:\n",
    "        agent.mutate(delete_neurons=True)"
   ]
  },
  {
   "cell_type": "code",
   "execution_count": 17,
   "id": "da9de11f",
   "metadata": {},
   "outputs": [],
   "source": [
    "report_data = [inputs_2021, solutions_2021,\n",
    "               inputs_2022, solutions_2022]\n",
    "\n",
    "#report_data = [inputs_2021[:100], solutions_2021[:100], inputs_2022[:100], solutions_2022[:100]]\n",
    "\n",
    "current_test = TestingReport(TEST_population)"
   ]
  },
  {
   "cell_type": "markdown",
   "id": "1172b703",
   "metadata": {},
   "source": [
    "### Training Loop"
   ]
  },
  {
   "cell_type": "code",
   "execution_count": 18,
   "id": "28fce20c",
   "metadata": {},
   "outputs": [
    {
     "name": "stdout",
     "output_type": "stream",
     "text": [
      "3 180 10800\n"
     ]
    }
   ],
   "source": [
    "train_hours = 3\n",
    "train_minutes = train_hours*60\n",
    "train_seconds = train_minutes*60\n",
    "\n",
    "print(train_hours, train_minutes, train_seconds) #started 5:00 am"
   ]
  },
  {
   "cell_type": "code",
   "execution_count": 31,
   "id": "459c7e3a",
   "metadata": {},
   "outputs": [
    {
     "name": "stdout",
     "output_type": "stream",
     "text": [
      "[##################################################] - 100.0%                                       \n",
      "\n",
      "\n",
      "            current    prev       change  \n",
      "            --------   --------   --------\n",
      "timer        793.52s    191.18s    602.34s\n",
      "steps            41          9         32 \n",
      "steps/sec      0.05       0.05       0.05 \n",
      "secs/step     18.82s     19.39s     18.82s\n",
      "evolu time     0.93s      0.22s      0.71s\n",
      "score time   792.53s    190.90s    601.63s\n",
      "            --------   --------   --------\n",
      "conf score      650        453        196 \n",
      "base score     2153       2109         44 \n",
      "accuracy      57.63%     56.45%      1.18%\n",
      "\n",
      "\t\t\n",
      "id - [ c r, nc r, nc w,  c w] | ovrl | score |  conf | weight  (650)\n",
      "--------------------------------------------------------------\n",
      " 0 - [1794,  356,  376, 1210] | 2150 |   650 |   914 |   -265 \n",
      " 1 - [ 794, 1082, 1074,  786] | 1876 |  -238 |    22 |   -260 \n",
      " 2 - [1484,  610,  528, 1114] | 2094 |   415 |   687 |   -272 \n",
      " 3 - [ 107, 1782, 1742,  105] | 1889 |  -227 |    42 |   -269 \n",
      " 4 - [1580,  485,  422, 1249] | 2065 |   346 |   605 |   -260 \n",
      " 5 - [   0, 2057, 1679,    0] | 2057 |   136 |   380 |   -244 \n",
      " 6 - [1508,  645,  590,  993] | 2153 |   604 |   894 |   -291 \n",
      " 7 - [ 539, 1264, 1380,  553] | 1803 |  -402 |  -136 |   -266 \n",
      " 8 - [   7, 2084, 1638,    7] | 2091 |   171 |   448 |   -276 \n",
      " 9 - [1122,  850,  738, 1026] | 1972 |     6 |   280 |   -274 \n",
      "10 - [ 697, 1235, 1142,  662] | 1932 |  -118 |   150 |   -268 \n",
      "11 - [ 596, 1370, 1194,  576] | 1966 |   -61 |   206 |   -266 \n",
      "12 - [   0, 2070, 1666,    0] | 2070 |   113 |   404 |   -291 \n",
      "13 - [1402,  457,  432, 1445] | 1859 |  -327 |   -45 |   -282 \n",
      "14 - [1529,  615,  519, 1073] | 2144 |   552 |   830 |   -279 \n",
      "15 - [  30, 1952, 1728,   26] | 1982 |   -53 |   228 |   -282 \n",
      "\n",
      "\n",
      "            time     % total\n",
      "            -------  -------\n",
      "total       792.53s\n",
      "calc val    138.82s   17.52%\n",
      "send time   454.52s   57.35%\n",
      "set time     19.17s    2.42%\n",
      "inv tanh      3.11s    0.39%\n",
      "weight        0.02s     0.0%\n",
      "            -------  -------\n",
      "acc for     615.64s   77.68%\n",
      "            -------  -------\n",
      "thread time 792.53s   100.0%\n",
      "creating         0s     0.0%\n",
      "starting         0s     0.0%\n",
      "joining          0s     0.0%\n",
      "\n",
      "\n",
      "format:\n",
      "\n",
      " # neurons    |  avg conn weight     \n",
      " ------------ |  ---------------     \n",
      " average from |  (# to, # from)  \n",
      "\n",
      "\n",
      "  26 |   1.67   0.55   0.86  -0.82   0.36  -0.22  -1.20   0.35   0.39  -0.73   0.07   0.88   0.06   0.16 \n",
      " 4.2 |  (1,2)  (1,3)  (1,3)  (1,1)  (1,4)  (1,4)  (1,5)  (1,2)  (1,3)  (1,7)  (1,2)  (1,1)  (1,9)  (1,9) \n",
      "      \n",
      "  18 |   1.42   0.05   1.24  -0.18   0.93  -0.24   0.77  -0.24  -0.52   0.26  -1.02  -0.41  -0.45  -0.01 \n",
      " 3.4 |  (8,1)  (5,2)  (4,2)  (9,1)  (8,5)  (6,2)  (7,9)  (8,3)  (9,2)  (6,7)  (5,1)  (8,7)  (7,1)  (5,4) \n",
      "      \n",
      "  18 |   0.82  -0.69  -0.08  -0.39  -1.44  -0.86   0.16  -0.29  -0.76   0.42  -0.47  -0.26  -0.21   0.95 \n",
      " 2.9 |  (6,1)  (4,1)  (4,1)  (8,4)  (5,1)  (1,4)  (3,3)  (4,4)  (2,3)  (2,3)  (5,2)  (3,1)  (2,8)  (4,2) \n",
      "      \n",
      "  14 |  -1.74   0.95   2.67   1.39   1.89   1.06   2.63   2.21   0.10  -1.16  -1.60   0.48  -1.52   0.18 \n",
      " 1.0 |  (6,1)  (3,1)  (6,1)  (3,1)  (5,1)  (4,1)  (3,1)  (2,1)  (4,1)  (2,1)  (2,1)  (6,1)  (2,1)  (5,1) \n",
      "      \n",
      "   1 |   0.00 \n",
      " 0.0 | (14,0) \n",
      "      \n",
      "\n",
      "5 layers, 77 neurons, 239 connections\n"
     ]
    }
   ],
   "source": [
    "testing_time = 600 # (in seconds)\n",
    "\n",
    "current_test.run_test(testing_time, report_data)\n",
    "\n",
    "current_test.print_report()\n",
    "print()\n",
    "current_test.scoring_time_report()\n",
    "print()\n",
    "current_test.print_top_agent()"
   ]
  },
  {
   "cell_type": "code",
   "execution_count": 32,
   "id": "c3cf1b6e",
   "metadata": {},
   "outputs": [
    {
     "name": "stdout",
     "output_type": "stream",
     "text": [
      "\n",
      "\n",
      "            current    prev       change  \n",
      "            --------   --------   --------\n",
      "timer        793.52s    191.18s    602.34s\n",
      "steps            41          9         32 \n",
      "steps/sec      0.05       0.05       0.05 \n",
      "secs/step     18.82s     19.39s     18.82s\n",
      "evolu time     0.93s      0.22s      0.71s\n",
      "score time   792.53s    190.90s    601.63s\n",
      "            --------   --------   --------\n",
      "conf score      650        453        196 \n",
      "base score     2153       2109         44 \n",
      "accuracy      57.63%     56.45%      1.18%\n",
      "\n",
      "\t\t\n",
      "id - [ c r, nc r, nc w,  c w] | ovrl | score |  conf | weight  (650)\n",
      "--------------------------------------------------------------\n",
      " 0 - [1794,  356,  376, 1210] | 2150 |   650 |   914 |   -265 \n",
      " 1 - [ 794, 1082, 1074,  786] | 1876 |  -238 |    22 |   -260 \n",
      " 2 - [1484,  610,  528, 1114] | 2094 |   415 |   687 |   -272 \n",
      " 3 - [ 107, 1782, 1742,  105] | 1889 |  -227 |    42 |   -269 \n",
      " 4 - [1580,  485,  422, 1249] | 2065 |   346 |   605 |   -260 \n",
      " 5 - [   0, 2057, 1679,    0] | 2057 |   136 |   380 |   -244 \n",
      " 6 - [1508,  645,  590,  993] | 2153 |   604 |   894 |   -291 \n",
      " 7 - [ 539, 1264, 1380,  553] | 1803 |  -402 |  -136 |   -266 \n",
      " 8 - [   7, 2084, 1638,    7] | 2091 |   171 |   448 |   -276 \n",
      " 9 - [1122,  850,  738, 1026] | 1972 |     6 |   280 |   -274 \n",
      "10 - [ 697, 1235, 1142,  662] | 1932 |  -118 |   150 |   -268 \n",
      "11 - [ 596, 1370, 1194,  576] | 1966 |   -61 |   206 |   -266 \n",
      "12 - [   0, 2070, 1666,    0] | 2070 |   113 |   404 |   -291 \n",
      "13 - [1402,  457,  432, 1445] | 1859 |  -327 |   -45 |   -282 \n",
      "14 - [1529,  615,  519, 1073] | 2144 |   552 |   830 |   -279 \n",
      "15 - [  30, 1952, 1728,   26] | 1982 |   -53 |   228 |   -282 \n"
     ]
    }
   ],
   "source": [
    "current_test.print_report()"
   ]
  },
  {
   "cell_type": "code",
   "execution_count": 33,
   "id": "c672ec36",
   "metadata": {},
   "outputs": [
    {
     "data": {
      "text/plain": [
       "508"
      ]
     },
     "execution_count": 33,
     "metadata": {},
     "output_type": "execute_result"
    }
   ],
   "source": [
    "TEST_population.num_calculations"
   ]
  },
  {
   "cell_type": "code",
   "execution_count": 34,
   "id": "53608330",
   "metadata": {
    "scrolled": true
   },
   "outputs": [
    {
     "name": "stdout",
     "output_type": "stream",
     "text": [
      "41 steps\n",
      "\n",
      "                        kB          neurons     avg size\n",
      "                        --------    --------    --------\n",
      "layer[0]                   11.66          26        0.45 \n",
      "layer[1]                    7.45          18        0.41 \n",
      "layer[2]                    7.17          18         0.4 \n",
      "layer[3]                    4.65          14        0.33 \n",
      "layer[4]                    0.25           1        0.25 \n",
      "\n",
      "\n",
      "                        kB          mB\n",
      "                        --------    --------\n",
      "total_size                  31.5        0.03\n",
      "\n"
     ]
    }
   ],
   "source": [
    "current_test.size_report(all_attributes=False)"
   ]
  },
  {
   "cell_type": "code",
   "execution_count": null,
   "id": "183785db",
   "metadata": {},
   "outputs": [],
   "source": []
  }
 ],
 "metadata": {
  "kernelspec": {
   "display_name": "Python 3 (ipykernel)",
   "language": "python",
   "name": "python3"
  },
  "language_info": {
   "codemirror_mode": {
    "name": "ipython",
    "version": 3
   },
   "file_extension": ".py",
   "mimetype": "text/x-python",
   "name": "python",
   "nbconvert_exporter": "python",
   "pygments_lexer": "ipython3",
   "version": "3.8.8"
  }
 },
 "nbformat": 4,
 "nbformat_minor": 5
}
