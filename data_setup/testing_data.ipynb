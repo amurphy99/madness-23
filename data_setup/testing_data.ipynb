{
 "cells": [
  {
   "cell_type": "code",
   "execution_count": 1,
   "id": "32c631a3",
   "metadata": {},
   "outputs": [],
   "source": [
    "import pandas as pd #1\n",
    "import datetime     #2\n",
    "import os           #3"
   ]
  },
  {
   "cell_type": "code",
   "execution_count": 2,
   "id": "78367933",
   "metadata": {},
   "outputs": [
    {
     "data": {
      "text/plain": [
       "['MRegularSeasonDetailedResults.csv', 'bracket-2022.csv']"
      ]
     },
     "execution_count": 2,
     "metadata": {},
     "output_type": "execute_result"
    }
   ],
   "source": [
    "given_data_folder = 'data'\n",
    "\n",
    "file_names = os.listdir(given_data_folder)\n",
    "file_names.sort()\n",
    "file_names"
   ]
  },
  {
   "cell_type": "code",
   "execution_count": 3,
   "id": "33480836",
   "metadata": {},
   "outputs": [],
   "source": [
    "file_name = 'MRegularSeasonDetailedResults.csv'"
   ]
  },
  {
   "cell_type": "code",
   "execution_count": 4,
   "id": "8d04fc89",
   "metadata": {},
   "outputs": [
    {
     "name": "stdout",
     "output_type": "stream",
     "text": [
      "100423\n"
     ]
    },
    {
     "data": {
      "text/html": [
       "<div>\n",
       "<style scoped>\n",
       "    .dataframe tbody tr th:only-of-type {\n",
       "        vertical-align: middle;\n",
       "    }\n",
       "\n",
       "    .dataframe tbody tr th {\n",
       "        vertical-align: top;\n",
       "    }\n",
       "\n",
       "    .dataframe thead th {\n",
       "        text-align: right;\n",
       "    }\n",
       "</style>\n",
       "<table border=\"1\" class=\"dataframe\">\n",
       "  <thead>\n",
       "    <tr style=\"text-align: right;\">\n",
       "      <th></th>\n",
       "      <th>Season</th>\n",
       "      <th>DayNum</th>\n",
       "      <th>WTeamID</th>\n",
       "      <th>WScore</th>\n",
       "      <th>LTeamID</th>\n",
       "      <th>LScore</th>\n",
       "      <th>WLoc</th>\n",
       "      <th>NumOT</th>\n",
       "      <th>WFGM</th>\n",
       "      <th>WFGA</th>\n",
       "      <th>...</th>\n",
       "      <th>LFGA3</th>\n",
       "      <th>LFTM</th>\n",
       "      <th>LFTA</th>\n",
       "      <th>LOR</th>\n",
       "      <th>LDR</th>\n",
       "      <th>LAst</th>\n",
       "      <th>LTO</th>\n",
       "      <th>LStl</th>\n",
       "      <th>LBlk</th>\n",
       "      <th>LPF</th>\n",
       "    </tr>\n",
       "  </thead>\n",
       "  <tbody>\n",
       "    <tr>\n",
       "      <th>0</th>\n",
       "      <td>2003</td>\n",
       "      <td>10</td>\n",
       "      <td>1104</td>\n",
       "      <td>68</td>\n",
       "      <td>1328</td>\n",
       "      <td>62</td>\n",
       "      <td>N</td>\n",
       "      <td>0</td>\n",
       "      <td>27</td>\n",
       "      <td>58</td>\n",
       "      <td>...</td>\n",
       "      <td>10</td>\n",
       "      <td>16</td>\n",
       "      <td>22</td>\n",
       "      <td>10</td>\n",
       "      <td>22</td>\n",
       "      <td>8</td>\n",
       "      <td>18</td>\n",
       "      <td>9</td>\n",
       "      <td>2</td>\n",
       "      <td>20</td>\n",
       "    </tr>\n",
       "    <tr>\n",
       "      <th>1</th>\n",
       "      <td>2003</td>\n",
       "      <td>10</td>\n",
       "      <td>1272</td>\n",
       "      <td>70</td>\n",
       "      <td>1393</td>\n",
       "      <td>63</td>\n",
       "      <td>N</td>\n",
       "      <td>0</td>\n",
       "      <td>26</td>\n",
       "      <td>62</td>\n",
       "      <td>...</td>\n",
       "      <td>24</td>\n",
       "      <td>9</td>\n",
       "      <td>20</td>\n",
       "      <td>20</td>\n",
       "      <td>25</td>\n",
       "      <td>7</td>\n",
       "      <td>12</td>\n",
       "      <td>8</td>\n",
       "      <td>6</td>\n",
       "      <td>16</td>\n",
       "    </tr>\n",
       "    <tr>\n",
       "      <th>2</th>\n",
       "      <td>2003</td>\n",
       "      <td>11</td>\n",
       "      <td>1266</td>\n",
       "      <td>73</td>\n",
       "      <td>1437</td>\n",
       "      <td>61</td>\n",
       "      <td>N</td>\n",
       "      <td>0</td>\n",
       "      <td>24</td>\n",
       "      <td>58</td>\n",
       "      <td>...</td>\n",
       "      <td>26</td>\n",
       "      <td>14</td>\n",
       "      <td>23</td>\n",
       "      <td>31</td>\n",
       "      <td>22</td>\n",
       "      <td>9</td>\n",
       "      <td>12</td>\n",
       "      <td>2</td>\n",
       "      <td>5</td>\n",
       "      <td>23</td>\n",
       "    </tr>\n",
       "    <tr>\n",
       "      <th>3</th>\n",
       "      <td>2003</td>\n",
       "      <td>11</td>\n",
       "      <td>1296</td>\n",
       "      <td>56</td>\n",
       "      <td>1457</td>\n",
       "      <td>50</td>\n",
       "      <td>N</td>\n",
       "      <td>0</td>\n",
       "      <td>18</td>\n",
       "      <td>38</td>\n",
       "      <td>...</td>\n",
       "      <td>22</td>\n",
       "      <td>8</td>\n",
       "      <td>15</td>\n",
       "      <td>17</td>\n",
       "      <td>20</td>\n",
       "      <td>9</td>\n",
       "      <td>19</td>\n",
       "      <td>4</td>\n",
       "      <td>3</td>\n",
       "      <td>23</td>\n",
       "    </tr>\n",
       "    <tr>\n",
       "      <th>4</th>\n",
       "      <td>2003</td>\n",
       "      <td>11</td>\n",
       "      <td>1400</td>\n",
       "      <td>77</td>\n",
       "      <td>1208</td>\n",
       "      <td>71</td>\n",
       "      <td>N</td>\n",
       "      <td>0</td>\n",
       "      <td>30</td>\n",
       "      <td>61</td>\n",
       "      <td>...</td>\n",
       "      <td>16</td>\n",
       "      <td>17</td>\n",
       "      <td>27</td>\n",
       "      <td>21</td>\n",
       "      <td>15</td>\n",
       "      <td>12</td>\n",
       "      <td>10</td>\n",
       "      <td>7</td>\n",
       "      <td>1</td>\n",
       "      <td>14</td>\n",
       "    </tr>\n",
       "  </tbody>\n",
       "</table>\n",
       "<p>5 rows × 34 columns</p>\n",
       "</div>"
      ],
      "text/plain": [
       "   Season  DayNum  WTeamID  WScore  LTeamID  LScore WLoc  NumOT  WFGM  WFGA  \\\n",
       "0    2003      10     1104      68     1328      62    N      0    27    58   \n",
       "1    2003      10     1272      70     1393      63    N      0    26    62   \n",
       "2    2003      11     1266      73     1437      61    N      0    24    58   \n",
       "3    2003      11     1296      56     1457      50    N      0    18    38   \n",
       "4    2003      11     1400      77     1208      71    N      0    30    61   \n",
       "\n",
       "   ...  LFGA3  LFTM  LFTA  LOR  LDR  LAst  LTO  LStl  LBlk  LPF  \n",
       "0  ...     10    16    22   10   22     8   18     9     2   20  \n",
       "1  ...     24     9    20   20   25     7   12     8     6   16  \n",
       "2  ...     26    14    23   31   22     9   12     2     5   23  \n",
       "3  ...     22     8    15   17   20     9   19     4     3   23  \n",
       "4  ...     16    17    27   21   15    12   10     7     1   14  \n",
       "\n",
       "[5 rows x 34 columns]"
      ]
     },
     "execution_count": 4,
     "metadata": {},
     "output_type": "execute_result"
    }
   ],
   "source": [
    "file_path = given_data_folder + '/' + file_name \n",
    "given_df  = pd.read_csv(file_path)\n",
    "print(len(given_df))\n",
    "\n",
    "given_df.head(5)"
   ]
  },
  {
   "cell_type": "markdown",
   "id": "fb5549eb",
   "metadata": {},
   "source": [
    "## get only games from 2022 season"
   ]
  },
  {
   "cell_type": "code",
   "execution_count": 5,
   "id": "96ab14ef",
   "metadata": {},
   "outputs": [
    {
     "name": "stdout",
     "output_type": "stream",
     "text": [
      "3736\n"
     ]
    },
    {
     "data": {
      "text/html": [
       "<div>\n",
       "<style scoped>\n",
       "    .dataframe tbody tr th:only-of-type {\n",
       "        vertical-align: middle;\n",
       "    }\n",
       "\n",
       "    .dataframe tbody tr th {\n",
       "        vertical-align: top;\n",
       "    }\n",
       "\n",
       "    .dataframe thead th {\n",
       "        text-align: right;\n",
       "    }\n",
       "</style>\n",
       "<table border=\"1\" class=\"dataframe\">\n",
       "  <thead>\n",
       "    <tr style=\"text-align: right;\">\n",
       "      <th></th>\n",
       "      <th>Season</th>\n",
       "      <th>DayNum</th>\n",
       "      <th>WTeamID</th>\n",
       "      <th>WScore</th>\n",
       "      <th>LTeamID</th>\n",
       "      <th>LScore</th>\n",
       "      <th>WLoc</th>\n",
       "      <th>NumOT</th>\n",
       "      <th>WFGM</th>\n",
       "      <th>WFGA</th>\n",
       "      <th>...</th>\n",
       "      <th>LFGA3</th>\n",
       "      <th>LFTM</th>\n",
       "      <th>LFTA</th>\n",
       "      <th>LOR</th>\n",
       "      <th>LDR</th>\n",
       "      <th>LAst</th>\n",
       "      <th>LTO</th>\n",
       "      <th>LStl</th>\n",
       "      <th>LBlk</th>\n",
       "      <th>LPF</th>\n",
       "    </tr>\n",
       "  </thead>\n",
       "  <tbody>\n",
       "    <tr>\n",
       "      <th>96687</th>\n",
       "      <td>2022</td>\n",
       "      <td>8</td>\n",
       "      <td>1104</td>\n",
       "      <td>93</td>\n",
       "      <td>1256</td>\n",
       "      <td>64</td>\n",
       "      <td>H</td>\n",
       "      <td>0</td>\n",
       "      <td>32</td>\n",
       "      <td>64</td>\n",
       "      <td>...</td>\n",
       "      <td>26</td>\n",
       "      <td>6</td>\n",
       "      <td>19</td>\n",
       "      <td>14</td>\n",
       "      <td>20</td>\n",
       "      <td>11</td>\n",
       "      <td>10</td>\n",
       "      <td>3</td>\n",
       "      <td>1</td>\n",
       "      <td>18</td>\n",
       "    </tr>\n",
       "    <tr>\n",
       "      <th>96688</th>\n",
       "      <td>2022</td>\n",
       "      <td>8</td>\n",
       "      <td>1105</td>\n",
       "      <td>82</td>\n",
       "      <td>1398</td>\n",
       "      <td>73</td>\n",
       "      <td>H</td>\n",
       "      <td>0</td>\n",
       "      <td>31</td>\n",
       "      <td>71</td>\n",
       "      <td>...</td>\n",
       "      <td>27</td>\n",
       "      <td>2</td>\n",
       "      <td>5</td>\n",
       "      <td>14</td>\n",
       "      <td>27</td>\n",
       "      <td>12</td>\n",
       "      <td>14</td>\n",
       "      <td>5</td>\n",
       "      <td>2</td>\n",
       "      <td>16</td>\n",
       "    </tr>\n",
       "    <tr>\n",
       "      <th>96689</th>\n",
       "      <td>2022</td>\n",
       "      <td>8</td>\n",
       "      <td>1110</td>\n",
       "      <td>77</td>\n",
       "      <td>1265</td>\n",
       "      <td>73</td>\n",
       "      <td>H</td>\n",
       "      <td>1</td>\n",
       "      <td>27</td>\n",
       "      <td>59</td>\n",
       "      <td>...</td>\n",
       "      <td>19</td>\n",
       "      <td>7</td>\n",
       "      <td>12</td>\n",
       "      <td>10</td>\n",
       "      <td>26</td>\n",
       "      <td>5</td>\n",
       "      <td>15</td>\n",
       "      <td>6</td>\n",
       "      <td>3</td>\n",
       "      <td>20</td>\n",
       "    </tr>\n",
       "    <tr>\n",
       "      <th>96690</th>\n",
       "      <td>2022</td>\n",
       "      <td>8</td>\n",
       "      <td>1112</td>\n",
       "      <td>81</td>\n",
       "      <td>1319</td>\n",
       "      <td>52</td>\n",
       "      <td>H</td>\n",
       "      <td>0</td>\n",
       "      <td>28</td>\n",
       "      <td>69</td>\n",
       "      <td>...</td>\n",
       "      <td>16</td>\n",
       "      <td>9</td>\n",
       "      <td>17</td>\n",
       "      <td>11</td>\n",
       "      <td>28</td>\n",
       "      <td>11</td>\n",
       "      <td>20</td>\n",
       "      <td>3</td>\n",
       "      <td>1</td>\n",
       "      <td>22</td>\n",
       "    </tr>\n",
       "    <tr>\n",
       "      <th>96691</th>\n",
       "      <td>2022</td>\n",
       "      <td>8</td>\n",
       "      <td>1113</td>\n",
       "      <td>76</td>\n",
       "      <td>1339</td>\n",
       "      <td>60</td>\n",
       "      <td>H</td>\n",
       "      <td>0</td>\n",
       "      <td>31</td>\n",
       "      <td>66</td>\n",
       "      <td>...</td>\n",
       "      <td>24</td>\n",
       "      <td>10</td>\n",
       "      <td>11</td>\n",
       "      <td>2</td>\n",
       "      <td>22</td>\n",
       "      <td>10</td>\n",
       "      <td>21</td>\n",
       "      <td>9</td>\n",
       "      <td>1</td>\n",
       "      <td>14</td>\n",
       "    </tr>\n",
       "  </tbody>\n",
       "</table>\n",
       "<p>5 rows × 34 columns</p>\n",
       "</div>"
      ],
      "text/plain": [
       "       Season  DayNum  WTeamID  WScore  LTeamID  LScore WLoc  NumOT  WFGM  \\\n",
       "96687    2022       8     1104      93     1256      64    H      0    32   \n",
       "96688    2022       8     1105      82     1398      73    H      0    31   \n",
       "96689    2022       8     1110      77     1265      73    H      1    27   \n",
       "96690    2022       8     1112      81     1319      52    H      0    28   \n",
       "96691    2022       8     1113      76     1339      60    H      0    31   \n",
       "\n",
       "       WFGA  ...  LFGA3  LFTM  LFTA  LOR  LDR  LAst  LTO  LStl  LBlk  LPF  \n",
       "96687    64  ...     26     6    19   14   20    11   10     3     1   18  \n",
       "96688    71  ...     27     2     5   14   27    12   14     5     2   16  \n",
       "96689    59  ...     19     7    12   10   26     5   15     6     3   20  \n",
       "96690    69  ...     16     9    17   11   28    11   20     3     1   22  \n",
       "96691    66  ...     24    10    11    2   22    10   21     9     1   14  \n",
       "\n",
       "[5 rows x 34 columns]"
      ]
     },
     "execution_count": 5,
     "metadata": {},
     "output_type": "execute_result"
    }
   ],
   "source": [
    "given_df = given_df[given_df.Season == 2022]\n",
    "print(len(given_df))\n",
    "\n",
    "given_df.head(5)"
   ]
  },
  {
   "cell_type": "markdown",
   "id": "15612d3d",
   "metadata": {},
   "source": [
    "## change from df to just a list of columns"
   ]
  },
  {
   "cell_type": "code",
   "execution_count": 6,
   "id": "2a86e5ab",
   "metadata": {},
   "outputs": [
    {
     "data": {
      "text/plain": [
       "34"
      ]
     },
     "execution_count": 6,
     "metadata": {},
     "output_type": "execute_result"
    }
   ],
   "source": [
    "# Creates list of the column names from the df\n",
    "columns = given_df.columns.tolist()\n",
    "\n",
    "# Creates list of the columns\n",
    "df_columns = []\n",
    "for expected_column in columns:\n",
    "    temp = given_df[expected_column].tolist()\n",
    "    df_columns.append(temp)\n",
    "    \n",
    "len(df_columns)"
   ]
  },
  {
   "cell_type": "code",
   "execution_count": 7,
   "id": "dffae6c8",
   "metadata": {},
   "outputs": [
    {
     "data": {
      "text/plain": [
       "3736"
      ]
     },
     "execution_count": 7,
     "metadata": {},
     "output_type": "execute_result"
    }
   ],
   "source": [
    "# Make a list of rows too\n",
    "df_rows = []\n",
    "\n",
    "for i in range(len(df_columns[0])):\n",
    "    new_row = []\n",
    "    \n",
    "    for j in range(len(df_columns)):\n",
    "        new_row.append(df_columns[j][i])\n",
    "    \n",
    "    df_rows.append(new_row)\n",
    "\n",
    "len(df_rows)"
   ]
  },
  {
   "cell_type": "code",
   "execution_count": 8,
   "id": "065bf14e",
   "metadata": {},
   "outputs": [
    {
     "name": "stdout",
     "output_type": "stream",
     "text": [
      "  0: Season      1: DayNum      2: WTeamID     3: WScore      4: LTeamID     5: LScore      6: WLoc      \n",
      "  7: NumOT       8: WFGM        9: WFGA       10: WFGM3      11: WFGA3      12: WFTM       13: WFTA      \n",
      " 14: WOR        15: WDR        16: WAst       17: WTO        18: WStl       19: WBlk       20: WPF       \n",
      " 21: LFGM       22: LFGA       23: LFGM3      24: LFGA3      25: LFTM       26: LFTA       27: LOR       \n",
      " 28: LDR        29: LAst       30: LTO        31: LStl       32: LBlk       33: LPF       \n"
     ]
    }
   ],
   "source": [
    "row   = \"\"\n",
    "count = 0\n",
    "for i in range(len(columns)):\n",
    "    temp   = \"{:>3}: {}\".format(i, columns[i])\n",
    "    row   += \"{:<15}\"   .format(temp)\n",
    "    count += 1\n",
    "    \n",
    "    if count > 6:\n",
    "        row   +=(\"\\n\")\n",
    "        count  = 0\n",
    "\n",
    "print(row)"
   ]
  },
  {
   "cell_type": "markdown",
   "id": "24b7b67c",
   "metadata": {},
   "source": [
    "## get each teams stats"
   ]
  },
  {
   "cell_type": "code",
   "execution_count": 9,
   "id": "58a88566",
   "metadata": {},
   "outputs": [
    {
     "name": "stdout",
     "output_type": "stream",
     "text": [
      "game_solutions  length:  3736\n",
      "team_dictionary length:  358 \n",
      "\n",
      "[23, [1110, 2585, 355, 1112, 573, 797, 448, 1028, 568, 560, 282, 164, 746], [1131, 2538, 333, 998, 602, 836, 389, 1011, 550, 507, 301, 129, 712]]\n",
      "\n"
     ]
    }
   ],
   "source": [
    "game_solutions = []\n",
    "# team1 ID, team2 ID, team1 win? (1 or 0)\n",
    "\n",
    "team_dictionary = {}\n",
    "# key = teamID\n",
    "# value = [count, team]\n",
    "\n",
    "for i in range(len(df_rows)):\n",
    "    row = df_rows[i]\n",
    "    \n",
    "    # game_solutions\n",
    "    # ---------------\n",
    "    game_solutions.append( [row[2], row[4], 1] )\n",
    "    \n",
    "    \n",
    "    # team dictionary\n",
    "    # ----------------\n",
    "    \n",
    "    #team_for     = [row[3]] + row[ 8:21].copy()\n",
    "    #team_allowed = [row[5]] + row[21:  ].copy()\n",
    "    \n",
    "    team_for     = row[ 8:21].copy()\n",
    "    team_allowed = row[21:  ].copy()\n",
    "    \n",
    "    \n",
    "    # WTEAM\n",
    "    if row[2] not in team_dictionary:\n",
    "        team_dictionary[row[2]] = [1, team_for, team_allowed]\n",
    "    else:\n",
    "        # count\n",
    "        team_dictionary[row[2]][0] += 1\n",
    "        # team for\n",
    "        for j in range(len(team_for)):\n",
    "            team_dictionary[row[2]][1][j] += team_for[j]\n",
    "            team_dictionary[row[2]][2][j] += team_allowed[j]\n",
    "\n",
    "    # LTEAM\n",
    "    if row[4] not in team_dictionary:\n",
    "        team_dictionary[row[4]] = [1, team_allowed, team_for]\n",
    "    else:\n",
    "        # count\n",
    "        team_dictionary[row[4]][0] += 1\n",
    "        # team for\n",
    "        for j in range(len(team_for)):\n",
    "            team_dictionary[row[4]][1][j] += team_allowed[j]\n",
    "            team_dictionary[row[4]][2][j] += team_for[j]\n",
    "\n",
    "            \n",
    "        \n",
    "print(\"game_solutions  length: \", len(game_solutions ))\n",
    "print(\"team_dictionary length: \", len(team_dictionary), \"\\n\")\n",
    "\n",
    "for i in range(1):\n",
    "    print(team_dictionary[ list(team_dictionary.keys())[i] ])\n",
    "    print()"
   ]
  },
  {
   "cell_type": "markdown",
   "id": "fdfb90a0",
   "metadata": {},
   "source": [
    "## change to averages"
   ]
  },
  {
   "cell_type": "code",
   "execution_count": 10,
   "id": "65d04d43",
   "metadata": {},
   "outputs": [
    {
     "name": "stdout",
     "output_type": "stream",
     "text": [
      "358 \n",
      "\n"
     ]
    }
   ],
   "source": [
    "team_averages = {}\n",
    "team_keys = list(team_dictionary.keys())\n",
    "\n",
    "for key in team_keys:\n",
    "    entry = team_dictionary[key]\n",
    "    count = entry[0]\n",
    "    \n",
    "    avg_team_for     = []\n",
    "    avg_team_allowed = []\n",
    "    \n",
    "    for i in range(len(entry[1])):\n",
    "        avg_team_for.append( (entry[1][i] / count) )\n",
    "        avg_team_allowed.append( (entry[2][i] / count) )\n",
    "        \n",
    "    team_averages[key] = [avg_team_for, avg_team_allowed]\n",
    "    \n",
    "print(len(team_averages), \"\\n\")\n",
    "#for i in range(2):\n",
    "    #print(team_averages[ list(team_averages.keys())[i] ])\n",
    "    #print()"
   ]
  },
  {
   "cell_type": "markdown",
   "id": "9c6433ab",
   "metadata": {},
   "source": [
    "# Testing With The Network"
   ]
  },
  {
   "cell_type": "code",
   "execution_count": 11,
   "id": "6c46e50d",
   "metadata": {},
   "outputs": [],
   "source": [
    "import sys\n",
    "sys.path.append(\"..\")"
   ]
  },
  {
   "cell_type": "code",
   "execution_count": 12,
   "id": "332c1ac2",
   "metadata": {},
   "outputs": [],
   "source": [
    "import random\n",
    "import time\n",
    "import threading"
   ]
  },
  {
   "cell_type": "code",
   "execution_count": 13,
   "id": "21bdd280",
   "metadata": {},
   "outputs": [],
   "source": [
    "from network_classes.neuron      import Neuron\n",
    "from network_classes.agent       import Agent\n",
    "from network_classes.population  import Population\n",
    "\n",
    "from extra.progress_package import *"
   ]
  },
  {
   "cell_type": "markdown",
   "id": "2b7eb851",
   "metadata": {},
   "source": [
    "## setting up inputs and solutions"
   ]
  },
  {
   "cell_type": "code",
   "execution_count": 14,
   "id": "55c9bf44",
   "metadata": {},
   "outputs": [
    {
     "name": "stdout",
     "output_type": "stream",
     "text": [
      "inputs length: 7472\n",
      "solutions length: 7472\n"
     ]
    }
   ],
   "source": [
    "inputs = []\n",
    "solutions = []\n",
    "\n",
    "for i in range(len(game_solutions)):\n",
    "    game = game_solutions[i]\n",
    "    team1 = game[0]\n",
    "    team2 = game[1]\n",
    "    \n",
    "    if random.uniform(0,1) > 0.5:\n",
    "        #input_row = team_averages[team1][1] + team_averages[team2][1]\n",
    "        input_row = []\n",
    "        for j in range(len(team_averages[team1][0])):\n",
    "            input_row.append( (team_averages[team1][0][j] - team_averages[team2][0][j]) )\n",
    "        \n",
    "        inputs.append(input_row)\n",
    "        solutions.append(1)\n",
    "        \n",
    "        # second way around\n",
    "        input_row = []\n",
    "        for j in range(len(team_averages[team1][0])):\n",
    "            input_row.append( (team_averages[team2][0][j] - team_averages[team1][0][j]) )\n",
    "        \n",
    "        inputs.append(input_row)\n",
    "        solutions.append(0)\n",
    "        \n",
    "        \n",
    "        \n",
    "    else:\n",
    "        #input_row = team_averages[team2][1] + team_averages[team1][1]\n",
    "        input_row = []\n",
    "        for j in range(len(team_averages[team1][0])):\n",
    "            input_row.append( (team_averages[team2][0][j] - team_averages[team1][0][j]) )\n",
    "        \n",
    "        inputs.append(input_row)\n",
    "        solutions.append(0)\n",
    "        \n",
    "        \n",
    "        # second way around\n",
    "        input_row = []\n",
    "        for j in range(len(team_averages[team1][0])):\n",
    "            input_row.append( (team_averages[team1][0][j] - team_averages[team2][0][j]) )\n",
    "        \n",
    "        inputs.append(input_row)\n",
    "        solutions.append(1)\n",
    "        \n",
    "        \n",
    "        \n",
    "        \n",
    "print(\"inputs length:\", len(inputs))\n",
    "print(\"solutions length:\", len(solutions))"
   ]
  },
  {
   "cell_type": "code",
   "execution_count": 15,
   "id": "0f8226cb",
   "metadata": {},
   "outputs": [],
   "source": [
    "# training ->   0:2615\n",
    "# testing -> 2615:"
   ]
  },
  {
   "cell_type": "code",
   "execution_count": 16,
   "id": "93809ada",
   "metadata": {},
   "outputs": [],
   "source": [
    "split_count = 10\n",
    "\n",
    "inputs_splits = []\n",
    "solutions_splits = []\n",
    "\n",
    "for i in range(split_count):\n",
    "    actual_length = len(inputs) // 2\n",
    "    split_length  = (actual_length // split_count) * 2\n",
    "    \n",
    "    start_index =  i    * split_length\n",
    "    end_index   = (i+1) * split_length\n",
    "    \n",
    "    inputs_splits.append(    inputs   [start_index:end_index].copy() )\n",
    "    solutions_splits.append( solutions[start_index:end_index].copy() )\n",
    "    \n",
    "    #print(len( inputs[start_index:end_index] ))\n"
   ]
  },
  {
   "cell_type": "markdown",
   "id": "8c571ede",
   "metadata": {},
   "source": [
    "## First Test"
   ]
  },
  {
   "cell_type": "markdown",
   "id": "5eb7af7e",
   "metadata": {},
   "source": [
    "# THREADING\n",
    "# -------------------"
   ]
  },
  {
   "cell_type": "code",
   "execution_count": 17,
   "id": "d7aa52be",
   "metadata": {},
   "outputs": [
    {
     "data": {
      "text/plain": [
       "[1346, 1331, 1309, 1308, 1308, 1305, 1303, 1300, 1284, 1249]"
      ]
     },
     "execution_count": 17,
     "metadata": {},
     "output_type": "execute_result"
    }
   ],
   "source": [
    "TEST_inputs = inputs[:2615].copy()\n",
    "TEST_solutions = solutions[:2615].copy()\n",
    "\n",
    "TEST_population = Population( len(TEST_inputs[0]) , 10)\n",
    "TEST_population.test_agents(TEST_inputs, TEST_solutions)\n",
    "#TEST_population.test_agents_threading(TEST_inputs, TEST_solutions)\n",
    "\n",
    "count1 = 0\n",
    "timer1 = 0\n",
    "\n",
    "scores = TEST_population.scores.copy()\n",
    "scores.sort(reverse=True)\n",
    "scores"
   ]
  },
  {
   "cell_type": "code",
   "execution_count": 18,
   "id": "f86959b8",
   "metadata": {},
   "outputs": [],
   "source": [
    "prev_timer     = 1\n",
    "prev_steps     = 1\n",
    "prev_steps_sec = 1\n",
    "prev_accuracy  = 1\n",
    "prev_max_conf  = 1"
   ]
  },
  {
   "cell_type": "code",
   "execution_count": 46,
   "id": "e035fd0a",
   "metadata": {
    "scrolled": false
   },
   "outputs": [
    {
     "name": "stdout",
     "output_type": "stream",
     "text": [
      "[##################################################] - 101.52%                                      \n",
      "\n",
      "            current    prev       change   \n",
      "            --------   --------   -------- \n",
      " timer       704.65s    636.48s     68.17s \n",
      " steps          162        144         18  \n",
      " steps/sec     0.26       0.27       0.01  \n",
      " accuracy     60.44%     60.60%     -0.16% \n",
      "\n",
      "id - [ c r, nc r, nc w,  c w] | ovr  | conf  (7972)\n",
      "--------------------------------------------\n",
      " 0 - [1206,  782,  691, 1057] | 2225 | 4030\n",
      " 1 - [1750,  343,  293, 1350] | 2217 | 5893\n",
      " 2 - [2023,  235,  193, 1285] | 2258 | 8013\n",
      " 3 - [2016,  236,  196, 1288] | 2252 | 7948\n",
      " 4 - [2039,  201,  181, 1315] | 2240 | 7919\n",
      " 5 - [1548,  576,  425, 1187] | 2177 | 5628\n",
      " 6 - [ 644, 1284, 1300,  508] | 1802 | 3236\n",
      " 7 - [2034,  203,  213, 1286] | 2237 | 8001\n",
      " 8 - [2020,  224,  211, 1281] | 2244 | 7972\n",
      " 9 - [1973,  210,  174, 1379] | 1609 | 7162\n"
     ]
    }
   ],
   "source": [
    "training_time = 60 # (in seconds)\n",
    "\n",
    "max_steps  = 3600\n",
    "steps      = 0\n",
    "start_time = time.time()\n",
    "elapsed    = 0\n",
    "\n",
    "for i in range(max_steps):\n",
    "    # check if loop should be done\n",
    "    elapsed = time.time() - start_time\n",
    "    if elapsed > training_time: \n",
    "        progress_bar(elapsed, training_time)\n",
    "        break\n",
    "    \n",
    "    # do operation\n",
    "    TEST_population.evolution_step()\n",
    "    count1 += 1\n",
    "    \n",
    "    TEST_population.test_agents_threading_double(inputs, solutions)\n",
    "    #TEST_population.test_agents_threading_double(inputs_splits[i%10], solutions_splits[i%10])\n",
    "    \n",
    "    # show progress update\n",
    "    progress_bar(elapsed, training_time)\n",
    "    \n",
    "\n",
    "\n",
    "\n",
    "# check scores\n",
    "# -------------\n",
    "TEST_population.evolution_step(reset_confidence_scores=False)\n",
    "count1 += 1\n",
    "\n",
    "TEST_population.test_agents_double(inputs, solutions)\n",
    "scores = TEST_population.scores.copy()\n",
    "unsorted = scores.copy()\n",
    "scores.sort(reverse=True)\n",
    "\n",
    "TEST_population.logic_to_conf()\n",
    "\n",
    "# calculate some values initially\n",
    "# --------------------------------\n",
    "timer1 += (time.time() - start_time)\n",
    "cur_steps_sec = round( (count1-prev_steps)/(timer1-prev_timer), 2 )\n",
    "accuracy      = round(( scores[0]/(len(inputs)//2) )*100, 2)\n",
    "\n",
    "\n",
    "# format lines and print them\n",
    "# ----------------------------\n",
    "ln1 = \"           current    prev       change  \"\n",
    "ln2 = \"           --------   --------   --------\"\n",
    "ln3 = \"timer     {:-8.2f}s  {:-8.2f}s  {:-8.2f}s\".format(round(timer1,2), round(prev_timer,2), round(timer1-prev_timer, 2))\n",
    "ln4 = \"steps     {:-8}   {:-8}   {:-8} \".format(count1, prev_steps, count1-prev_steps)\n",
    "ln5 = \"steps/sec {:-8.2f}   {:-8.2f}   {:-8.2f} \".format(cur_steps_sec, prev_steps_sec, prev_steps_sec-cur_steps_sec)\n",
    "ln6 = \"accuracy  {:-8.2f}%  {:-8.2f}%  {:-8.2f}%\".format(accuracy, prev_accuracy, (accuracy-prev_accuracy))\n",
    "\n",
    "print(\"\\n\", ln1, \"\\n\", ln2, \"\\n\", ln3, \"\\n\", ln4, \"\\n\", ln5, \"\\n\", ln6, \"\\n\")\n",
    "\n",
    "\n",
    "# set previous variables\n",
    "# -----------------------\n",
    "prev_timer     = timer1\n",
    "prev_steps     = count1\n",
    "prev_steps_sec = cur_steps_sec\n",
    "prev_accuracy  = accuracy\n",
    "\n",
    "\n",
    "# print out final scores\n",
    "# -----------------------\n",
    "print(\"id - [ c r, nc r, nc w,  c w] | ovr  | conf  ({})\".format(prev_max_conf))\n",
    "print(\"--------------------------------------------\")\n",
    "#       0 - [2030,  209,  202, 1295] | 2974 | 2239\n",
    "for i in range(len(TEST_population.agents)):\n",
    "    # get the total confidence scores\n",
    "    conf = TEST_population.confidence_scores[i]\n",
    "    conf_total = ( conf[0]*7 + conf[1]*2 + conf[2]*-1 + conf[3]*-5 )\n",
    "    if conf_total > prev_max_conf: \n",
    "        prev_max_conf = conf_total\n",
    "        \n",
    "    conf_scores = \"[{:>4}, {:>4}, {:>4}, {:>4}]\".format(conf[0], conf[1], conf[2], conf[3])\n",
    "    print( \" {} - {} | {:>4} | {:>4}\".format(i, conf_scores, unsorted[i], conf_total) )\n",
    "    "
   ]
  },
  {
   "cell_type": "code",
   "execution_count": 47,
   "id": "3f0aad2d",
   "metadata": {},
   "outputs": [
    {
     "name": "stdout",
     "output_type": "stream",
     "text": [
      "format  ->  final value    \n",
      "            -------------- \n",
      "            (# to, # from)  \n",
      "\n",
      "\n",
      " -0.94   1.00  -1.00  -0.89   1.00   1.00   0.85   0.66  -0.99  -0.84   0.63   0.04   1.00 \n",
      " (1,6)  (1,3)  (1,2)  (1,3)  (1,5)  (1,5)  (1,7)  (1,4)  (1,6)  (1,3)  (1,3)  (1,7)  (1,5) \n",
      "\n",
      " -0.98  -0.96   0.63  -0.80   0.77   0.77   0.12 \n",
      " (7,5)  (9,8) (11,2)  (8,8)  (7,5) (10,4)  (7,7) \n",
      "\n",
      "  0.80  -0.70   0.66   0.97  -0.49  -0.93   0.85  -0.96  -0.82  -1.00 \n",
      " (2,6)  (5,1)  (2,5)  (5,1)  (5,6) (4,10)  (4,3)  (4,4)  (5,2)  (3,9) \n",
      "\n",
      "  1.00  -1.00   0.49  -0.70  -0.84  -0.18  -0.69  -0.98   0.78  -0.18 \n",
      " (6,1)  (4,1)  (4,1)  (4,1)  (4,1)  (5,1)  (6,1)  (5,1)  (5,1)  (4,1) \n",
      "\n",
      " -0.88 \n",
      "(10,0) \n",
      "\n"
     ]
    }
   ],
   "source": [
    "TEST_population.agents[0].print1()"
   ]
  },
  {
   "cell_type": "code",
   "execution_count": 48,
   "id": "dde84ed5",
   "metadata": {},
   "outputs": [
    {
     "name": "stdout",
     "output_type": "stream",
     "text": [
      "total layers: 5 \n",
      "\n",
      "layer: 0 |  13 neurons\n",
      "layer: 1 |  7 neurons\n",
      "layer: 2 |  10 neurons\n",
      "layer: 3 |  10 neurons\n",
      "layer: 4 |  1 neurons\n"
     ]
    }
   ],
   "source": [
    "print(\"total layers:\", len(TEST_population.agents[0].layers), \"\\n\")\n",
    "\n",
    "for i in range(len(TEST_population.agents[0].layers)):\n",
    "    print(\"layer:\", i, \"| \", len(TEST_population.agents[0].layers[i]), \"neurons\")"
   ]
  },
  {
   "cell_type": "code",
   "execution_count": null,
   "id": "677ff7c0",
   "metadata": {},
   "outputs": [],
   "source": []
  },
  {
   "cell_type": "code",
   "execution_count": null,
   "id": "603dc1fa",
   "metadata": {},
   "outputs": [],
   "source": [
    "\n",
    "\n",
    "\n",
    "\n",
    "\n",
    "\n",
    "\n",
    "\n",
    "\n"
   ]
  },
  {
   "cell_type": "code",
   "execution_count": 22,
   "id": "0154036b",
   "metadata": {},
   "outputs": [],
   "source": [
    "#TEST_population.agents[0].layers[1]"
   ]
  },
  {
   "cell_type": "code",
   "execution_count": 23,
   "id": "18d0ea01",
   "metadata": {},
   "outputs": [],
   "source": [
    "#TEST_population.agents[0].layers[1][\"604\"].sending"
   ]
  },
  {
   "cell_type": "code",
   "execution_count": 24,
   "id": "e58a0271",
   "metadata": {},
   "outputs": [],
   "source": [
    "#for i in range(len(TEST_population.agents[0].layers[0])):\n",
    "    #for conn in list(TEST_population.agents[0].layers[0].values())[i].sending:\n",
    "        #print(conn)\n",
    "    #print()"
   ]
  }
 ],
 "metadata": {
  "kernelspec": {
   "display_name": "Python 3 (ipykernel)",
   "language": "python",
   "name": "python3"
  },
  "language_info": {
   "codemirror_mode": {
    "name": "ipython",
    "version": 3
   },
   "file_extension": ".py",
   "mimetype": "text/x-python",
   "name": "python",
   "nbconvert_exporter": "python",
   "pygments_lexer": "ipython3",
   "version": "3.8.8"
  }
 },
 "nbformat": 4,
 "nbformat_minor": 5
}
