{
 "cells": [
  {
   "cell_type": "markdown",
   "id": "446f140b",
   "metadata": {},
   "source": [
    "# Import Starting Data"
   ]
  },
  {
   "cell_type": "code",
   "execution_count": 1,
   "id": "32c631a3",
   "metadata": {},
   "outputs": [],
   "source": [
    "import pandas as pd #1\n",
    "import os           #3"
   ]
  },
  {
   "cell_type": "code",
   "execution_count": 2,
   "id": "78367933",
   "metadata": {},
   "outputs": [
    {
     "data": {
      "text/plain": [
       "['MRegularSeasonDetailedResults.csv', 'bracket-2022.csv']"
      ]
     },
     "execution_count": 2,
     "metadata": {},
     "output_type": "execute_result"
    }
   ],
   "source": [
    "given_data_folder = 'data'\n",
    "\n",
    "file_names = os.listdir(given_data_folder)\n",
    "file_names.sort()\n",
    "file_names"
   ]
  },
  {
   "cell_type": "code",
   "execution_count": 3,
   "id": "33480836",
   "metadata": {},
   "outputs": [],
   "source": [
    "file_name = 'MRegularSeasonDetailedResults.csv'"
   ]
  },
  {
   "cell_type": "code",
   "execution_count": 4,
   "id": "8d04fc89",
   "metadata": {},
   "outputs": [
    {
     "name": "stdout",
     "output_type": "stream",
     "text": [
      "100423\n"
     ]
    },
    {
     "data": {
      "text/html": [
       "<div>\n",
       "<style scoped>\n",
       "    .dataframe tbody tr th:only-of-type {\n",
       "        vertical-align: middle;\n",
       "    }\n",
       "\n",
       "    .dataframe tbody tr th {\n",
       "        vertical-align: top;\n",
       "    }\n",
       "\n",
       "    .dataframe thead th {\n",
       "        text-align: right;\n",
       "    }\n",
       "</style>\n",
       "<table border=\"1\" class=\"dataframe\">\n",
       "  <thead>\n",
       "    <tr style=\"text-align: right;\">\n",
       "      <th></th>\n",
       "      <th>Season</th>\n",
       "      <th>DayNum</th>\n",
       "      <th>WTeamID</th>\n",
       "      <th>WScore</th>\n",
       "      <th>LTeamID</th>\n",
       "      <th>LScore</th>\n",
       "      <th>WLoc</th>\n",
       "      <th>NumOT</th>\n",
       "      <th>WFGM</th>\n",
       "      <th>WFGA</th>\n",
       "      <th>...</th>\n",
       "      <th>LFGA3</th>\n",
       "      <th>LFTM</th>\n",
       "      <th>LFTA</th>\n",
       "      <th>LOR</th>\n",
       "      <th>LDR</th>\n",
       "      <th>LAst</th>\n",
       "      <th>LTO</th>\n",
       "      <th>LStl</th>\n",
       "      <th>LBlk</th>\n",
       "      <th>LPF</th>\n",
       "    </tr>\n",
       "  </thead>\n",
       "  <tbody>\n",
       "    <tr>\n",
       "      <th>0</th>\n",
       "      <td>2003</td>\n",
       "      <td>10</td>\n",
       "      <td>1104</td>\n",
       "      <td>68</td>\n",
       "      <td>1328</td>\n",
       "      <td>62</td>\n",
       "      <td>N</td>\n",
       "      <td>0</td>\n",
       "      <td>27</td>\n",
       "      <td>58</td>\n",
       "      <td>...</td>\n",
       "      <td>10</td>\n",
       "      <td>16</td>\n",
       "      <td>22</td>\n",
       "      <td>10</td>\n",
       "      <td>22</td>\n",
       "      <td>8</td>\n",
       "      <td>18</td>\n",
       "      <td>9</td>\n",
       "      <td>2</td>\n",
       "      <td>20</td>\n",
       "    </tr>\n",
       "    <tr>\n",
       "      <th>1</th>\n",
       "      <td>2003</td>\n",
       "      <td>10</td>\n",
       "      <td>1272</td>\n",
       "      <td>70</td>\n",
       "      <td>1393</td>\n",
       "      <td>63</td>\n",
       "      <td>N</td>\n",
       "      <td>0</td>\n",
       "      <td>26</td>\n",
       "      <td>62</td>\n",
       "      <td>...</td>\n",
       "      <td>24</td>\n",
       "      <td>9</td>\n",
       "      <td>20</td>\n",
       "      <td>20</td>\n",
       "      <td>25</td>\n",
       "      <td>7</td>\n",
       "      <td>12</td>\n",
       "      <td>8</td>\n",
       "      <td>6</td>\n",
       "      <td>16</td>\n",
       "    </tr>\n",
       "    <tr>\n",
       "      <th>2</th>\n",
       "      <td>2003</td>\n",
       "      <td>11</td>\n",
       "      <td>1266</td>\n",
       "      <td>73</td>\n",
       "      <td>1437</td>\n",
       "      <td>61</td>\n",
       "      <td>N</td>\n",
       "      <td>0</td>\n",
       "      <td>24</td>\n",
       "      <td>58</td>\n",
       "      <td>...</td>\n",
       "      <td>26</td>\n",
       "      <td>14</td>\n",
       "      <td>23</td>\n",
       "      <td>31</td>\n",
       "      <td>22</td>\n",
       "      <td>9</td>\n",
       "      <td>12</td>\n",
       "      <td>2</td>\n",
       "      <td>5</td>\n",
       "      <td>23</td>\n",
       "    </tr>\n",
       "    <tr>\n",
       "      <th>3</th>\n",
       "      <td>2003</td>\n",
       "      <td>11</td>\n",
       "      <td>1296</td>\n",
       "      <td>56</td>\n",
       "      <td>1457</td>\n",
       "      <td>50</td>\n",
       "      <td>N</td>\n",
       "      <td>0</td>\n",
       "      <td>18</td>\n",
       "      <td>38</td>\n",
       "      <td>...</td>\n",
       "      <td>22</td>\n",
       "      <td>8</td>\n",
       "      <td>15</td>\n",
       "      <td>17</td>\n",
       "      <td>20</td>\n",
       "      <td>9</td>\n",
       "      <td>19</td>\n",
       "      <td>4</td>\n",
       "      <td>3</td>\n",
       "      <td>23</td>\n",
       "    </tr>\n",
       "    <tr>\n",
       "      <th>4</th>\n",
       "      <td>2003</td>\n",
       "      <td>11</td>\n",
       "      <td>1400</td>\n",
       "      <td>77</td>\n",
       "      <td>1208</td>\n",
       "      <td>71</td>\n",
       "      <td>N</td>\n",
       "      <td>0</td>\n",
       "      <td>30</td>\n",
       "      <td>61</td>\n",
       "      <td>...</td>\n",
       "      <td>16</td>\n",
       "      <td>17</td>\n",
       "      <td>27</td>\n",
       "      <td>21</td>\n",
       "      <td>15</td>\n",
       "      <td>12</td>\n",
       "      <td>10</td>\n",
       "      <td>7</td>\n",
       "      <td>1</td>\n",
       "      <td>14</td>\n",
       "    </tr>\n",
       "  </tbody>\n",
       "</table>\n",
       "<p>5 rows × 34 columns</p>\n",
       "</div>"
      ],
      "text/plain": [
       "   Season  DayNum  WTeamID  WScore  LTeamID  LScore WLoc  NumOT  WFGM  WFGA  \\\n",
       "0    2003      10     1104      68     1328      62    N      0    27    58   \n",
       "1    2003      10     1272      70     1393      63    N      0    26    62   \n",
       "2    2003      11     1266      73     1437      61    N      0    24    58   \n",
       "3    2003      11     1296      56     1457      50    N      0    18    38   \n",
       "4    2003      11     1400      77     1208      71    N      0    30    61   \n",
       "\n",
       "   ...  LFGA3  LFTM  LFTA  LOR  LDR  LAst  LTO  LStl  LBlk  LPF  \n",
       "0  ...     10    16    22   10   22     8   18     9     2   20  \n",
       "1  ...     24     9    20   20   25     7   12     8     6   16  \n",
       "2  ...     26    14    23   31   22     9   12     2     5   23  \n",
       "3  ...     22     8    15   17   20     9   19     4     3   23  \n",
       "4  ...     16    17    27   21   15    12   10     7     1   14  \n",
       "\n",
       "[5 rows x 34 columns]"
      ]
     },
     "execution_count": 4,
     "metadata": {},
     "output_type": "execute_result"
    }
   ],
   "source": [
    "file_path = given_data_folder + '/' + file_name \n",
    "given_df  = pd.read_csv(file_path)\n",
    "print(len(given_df))\n",
    "\n",
    "given_df.head(5)"
   ]
  },
  {
   "cell_type": "markdown",
   "id": "9c6433ab",
   "metadata": {},
   "source": [
    "# Testing With The Network"
   ]
  },
  {
   "cell_type": "code",
   "execution_count": 5,
   "id": "6c46e50d",
   "metadata": {},
   "outputs": [],
   "source": [
    "import sys\n",
    "sys.path.append(\"..\")"
   ]
  },
  {
   "cell_type": "code",
   "execution_count": 6,
   "id": "332c1ac2",
   "metadata": {},
   "outputs": [],
   "source": [
    "import random\n",
    "import time\n",
    "import threading\n",
    "import math\n",
    "\n",
    "from copy import deepcopy"
   ]
  },
  {
   "cell_type": "code",
   "execution_count": 7,
   "id": "21bdd280",
   "metadata": {},
   "outputs": [],
   "source": [
    "from network_classes.neuron      import Neuron\n",
    "from network_classes.agent       import Agent\n",
    "from network_classes.population  import Population\n",
    "\n",
    "from network_classes.data_prep     import *\n",
    "from network_classes.testingreport import TestingReport\n",
    "\n",
    "\n",
    "from extra.progress_package import *"
   ]
  },
  {
   "cell_type": "markdown",
   "id": "bb4fe2d8",
   "metadata": {},
   "source": [
    "# Get each teams stats from a given season"
   ]
  },
  {
   "cell_type": "markdown",
   "id": "d6f60db3",
   "metadata": {},
   "source": [
    "### 2021 season"
   ]
  },
  {
   "cell_type": "code",
   "execution_count": 8,
   "id": "3bd3586a",
   "metadata": {},
   "outputs": [],
   "source": [
    "game_solutions_2021, team_dictionary_2021, headers_2021 = stats_for_season(given_df, 2021, print_report=False)"
   ]
  },
  {
   "cell_type": "markdown",
   "id": "a4f8c673",
   "metadata": {},
   "source": [
    "### 2022 season"
   ]
  },
  {
   "cell_type": "code",
   "execution_count": 9,
   "id": "842502c7",
   "metadata": {},
   "outputs": [
    {
     "name": "stdout",
     "output_type": "stream",
     "text": [
      "data size: \n",
      "-----------\n",
      "number of games for 2022 season:  3736 \n",
      "number of columns in base data:   34 \n",
      "number of rows:                   3736 \n",
      "\n",
      "\n",
      "column titles and indicis: \n",
      "---------------------------\n",
      "  0: Season      1: DayNum      2: WTeamID     3: WScore      4: LTeamID     5: LScore      6: WLoc      \n",
      "  7: NumOT       8: WFGM        9: WFGA       10: WFGM3      11: WFGA3      12: WFTM       13: WFTA      \n",
      " 14: WOR        15: WDR        16: WAst       17: WTO        18: WStl       19: WBlk       20: WPF       \n",
      " 21: LFGM       22: LFGA       23: LFGM3      24: LFGA3      25: LFTM       26: LFTA       27: LOR       \n",
      " 28: LDR        29: LAst       30: LTO        31: LStl       32: LBlk       33: LPF       \n",
      "\n",
      "\n",
      "base stats report: \n",
      "-------------------\n",
      "game_solutions length:    3736 games\n",
      "team_dictionary length:    358 teams\n",
      "\n",
      "team_dictionary[team_id] = [# of games played, [stats FOR totals], [stats AGAINST totals]]\n",
      "\n",
      "\n",
      "example row:    \n",
      "------------- \n",
      "\n",
      "  number of games played by team: 23 \n",
      "\n",
      "   id     FGM    FGA   FGM3   FGA3    FTM    FTA     OR     DR    Ast     TO    Stl    Blk     PF   \n",
      " 1104: [ 1110,  2585,   355,  1112,   573,   797,   448,  1028,   568,   560,   282,   164,   746] - 13 values \n",
      "\n",
      "   id    xFGM   xFGA  xFGM3  xFGA3   xFTM   xFTA    xOR    xDR   xAst    xTO   xStl   xBlk    xPF   \n",
      " 1104: [ 1131,  2538,   333,   998,   602,   836,   389,  1011,   550,   507,   301,   129,   712] - 13 values\n"
     ]
    }
   ],
   "source": [
    "game_solutions_2022, team_dictionary_2022, headers_2022 = stats_for_season(given_df, 2022, print_report=True)"
   ]
  },
  {
   "cell_type": "markdown",
   "id": "0fb4d18c",
   "metadata": {},
   "source": [
    "## base stats with FOR and AGAINST"
   ]
  },
  {
   "cell_type": "markdown",
   "id": "e35fdd13",
   "metadata": {},
   "source": [
    "### 2021"
   ]
  },
  {
   "cell_type": "code",
   "execution_count": 10,
   "id": "8555bf21",
   "metadata": {},
   "outputs": [],
   "source": [
    "# get team dictionary using custom stats\n",
    "# ---------------------------------------\n",
    "FA_team_dictionary_2021, FA_headers_list_2021 = for_and_against(team_dictionary_2021)\n",
    "\n",
    "\n",
    "# change team dictionary to averages instead of totals\n",
    "# -----------------------------------------------------\n",
    "FA_team_averages_2021 = team_totals_to_averages(FA_team_dictionary_2021, FA_headers_list_2021, print_report=False)\n",
    "\n",
    "\n",
    "# prepare the final input and solution data\n",
    "# ------------------------------------------\n",
    "FA_inputs_2021, FA_solutions_2021 = prep_inputs_and_solutions(FA_team_averages_2021, game_solutions_2021)\n",
    "\n",
    "\n",
    "# set up final inputs and solutions\n",
    "# ----------------------------------\n",
    "inputs_2021    = FA_inputs_2021\n",
    "solutions_2021 = FA_solutions_2021"
   ]
  },
  {
   "cell_type": "markdown",
   "id": "0b2644c3",
   "metadata": {},
   "source": [
    "### 2022"
   ]
  },
  {
   "cell_type": "code",
   "execution_count": 11,
   "id": "c3d13c72",
   "metadata": {},
   "outputs": [],
   "source": [
    "# get team dictionary using custom stats\n",
    "# ---------------------------------------\n",
    "FA_team_dictionary_2022, FA_headers_list_2022 = for_and_against(team_dictionary_2022)\n",
    "\n",
    "\n",
    "# change team dictionary to averages instead of totals\n",
    "# -----------------------------------------------------\n",
    "FA_team_averages_2022 = team_totals_to_averages(FA_team_dictionary_2022, FA_headers_list_2022)\n",
    "\n",
    "\n",
    "# prepare the final input and solution data\n",
    "# ------------------------------------------\n",
    "FA_inputs_2022, FA_solutions_2022 = prep_inputs_and_solutions(FA_team_averages_2022, game_solutions_2022)\n",
    "\n",
    "\n",
    "# set up final inputs and solutions\n",
    "# ----------------------------------\n",
    "inputs_2022    = FA_inputs_2022\n",
    "solutions_2022 = FA_solutions_2022"
   ]
  },
  {
   "cell_type": "markdown",
   "id": "8c571ede",
   "metadata": {},
   "source": [
    "# First Test (uses threading)"
   ]
  },
  {
   "cell_type": "markdown",
   "id": "b0a4690c",
   "metadata": {},
   "source": [
    "### variables for stat tracking"
   ]
  },
  {
   "cell_type": "code",
   "execution_count": null,
   "id": "3a7c52cd",
   "metadata": {},
   "outputs": [],
   "source": []
  },
  {
   "cell_type": "markdown",
   "id": "1b5c2200",
   "metadata": {},
   "source": [
    "### initialize population"
   ]
  },
  {
   "cell_type": "code",
   "execution_count": 12,
   "id": "d7aa52be",
   "metadata": {},
   "outputs": [],
   "source": [
    "TEST_population = Population( len(inputs_2022[0]), 10)\n",
    "\n",
    "for i in range(10):\n",
    "    for agent in TEST_population.agents:\n",
    "        agent.mutate(delete_neurons=True)\n"
   ]
  },
  {
   "cell_type": "code",
   "execution_count": 13,
   "id": "5b8d778c",
   "metadata": {},
   "outputs": [],
   "source": [
    "report_data = [inputs_2021, solutions_2021,\n",
    "               inputs_2022, solutions_2022]\n",
    "\n",
    "current_test = TestingReport(TEST_population)"
   ]
  },
  {
   "cell_type": "markdown",
   "id": "155ea58d",
   "metadata": {},
   "source": [
    "### Training Loop"
   ]
  },
  {
   "cell_type": "code",
   "execution_count": null,
   "id": "460f15ef",
   "metadata": {},
   "outputs": [
    {
     "name": "stdout",
     "output_type": "stream",
     "text": [
      "                                                                                                    \r",
      "[                                                  ] - 0.0%\r"
     ]
    }
   ],
   "source": [
    "testing_time = 20 # (in seocnds)\n",
    "\n",
    "current_test.run_test(testing_time, report_data)\n",
    "current_test.print_report()"
   ]
  },
  {
   "cell_type": "code",
   "execution_count": null,
   "id": "f0563afd",
   "metadata": {},
   "outputs": [],
   "source": [
    "current_test.print_report()"
   ]
  },
  {
   "cell_type": "code",
   "execution_count": null,
   "id": "57037453",
   "metadata": {},
   "outputs": [],
   "source": [
    "current_test.scoring_time_report()"
   ]
  },
  {
   "cell_type": "code",
   "execution_count": null,
   "id": "867b7372",
   "metadata": {},
   "outputs": [],
   "source": [
    "TEST_population.num_calculations"
   ]
  },
  {
   "cell_type": "code",
   "execution_count": null,
   "id": "32fc4516",
   "metadata": {},
   "outputs": [],
   "source": [
    "current_test.print_top_agent()"
   ]
  },
  {
   "cell_type": "code",
   "execution_count": null,
   "id": "322d9985",
   "metadata": {},
   "outputs": [],
   "source": [
    "current_test.size_report(all_attributes=False)"
   ]
  },
  {
   "cell_type": "code",
   "execution_count": null,
   "id": "f4291b65",
   "metadata": {},
   "outputs": [],
   "source": [
    "'''\n",
    "3 steps\n",
    "\n",
    "                        kB          neurons     avg size\n",
    "                        --------    --------    --------\n",
    "layer[0]                   20.21          26        0.78 \n",
    "layer[1]                   12.11          18        0.67 \n",
    "layer[2]                    9.33          12        0.78 \n",
    "layer[3]                     6.2          16        0.39 \n",
    "layer[4]                    0.26           1        0.26 \n",
    "\n",
    "                        kB          mB\n",
    "                        --------    --------\n",
    "total_size                 48.43        0.05\n",
    "\n",
    "\n",
    "\n",
    "\n",
    "\n",
    "\n",
    "\n",
    "''';"
   ]
  },
  {
   "cell_type": "code",
   "execution_count": null,
   "id": "6242ce23",
   "metadata": {},
   "outputs": [],
   "source": [
    "\n",
    "\n",
    "\n",
    "\n",
    "\n",
    "\n",
    "\n",
    "\n",
    "\n",
    "\n",
    "\n"
   ]
  },
  {
   "cell_type": "code",
   "execution_count": null,
   "id": "1359010d",
   "metadata": {},
   "outputs": [],
   "source": [
    "\n",
    "\n",
    "\n",
    "\n",
    "\n",
    "\n",
    "\n",
    "\n",
    "\n"
   ]
  },
  {
   "cell_type": "code",
   "execution_count": null,
   "id": "0154036b",
   "metadata": {},
   "outputs": [],
   "source": [
    "#3220*7472\n",
    "# 10*161*7472 = 12_029_920\n",
    "# 10*322*7472 = 24_059_840"
   ]
  },
  {
   "cell_type": "code",
   "execution_count": null,
   "id": "3082bfc4",
   "metadata": {},
   "outputs": [],
   "source": [
    "'''\n",
    "deletion_time = 0\n",
    "for i in range(len(TEST_population.agents)):\n",
    "    deletion_time += TEST_population.agents[i].time_deleting\n",
    "    \n",
    "deletion_time\n",
    "''';"
   ]
  },
  {
   "cell_type": "code",
   "execution_count": null,
   "id": "dde84ed5",
   "metadata": {},
   "outputs": [],
   "source": [
    "'''\n",
    "randint_time = 0\n",
    "for i in range(10000):\n",
    "    start_time = time.time()\n",
    "    random.randint(0, 1000)\n",
    "    randint_time += time.time() - start_time\n",
    "\n",
    "random_time = 0\n",
    "for i in range(10000):\n",
    "    start_time = time.time()\n",
    "    math.floor(1000*random.random())\n",
    "    random_time += time.time() - start_time\n",
    "    \n",
    "uniform_time = 0\n",
    "for i in range(10000):\n",
    "    start_time = time.time()\n",
    "    random.uniform(0,1)\n",
    "    uniform_time += time.time() - start_time\n",
    "    \n",
    "    \n",
    "print( \"random.randint(a,b) : {}s\".format(randint_time ) )\n",
    "print( \"random.random()     : {}s\".format(random_time  ) )\n",
    "print( \"random.uniform()    : {}s\".format(uniform_time ) )\n",
    "''';"
   ]
  },
  {
   "cell_type": "markdown",
   "id": "752be0fb",
   "metadata": {},
   "source": [
    "## Testing with splitting the input data into 10 parts"
   ]
  },
  {
   "cell_type": "code",
   "execution_count": null,
   "id": "67b9a139",
   "metadata": {},
   "outputs": [],
   "source": [
    "''' \n",
    "split_count = 10\n",
    "\n",
    "inputs_splits = []\n",
    "solutions_splits = []\n",
    "\n",
    "for i in range(split_count):\n",
    "    actual_length = len(inputs) // 2\n",
    "    split_length  = (actual_length // split_count) * 2\n",
    "    \n",
    "    start_index =  i    * split_length\n",
    "    end_index   = (i+1) * split_length\n",
    "    \n",
    "    inputs_splits.append(    inputs   [start_index:end_index].copy() )\n",
    "    solutions_splits.append( solutions[start_index:end_index].copy() )\n",
    "    \n",
    "    print(len( inputs[start_index:end_index] ))\n",
    "    \n",
    "TEST_inputs = inputs[:2615].copy()\n",
    "TEST_solutions = solutions[:2615].copy()\n",
    "''';"
   ]
  }
 ],
 "metadata": {
  "kernelspec": {
   "display_name": "Python 3 (ipykernel)",
   "language": "python",
   "name": "python3"
  },
  "language_info": {
   "codemirror_mode": {
    "name": "ipython",
    "version": 3
   },
   "file_extension": ".py",
   "mimetype": "text/x-python",
   "name": "python",
   "nbconvert_exporter": "python",
   "pygments_lexer": "ipython3",
   "version": "3.8.8"
  }
 },
 "nbformat": 4,
 "nbformat_minor": 5
}
