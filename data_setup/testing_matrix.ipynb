{
 "cells": [
  {
   "cell_type": "markdown",
   "id": "b9797f60",
   "metadata": {},
   "source": [
    "# Import Starting Data"
   ]
  },
  {
   "cell_type": "code",
   "execution_count": 1,
   "id": "2ad7a6ed",
   "metadata": {},
   "outputs": [],
   "source": [
    "import pandas as pd #1\n",
    "import os           #3"
   ]
  },
  {
   "cell_type": "code",
   "execution_count": 2,
   "id": "c40caa87",
   "metadata": {},
   "outputs": [
    {
     "data": {
      "text/plain": [
       "['MMasseyOrdinals.csv',\n",
       " 'MRegularSeasonDetailedResults.csv',\n",
       " 'bracket-2022.csv']"
      ]
     },
     "execution_count": 2,
     "metadata": {},
     "output_type": "execute_result"
    }
   ],
   "source": [
    "given_data_folder = 'data'\n",
    "\n",
    "file_names = os.listdir(given_data_folder)\n",
    "file_names.sort()\n",
    "file_names"
   ]
  },
  {
   "cell_type": "code",
   "execution_count": 3,
   "id": "e67d884e",
   "metadata": {},
   "outputs": [],
   "source": [
    "file_name = 'MRegularSeasonDetailedResults.csv'"
   ]
  },
  {
   "cell_type": "code",
   "execution_count": 4,
   "id": "400f62e2",
   "metadata": {},
   "outputs": [
    {
     "name": "stdout",
     "output_type": "stream",
     "text": [
      "100423\n"
     ]
    },
    {
     "data": {
      "text/html": [
       "<div>\n",
       "<style scoped>\n",
       "    .dataframe tbody tr th:only-of-type {\n",
       "        vertical-align: middle;\n",
       "    }\n",
       "\n",
       "    .dataframe tbody tr th {\n",
       "        vertical-align: top;\n",
       "    }\n",
       "\n",
       "    .dataframe thead th {\n",
       "        text-align: right;\n",
       "    }\n",
       "</style>\n",
       "<table border=\"1\" class=\"dataframe\">\n",
       "  <thead>\n",
       "    <tr style=\"text-align: right;\">\n",
       "      <th></th>\n",
       "      <th>Season</th>\n",
       "      <th>DayNum</th>\n",
       "      <th>WTeamID</th>\n",
       "      <th>WScore</th>\n",
       "      <th>LTeamID</th>\n",
       "      <th>LScore</th>\n",
       "      <th>WLoc</th>\n",
       "      <th>NumOT</th>\n",
       "      <th>WFGM</th>\n",
       "      <th>WFGA</th>\n",
       "      <th>...</th>\n",
       "      <th>LFGA3</th>\n",
       "      <th>LFTM</th>\n",
       "      <th>LFTA</th>\n",
       "      <th>LOR</th>\n",
       "      <th>LDR</th>\n",
       "      <th>LAst</th>\n",
       "      <th>LTO</th>\n",
       "      <th>LStl</th>\n",
       "      <th>LBlk</th>\n",
       "      <th>LPF</th>\n",
       "    </tr>\n",
       "  </thead>\n",
       "  <tbody>\n",
       "    <tr>\n",
       "      <th>0</th>\n",
       "      <td>2003</td>\n",
       "      <td>10</td>\n",
       "      <td>1104</td>\n",
       "      <td>68</td>\n",
       "      <td>1328</td>\n",
       "      <td>62</td>\n",
       "      <td>N</td>\n",
       "      <td>0</td>\n",
       "      <td>27</td>\n",
       "      <td>58</td>\n",
       "      <td>...</td>\n",
       "      <td>10</td>\n",
       "      <td>16</td>\n",
       "      <td>22</td>\n",
       "      <td>10</td>\n",
       "      <td>22</td>\n",
       "      <td>8</td>\n",
       "      <td>18</td>\n",
       "      <td>9</td>\n",
       "      <td>2</td>\n",
       "      <td>20</td>\n",
       "    </tr>\n",
       "    <tr>\n",
       "      <th>1</th>\n",
       "      <td>2003</td>\n",
       "      <td>10</td>\n",
       "      <td>1272</td>\n",
       "      <td>70</td>\n",
       "      <td>1393</td>\n",
       "      <td>63</td>\n",
       "      <td>N</td>\n",
       "      <td>0</td>\n",
       "      <td>26</td>\n",
       "      <td>62</td>\n",
       "      <td>...</td>\n",
       "      <td>24</td>\n",
       "      <td>9</td>\n",
       "      <td>20</td>\n",
       "      <td>20</td>\n",
       "      <td>25</td>\n",
       "      <td>7</td>\n",
       "      <td>12</td>\n",
       "      <td>8</td>\n",
       "      <td>6</td>\n",
       "      <td>16</td>\n",
       "    </tr>\n",
       "    <tr>\n",
       "      <th>2</th>\n",
       "      <td>2003</td>\n",
       "      <td>11</td>\n",
       "      <td>1266</td>\n",
       "      <td>73</td>\n",
       "      <td>1437</td>\n",
       "      <td>61</td>\n",
       "      <td>N</td>\n",
       "      <td>0</td>\n",
       "      <td>24</td>\n",
       "      <td>58</td>\n",
       "      <td>...</td>\n",
       "      <td>26</td>\n",
       "      <td>14</td>\n",
       "      <td>23</td>\n",
       "      <td>31</td>\n",
       "      <td>22</td>\n",
       "      <td>9</td>\n",
       "      <td>12</td>\n",
       "      <td>2</td>\n",
       "      <td>5</td>\n",
       "      <td>23</td>\n",
       "    </tr>\n",
       "    <tr>\n",
       "      <th>3</th>\n",
       "      <td>2003</td>\n",
       "      <td>11</td>\n",
       "      <td>1296</td>\n",
       "      <td>56</td>\n",
       "      <td>1457</td>\n",
       "      <td>50</td>\n",
       "      <td>N</td>\n",
       "      <td>0</td>\n",
       "      <td>18</td>\n",
       "      <td>38</td>\n",
       "      <td>...</td>\n",
       "      <td>22</td>\n",
       "      <td>8</td>\n",
       "      <td>15</td>\n",
       "      <td>17</td>\n",
       "      <td>20</td>\n",
       "      <td>9</td>\n",
       "      <td>19</td>\n",
       "      <td>4</td>\n",
       "      <td>3</td>\n",
       "      <td>23</td>\n",
       "    </tr>\n",
       "    <tr>\n",
       "      <th>4</th>\n",
       "      <td>2003</td>\n",
       "      <td>11</td>\n",
       "      <td>1400</td>\n",
       "      <td>77</td>\n",
       "      <td>1208</td>\n",
       "      <td>71</td>\n",
       "      <td>N</td>\n",
       "      <td>0</td>\n",
       "      <td>30</td>\n",
       "      <td>61</td>\n",
       "      <td>...</td>\n",
       "      <td>16</td>\n",
       "      <td>17</td>\n",
       "      <td>27</td>\n",
       "      <td>21</td>\n",
       "      <td>15</td>\n",
       "      <td>12</td>\n",
       "      <td>10</td>\n",
       "      <td>7</td>\n",
       "      <td>1</td>\n",
       "      <td>14</td>\n",
       "    </tr>\n",
       "  </tbody>\n",
       "</table>\n",
       "<p>5 rows × 34 columns</p>\n",
       "</div>"
      ],
      "text/plain": [
       "   Season  DayNum  WTeamID  WScore  LTeamID  LScore WLoc  NumOT  WFGM  WFGA  \\\n",
       "0    2003      10     1104      68     1328      62    N      0    27    58   \n",
       "1    2003      10     1272      70     1393      63    N      0    26    62   \n",
       "2    2003      11     1266      73     1437      61    N      0    24    58   \n",
       "3    2003      11     1296      56     1457      50    N      0    18    38   \n",
       "4    2003      11     1400      77     1208      71    N      0    30    61   \n",
       "\n",
       "   ...  LFGA3  LFTM  LFTA  LOR  LDR  LAst  LTO  LStl  LBlk  LPF  \n",
       "0  ...     10    16    22   10   22     8   18     9     2   20  \n",
       "1  ...     24     9    20   20   25     7   12     8     6   16  \n",
       "2  ...     26    14    23   31   22     9   12     2     5   23  \n",
       "3  ...     22     8    15   17   20     9   19     4     3   23  \n",
       "4  ...     16    17    27   21   15    12   10     7     1   14  \n",
       "\n",
       "[5 rows x 34 columns]"
      ]
     },
     "execution_count": 4,
     "metadata": {},
     "output_type": "execute_result"
    }
   ],
   "source": [
    "file_path = given_data_folder + '/' + file_name \n",
    "given_df  = pd.read_csv(file_path)\n",
    "print(len(given_df))\n",
    "\n",
    "given_df.head(5)"
   ]
  },
  {
   "cell_type": "markdown",
   "id": "d89b7eb2",
   "metadata": {},
   "source": [
    "# Imports"
   ]
  },
  {
   "cell_type": "code",
   "execution_count": 5,
   "id": "2acf996d",
   "metadata": {},
   "outputs": [],
   "source": [
    "import sys\n",
    "sys.path.append(\"..\")"
   ]
  },
  {
   "cell_type": "code",
   "execution_count": 6,
   "id": "ef8a4f58",
   "metadata": {},
   "outputs": [],
   "source": [
    "import random\n",
    "import numpy as np\n",
    "import matplotlib.pyplot as plt\n",
    "\n",
    "from time import time"
   ]
  },
  {
   "cell_type": "code",
   "execution_count": 7,
   "id": "95c1972f",
   "metadata": {},
   "outputs": [],
   "source": [
    "#from network_matrix.population import Population\n",
    "from network_matrix.population_v2 import Population\n",
    "from network_matrix.data_prep     import *\n",
    "\n",
    "from extra.progress_package import *"
   ]
  },
  {
   "cell_type": "code",
   "execution_count": 8,
   "id": "d1d127f0",
   "metadata": {},
   "outputs": [],
   "source": [
    "headers_list = [ \"FG%2\",  \"FGA2\",  \"FG%3\",  \"FGA3\",  \"FT%\",  \"FTA\",  \n",
    "                   \"OR\",    \"DR\",   \"Ast\",    \"TO\",  \"Stl\",  \"Blk\",  \"PF\", \n",
    "                \"xFG%2\", \"xFGA2\", \"xFG%3\", \"xFGA3\", \"xFT%\", \"xFTA\", \n",
    "                  \"xOR\",   \"xDR\",  \"xAst\",   \"xTO\", \"xStl\", \"xBlk\", \"xPF\"]"
   ]
  },
  {
   "cell_type": "code",
   "execution_count": 9,
   "id": "926e0c7c",
   "metadata": {},
   "outputs": [],
   "source": [
    "def graph_progress(all_costs, all_accuracies, show_recents=True):\n",
    "    # last 5 results\n",
    "    # ---------------\n",
    "    if show_recents:\n",
    "        line1 = \"cost: \"\n",
    "        line2 = \"acc:  \"\n",
    "        for i in range(-5, 0):\n",
    "            line1 += \"{:>6} \".format(round(all_costs[i], 3))\n",
    "            line2 += \"{:>6}%\".format(round(all_accuracies[i]*100, 2))\n",
    "        print(line1)\n",
    "        print(line2)\n",
    "\n",
    "\n",
    "    # graphs\n",
    "    # -------\n",
    "    fig, axes = plt.subplots(nrows=1, ncols=2, figsize=(10, 5))\n",
    "\n",
    "    axes[0].plot(range(len(all_costs)), all_costs, label=\"costs\")\n",
    "    axes[0].set_xlabel('step') # Set the y axis label of the current axis.\n",
    "    axes[0].set_ylabel('cost') # Set a title of the current axes.\n",
    "    axes[0].set_title('cost over training steps') \n",
    "    axes[0].legend() # show a legend on the plot\n",
    "\n",
    "    axes[1].plot(range(len(all_accuracies)), all_accuracies, label=\"accuracies\")\n",
    "    axes[1].set_xlabel('step') # Set the y axis label of the current axis.\n",
    "    axes[1].set_ylabel('accuracy') # Set a title of the current axes.\n",
    "    axes[1].set_title('accuracy over training steps') \n",
    "    axes[1].legend() # show a legend on the plot\n",
    "\n",
    "    return fig.tight_layout()\n",
    "    "
   ]
  },
  {
   "cell_type": "markdown",
   "id": "60d3cb31",
   "metadata": {},
   "source": [
    "# Get inputs and outputs from a given season"
   ]
  },
  {
   "cell_type": "markdown",
   "id": "7b992bf3",
   "metadata": {},
   "source": [
    "### 2021"
   ]
  },
  {
   "cell_type": "code",
   "execution_count": 10,
   "id": "a52b32e7",
   "metadata": {},
   "outputs": [
    {
     "name": "stdout",
     "output_type": "stream",
     "text": [
      "7228 7228\n",
      "  FG%2    FGA   FG%3   FGA3    FT%    FTA     OR     DR    Ast     TO    Stl    Blk     PF \n",
      "  0.66   0.74   0.55    0.5   0.67   0.67   0.59   0.72   0.58   0.86   0.85   0.75    0.0 \n",
      "  1.65%  1.79%  3.19%  2.73%   1.7%  4.12%  4.57%  1.95%  3.38%  3.26%  4.88%  7.04% 10.42%\n"
     ]
    }
   ],
   "source": [
    "# inputs, solutions, output_max_columns, variance\n",
    "inputs_2021, solutions_2021, max_2021, variance_2021 = separate_fga_and_fgp(given_df, 2021)"
   ]
  },
  {
   "cell_type": "markdown",
   "id": "fc477f35",
   "metadata": {},
   "source": [
    "### 2022"
   ]
  },
  {
   "cell_type": "code",
   "execution_count": 11,
   "id": "eeea27eb",
   "metadata": {},
   "outputs": [
    {
     "name": "stdout",
     "output_type": "stream",
     "text": [
      "7036 7036\n",
      "  FG%2    FGA   FG%3   FGA3    FT%    FTA     OR     DR    Ast     TO    Stl    Blk     PF \n",
      "  1.05   0.74   0.47   0.68   0.58   0.34   0.53   0.97   0.96   0.82   0.62   0.88   0.63 \n",
      "  1.68%  1.83%  3.28%   2.7%  1.74%  4.31%  4.59%  2.04%  3.65%  3.27%  5.04%  7.76%  2.51%\n"
     ]
    }
   ],
   "source": [
    "# inputs, solutions, output_max_columns, variance\n",
    "inputs_2022, solutions_2022, max_2022, variance_2022 = separate_fga_and_fgp(given_df, 2022)"
   ]
  },
  {
   "cell_type": "markdown",
   "id": "b70fb697",
   "metadata": {},
   "source": [
    "### convert input data to numpy arrays"
   ]
  },
  {
   "cell_type": "code",
   "execution_count": 12,
   "id": "211d69a8",
   "metadata": {},
   "outputs": [],
   "source": [
    "py_data = [inputs_2021, solutions_2021, inputs_2022, solutions_2022]\n",
    "np_data = []\n",
    "\n",
    "# inputs and outputs\n",
    "# -------------------\n",
    "for py_list in py_data:\n",
    "    np_list = []\n",
    "    for i in range(len(py_list)):\n",
    "        np_list.append(np.array(py_list[i]).astype(np.float32, casting='unsafe', copy=True))\n",
    "    np_data.append(np_list)\n",
    "\n",
    "# max and variance\n",
    "# -----------------\n",
    "py_data2 = [max_2021, variance_2021, max_2022, variance_2022]\n",
    "np_data2 = []\n",
    "for py_list in py_data2:\n",
    "    np_data2.append(np.array(py_list).astype(np.float32, casting='unsafe', copy=True))\n",
    "\n",
    "np_max_2022 = np_data2[2]\n",
    "np_max_2021 = np_data2[0]\n",
    "\n",
    "# increasing importance of certain stats in the cost function\n",
    "# ------------------------------------------------------------\n",
    "increase = 4\n",
    "important_stats_indicis = [0,1,2,3,4,5, 13,14,15,16,17,18]\n",
    "for index in important_stats_indicis:\n",
    "    py_data2[1][index] = (py_data2[1][index]/increase)\n",
    "    py_data2[3][index] = (py_data2[3][index]/increase)\n",
    "\n",
    "\n",
    "\n",
    "np_data = [np_data[0], np_data[1], np.multiply(np_data2[1], 100), \n",
    "           np_data[2], np_data[3], np.multiply(np_data2[3], 100)]"
   ]
  },
  {
   "cell_type": "markdown",
   "id": "f71b9073",
   "metadata": {},
   "source": [
    "# Create and test population"
   ]
  },
  {
   "cell_type": "code",
   "execution_count": 13,
   "id": "b4c439db",
   "metadata": {},
   "outputs": [],
   "source": [
    "#TEST_population = Population(52, 26, learning_rate=0.001)\n",
    "TEST_population  = Population(52, 26, learning_rate=0.1)\n",
    "\n",
    "all_times = [0,0,0,0,0]\n",
    "all_costs = []\n",
    "all_accuracies = []"
   ]
  },
  {
   "cell_type": "markdown",
   "id": "4511b8fe",
   "metadata": {},
   "source": [
    "### graphed performance"
   ]
  },
  {
   "cell_type": "code",
   "execution_count": 14,
   "id": "88a262bd",
   "metadata": {},
   "outputs": [],
   "source": [
    "TEST_population.learning_rate = 0.05"
   ]
  },
  {
   "cell_type": "code",
   "execution_count": 19,
   "id": "8aa83ade",
   "metadata": {},
   "outputs": [
    {
     "name": "stdout",
     "output_type": "stream",
     "text": [
      "Training Progress:                             |  cost     acc  |     steps           time      remaining  \n",
      "                                               | ------  ------ | ----------  -------------  ------------- \n",
      "[#################################] -  100.0%  |  1.015  49.65% |      40/40          39.4s           0.0s     \r"
     ]
    }
   ],
   "source": [
    "# training loops\n",
    "# ---------------\n",
    "times, costs, accuracies = TEST_population.train_and_test(np_data, 40)\n",
    "\n",
    "# update tracking\n",
    "# ---------------\n",
    "for i in range(len(all_times)):\n",
    "    all_times[i] += times[i]\n",
    "all_costs      += costs\n",
    "all_accuracies += accuracies"
   ]
  },
  {
   "cell_type": "code",
   "execution_count": 20,
   "id": "c8d31c8a",
   "metadata": {},
   "outputs": [
    {
     "name": "stdout",
     "output_type": "stream",
     "text": [
      " \n",
      "             time(s)   percent  per step       | steps:               80\n",
      "            --------  --------  --------       | learning rate:     0.05\n",
      "calc value     32.37     40.72%      0.4       | # connections:     4680\n",
      "grad dscnt     39.37     49.53%     0.49       | L1 (sum):        -0.001\n",
      "scoring         6.99      8.79%     0.09       | L2 (**2):        0.0063\n",
      "step time       79.5     100.0%     0.99\n",
      "\n",
      "cost:  1.015  1.015  1.015  1.015  1.015 \n",
      "acc:   49.68% 49.64% 49.68% 49.67% 49.65%\n"
     ]
    },
    {
     "data": {
      "image/png": "[encoded data removed]",
      "text/plain": [
       "<Figure size 720x360 with 2 Axes>"
      ]
     },
     "metadata": {
      "needs_background": "light"
     },
     "output_type": "display_data"
    }
   ],
   "source": [
    "TEST_population.report_training_progress(all_times)     # timing\n",
    "#graph_progress(all_costs, all_accuracies)               # graphs\n",
    "graph_progress(all_costs[20:], all_accuracies[20:], show_recents=True) # graphs (recent)"
   ]
  },
  {
   "cell_type": "code",
   "execution_count": 17,
   "id": "72860211",
   "metadata": {},
   "outputs": [
    {
     "name": "stdout",
     "output_type": "stream",
     "text": [
      "         FG%2   FGA2   FG%3   FGA3    FT%    FTA     OR     DR    Ast     TO    Stl    Blk     PF \n",
      "actual  0.463   41.0  0.481   27.0    0.6   15.0   11.0   26.0   23.0    9.0    6.0    5.0   17.0 \n",
      "model   0.479   37.6   0.33   21.2  0.737   19.7   10.6   22.2   12.5   11.0    6.4    3.4    7.2 \n",
      "        -----  -----  -----  -----  -----  -----  -----  -----  -----  -----  -----  -----  ----- \n",
      "cost      0.0    0.0   0.06   0.02   0.01   0.01    0.0   0.01    0.2    0.0    0.0   0.03   0.13 \n",
      "var_c     0.0    0.0   0.01    0.0   0.01    0.0    0.0    0.0   0.05    0.0    0.0    0.0   0.05 \n",
      "\n",
      "        xFG%2  xFGA2  xFG%3  xFGA3   xFT%   xFTA    xOR    xDR   xAst    xTO   xStl   xBlk    xPF \n",
      "actual -0.499  -22.0 -0.419  -31.0 -0.727  -11.0   -3.0  -22.0  -17.0  -15.0   -4.0   -2.0  -18.0 \n",
      "model  -0.508  -40.8 -0.366  -21.9 -0.737  -18.5   -8.5  -21.5  -12.1  -12.5   -8.0   -3.3   -7.1 \n",
      "        -----  -----  -----  -----  -----  -----  -----  -----  -----  -----  -----  -----  ----- \n",
      "cost      0.0   0.12    0.0   0.05    0.0   0.04    0.1    0.0   0.04   0.01   0.09   0.02   0.16 \n",
      "var_c     0.0   0.06    0.0   0.02    0.0   0.01   0.02    0.0   0.01    0.0   0.01    0.0   0.06 \n",
      "\n",
      "                model  actual                      total   average\n",
      "               ------  ------                   --------  --------\n",
      "team 1 score:    71.7    86.0            cost:     1.211     0.046\n",
      "team 2 score:   -79.3   -69.0            var_c:    0.396     0.015\n",
      "               ------  ------\n",
      "team 1 win?:        0       1\n"
     ]
    }
   ],
   "source": [
    "game_id = 102\n",
    "TEST_population.box_score_preview(np_data[3], np_data[4], np_data[5], game_id, np_max_2022, headers_list)"
   ]
  },
  {
   "cell_type": "code",
   "execution_count": 18,
   "id": "5333f32c",
   "metadata": {},
   "outputs": [
    {
     "name": "stdout",
     "output_type": "stream",
     "text": [
      "\n",
      "           abs_avg   abs_med       sum       max       min\n",
      "          --------  --------  --------  --------  --------\n",
      "values       0.329     0.288    -1.658     0.916    -0.737\n",
      "biases       0.012     0.011     0.218     0.036    -0.032\n",
      "weights      0.056     0.037    -4.081     0.386    -0.439\n",
      "          --------  --------  --------  --------  --------\n",
      "values       0.565     0.572    -0.154     0.737    -0.756\n",
      "biases       0.048     0.043    -0.038       0.1    -0.089\n",
      "weights      0.052     0.032    -0.366     0.365    -0.311\n"
     ]
    }
   ],
   "source": [
    "TEST_population.print_magnitudes_report()"
   ]
  },
  {
   "cell_type": "code",
   "execution_count": null,
   "id": "bc1db91b",
   "metadata": {},
   "outputs": [],
   "source": [
    "\n",
    "\n",
    "\n",
    "\n",
    "\n",
    "\n",
    "\n",
    "\n",
    "\n"
   ]
  },
  {
   "cell_type": "code",
   "execution_count": null,
   "id": "be46e432",
   "metadata": {},
   "outputs": [],
   "source": []
  },
  {
   "cell_type": "code",
   "execution_count": null,
   "id": "c903d58a",
   "metadata": {},
   "outputs": [],
   "source": []
  },
  {
   "cell_type": "code",
   "execution_count": null,
   "id": "18a78ab7",
   "metadata": {},
   "outputs": [],
   "source": []
  },
  {
   "cell_type": "code",
   "execution_count": null,
   "id": "87e6d120",
   "metadata": {},
   "outputs": [],
   "source": []
  },
  {
   "cell_type": "code",
   "execution_count": null,
   "id": "f46ebb7f",
   "metadata": {},
   "outputs": [],
   "source": []
  }
 ],
 "metadata": {
  "kernelspec": {
   "display_name": "Python 3 (ipykernel)",
   "language": "python",
   "name": "python3"
  },
  "language_info": {
   "codemirror_mode": {
    "name": "ipython",
    "version": 3
   },
   "file_extension": ".py",
   "mimetype": "text/x-python",
   "name": "python",
   "nbconvert_exporter": "python",
   "pygments_lexer": "ipython3",
   "version": "3.8.8"
  }
 },
 "nbformat": 4,
 "nbformat_minor": 5
}
