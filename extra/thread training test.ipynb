{
 "cells": [
  {
   "cell_type": "code",
   "execution_count": 1,
   "id": "34b01fc5",
   "metadata": {},
   "outputs": [],
   "source": [
    "from time import time\n",
    "import threading"
   ]
  },
  {
   "cell_type": "code",
   "execution_count": 2,
   "id": "03b42884",
   "metadata": {},
   "outputs": [],
   "source": [
    "class my_timer:\n",
    "    \n",
    "    def __init__(self):\n",
    "        self.timer   = 0\n",
    "        self.running = True\n",
    "        \n",
    "    def start_training(self):\n",
    "        start_time = time()\n",
    "        while self.running:\n",
    "            pass\n",
    "        self.timer += (time()-start_time)\n",
    "        self.show_timer()\n",
    "        \n",
    "    def show_timer(self):\n",
    "        print( round(self.timer, 2) )"
   ]
  },
  {
   "cell_type": "code",
   "execution_count": 3,
   "id": "c0f774e4",
   "metadata": {},
   "outputs": [],
   "source": [
    "training_timer  = my_timer()\n",
    "training_thread = threading.Thread(target=training_timer.start_training)"
   ]
  },
  {
   "cell_type": "code",
   "execution_count": 4,
   "id": "9d4abff3",
   "metadata": {},
   "outputs": [],
   "source": [
    "training_thread.start()"
   ]
  },
  {
   "cell_type": "code",
   "execution_count": 6,
   "id": "17b9f117",
   "metadata": {},
   "outputs": [
    {
     "name": "stdout",
     "output_type": "stream",
     "text": [
      "7.58\n"
     ]
    }
   ],
   "source": [
    "training_timer.running = False"
   ]
  },
  {
   "cell_type": "code",
   "execution_count": 7,
   "id": "6b44c866",
   "metadata": {},
   "outputs": [
    {
     "data": {
      "text/plain": [
       "7.582087755203247"
      ]
     },
     "execution_count": 7,
     "metadata": {},
     "output_type": "execute_result"
    }
   ],
   "source": [
    "training_timer.timer"
   ]
  },
  {
   "cell_type": "code",
   "execution_count": null,
   "id": "77fa7a21",
   "metadata": {},
   "outputs": [],
   "source": []
  }
 ],
 "metadata": {
  "kernelspec": {
   "display_name": "Python 3 (ipykernel)",
   "language": "python",
   "name": "python3"
  },
  "language_info": {
   "codemirror_mode": {
    "name": "ipython",
    "version": 3
   },
   "file_extension": ".py",
   "mimetype": "text/x-python",
   "name": "python",
   "nbconvert_exporter": "python",
   "pygments_lexer": "ipython3",
   "version": "3.8.8"
  }
 },
 "nbformat": 4,
 "nbformat_minor": 5
}
