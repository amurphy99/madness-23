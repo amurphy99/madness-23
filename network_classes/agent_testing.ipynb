{
 "cells": [
  {
   "cell_type": "markdown",
   "id": "06dd8a18",
   "metadata": {},
   "source": [
    "# Imports"
   ]
  },
  {
   "cell_type": "code",
   "execution_count": 1,
   "id": "7e0f8dd4",
   "metadata": {},
   "outputs": [],
   "source": [
    "from network_classes.neuron import Neuron\n",
    "from network_classes.agent  import Agent"
   ]
  },
  {
   "cell_type": "markdown",
   "id": "ded6967d",
   "metadata": {},
   "source": [
    "# Testing Creation"
   ]
  },
  {
   "cell_type": "code",
   "execution_count": 2,
   "id": "56a35999",
   "metadata": {},
   "outputs": [],
   "source": [
    "test1 = Agent(2)"
   ]
  },
  {
   "cell_type": "code",
   "execution_count": 3,
   "id": "76f265fb",
   "metadata": {},
   "outputs": [
    {
     "name": "stdout",
     "output_type": "stream",
     "text": [
      "format  ->  final value   \n",
      "            ------------- \n",
      "            # connections \n",
      "\n",
      "\n",
      " 0.00  0.00 \n",
      "    2     2 \n",
      "\n",
      " 0.00  0.00 \n",
      "    1     1 \n",
      "\n",
      " 0.00 \n",
      "    0 \n",
      "\n"
     ]
    }
   ],
   "source": [
    "test1.print1()"
   ]
  },
  {
   "cell_type": "code",
   "execution_count": 4,
   "id": "e751ae2f",
   "metadata": {},
   "outputs": [
    {
     "name": "stdout",
     "output_type": "stream",
     "text": [
      "[(1, 0), 0.1636349662096952]\n",
      "[(1, 1), -0.20945562823597141]\n",
      "\n",
      "[(1, 0), -0.41505931321803]\n",
      "[(1, 1), -0.48571483129631066]\n",
      "\n",
      "((-1, 0), 1)\n",
      "\n",
      "((-1, 0), 1)\n",
      "\n",
      "\n"
     ]
    }
   ],
   "source": [
    "for layer in test1.layers:\n",
    "    for agent in layer:\n",
    "        for connection in agent.sending:\n",
    "            print(connection)\n",
    "        print()"
   ]
  },
  {
   "cell_type": "markdown",
   "id": "a1e04ebb",
   "metadata": {},
   "source": [
    "## AND/OR/XOR ?"
   ]
  },
  {
   "cell_type": "markdown",
   "id": "c75736e9",
   "metadata": {},
   "source": [
    "### inputs and solutions"
   ]
  },
  {
   "cell_type": "code",
   "execution_count": 5,
   "id": "b9bd4b5f",
   "metadata": {},
   "outputs": [],
   "source": [
    "def format_result(output):\n",
    "    if output > 0: return 1\n",
    "    else: return 0"
   ]
  },
  {
   "cell_type": "code",
   "execution_count": 6,
   "id": "6850ad73",
   "metadata": {},
   "outputs": [],
   "source": [
    "logic_inputs =[ [0,0],\n",
    "                [0,1],\n",
    "                [1,0],\n",
    "                [1,1]  ]\n",
    "\n",
    "and_solutions = [0,0,0,1]\n",
    "or__solutions = [0,1,1,1]\n",
    "xor_solutions = [0,1,1,0]"
   ]
  },
  {
   "cell_type": "markdown",
   "id": "0ab3af52",
   "metadata": {},
   "source": [
    "### AND"
   ]
  },
  {
   "cell_type": "code",
   "execution_count": 7,
   "id": "f066470a",
   "metadata": {},
   "outputs": [
    {
     "name": "stdout",
     "output_type": "stream",
     "text": [
      "format  ->  final value   \n",
      "            ------------- \n",
      "            # connections \n",
      "\n",
      "\n",
      " 0.37  0.69 \n",
      "    2     2 \n",
      "\n",
      " 0.54  0.65 \n",
      "    1     1 \n",
      "\n",
      " 0.77 \n",
      "    0 \n",
      "\n",
      "1000 iterations\n",
      "agent scored 1 out of 4 for AND\n"
     ]
    }
   ],
   "source": [
    "AND_agent = Agent(2)\n",
    "\n",
    "iterations = 0\n",
    "for i in range(1000):\n",
    "    score = 0\n",
    "    for i in range(len(and_solutions)):\n",
    "        AND_agent.set_inputs(logic_inputs[i])\n",
    "        output = AND_agent.calculate_value()\n",
    "        result = format_result(output)\n",
    "        \n",
    "        if result == and_solutions[i]: score += 1\n",
    "            \n",
    "    if score == 4: break\n",
    "    else:\n",
    "        AND_agent.mutate()\n",
    "        iterations += 1\n",
    "\n",
    "    \n",
    "AND_agent.set_inputs(logic_inputs[0])\n",
    "AND_agent.calculate_value()\n",
    "AND_agent.print1()\n",
    "\n",
    "\n",
    "print(\"{} iterations\".format(iterations))\n",
    "print(\"agent scored {} out of {} for AND\".format(score, len(and_solutions)))"
   ]
  },
  {
   "cell_type": "markdown",
   "id": "4259ddb8",
   "metadata": {},
   "source": [
    "### OR"
   ]
  },
  {
   "cell_type": "code",
   "execution_count": 8,
   "id": "74d19f78",
   "metadata": {},
   "outputs": [
    {
     "name": "stdout",
     "output_type": "stream",
     "text": [
      "format  ->  final value   \n",
      "            ------------- \n",
      "            # connections \n",
      "\n",
      "\n",
      " 0.69  0.63 \n",
      "    2     2 \n",
      "\n",
      " 0.50  0.69 \n",
      "    1     1 \n",
      "\n",
      " 0.77 \n",
      "    0 \n",
      "\n",
      "1000 iterations\n",
      "agent scored 3 out of 4 for OR\n"
     ]
    }
   ],
   "source": [
    "OR__agent = Agent(2)\n",
    "\n",
    "iterations = 0\n",
    "for i in range(1000):\n",
    "    score = 0\n",
    "    for i in range(len(or__solutions)):\n",
    "        OR__agent.set_inputs(logic_inputs[i])\n",
    "        output = OR__agent.calculate_value()\n",
    "        result = format_result(output)\n",
    "        \n",
    "        if result == or__solutions[i]: score += 1\n",
    "            \n",
    "    if score == 4: break\n",
    "    else:\n",
    "        OR__agent.mutate()\n",
    "        iterations += 1\n",
    "\n",
    "    \n",
    "OR__agent.set_inputs(logic_inputs[0])\n",
    "OR__agent.calculate_value()\n",
    "OR__agent.print1()\n",
    "\n",
    "\n",
    "print(\"{} iterations\".format(iterations))\n",
    "print(\"agent scored {} out of {} for OR\".format(score, len(and_solutions)))"
   ]
  },
  {
   "cell_type": "markdown",
   "id": "54ffbde2",
   "metadata": {},
   "source": [
    "### XOR"
   ]
  },
  {
   "cell_type": "code",
   "execution_count": 9,
   "id": "6c78366e",
   "metadata": {},
   "outputs": [
    {
     "name": "stdout",
     "output_type": "stream",
     "text": [
      "\n",
      "        (0,1) -> bias, final value\n",
      "        ----------------------------\n",
      "        (1,0) -> weight | value sent\n",
      "        (1,2) -> weight | value sent\n",
      "\n",
      "        \n",
      "\n",
      "\n",
      "(0,0)  ->  1.00,   0.73   (0,1)  -> -0.01,   0.50   \n",
      "-----------------------   -----------------------   \n",
      "(1,1)  -> -0.21 | -0.15   (1,1)  -> -0.79 | -0.39   \n",
      "(1,0)  -> -1.00 | -0.73   (1,0)  ->  0.42 |  0.21   \n",
      "\n",
      "\n",
      "(1,0)  ->  0.95,   0.60   (1,1)  -> -0.07,   0.35   \n",
      "-----------------------   -----------------------   \n",
      "(-1,0) ->  1.00 |  0.60   (-1,0) ->  1.00 |  0.35   \n",
      "\n",
      "\n",
      "\n",
      "(2,0)  ->  0.00,   0.72   \n",
      "-----------------------   \n",
      "\n",
      "\n",
      "\n",
      "\n",
      "10000 iterations\n",
      "agent scored 2 out of 4 for XOR\n"
     ]
    }
   ],
   "source": [
    "XOR_agent = Agent(2)\n",
    "\n",
    "iterations = 0\n",
    "for i in range(10000):\n",
    "    score = 0\n",
    "    for i in range(len(xor_solutions)):\n",
    "        XOR_agent.set_inputs(logic_inputs[i])\n",
    "        output = XOR_agent.calculate_value()\n",
    "        result = format_result(output)\n",
    "        \n",
    "        if result == xor_solutions[i]: score += 1\n",
    "            \n",
    "    if score == 4: break\n",
    "    else:\n",
    "        XOR_agent.mutate()\n",
    "        iterations += 1\n",
    "\n",
    "    \n",
    "XOR_agent.set_inputs(logic_inputs[0])\n",
    "XOR_agent.calculate_value()\n",
    "XOR_agent.print2()\n",
    "\n",
    "\n",
    "print(\"{} iterations\".format(iterations))\n",
    "print(\"agent scored {} out of {} for XOR\".format(score, len(and_solutions)))"
   ]
  },
  {
   "cell_type": "code",
   "execution_count": null,
   "id": "6ea3bd93",
   "metadata": {},
   "outputs": [],
   "source": []
  },
  {
   "cell_type": "code",
   "execution_count": null,
   "id": "4668b557",
   "metadata": {},
   "outputs": [],
   "source": []
  },
  {
   "cell_type": "code",
   "execution_count": null,
   "id": "c83d299b",
   "metadata": {},
   "outputs": [],
   "source": []
  },
  {
   "cell_type": "code",
   "execution_count": null,
   "id": "44a90d2c",
   "metadata": {},
   "outputs": [],
   "source": []
  },
  {
   "cell_type": "code",
   "execution_count": null,
   "id": "41f8d00f",
   "metadata": {},
   "outputs": [],
   "source": []
  }
 ],
 "metadata": {
  "kernelspec": {
   "display_name": "Python 3 (ipykernel)",
   "language": "python",
   "name": "python3"
  },
  "language_info": {
   "codemirror_mode": {
    "name": "ipython",
    "version": 3
   },
   "file_extension": ".py",
   "mimetype": "text/x-python",
   "name": "python",
   "nbconvert_exporter": "python",
   "pygments_lexer": "ipython3",
   "version": "3.8.8"
  }
 },
 "nbformat": 4,
 "nbformat_minor": 5
}
