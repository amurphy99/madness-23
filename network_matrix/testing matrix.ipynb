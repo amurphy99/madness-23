{
 "cells": [
  {
   "cell_type": "code",
   "execution_count": 1,
   "id": "5c6b3e73",
   "metadata": {},
   "outputs": [],
   "source": [
    "import numpy as np\n",
    "import matplotlib.pyplot as plt\n",
    "\n",
    "from random import uniform\n",
    "from time   import time"
   ]
  },
  {
   "cell_type": "markdown",
   "id": "cef641fc",
   "metadata": {},
   "source": [
    "### normal python"
   ]
  },
  {
   "cell_type": "code",
   "execution_count": 60,
   "id": "6a54d4c8",
   "metadata": {},
   "outputs": [],
   "source": [
    "def python_speed_test(num_range, test_list_length, test_repetitions):\n",
    "    # create lists and generate values\n",
    "    py_list_1 = []\n",
    "    py_list_2 = []\n",
    "    for i in range(test_list_length):\n",
    "        py_list_1.append( uniform(-num_range, test_range) )\n",
    "        py_list_2.append( uniform(-num_range, test_range) )\n",
    "    \n",
    "    # timed test\n",
    "    py_start_time = time()\n",
    "    \n",
    "    output_sum = 0\n",
    "    for i in range(test_repetitions):\n",
    "        output_list = []\n",
    "        for j in range(test_list_length):\n",
    "            output_list.append( (py_list_1[j]*py_list_2[j]) )\n",
    "        output_sum += sum(output_list)\n",
    "        \n",
    "    py_end_time = (time()-py_start_time)\n",
    "    \n",
    "    \n",
    "    return py_end_time\n",
    "    "
   ]
  },
  {
   "cell_type": "markdown",
   "id": "6c8cae57",
   "metadata": {},
   "source": [
    "### numpy (float64)"
   ]
  },
  {
   "cell_type": "code",
   "execution_count": 61,
   "id": "d9aca8a7",
   "metadata": {},
   "outputs": [],
   "source": [
    "def np_f64_speed_test(num_range, test_list_length, test_repetitions):\n",
    "    # create lists and generate values\n",
    "    np64_list_1 = np.random.uniform(-num_range, num_range, size=test_list_length)\n",
    "    np64_list_2 = np.random.uniform(-num_range, num_range, size=test_list_length)\n",
    "    \n",
    "    # timed test\n",
    "    np64_start_time = time()\n",
    "\n",
    "    output_sum = 0\n",
    "    for i in range(test_repetitions):\n",
    "        output_list = np.multiply(np64_list_1, np64_list_2)\n",
    "        output_sum += np.sum(output_list)\n",
    "\n",
    "    np64_end_time = (time()-np64_start_time)\n",
    "    \n",
    "    \n",
    "    return np64_end_time\n",
    "    "
   ]
  },
  {
   "cell_type": "markdown",
   "id": "f578cc0c",
   "metadata": {},
   "source": [
    "### numpy (float32)"
   ]
  },
  {
   "cell_type": "code",
   "execution_count": 62,
   "id": "1288055d",
   "metadata": {},
   "outputs": [],
   "source": [
    "def np_f32_speed_test(num_range, test_list_length, test_repetitions):\n",
    "    # create lists and generate values\n",
    "    np64_list_1 = np.random.uniform(-num_range, num_range, size=test_list_length)\n",
    "    np64_list_2 = np.random.uniform(-num_range, num_range, size=test_list_length)\n",
    "    \n",
    "    np32_list_1 = np64_list_1.astype(np.float32, casting='unsafe', copy=True)\n",
    "    np32_list_2 = np64_list_2.astype(np.float32, casting='unsafe', copy=True)\n",
    "    \n",
    "    # timed test\n",
    "    np32_start_time = time()\n",
    "\n",
    "    output_sum = 0\n",
    "    for i in range(test_repetitions):\n",
    "        output_list = np.multiply(np32_list_1, np32_list_2)\n",
    "        output_sum += np.sum(output_list)\n",
    "\n",
    "    np32_end_time = (time()-np32_start_time)\n",
    "    \n",
    "    \n",
    "    return np32_end_time\n"
   ]
  },
  {
   "cell_type": "markdown",
   "id": "3d9d56cc",
   "metadata": {},
   "source": [
    "### constants"
   ]
  },
  {
   "cell_type": "code",
   "execution_count": 63,
   "id": "3c87beb1",
   "metadata": {},
   "outputs": [],
   "source": [
    "num_range = 1.0\n",
    "test_repetitions = 100"
   ]
  },
  {
   "cell_type": "markdown",
   "id": "b4df454b",
   "metadata": {},
   "source": [
    "### collecting speed data"
   ]
  },
  {
   "cell_type": "code",
   "execution_count": 64,
   "id": "28ea43d3",
   "metadata": {},
   "outputs": [],
   "source": [
    "list_lengths = [1_000, 10_000, 100_000, 1_000_000]\n",
    "\n",
    "python_times = []\n",
    "np_f64_times = []\n",
    "np_f32_times = []\n",
    "\n",
    "for list_length in list_lengths:\n",
    "    python_times.append( python_speed_test(num_range, list_length, test_repetitions)*1000 )\n",
    "    np_f64_times.append( np_f64_speed_test(num_range, list_length, test_repetitions)*1000 )\n",
    "    np_f32_times.append( np_f32_speed_test(num_range, list_length, test_repetitions)*1000 )\n"
   ]
  },
  {
   "cell_type": "code",
   "execution_count": 80,
   "id": "5073e363",
   "metadata": {},
   "outputs": [],
   "source": [
    "results = [python_times, np_f64_times, np_f32_times]\n",
    "\n",
    "python_line = \"\"\n",
    "np_f64_line = \"\"\n",
    "np_f32_line = \"\"\n",
    "\n",
    "result_lines = [\"Time (ms) of multiplying two lists (averaged over 100 repetitions)\\n\",\n",
    "                \"size    {:>8}  {:>8}  {:>8}  {:>8}\".format(\"1k\", \"10k\", \"100k\", \"1000k\"),\n",
    "                \"        --------  --------  --------  --------\",\n",
    "                \"python  \", \n",
    "                \"np_f64  \", \n",
    "                \"np_f32  \"\n",
    "               ]\n",
    "\n",
    "for i in range(len(results[0])):\n",
    "    result_lines[-3] += \"{:>8}  \".format( round(results[0][i], 2) )\n",
    "    result_lines[-2] += \"{:>8}  \".format( round(results[1][i], 2) )\n",
    "    result_lines[-1] += \"{:>8}  \".format( round(results[2][i], 2) )\n",
    "               \n",
    "#for line in result_lines:\n",
    "    #print(line)"
   ]
  },
  {
   "cell_type": "markdown",
   "id": "022385e7",
   "metadata": {},
   "source": [
    "### graphing results"
   ]
  },
  {
   "cell_type": "code",
   "execution_count": 81,
   "id": "31dcecc6",
   "metadata": {},
   "outputs": [
    {
     "name": "stdout",
     "output_type": "stream",
     "text": [
      "Time (ms) of multiplying two lists (averaged over 100 repetitions)\n",
      "\n",
      "size          1k       10k      100k     1000k\n",
      "        --------  --------  --------  --------\n",
      "python      18.7    145.44   1672.21  17487.56  \n",
      "np_f64      2.64      1.45     15.46    219.16  \n",
      "np_f32      1.63      1.15      7.56     72.13  \n"
     ]
    },
    {
     "data": {
      "image/png": "[encoded data removed]",
      "text/plain": [
       "<Figure size 432x288 with 1 Axes>"
      ]
     },
     "metadata": {
      "needs_background": "light"
     },
     "output_type": "display_data"
    }
   ],
   "source": [
    "# print results\n",
    "for line in result_lines:\n",
    "    print(line)\n",
    "\n",
    "# plot the lines\n",
    "#plt.plot(list_lengths, python_times, label = \"base python\")\n",
    "plt.plot(list_lengths, np_f64_times, label = \"np.float64 \")\n",
    "plt.plot(list_lengths, np_f32_times, label = \"np.float32 \")\n",
    "\n",
    "# labels\n",
    "plt.xlabel('list lengths') # Set the y axis label of the current axis.\n",
    "plt.ylabel('time (ms)') # Set a title of the current axes.\n",
    "plt.title('multiplecation time comparisons ') \n",
    "plt.legend() # show a legend on the plot\n",
    "\n",
    "plt.xlim(0, 1_000_000)\n",
    "#plt.ylim(-1, 1)\n",
    "\n",
    "# Display a figure.\n",
    "plt.show()"
   ]
  },
  {
   "cell_type": "markdown",
   "id": "327ad3b6",
   "metadata": {},
   "source": [
    "# Testing other numpy features"
   ]
  },
  {
   "cell_type": "code",
   "execution_count": 113,
   "id": "662db02d",
   "metadata": {},
   "outputs": [
    {
     "name": "stdout",
     "output_type": "stream",
     "text": [
      "[[0 1 2]\n",
      " [3 4 5]\n",
      " [6 7 8]] \n",
      "\n",
      "[[  0  -2  -6]\n",
      " [ -3  -8 -15]\n",
      " [ -6 -14 -24]]\n"
     ]
    }
   ],
   "source": [
    "test_array = np.array([[0,1,2], [3,4,5], [6,7,8]])\n",
    "test_mult = np.array([-1,-2,-3])\n",
    "\n",
    "mult_result = np.multiply(test_array, test_mult)\n",
    "\n",
    "print(test_array, \"\\n\")\n",
    "print(mult_result)"
   ]
  },
  {
   "cell_type": "code",
   "execution_count": 114,
   "id": "6bf141c6",
   "metadata": {},
   "outputs": [
    {
     "name": "stdout",
     "output_type": "stream",
     "text": [
      "[ -8 -26 -44]\n",
      "[ -4 -18 -28]\n"
     ]
    }
   ],
   "source": [
    "sum_result = np.sum(mult_result, axis=1)\n",
    "\n",
    "test_sum = np.array([4, 8, 16])\n",
    "add_result = np.sum([sum_result, test_sum], axis=0)\n",
    "\n",
    "print(sum_result)\n",
    "print(add_result)"
   ]
  },
  {
   "cell_type": "code",
   "execution_count": 98,
   "id": "d07ed2a0",
   "metadata": {},
   "outputs": [
    {
     "data": {
      "text/plain": [
       "array([[0, 0, 0],\n",
       "       [0, 0, 0],\n",
       "       [0, 0, 0]])"
      ]
     },
     "execution_count": 98,
     "metadata": {},
     "output_type": "execute_result"
    }
   ],
   "source": [
    "test_sum_array_1 = np.array([[ 0, 1, 2], [ 3, 4, 5], [ 6, 7, 8]])\n",
    "test_sum_array_2 = np.array([[ 0,-1,-2], [-3,-4,-5], [-6,-7,-8]])\n",
    "\n",
    "test_sum_array_3 = np.add(test_sum_array_1, test_sum_array_2)\n",
    "\n",
    "test_sum_array_3"
   ]
  },
  {
   "cell_type": "code",
   "execution_count": null,
   "id": "9af56588",
   "metadata": {},
   "outputs": [],
   "source": [
    "'''\n",
    "for me this means:\n",
    "# list of weights connecting TO for EACH neuron in the following layer\n",
    "test_array = [\n",
    "              [weight_from_n0, weight_from_n2, ... ],\n",
    "              [weight_from_n0, weight_from_n2, ... ],\n",
    "              [weight_from_n0, weight_from_n2, ... ], \n",
    "              ...]\n",
    "\n",
    "# list of values from neurons in the previous layer\n",
    "test_mult  = [value_of_n0, value_of_n1, ... ]\n",
    "\n",
    "\n",
    "# \n",
    "\n",
    "\n",
    "''';"
   ]
  },
  {
   "cell_type": "code",
   "execution_count": 94,
   "id": "4f7ac9ce",
   "metadata": {},
   "outputs": [
    {
     "data": {
      "text/plain": [
       "array([[-0.29568706,  0.52763607,  0.90084597],\n",
       "       [ 0.01394084, -0.91549627, -0.16852127]])"
      ]
     },
     "execution_count": 94,
     "metadata": {},
     "output_type": "execute_result"
    }
   ],
   "source": [
    "test2 = np.random.uniform(-1.0, 1.0, size=(2,3))\n",
    "test2"
   ]
  },
  {
   "cell_type": "code",
   "execution_count": 96,
   "id": "fee65116",
   "metadata": {},
   "outputs": [
    {
     "data": {
      "text/plain": [
       "array([1.1, 2.2, 3.3], dtype=float32)"
      ]
     },
     "execution_count": 96,
     "metadata": {},
     "output_type": "execute_result"
    }
   ],
   "source": [
    "base_list  = [1.1, 2.2, 3.3]\n",
    "base_numpy = np.array(base_list).astype(np.float32, casting='unsafe', copy=True)\n",
    "\n",
    "base_numpy"
   ]
  },
  {
   "cell_type": "code",
   "execution_count": 119,
   "id": "de520bf9",
   "metadata": {},
   "outputs": [
    {
     "data": {
      "text/plain": [
       "array([[ 4.84,  9.68],\n",
       "       [24.2 , 30.25],\n",
       "       [50.82, 58.08]])"
      ]
     },
     "execution_count": 119,
     "metadata": {},
     "output_type": "execute_result"
    }
   ],
   "source": [
    "test1 = np.array([ [1.1, 2.2],\n",
    "                   [4.4, 5.5],\n",
    "                   [7.7, 8.8] ])\n",
    "\n",
    "test3 = np.array([4.4, 5.5, 6.6])\n",
    "\n",
    "test4 = test1 * test3[:, None]\n",
    "test4"
   ]
  },
  {
   "cell_type": "code",
   "execution_count": 128,
   "id": "e16a2d40",
   "metadata": {},
   "outputs": [
    {
     "data": {
      "text/plain": [
       "10"
      ]
     },
     "execution_count": 128,
     "metadata": {},
     "output_type": "execute_result"
    }
   ],
   "source": [
    "710%100"
   ]
  },
  {
   "cell_type": "code",
   "execution_count": 126,
   "id": "db380c56",
   "metadata": {},
   "outputs": [
    {
     "name": "stdout",
     "output_type": "stream",
     "text": [
      "\n",
      "0 line/r\n",
      "1 line/r\n",
      "2 line/r\u001b[1A\u001b[1A\u001b[2K"
     ]
    }
   ],
   "source": [
    "for i in range(3):\n",
    "    print( \"{}{} line\".format( (\"\\n\"*(0+1)), i ), end='/r')\n",
    "    \n",
    "LINE_UP = '\\033[1A'\n",
    "LINE_CLEAR = '\\x1b[2K'\n",
    "print(LINE_UP*2, end=LINE_CLEAR)"
   ]
  },
  {
   "cell_type": "code",
   "execution_count": null,
   "id": "4af30e46",
   "metadata": {},
   "outputs": [],
   "source": [
    "'''\n",
    "(37,28) (37,) \n",
    "(37,56) (56,1)\n",
    "\n",
    "''';"
   ]
  },
  {
   "cell_type": "code",
   "execution_count": 109,
   "id": "b1787d20",
   "metadata": {},
   "outputs": [
    {
     "data": {
      "text/plain": [
       "array([[1.1, 4.4, 7.7],\n",
       "       [2.2, 5.5, 8.8],\n",
       "       [3.3, 6.6, 9.9]])"
      ]
     },
     "execution_count": 109,
     "metadata": {},
     "output_type": "execute_result"
    }
   ],
   "source": [
    "test1 = np.array([ [1.1, 2.2, 3.3],\n",
    "                   [4.4, 5.5, 6.6],\n",
    "                   [7.7, 8.8, 9.9] ])\n",
    "\n",
    "test2 = np.transpose(test1)\n",
    "test2"
   ]
  },
  {
   "cell_type": "code",
   "execution_count": 112,
   "id": "52fa05e5",
   "metadata": {},
   "outputs": [
    {
     "data": {
      "text/plain": [
       "[-5, -4, -3, -2, -1]"
      ]
     },
     "execution_count": 112,
     "metadata": {},
     "output_type": "execute_result"
    }
   ],
   "source": [
    "list(range(-5,0))"
   ]
  },
  {
   "cell_type": "code",
   "execution_count": null,
   "id": "a379d133",
   "metadata": {},
   "outputs": [],
   "source": [
    "\n",
    "\n",
    "\n",
    "\n",
    "\n"
   ]
  },
  {
   "cell_type": "code",
   "execution_count": 18,
   "id": "42f8b340",
   "metadata": {},
   "outputs": [
    {
     "data": {
      "text/plain": [
       "array([-0.4502267 ,  0.76162574,  0.63749814,  0.64755834, -0.23938371,\n",
       "        0.34307774,  0.77311155,  0.20142181,  0.23097662,  0.37688703])"
      ]
     },
     "execution_count": 18,
     "metadata": {},
     "output_type": "execute_result"
    }
   ],
   "source": [
    "# test = np.random.uniform(-1.0, 1.0, size=10, dtype='np.float32')\n",
    "x = np.random.uniform(-1.0, 1.0, size=10)\n",
    "x"
   ]
  },
  {
   "cell_type": "code",
   "execution_count": 22,
   "id": "9db61ef8",
   "metadata": {},
   "outputs": [
    {
     "data": {
      "text/plain": [
       "numpy.float64"
      ]
     },
     "execution_count": 22,
     "metadata": {},
     "output_type": "execute_result"
    }
   ],
   "source": [
    "type(x[0])"
   ]
  },
  {
   "cell_type": "code",
   "execution_count": 23,
   "id": "c206430a",
   "metadata": {},
   "outputs": [
    {
     "data": {
      "text/plain": [
       "array([-0.4502267 ,  0.76162577,  0.63749814,  0.64755833, -0.23938371,\n",
       "        0.34307775,  0.7731115 ,  0.20142181,  0.23097663,  0.37688702],\n",
       "      dtype=float32)"
      ]
     },
     "execution_count": 23,
     "metadata": {},
     "output_type": "execute_result"
    }
   ],
   "source": [
    "y = x.astype(np.float32, casting='unsafe', copy=True)\n",
    "y"
   ]
  },
  {
   "cell_type": "code",
   "execution_count": 24,
   "id": "36761ed0",
   "metadata": {},
   "outputs": [
    {
     "data": {
      "text/plain": [
       "numpy.float32"
      ]
     },
     "execution_count": 24,
     "metadata": {},
     "output_type": "execute_result"
    }
   ],
   "source": [
    "type(y[0])"
   ]
  },
  {
   "cell_type": "code",
   "execution_count": 25,
   "id": "aa2bf8be",
   "metadata": {},
   "outputs": [],
   "source": [
    "z = np.empty(10, np.float32)"
   ]
  },
  {
   "cell_type": "code",
   "execution_count": 26,
   "id": "08ed6f4d",
   "metadata": {},
   "outputs": [
    {
     "data": {
      "text/plain": [
       "array([0.4502267 , 0.76162577, 0.63749814, 0.64755833, 0.23938371,\n",
       "       0.34307775, 0.7731115 , 0.20142181, 0.23097663, 0.37688702],\n",
       "      dtype=float32)"
      ]
     },
     "execution_count": 26,
     "metadata": {},
     "output_type": "execute_result"
    }
   ],
   "source": [
    "z"
   ]
  },
  {
   "cell_type": "code",
   "execution_count": 28,
   "id": "f1096175",
   "metadata": {},
   "outputs": [
    {
     "data": {
      "text/plain": [
       "array([-0.12360931, -0.26496747,  0.50613344,  0.574816  , -0.24471769,\n",
       "       -0.2321282 ,  0.19968747, -0.776678  ,  0.76834977, -0.93469745],\n",
       "      dtype=float32)"
      ]
     },
     "execution_count": 28,
     "metadata": {},
     "output_type": "execute_result"
    }
   ],
   "source": [
    "base = np.random.uniform(-1.0, 1.0, size=10).astype(np.float32, casting='unsafe', copy=True)\n",
    "base"
   ]
  },
  {
   "cell_type": "code",
   "execution_count": null,
   "id": "24014497",
   "metadata": {},
   "outputs": [],
   "source": [
    "\n",
    "\n",
    "\n",
    "\n",
    "\n",
    "\n",
    "\n",
    "\n",
    "\n"
   ]
  },
  {
   "cell_type": "code",
   "execution_count": null,
   "id": "2adc6cbe",
   "metadata": {},
   "outputs": [],
   "source": [
    "test1 = np.array([ [1.1, 2.2, 3.3],\n",
    "                   [4.4, 5.5, 6.6],\n",
    "                   [7.7, 8.8, 9.9] ])\n",
    "\n",
    "test2 = np.array([ [1.1, 2.2, 3.3],\n",
    "                   [4.4, 5.5, 6.6],\n",
    "                   [7.7, 8.8, 9.9] ])\n",
    "\n",
    "test3 = np.array([ [1.1, 2.2, 3.3],\n",
    "                   [4.4, 5.5, 6.6],\n",
    "                   [7.7, 8.8, 9.9] ])"
   ]
  },
  {
   "cell_type": "code",
   "execution_count": null,
   "id": "a9355124",
   "metadata": {},
   "outputs": [],
   "source": []
  },
  {
   "cell_type": "code",
   "execution_count": null,
   "id": "dcb4295c",
   "metadata": {},
   "outputs": [],
   "source": [
    "\n",
    "\n",
    "\n",
    "\n",
    "\n",
    "\n",
    "\n",
    "\n",
    "\n",
    "\n",
    "\n",
    "\n",
    "\n",
    "\n",
    "\n",
    "\n",
    "\n"
   ]
  }
 ],
 "metadata": {
  "kernelspec": {
   "display_name": "Python 3 (ipykernel)",
   "language": "python",
   "name": "python3"
  },
  "language_info": {
   "codemirror_mode": {
    "name": "ipython",
    "version": 3
   },
   "file_extension": ".py",
   "mimetype": "text/x-python",
   "name": "python",
   "nbconvert_exporter": "python",
   "pygments_lexer": "ipython3",
   "version": "3.8.8"
  }
 },
 "nbformat": 4,
 "nbformat_minor": 5
}
