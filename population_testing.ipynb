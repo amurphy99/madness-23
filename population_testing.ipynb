{
 "cells": [
  {
   "cell_type": "markdown",
   "id": "b04e0ce7",
   "metadata": {},
   "source": [
    "# Imports"
   ]
  },
  {
   "cell_type": "code",
   "execution_count": 1,
   "id": "eecfd03b",
   "metadata": {},
   "outputs": [],
   "source": [
    "from network_classes.neuron      import Neuron\n",
    "from network_classes.agent       import Agent\n",
    "from network_classes.population  import Population"
   ]
  },
  {
   "cell_type": "markdown",
   "id": "80d66277",
   "metadata": {},
   "source": [
    "# Testing Creation"
   ]
  },
  {
   "cell_type": "markdown",
   "id": "daa883e2",
   "metadata": {},
   "source": [
    "## inputs and solutions"
   ]
  },
  {
   "cell_type": "code",
   "execution_count": 2,
   "id": "b87a1940",
   "metadata": {},
   "outputs": [],
   "source": [
    "logic_inputs =[ [0,0],\n",
    "                [0,1],\n",
    "                [1,0],\n",
    "                [1,1]  ]\n",
    "\n",
    "and_solutions = [0,0,0,1]\n",
    "or__solutions = [0,1,1,1]\n",
    "xor_solutions = [0,1,1,0]"
   ]
  },
  {
   "cell_type": "markdown",
   "id": "830c7061",
   "metadata": {},
   "source": [
    "### AND"
   ]
  },
  {
   "cell_type": "code",
   "execution_count": 3,
   "id": "44968929",
   "metadata": {},
   "outputs": [
    {
     "data": {
      "text/plain": [
       "[3, 3, 1, 1, 1, 1, 1, 1, 1, 0]"
      ]
     },
     "execution_count": 3,
     "metadata": {},
     "output_type": "execute_result"
    }
   ],
   "source": [
    "AND_population = Population(2, 10)\n",
    "AND_population.test_agents(logic_inputs, and_solutions)\n",
    "\n",
    "count0 = 0\n",
    "\n",
    "scores = AND_population.scores.copy()\n",
    "scores.sort(reverse=True)\n",
    "scores"
   ]
  },
  {
   "cell_type": "code",
   "execution_count": 4,
   "id": "267f9496",
   "metadata": {},
   "outputs": [
    {
     "name": "stdout",
     "output_type": "stream",
     "text": [
      "67\n"
     ]
    },
    {
     "data": {
      "text/plain": [
       "[4, 3, 3, 3, 3, 3, 3, 3, 3, 3]"
      ]
     },
     "execution_count": 4,
     "metadata": {},
     "output_type": "execute_result"
    }
   ],
   "source": [
    "for i in range(1000):\n",
    "    AND_population.evolution_step()\n",
    "    count0 += 1\n",
    "    AND_population.test_agents(logic_inputs, and_solutions)\n",
    "    scores = AND_population.scores.copy()\n",
    "    scores.sort(reverse=True)\n",
    "    \n",
    "    if scores[0] == 4: break\n",
    "\n",
    "print(count0)\n",
    "scores"
   ]
  },
  {
   "cell_type": "markdown",
   "id": "850b5fde",
   "metadata": {},
   "source": [
    "### XOR"
   ]
  },
  {
   "cell_type": "code",
   "execution_count": 5,
   "id": "711493e6",
   "metadata": {},
   "outputs": [
    {
     "data": {
      "text/plain": [
       "[3, 2, 2, 2, 2, 2, 2, 2, 2, 2]"
      ]
     },
     "execution_count": 5,
     "metadata": {},
     "output_type": "execute_result"
    }
   ],
   "source": [
    "XOR_population = Population(2, 10)\n",
    "XOR_population.test_agents(logic_inputs, xor_solutions)\n",
    "\n",
    "count1 = 0\n",
    "\n",
    "scores = XOR_population.scores.copy()\n",
    "scores.sort(reverse=True)\n",
    "scores"
   ]
  },
  {
   "cell_type": "code",
   "execution_count": 6,
   "id": "7fe5102c",
   "metadata": {},
   "outputs": [
    {
     "name": "stdout",
     "output_type": "stream",
     "text": [
      "737\n"
     ]
    },
    {
     "data": {
      "text/plain": [
       "[4, 3, 3, 3, 3, 3, 3, 3, 3, 2]"
      ]
     },
     "execution_count": 6,
     "metadata": {},
     "output_type": "execute_result"
    }
   ],
   "source": [
    "for i in range(1000):\n",
    "    XOR_population.evolution_step()\n",
    "    count1 += 1\n",
    "    XOR_population.test_agents(logic_inputs, xor_solutions)\n",
    "    scores = XOR_population.scores.copy()\n",
    "    scores.sort(reverse=True)\n",
    "    \n",
    "    if scores[0] == 4: break\n",
    "\n",
    "print(count1)\n",
    "scores"
   ]
  },
  {
   "cell_type": "markdown",
   "id": "f8fc48e8",
   "metadata": {},
   "source": [
    "### OR"
   ]
  },
  {
   "cell_type": "code",
   "execution_count": 7,
   "id": "89974a03",
   "metadata": {},
   "outputs": [
    {
     "data": {
      "text/plain": [
       "[3, 3, 3, 3, 3, 3, 3, 3, 3, 3]"
      ]
     },
     "execution_count": 7,
     "metadata": {},
     "output_type": "execute_result"
    }
   ],
   "source": [
    "OR__population = Population(2, 10)\n",
    "OR__population.test_agents(logic_inputs, or__solutions)\n",
    "\n",
    "count2 = 0\n",
    "\n",
    "scores = OR__population.scores.copy()\n",
    "scores.sort(reverse=True)\n",
    "scores"
   ]
  },
  {
   "cell_type": "code",
   "execution_count": 8,
   "id": "0b4f5886",
   "metadata": {},
   "outputs": [
    {
     "name": "stdout",
     "output_type": "stream",
     "text": [
      "237\n"
     ]
    },
    {
     "data": {
      "text/plain": [
       "[4, 3, 3, 3, 3, 3, 3, 3, 3, 3]"
      ]
     },
     "execution_count": 8,
     "metadata": {},
     "output_type": "execute_result"
    }
   ],
   "source": [
    "for i in range(1000):\n",
    "    OR__population.evolution_step()\n",
    "    count2 += 1\n",
    "    OR__population.test_agents(logic_inputs, or__solutions)\n",
    "    scores = OR__population.scores.copy()\n",
    "    scores.sort(reverse=True)\n",
    "    \n",
    "    if scores[0] == 4: break\n",
    "\n",
    "print(count2)\n",
    "scores"
   ]
  },
  {
   "cell_type": "code",
   "execution_count": null,
   "id": "37cd54ed",
   "metadata": {},
   "outputs": [],
   "source": [
    "\n",
    "\n",
    "\n",
    "\n",
    "\n",
    "\n",
    "\n",
    "\n",
    "\n",
    "\n",
    "\n",
    "\n",
    "\n",
    "\n",
    "\n",
    "\n",
    "\n",
    "\n",
    "\n"
   ]
  }
 ],
 "metadata": {
  "kernelspec": {
   "display_name": "Python 3 (ipykernel)",
   "language": "python",
   "name": "python3"
  },
  "language_info": {
   "codemirror_mode": {
    "name": "ipython",
    "version": 3
   },
   "file_extension": ".py",
   "mimetype": "text/x-python",
   "name": "python",
   "nbconvert_exporter": "python",
   "pygments_lexer": "ipython3",
   "version": "3.8.8"
  }
 },
 "nbformat": 4,
 "nbformat_minor": 5
}
