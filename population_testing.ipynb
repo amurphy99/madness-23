{
 "cells": [
  {
   "cell_type": "markdown",
   "id": "93cd3e5d",
   "metadata": {},
   "source": [
    "# Imports"
   ]
  },
  {
   "cell_type": "code",
   "execution_count": 1,
   "id": "b3f68341",
   "metadata": {},
   "outputs": [],
   "source": [
    "from network_classes.neuron      import Neuron\n",
    "from network_classes.agent       import Agent\n",
    "from network_classes.population  import Population"
   ]
  },
  {
   "cell_type": "markdown",
   "id": "4146b9e9",
   "metadata": {},
   "source": [
    "# Testing Creation"
   ]
  },
  {
   "cell_type": "markdown",
   "id": "49e37aee",
   "metadata": {},
   "source": [
    "## inputs and solutions"
   ]
  },
  {
   "cell_type": "code",
   "execution_count": 2,
   "id": "9c6272a6",
   "metadata": {},
   "outputs": [],
   "source": [
    "logic_inputs =[ [0,0],\n",
    "                [0,1],\n",
    "                [1,0],\n",
    "                [1,1]  ]\n",
    "\n",
    "and_solutions = [0,0,0,1]\n",
    "or__solutions = [0,1,1,1]\n",
    "xor_solutions = [0,1,1,0]"
   ]
  },
  {
   "cell_type": "markdown",
   "id": "1f459e90",
   "metadata": {},
   "source": [
    "### AND"
   ]
  },
  {
   "cell_type": "code",
   "execution_count": 3,
   "id": "48e3f218",
   "metadata": {},
   "outputs": [
    {
     "data": {
      "text/plain": [
       "[1, 1, 3, 1, 3, 1, 1, 1, 1, 1]"
      ]
     },
     "execution_count": 3,
     "metadata": {},
     "output_type": "execute_result"
    }
   ],
   "source": [
    "AND_population = Population(2, 10)\n",
    "\n",
    "AND_population.test_agents(logic_inputs, and_solutions)\n",
    "\n",
    "AND_population.scores"
   ]
  },
  {
   "cell_type": "code",
   "execution_count": 5,
   "id": "322b2fa6",
   "metadata": {},
   "outputs": [
    {
     "data": {
      "text/plain": [
       "{1: [0, 1, 3, 5, 6, 7, 8, 9], 3: [2, 4]}"
      ]
     },
     "execution_count": 5,
     "metadata": {},
     "output_type": "execute_result"
    }
   ],
   "source": [
    "example = [1, 1, 3, 1, 3, 1, 1, 1, 1, 1]\n",
    "\n",
    "score_dictionary = {}\n",
    "for i in range(len(example)):\n",
    "    score = example[i]\n",
    "    if score in score_dictionary:\n",
    "        score_dictionary[score].append(i)\n",
    "    else:\n",
    "        score_dictionary[score] = [i]\n",
    "\n",
    "        \n",
    "score_dictionary"
   ]
  },
  {
   "cell_type": "code",
   "execution_count": 8,
   "id": "2a8b7e3d",
   "metadata": {},
   "outputs": [
    {
     "data": {
      "text/plain": [
       "dict_keys([1, 3])"
      ]
     },
     "execution_count": 8,
     "metadata": {},
     "output_type": "execute_result"
    }
   ],
   "source": [
    "# sort high scores\n",
    "unique_scores = score_dictionary.keys()\n",
    "\n",
    "\n",
    "unique_scores"
   ]
  },
  {
   "cell_type": "code",
   "execution_count": null,
   "id": "a850e2af",
   "metadata": {},
   "outputs": [],
   "source": []
  },
  {
   "cell_type": "code",
   "execution_count": null,
   "id": "d40ff8f9",
   "metadata": {},
   "outputs": [],
   "source": [
    "\n",
    "\n",
    "\n",
    "\n",
    "\n",
    "\n",
    "\n",
    "\n",
    "\n",
    "\n",
    "\n",
    "\n",
    "\n",
    "\n",
    "\n",
    "\n",
    "\n",
    "\n",
    "\n"
   ]
  }
 ],
 "metadata": {
  "kernelspec": {
   "display_name": "Python 3 (ipykernel)",
   "language": "python",
   "name": "python3"
  },
  "language_info": {
   "codemirror_mode": {
    "name": "ipython",
    "version": 3
   },
   "file_extension": ".py",
   "mimetype": "text/x-python",
   "name": "python",
   "nbconvert_exporter": "python",
   "pygments_lexer": "ipython3",
   "version": "3.8.8"
  }
 },
 "nbformat": 4,
 "nbformat_minor": 5
}
