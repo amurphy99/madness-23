{
 "cells": [
  {
   "cell_type": "code",
   "execution_count": 1,
   "id": "01be5eca",
   "metadata": {},
   "outputs": [],
   "source": [
    "from copy import deepcopy\n",
    "from statistics import stdev\n",
    "import matplotlib.pyplot as plt\n",
    "import numpy as np"
   ]
  },
  {
   "cell_type": "markdown",
   "id": "1955bdc1",
   "metadata": {},
   "source": [
    "# progress graphing utility function"
   ]
  },
  {
   "cell_type": "code",
   "execution_count": 2,
   "id": "cd4b45db",
   "metadata": {},
   "outputs": [],
   "source": [
    "def graph_progress(all_costs, all_accuracies, show_recents=True):\n",
    "    # last 5 results\n",
    "    # ---------------\n",
    "    if show_recents:\n",
    "        line1 = \"cost: \"\n",
    "        line2 = \"acc:  \"\n",
    "        if len(all_costs) < 5: show = len(all_costs)\n",
    "        else:                  show = 5\n",
    "        for i in range(-show, 0):\n",
    "            line1 += \"{:>8} \".format(round(all_costs[i], 5))\n",
    "            line2 += \"{:>8}%\".format(round(all_accuracies[i]*100, 2))\n",
    "        print(line1)\n",
    "        print(line2)\n",
    "\n",
    "\n",
    "    # graphs\n",
    "    # -------\n",
    "    fig, axes = plt.subplots(nrows=1, ncols=2, figsize=(10, 5))\n",
    "\n",
    "    axes[0].plot(range(len(all_costs)), all_costs, label=\"costs\")\n",
    "    axes[0].set_xlabel('step') # Set the y axis label of the current axis.\n",
    "    axes[0].set_ylabel('cost') # Set a title of the current axes.\n",
    "    axes[0].set_title('cost over training steps') \n",
    "    axes[0].legend() # show a legend on the plot\n",
    "\n",
    "    axes[1].plot(range(len(all_accuracies)), all_accuracies, label=\"accuracies\")\n",
    "    axes[1].set_xlabel('step') # Set the y axis label of the current axis.\n",
    "    axes[1].set_ylabel('accuracy') # Set a title of the current axes.\n",
    "    axes[1].set_title('accuracy over training steps') \n",
    "    axes[1].legend() # show a legend on the plot\n",
    "\n",
    "    return fig.tight_layout()"
   ]
  },
  {
   "cell_type": "markdown",
   "id": "005eeb64",
   "metadata": {},
   "source": [
    "<hr>"
   ]
  },
  {
   "cell_type": "markdown",
   "id": "8cf0b09d",
   "metadata": {},
   "source": [
    "# import training data"
   ]
  },
  {
   "cell_type": "code",
   "execution_count": 3,
   "id": "f1fd1e82",
   "metadata": {},
   "outputs": [],
   "source": [
    "import pandas as pd #1\n",
    "import os           #3"
   ]
  },
  {
   "cell_type": "code",
   "execution_count": 4,
   "id": "8bbe85e9",
   "metadata": {},
   "outputs": [
    {
     "data": {
      "text/plain": [
       "['.DS_Store',\n",
       " 'M_predictions.csv',\n",
       " 'M_testing.csv',\n",
       " 'M_testing_embedding.csv',\n",
       " 'M_testing_embedding_2023.csv',\n",
       " 'M_training_data.csv',\n",
       " 'M_training_data_embedding.csv',\n",
       " 'M_training_data_embedding_2023.csv',\n",
       " 'W_predictions.csv',\n",
       " 'W_testing.csv',\n",
       " 'W_testing_embedding.csv',\n",
       " 'W_testing_embedding_2023.csv',\n",
       " 'W_training_data.csv',\n",
       " 'W_training_data_embedding.csv',\n",
       " 'W_training_data_embedding_2023.csv']"
      ]
     },
     "execution_count": 4,
     "metadata": {},
     "output_type": "execute_result"
    }
   ],
   "source": [
    "given_data_folder = '../../data_prep/prepped'\n",
    "\n",
    "file_names = os.listdir(given_data_folder)\n",
    "file_names.sort()\n",
    "file_names"
   ]
  },
  {
   "cell_type": "code",
   "execution_count": 5,
   "id": "0b805811",
   "metadata": {},
   "outputs": [],
   "source": [
    "training_data_file = 'M_training_data_embedding_2023.csv'"
   ]
  },
  {
   "cell_type": "code",
   "execution_count": 6,
   "id": "980e916c",
   "metadata": {},
   "outputs": [
    {
     "name": "stdout",
     "output_type": "stream",
     "text": [
      "8680\n"
     ]
    },
    {
     "data": {
      "text/html": [
       "<div>\n",
       "<style scoped>\n",
       "    .dataframe tbody tr th:only-of-type {\n",
       "        vertical-align: middle;\n",
       "    }\n",
       "\n",
       "    .dataframe tbody tr th {\n",
       "        vertical-align: top;\n",
       "    }\n",
       "\n",
       "    .dataframe thead th {\n",
       "        text-align: right;\n",
       "    }\n",
       "</style>\n",
       "<table border=\"1\" class=\"dataframe\">\n",
       "  <thead>\n",
       "    <tr style=\"text-align: right;\">\n",
       "      <th></th>\n",
       "      <th>team1_id</th>\n",
       "      <th>team2_id</th>\n",
       "      <th>Pts</th>\n",
       "      <th>FG%2</th>\n",
       "      <th>FGA2</th>\n",
       "      <th>FG%3</th>\n",
       "      <th>FGA3</th>\n",
       "      <th>FT%</th>\n",
       "      <th>FTA</th>\n",
       "      <th>OR</th>\n",
       "      <th>...</th>\n",
       "      <th>xFTA_a</th>\n",
       "      <th>xOR_a</th>\n",
       "      <th>xDR_a</th>\n",
       "      <th>xAst_a</th>\n",
       "      <th>xTO_a</th>\n",
       "      <th>xStl_a</th>\n",
       "      <th>xBlk_a</th>\n",
       "      <th>xPF_a</th>\n",
       "      <th>xStr_a</th>\n",
       "      <th>solution</th>\n",
       "    </tr>\n",
       "  </thead>\n",
       "  <tbody>\n",
       "    <tr>\n",
       "      <th>0</th>\n",
       "      <td>11682023.0</td>\n",
       "      <td>14362023.0</td>\n",
       "      <td>0.655</td>\n",
       "      <td>0.637931</td>\n",
       "      <td>0.707547</td>\n",
       "      <td>0.449198</td>\n",
       "      <td>0.611111</td>\n",
       "      <td>0.794118</td>\n",
       "      <td>0.472222</td>\n",
       "      <td>0.558824</td>\n",
       "      <td>...</td>\n",
       "      <td>-0.527778</td>\n",
       "      <td>-0.441176</td>\n",
       "      <td>-0.676471</td>\n",
       "      <td>-0.565217</td>\n",
       "      <td>-0.690476</td>\n",
       "      <td>-0.615385</td>\n",
       "      <td>-0.5625</td>\n",
       "      <td>-0.629630</td>\n",
       "      <td>-0.259983</td>\n",
       "      <td>1</td>\n",
       "    </tr>\n",
       "    <tr>\n",
       "      <th>1</th>\n",
       "      <td>14362023.0</td>\n",
       "      <td>11682023.0</td>\n",
       "      <td>0.665</td>\n",
       "      <td>0.735565</td>\n",
       "      <td>0.556604</td>\n",
       "      <td>0.632566</td>\n",
       "      <td>0.569444</td>\n",
       "      <td>0.758333</td>\n",
       "      <td>0.375000</td>\n",
       "      <td>0.205882</td>\n",
       "      <td>...</td>\n",
       "      <td>-0.500000</td>\n",
       "      <td>-0.441176</td>\n",
       "      <td>-0.676471</td>\n",
       "      <td>-0.478261</td>\n",
       "      <td>-0.571429</td>\n",
       "      <td>-0.730769</td>\n",
       "      <td>-0.5000</td>\n",
       "      <td>-0.611111</td>\n",
       "      <td>-0.405813</td>\n",
       "      <td>-1</td>\n",
       "    </tr>\n",
       "    <tr>\n",
       "      <th>2</th>\n",
       "      <td>12592023.0</td>\n",
       "      <td>11352023.0</td>\n",
       "      <td>0.655</td>\n",
       "      <td>0.628732</td>\n",
       "      <td>0.688679</td>\n",
       "      <td>0.603199</td>\n",
       "      <td>0.597222</td>\n",
       "      <td>0.585294</td>\n",
       "      <td>0.375000</td>\n",
       "      <td>0.500000</td>\n",
       "      <td>...</td>\n",
       "      <td>-0.402778</td>\n",
       "      <td>-0.500000</td>\n",
       "      <td>-0.735294</td>\n",
       "      <td>-0.695652</td>\n",
       "      <td>-0.500000</td>\n",
       "      <td>-0.538462</td>\n",
       "      <td>-0.2500</td>\n",
       "      <td>-0.611111</td>\n",
       "      <td>-0.186505</td>\n",
       "      <td>1</td>\n",
       "    </tr>\n",
       "    <tr>\n",
       "      <th>3</th>\n",
       "      <td>11352023.0</td>\n",
       "      <td>12592023.0</td>\n",
       "      <td>0.665</td>\n",
       "      <td>0.662377</td>\n",
       "      <td>0.773585</td>\n",
       "      <td>0.503268</td>\n",
       "      <td>0.500000</td>\n",
       "      <td>0.652778</td>\n",
       "      <td>0.416667</td>\n",
       "      <td>0.382353</td>\n",
       "      <td>...</td>\n",
       "      <td>-0.291667</td>\n",
       "      <td>-0.264706</td>\n",
       "      <td>-0.794118</td>\n",
       "      <td>-0.673913</td>\n",
       "      <td>-0.714286</td>\n",
       "      <td>-0.500000</td>\n",
       "      <td>-0.2500</td>\n",
       "      <td>-0.425926</td>\n",
       "      <td>-0.334057</td>\n",
       "      <td>-1</td>\n",
       "    </tr>\n",
       "    <tr>\n",
       "      <th>4</th>\n",
       "      <td>12802023.0</td>\n",
       "      <td>11152023.0</td>\n",
       "      <td>0.680</td>\n",
       "      <td>0.741012</td>\n",
       "      <td>0.707547</td>\n",
       "      <td>0.609412</td>\n",
       "      <td>0.541667</td>\n",
       "      <td>0.576923</td>\n",
       "      <td>0.361111</td>\n",
       "      <td>0.647059</td>\n",
       "      <td>...</td>\n",
       "      <td>-0.361111</td>\n",
       "      <td>-0.352941</td>\n",
       "      <td>-0.544118</td>\n",
       "      <td>-0.478261</td>\n",
       "      <td>-0.666667</td>\n",
       "      <td>-0.615385</td>\n",
       "      <td>-0.2500</td>\n",
       "      <td>-0.518518</td>\n",
       "      <td>-0.484383</td>\n",
       "      <td>1</td>\n",
       "    </tr>\n",
       "  </tbody>\n",
       "</table>\n",
       "<p>5 rows × 117 columns</p>\n",
       "</div>"
      ],
      "text/plain": [
       "     team1_id    team2_id    Pts      FG%2      FGA2      FG%3      FGA3  \\\n",
       "0  11682023.0  14362023.0  0.655  0.637931  0.707547  0.449198  0.611111   \n",
       "1  14362023.0  11682023.0  0.665  0.735565  0.556604  0.632566  0.569444   \n",
       "2  12592023.0  11352023.0  0.655  0.628732  0.688679  0.603199  0.597222   \n",
       "3  11352023.0  12592023.0  0.665  0.662377  0.773585  0.503268  0.500000   \n",
       "4  12802023.0  11152023.0  0.680  0.741012  0.707547  0.609412  0.541667   \n",
       "\n",
       "        FT%       FTA        OR  ...    xFTA_a     xOR_a     xDR_a    xAst_a  \\\n",
       "0  0.794118  0.472222  0.558824  ... -0.527778 -0.441176 -0.676471 -0.565217   \n",
       "1  0.758333  0.375000  0.205882  ... -0.500000 -0.441176 -0.676471 -0.478261   \n",
       "2  0.585294  0.375000  0.500000  ... -0.402778 -0.500000 -0.735294 -0.695652   \n",
       "3  0.652778  0.416667  0.382353  ... -0.291667 -0.264706 -0.794118 -0.673913   \n",
       "4  0.576923  0.361111  0.647059  ... -0.361111 -0.352941 -0.544118 -0.478261   \n",
       "\n",
       "      xTO_a    xStl_a  xBlk_a     xPF_a    xStr_a  solution  \n",
       "0 -0.690476 -0.615385 -0.5625 -0.629630 -0.259983         1  \n",
       "1 -0.571429 -0.730769 -0.5000 -0.611111 -0.405813        -1  \n",
       "2 -0.500000 -0.538462 -0.2500 -0.611111 -0.186505         1  \n",
       "3 -0.714286 -0.500000 -0.2500 -0.425926 -0.334057        -1  \n",
       "4 -0.666667 -0.615385 -0.2500 -0.518518 -0.484383         1  \n",
       "\n",
       "[5 rows x 117 columns]"
      ]
     },
     "execution_count": 6,
     "metadata": {},
     "output_type": "execute_result"
    }
   ],
   "source": [
    "file_path = given_data_folder + '/' + training_data_file \n",
    "training_df  = pd.read_csv(file_path)\n",
    "print(len(training_df))\n",
    "\n",
    "training_df.head(5)"
   ]
  },
  {
   "cell_type": "markdown",
   "id": "e7fd3499",
   "metadata": {},
   "source": [
    "## get as rows"
   ]
  },
  {
   "cell_type": "code",
   "execution_count": 7,
   "id": "25ede746",
   "metadata": {},
   "outputs": [],
   "source": [
    "# wether or not to keep the data for stats against a team\n",
    "keep_against = True"
   ]
  },
  {
   "cell_type": "code",
   "execution_count": 8,
   "id": "fa9d2ec5",
   "metadata": {},
   "outputs": [
    {
     "name": "stdout",
     "output_type": "stream",
     "text": [
      "8680 114\n",
      "8680 1\n",
      "8680 2\n"
     ]
    }
   ],
   "source": [
    "training_column_names = training_df.columns.tolist()\n",
    "\n",
    "# get all data as columns\n",
    "training_columns = []\n",
    "for i in range(len(training_column_names)):\n",
    "    new_column = list(training_df[training_column_names[i]])\n",
    "    training_columns.append(new_column)\n",
    "    \n",
    "\n",
    "    \n",
    "# indicis\n",
    "# 30 each 0:15, 15:30, 30:45, 45:60\n",
    "if not keep_against:\n",
    "    new_training_columns = training_columns[0:15] + training_columns[30:45] + [training_columns[60]]\n",
    "    training_columns = new_training_columns\n",
    "    \n",
    "    \n",
    "    \n",
    "# get as rows\n",
    "training_input_rows    = []\n",
    "training_solution_rows = []\n",
    "embedding_key_rows     = []\n",
    "for i in range(len(training_columns[0])):\n",
    "    new_input_row         = []\n",
    "    new_solution_row      = [training_columns[-1][i]]\n",
    "    new_embedding_key_row = [int(training_columns[0][i]), int(training_columns[1][i])]\n",
    "    for j in range(2, len(training_columns)-1):\n",
    "        new_input_row.append(training_columns[j][i])\n",
    "        \n",
    "    training_input_rows   .append(new_input_row)\n",
    "    training_solution_rows.append(new_solution_row)\n",
    "    embedding_key_rows    .append(new_embedding_key_row)\n",
    "    \n",
    "print(len(training_input_rows), len(training_input_rows[0]))\n",
    "print(len(training_solution_rows), len(training_solution_rows[0]))\n",
    "print(len(embedding_key_rows), len(embedding_key_rows[0]))"
   ]
  },
  {
   "cell_type": "markdown",
   "id": "1a97186d",
   "metadata": {},
   "source": [
    "### formatting and splitting data (only using a limited split of the games to speed up testing)"
   ]
  },
  {
   "cell_type": "code",
   "execution_count": 9,
   "id": "b8ef8ac4",
   "metadata": {},
   "outputs": [],
   "source": [
    "split = 4_000\n",
    "np_inputs    = np.array(training_input_rows[:split])\n",
    "np_solutions = np.array(training_solution_rows[:split])\n",
    "\n",
    "embedding_key_rows = embedding_key_rows[:split]\n",
    "\n",
    "#np_inputs    = np.array(training_input_rows)\n",
    "#np_solutions = np.array(training_solution_rows)\n",
    "\n",
    "np_data = [np_inputs, np_solutions]"
   ]
  },
  {
   "cell_type": "markdown",
   "id": "d297a067",
   "metadata": {},
   "source": [
    "<hr>"
   ]
  },
  {
   "cell_type": "markdown",
   "id": "8a6e37e9",
   "metadata": {},
   "source": [
    "# Create and Train population"
   ]
  },
  {
   "cell_type": "code",
   "execution_count": 10,
   "id": "d5d17f7c",
   "metadata": {},
   "outputs": [],
   "source": [
    "import sys\n",
    "sys.path.append(\"../..\")\n",
    "\n",
    "from network_matrix.population_v3 import Population\n",
    "from network_matrix.population_v3 import create_embedding"
   ]
  },
  {
   "cell_type": "markdown",
   "id": "c9c896d9",
   "metadata": {},
   "source": [
    "## Choose Model Version"
   ]
  },
  {
   "cell_type": "code",
   "execution_count": 11,
   "id": "3f2b63b7",
   "metadata": {},
   "outputs": [],
   "source": [
    "basic = 'Basic'\n",
    "embeddingWeights = 'Embeddings as WEIGHTS'\n",
    "embeddingValues  = 'Embeddings as INPUT VALUES'\n",
    "\n",
    "model = embeddingValues"
   ]
  },
  {
   "cell_type": "markdown",
   "id": "b2840133",
   "metadata": {},
   "source": [
    "<hr>"
   ]
  },
  {
   "cell_type": "markdown",
   "id": "1dfc03d6",
   "metadata": {},
   "source": [
    "# Creating Embeddings"
   ]
  },
  {
   "cell_type": "code",
   "execution_count": 12,
   "id": "b834e8de",
   "metadata": {},
   "outputs": [
    {
     "name": "stdout",
     "output_type": "stream",
     "text": [
      "model: Embeddings as INPUT VALUES\n"
     ]
    }
   ],
   "source": [
    "# Embeddings as INPUT VALUES Version\n",
    "# ===========================================================\n",
    "sample_team = 11682023\n",
    "if model == embeddingValues:\n",
    "    embedding_length = 50 #75\n",
    "\n",
    "    unique_team_ids = []\n",
    "    embeddings_dict = {}\n",
    "    for i in range(len(embedding_key_rows)):\n",
    "        row = embedding_key_rows[i]\n",
    "\n",
    "        for team in row:\n",
    "            if team not in unique_team_ids:\n",
    "                unique_team_ids.append(team)\n",
    "                embeddings_dict[team] = create_embedding(embedding_length, init_range=1.0)\n",
    "\n",
    "    #print(embeddings_dict[11872022])\n",
    "    #embedding_key_rows[0] # = [11872022, 14412022]\n",
    "\n",
    "    \n",
    "# Embeddings as WEIGHTS Version\n",
    "# ===========================================================\n",
    "elif model == embeddingWeights or model == basic: # basic doesn't use embeddings, just creating so no errors\n",
    "    embedding_length = 75\n",
    "    num_inputs       = len(np_inputs[0])\n",
    "\n",
    "    unique_team_ids = []\n",
    "    embeddings_dict = {}\n",
    "    for i in range(len(embedding_key_rows)):\n",
    "        row = embedding_key_rows[i]\n",
    "\n",
    "        for team in row:\n",
    "            if team not in unique_team_ids:\n",
    "                unique_team_ids.append(team)\n",
    "                embeddings_dict[team] = create_embedding((embedding_length, num_inputs), init_range=0.25)\n",
    "\n",
    "    #print(embeddings_dict[11872022][0])\n",
    "    \n",
    "print('model: {}'.format(model))"
   ]
  },
  {
   "cell_type": "markdown",
   "id": "4002304b",
   "metadata": {},
   "source": [
    "### checking a sample"
   ]
  },
  {
   "cell_type": "code",
   "execution_count": 13,
   "id": "fb69a28b",
   "metadata": {},
   "outputs": [],
   "source": [
    "if model == embeddingWeights:\n",
    "    sample_embedding = np.copy(embeddings_dict[sample_team])\n",
    "\n",
    "    #sample_neuron = list(sample_embedding)\n",
    "    sample_neuron = list(sample_embedding[0])\n",
    "\n",
    "    s_average  = 0\n",
    "    s_abs_avg  = 0\n",
    "    s_norm_sum = 0\n",
    "\n",
    "    for weight in sample_neuron:\n",
    "        s_average  += weight\n",
    "        s_abs_avg  += abs(weight)\n",
    "        s_norm_sum += weight\n",
    "\n",
    "    s_average = (s_average/len(sample_neuron))\n",
    "    s_abs_avg = (s_abs_avg/len(sample_neuron))\n",
    "\n",
    "    print(\"average: {:>6} | abs_avg: {:>6} | sum: {}\".format(\n",
    "        round(s_average,  4), \n",
    "        round(s_abs_avg,  4), \n",
    "        round(s_norm_sum, 4)\n",
    "    ))"
   ]
  },
  {
   "cell_type": "markdown",
   "id": "fc42d701",
   "metadata": {},
   "source": [
    "### misc performance data"
   ]
  },
  {
   "cell_type": "code",
   "execution_count": 14,
   "id": "ae937842",
   "metadata": {},
   "outputs": [],
   "source": [
    "'''\n",
    "learning_rate, steps, batch_size,    cost,      acc,\n",
    "-------------- ------ ----------- -------- ---------\n",
    "       0.0001,    50,          2,   0.215,   65.51%,\n",
    "       \n",
    "       0.0001     50,          2,   0.190,   71.27%,  # recent 5 games, no stats against\n",
    "       0.0001    100,          2,   0.188,   71.19%,  # recent 5 games, with stats against\n",
    "''';"
   ]
  },
  {
   "cell_type": "markdown",
   "id": "ffcc572e",
   "metadata": {},
   "source": [
    "<hr>"
   ]
  },
  {
   "cell_type": "markdown",
   "id": "b8411328",
   "metadata": {},
   "source": [
    "# Creating the Model"
   ]
  },
  {
   "cell_type": "code",
   "execution_count": 24,
   "id": "8601d91f",
   "metadata": {},
   "outputs": [
    {
     "name": "stdout",
     "output_type": "stream",
     "text": [
      "model: Embeddings as INPUT VALUES\n",
      "----------------------------------\n",
      "num inputs:   214\n",
      "output shape: (1, 214)\n"
     ]
    }
   ],
   "source": [
    "# Normal Version\n",
    "# ===========================================================\n",
    "if model == basic:\n",
    "    num_inputs = len(np_inputs[0])\n",
    "    TEST_population  = Population(num_inputs, 1, learning_rate=0.001, embedding_size=int(num_inputs*3/2))\n",
    "\n",
    "    \n",
    "# Embeddings as WEIGHTS Version\n",
    "# ===========================================================\n",
    "elif model == embeddingWeights:\n",
    "    num_inputs = len(np_inputs[0])\n",
    "    TEST_population  = Population(num_inputs, 1, learning_rate=0.0005, embedding_size=(2*embedding_length))\n",
    "\n",
    "    \n",
    "# Embeddings as INPUT VALUES Version\n",
    "# ===========================================================\n",
    "elif model == embeddingValues:\n",
    "    num_inputs = len(np_inputs[0]) + (2*embedding_length)\n",
    "    TEST_population  = Population(num_inputs, 1, learning_rate=0.00001, embedding_size=num_inputs)\n",
    "\n",
    "\n",
    "# model and number of inputs\n",
    "print('model: {}'.format(model))\n",
    "print('----------------------------------')\n",
    "print('num inputs:   {}'.format(num_inputs))\n",
    "print('output shape: {}'.format(TEST_population.layers[-1][\"weights\"].shape))\n",
    "\n",
    "# values for tracking the models performance\n",
    "all_times = [0,0,0,0,0]\n",
    "all_costs = []\n",
    "all_accuracies = []"
   ]
  },
  {
   "cell_type": "markdown",
   "id": "c1334baf",
   "metadata": {},
   "source": [
    "# Training Loops"
   ]
  },
  {
   "cell_type": "code",
   "execution_count": 33,
   "id": "5de292a7",
   "metadata": {},
   "outputs": [],
   "source": [
    "use_time = True\n",
    "training_time = 300 # (seconds)\n",
    "max_steps = 300"
   ]
  },
  {
   "cell_type": "code",
   "execution_count": 40,
   "id": "46dbbed7",
   "metadata": {
    "scrolled": true
   },
   "outputs": [
    {
     "name": "stdout",
     "output_type": "stream",
     "text": [
      "Training Progress:                             |    cost     acc  |     steps           time      remaining  \n",
      "                                               | --------  ------ | ----------  -------------  ------------- \n",
      "[#################################] -    100%  |   0.2074  67.58% |     76/300        5m 1.1s             0s     \r"
     ]
    }
   ],
   "source": [
    "# Normal Version\n",
    "# ===========================================================\n",
    "if model == basic:\n",
    "    times, data, costs, accuracies = TEST_population.train_and_test_base(np_inputs, \n",
    "                                                                         np_solutions,\n",
    "                                                                         batch_size=100,\n",
    "                                                                         steps=max_steps, \n",
    "                                                                         training_time=training_time, \n",
    "                                                                         use_time=use_time, \n",
    "                                                                         report_frequency=1\n",
    "    )\n",
    "    \n",
    "\n",
    "# Embeddings as WEIGHTS Version\n",
    "# ===========================================================\n",
    "elif model == embeddingWeights:\n",
    "    times, data, costs, accuracies = TEST_population.train_and_test_embeddings_WEIGHTS(np_inputs, embedding_key_rows, \n",
    "                                                                                       np_solutions, \n",
    "                                                                                       embeddings_dict, \n",
    "                                                                                       steps=max_steps,\n",
    "                                                                                       training_time=training_time,\n",
    "                                                                                       use_time=use_time,\n",
    "                                                                                       report_frequency=1\n",
    "    )\n",
    "    \n",
    "\n",
    "# Embeddings as INPUT VALUES Version\n",
    "# ===========================================================\n",
    "elif model == embeddingValues:\n",
    "    times, data, costs, accuracies = TEST_population.train_and_test_embeddings(np_inputs, embedding_key_rows, \n",
    "                                                                               np_solutions, \n",
    "                                                                               embeddings_dict, \n",
    "                                                                               steps=max_steps,\n",
    "                                                                               training_time=training_time,\n",
    "                                                                               use_time=use_time,\n",
    "                                                                               report_frequency=1\n",
    "    )\n",
    "\n",
    "\n",
    "\n",
    "# update tracking\n",
    "# ---------------\n",
    "for i in range(len(all_times)):\n",
    "    all_times[i] += times[i]\n",
    "all_costs      += costs\n",
    "all_accuracies += accuracies"
   ]
  },
  {
   "cell_type": "code",
   "execution_count": 44,
   "id": "b0bc3161",
   "metadata": {
    "scrolled": false
   },
   "outputs": [
    {
     "name": "stdout",
     "output_type": "stream",
     "text": [
      "model: Embeddings as INPUT VALUES \n",
      "\n",
      " \n",
      "                  time(s)   percent  per step       | steps:              454\n",
      "            -------------  --------  --------       | learning rate:    1e-05\n",
      "set inputs           4.7s      1.57%     0.06       | # connections:   229194\n",
      "calc value          53.2s     17.68%      0.7       | L1 (sum):           0.0\n",
      "grad dscnt       2m 45.1s     54.82%     2.17       | L2 (**2):        0.0016\n",
      "update vals         52.6s     17.49%     0.69\n",
      "scoring             25.3s      8.39%     0.33       \n",
      "step time        30m 8.6s     100.0%     23.8\n",
      "\n",
      "cost:  0.20598  0.20827  0.20764  0.20874   0.2074 \n",
      "acc:     67.92%   67.42%   67.42%   67.08%   67.58%\n"
     ]
    },
    {
     "data": {
      "image/png": "[encoded data removed]",
      "text/plain": [
       "<Figure size 720x360 with 2 Axes>"
      ]
     },
     "metadata": {
      "needs_background": "light"
     },
     "output_type": "display_data"
    }
   ],
   "source": [
    "print('model: {} \\n'.format(model))\n",
    "TEST_population.report_training_progress(all_times, data) # timing\n",
    "graph_progress(all_costs, all_accuracies)                 # graphs\n",
    "#graph_progress(all_costs[250:], all_accuracies[250:], show_recents=False) # graphs (recent)"
   ]
  },
  {
   "cell_type": "markdown",
   "id": "6c1566fc",
   "metadata": {},
   "source": [
    "<br>\n",
    "<br>\n",
    "<br>\n",
    "<br>\n",
    "<br>\n",
    "<br>\n",
    "<br>\n",
    "<br>\n",
    "<br>\n",
    "<br>\n",
    "<br>\n",
    "<br>\n",
    "<br>\n",
    "<br>\n",
    "<br>\n",
    "<br>\n",
    "<br>\n",
    "<br>\n",
    "<br>\n",
    "<br>\n",
    "<br>\n",
    "<hr>"
   ]
  },
  {
   "cell_type": "markdown",
   "id": "1848860c",
   "metadata": {},
   "source": [
    "# Various Status Checks"
   ]
  },
  {
   "cell_type": "markdown",
   "id": "d031f525",
   "metadata": {},
   "source": [
    "### Magnitudes of the values of each layer"
   ]
  },
  {
   "cell_type": "code",
   "execution_count": 19,
   "id": "52096475",
   "metadata": {},
   "outputs": [
    {
     "name": "stdout",
     "output_type": "stream",
     "text": [
      "\n",
      "           abs_avg   abs_med       sum       max       min\n",
      "          --------  --------  --------  --------  --------\n",
      "values         0.4     0.355    -0.693     0.964    -0.974\n",
      "biases         0.0       0.0    -0.013     0.003    -0.003\n",
      "weights      0.027     0.017     9.904     0.224    -0.237\n",
      "          --------  --------  --------  --------  --------\n",
      "values       0.185     0.162     4.625     0.574    -0.565\n",
      "biases         0.0       0.0     0.004     0.003    -0.003\n",
      "weights      0.027     0.017    -2.857     0.226     -0.22\n",
      "          --------  --------  --------  --------  --------\n",
      "values       0.106     0.099    -0.208     0.395    -0.347\n",
      "biases         0.0       0.0    -0.004     0.001    -0.003\n",
      "weights      0.027     0.017    10.073     0.247    -0.243\n",
      "          --------  --------  --------  --------  --------\n",
      "values       0.064     0.054     -0.84     0.284    -0.218\n",
      "biases         0.0       0.0     0.002     0.001       0.0\n",
      "weights      0.027     0.017    -0.488     0.236    -0.259\n",
      "          --------  --------  --------  --------  --------\n",
      "values       0.043     0.038    -0.592     0.148    -0.134\n",
      "biases         0.0       0.0    -0.004     0.001    -0.001\n",
      "weights      0.027     0.017    -7.152      0.26    -0.229\n",
      "          --------  --------  --------  --------  --------\n",
      "values       0.328     0.328    -0.328    -0.328    -0.328\n",
      "biases       0.007     0.007     0.007     0.007     0.007\n",
      "weights       0.05     0.038    -1.501      0.17    -0.219\n"
     ]
    }
   ],
   "source": [
    "TEST_population.print_magnitudes_report()"
   ]
  },
  {
   "cell_type": "code",
   "execution_count": 20,
   "id": "b378ab44",
   "metadata": {},
   "outputs": [
    {
     "name": "stdout",
     "output_type": "stream",
     "text": [
      "\n",
      "           abs_avg   abs_med       sum       max       min\n",
      "          --------  --------  --------  --------  --------\n",
      "values         0.4     0.355    -0.693     0.964    -0.974\n",
      "biases         0.0       0.0    -0.013     0.003    -0.003\n",
      "weights      0.027     0.017     9.904     0.224    -0.237\n",
      "          --------  --------  --------  --------  --------\n",
      "values       0.185     0.162     4.625     0.574    -0.565\n",
      "biases         0.0       0.0     0.004     0.003    -0.003\n",
      "weights      0.027     0.017    -2.857     0.226     -0.22\n",
      "          --------  --------  --------  --------  --------\n",
      "values       0.106     0.099    -0.208     0.395    -0.347\n",
      "biases         0.0       0.0    -0.004     0.001    -0.003\n",
      "weights      0.027     0.017    10.073     0.247    -0.243\n",
      "          --------  --------  --------  --------  --------\n",
      "values       0.064     0.054     -0.84     0.284    -0.218\n",
      "biases         0.0       0.0     0.002     0.001       0.0\n",
      "weights      0.027     0.017    -0.488     0.236    -0.259\n",
      "          --------  --------  --------  --------  --------\n",
      "values       0.043     0.038    -0.592     0.148    -0.134\n",
      "biases         0.0       0.0    -0.004     0.001    -0.001\n",
      "weights      0.027     0.017    -7.152      0.26    -0.229\n",
      "          --------  --------  --------  --------  --------\n",
      "values       0.328     0.328    -0.328    -0.328    -0.328\n",
      "biases       0.007     0.007     0.007     0.007     0.007\n",
      "weights       0.05     0.038    -1.501      0.17    -0.219\n"
     ]
    }
   ],
   "source": [
    "TEST_population.print_magnitudes_report()"
   ]
  },
  {
   "cell_type": "markdown",
   "id": "320f9880",
   "metadata": {},
   "source": [
    "### inspect how much an individual embedding changed"
   ]
  },
  {
   "cell_type": "code",
   "execution_count": 21,
   "id": "9aa2a8a4",
   "metadata": {},
   "outputs": [
    {
     "ename": "TypeError",
     "evalue": "'numpy.float32' object is not iterable",
     "output_type": "error",
     "traceback": [
      "\u001b[0;31m---------------------------------------------------------------------------\u001b[0m",
      "\u001b[0;31mTypeError\u001b[0m                                 Traceback (most recent call last)",
      "\u001b[0;32m/var/folders/ym/7b7x_jyx78zgvfy3352yp71w0000gn/T/ipykernel_52893/2064451531.py\u001b[0m in \u001b[0;36m<module>\u001b[0;34m\u001b[0m\n\u001b[1;32m      4\u001b[0m \u001b[0;34m\u001b[0m\u001b[0m\n\u001b[1;32m      5\u001b[0m \u001b[0;31m#new_sample_neuron = list(new_sample_embedding)\u001b[0m\u001b[0;34m\u001b[0m\u001b[0;34m\u001b[0m\u001b[0;34m\u001b[0m\u001b[0m\n\u001b[0;32m----> 6\u001b[0;31m \u001b[0mnew_sample_neuron\u001b[0m \u001b[0;34m=\u001b[0m \u001b[0mlist\u001b[0m\u001b[0;34m(\u001b[0m\u001b[0mnew_sample_embedding\u001b[0m\u001b[0;34m[\u001b[0m\u001b[0;36m0\u001b[0m\u001b[0;34m]\u001b[0m\u001b[0;34m)\u001b[0m\u001b[0;34m\u001b[0m\u001b[0;34m\u001b[0m\u001b[0m\n\u001b[0m\u001b[1;32m      7\u001b[0m \u001b[0;34m\u001b[0m\u001b[0m\n\u001b[1;32m      8\u001b[0m \u001b[0mchange\u001b[0m \u001b[0;34m=\u001b[0m \u001b[0;36m0\u001b[0m\u001b[0;34m\u001b[0m\u001b[0;34m\u001b[0m\u001b[0m\n",
      "\u001b[0;31mTypeError\u001b[0m: 'numpy.float32' object is not iterable"
     ]
    }
   ],
   "source": [
    "#if model == embeddingWeights:\n",
    "    \n",
    "new_sample_embedding = np.copy(embeddings_dict[sample_team])\n",
    "\n",
    "#new_sample_neuron = list(new_sample_embedding)\n",
    "new_sample_neuron = list(new_sample_embedding[0])\n",
    "\n",
    "change = 0\n",
    "\n",
    "average  = 0\n",
    "abs_avg  = 0\n",
    "norm_sum = 0\n",
    "\n",
    "for i in range(len(new_sample_neuron)):\n",
    "    orig_w = sample_neuron[i]\n",
    "    weight = new_sample_neuron[i]\n",
    "    \n",
    "    average  += weight\n",
    "    abs_avg  += abs(weight)\n",
    "    norm_sum += weight\n",
    "    \n",
    "    change += (weight-orig_w)\n",
    "    \n",
    "average = (average/len(new_sample_neuron))\n",
    "abs_avg = (abs_avg/len(new_sample_neuron))\n",
    "\n",
    "change = (change/len(new_sample_neuron))\n",
    "\n",
    "\n",
    "print(\"OLD:      average: {:>7} | abs_avg: {:>7} | sum: {}\".format(\n",
    "    round(s_average,  4), \n",
    "    round(s_abs_avg,  4), \n",
    "    round(s_norm_sum, 4)\n",
    "))\n",
    "\n",
    "\n",
    "print(\"NEW:      average: {:>7} | abs_avg: {:>7} | sum: {}\".format(\n",
    "    round(average,  4), \n",
    "    round(abs_avg,  4), \n",
    "    round(norm_sum, 4)\n",
    "))\n",
    "\n",
    "print(\"CHANGE:   {}\".format(change))\n"
   ]
  },
  {
   "cell_type": "code",
   "execution_count": null,
   "id": "49b06e01",
   "metadata": {},
   "outputs": [],
   "source": [
    "'''\n",
    "create embeddings\n",
    "calculate num inputs\n",
    "create test population\n",
    "record values\n",
    "\n",
    "values:\n",
    "--------\n",
    "\n",
    "steps/time\n",
    "learning rate     - [0.01, 0.001, 0.0001]\n",
    "\n",
    "embedding size    - [50, 75, 100]\n",
    "neurons per layer - [1, 1.5, 2]\n",
    "layers            - [1,2,3]\n",
    "\n",
    "cost\n",
    "accuracy\n",
    "\n",
    " \n",
    " \n",
    "''';"
   ]
  },
  {
   "cell_type": "code",
   "execution_count": null,
   "id": "1ca2ad0d",
   "metadata": {},
   "outputs": [],
   "source": []
  },
  {
   "cell_type": "code",
   "execution_count": null,
   "id": "5f159c27",
   "metadata": {},
   "outputs": [],
   "source": []
  },
  {
   "cell_type": "code",
   "execution_count": null,
   "id": "dea29294",
   "metadata": {},
   "outputs": [],
   "source": []
  },
  {
   "cell_type": "code",
   "execution_count": null,
   "id": "c978377d",
   "metadata": {},
   "outputs": [],
   "source": []
  },
  {
   "cell_type": "code",
   "execution_count": null,
   "id": "b3269ee4",
   "metadata": {},
   "outputs": [],
   "source": []
  },
  {
   "cell_type": "code",
   "execution_count": null,
   "id": "7275fb12",
   "metadata": {},
   "outputs": [],
   "source": []
  }
 ],
 "metadata": {
  "kernelspec": {
   "display_name": "Python 3 (ipykernel)",
   "language": "python",
   "name": "python3"
  },
  "language_info": {
   "codemirror_mode": {
    "name": "ipython",
    "version": 3
   },
   "file_extension": ".py",
   "mimetype": "text/x-python",
   "name": "python",
   "nbconvert_exporter": "python",
   "pygments_lexer": "ipython3",
   "version": "3.8.8"
  }
 },
 "nbformat": 4,
 "nbformat_minor": 5
}
