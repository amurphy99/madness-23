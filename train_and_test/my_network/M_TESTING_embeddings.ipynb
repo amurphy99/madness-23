{
 "cells": [
  {
   "cell_type": "code",
   "execution_count": 1,
   "id": "01be5eca",
   "metadata": {},
   "outputs": [],
   "source": [
    "from copy import deepcopy\n",
    "from statistics import stdev\n",
    "import matplotlib.pyplot as plt\n",
    "import numpy as np"
   ]
  },
  {
   "cell_type": "code",
   "execution_count": 2,
   "id": "cd4b45db",
   "metadata": {},
   "outputs": [],
   "source": [
    "def graph_progress(all_costs, all_accuracies, show_recents=True):\n",
    "    # last 5 results\n",
    "    # ---------------\n",
    "    if show_recents:\n",
    "        line1 = \"cost: \"\n",
    "        line2 = \"acc:  \"\n",
    "        if len(all_costs) < 5: show = len(all_costs)\n",
    "        else:                  show = 5\n",
    "        for i in range(-show, 0):\n",
    "            line1 += \"{:>8} \".format(round(all_costs[i], 5))\n",
    "            line2 += \"{:>8}%\".format(round(all_accuracies[i]*100, 2))\n",
    "        print(line1)\n",
    "        print(line2)\n",
    "\n",
    "\n",
    "    # graphs\n",
    "    # -------\n",
    "    fig, axes = plt.subplots(nrows=1, ncols=2, figsize=(10, 5))\n",
    "\n",
    "    axes[0].plot(range(len(all_costs)), all_costs, label=\"costs\")\n",
    "    axes[0].set_xlabel('step') # Set the y axis label of the current axis.\n",
    "    axes[0].set_ylabel('cost') # Set a title of the current axes.\n",
    "    axes[0].set_title('cost over training steps') \n",
    "    axes[0].legend() # show a legend on the plot\n",
    "\n",
    "    axes[1].plot(range(len(all_accuracies)), all_accuracies, label=\"accuracies\")\n",
    "    axes[1].set_xlabel('step') # Set the y axis label of the current axis.\n",
    "    axes[1].set_ylabel('accuracy') # Set a title of the current axes.\n",
    "    axes[1].set_title('accuracy over training steps') \n",
    "    axes[1].legend() # show a legend on the plot\n",
    "\n",
    "    return fig.tight_layout()"
   ]
  },
  {
   "cell_type": "markdown",
   "id": "8cf0b09d",
   "metadata": {},
   "source": [
    "# import training data"
   ]
  },
  {
   "cell_type": "code",
   "execution_count": 3,
   "id": "f1fd1e82",
   "metadata": {},
   "outputs": [],
   "source": [
    "import pandas as pd #1\n",
    "import os           #3"
   ]
  },
  {
   "cell_type": "code",
   "execution_count": 4,
   "id": "8bbe85e9",
   "metadata": {},
   "outputs": [
    {
     "data": {
      "text/plain": [
       "['.DS_Store',\n",
       " 'M_predictions.csv',\n",
       " 'M_testing.csv',\n",
       " 'M_training_data.csv',\n",
       " 'M_training_data_embedding.csv',\n",
       " 'W_predictions.csv',\n",
       " 'W_testing.csv',\n",
       " 'W_training_data.csv',\n",
       " 'predictions']"
      ]
     },
     "execution_count": 4,
     "metadata": {},
     "output_type": "execute_result"
    }
   ],
   "source": [
    "given_data_folder = 'prepped'\n",
    "\n",
    "file_names = os.listdir(given_data_folder)\n",
    "file_names.sort()\n",
    "file_names"
   ]
  },
  {
   "cell_type": "code",
   "execution_count": 5,
   "id": "0b805811",
   "metadata": {},
   "outputs": [],
   "source": [
    "training_data_file = 'M_training_data_embedding.csv'"
   ]
  },
  {
   "cell_type": "code",
   "execution_count": 6,
   "id": "980e916c",
   "metadata": {},
   "outputs": [
    {
     "name": "stdout",
     "output_type": "stream",
     "text": [
      "46338\n"
     ]
    },
    {
     "data": {
      "text/html": [
       "<div>\n",
       "<style scoped>\n",
       "    .dataframe tbody tr th:only-of-type {\n",
       "        vertical-align: middle;\n",
       "    }\n",
       "\n",
       "    .dataframe tbody tr th {\n",
       "        vertical-align: top;\n",
       "    }\n",
       "\n",
       "    .dataframe thead th {\n",
       "        text-align: right;\n",
       "    }\n",
       "</style>\n",
       "<table border=\"1\" class=\"dataframe\">\n",
       "  <thead>\n",
       "    <tr style=\"text-align: right;\">\n",
       "      <th></th>\n",
       "      <th>team1_id</th>\n",
       "      <th>team2_id</th>\n",
       "      <th>Pts</th>\n",
       "      <th>FG%2</th>\n",
       "      <th>FGA2</th>\n",
       "      <th>FG%3</th>\n",
       "      <th>FGA3</th>\n",
       "      <th>FT%</th>\n",
       "      <th>FTA</th>\n",
       "      <th>OR</th>\n",
       "      <th>...</th>\n",
       "      <th>xFTA_a</th>\n",
       "      <th>xOR_a</th>\n",
       "      <th>xDR_a</th>\n",
       "      <th>xAst_a</th>\n",
       "      <th>xTO_a</th>\n",
       "      <th>xStl_a</th>\n",
       "      <th>xBlk_a</th>\n",
       "      <th>xPF_a</th>\n",
       "      <th>xStr_a</th>\n",
       "      <th>solution</th>\n",
       "    </tr>\n",
       "  </thead>\n",
       "  <tbody>\n",
       "    <tr>\n",
       "      <th>0</th>\n",
       "      <td>11872022.0</td>\n",
       "      <td>14412022.0</td>\n",
       "      <td>0.750000</td>\n",
       "      <td>0.633800</td>\n",
       "      <td>0.787037</td>\n",
       "      <td>0.439078</td>\n",
       "      <td>0.680556</td>\n",
       "      <td>0.750842</td>\n",
       "      <td>0.662162</td>\n",
       "      <td>0.605263</td>\n",
       "      <td>...</td>\n",
       "      <td>-0.567568</td>\n",
       "      <td>-0.605263</td>\n",
       "      <td>-0.675676</td>\n",
       "      <td>-0.479167</td>\n",
       "      <td>-0.659091</td>\n",
       "      <td>-0.538462</td>\n",
       "      <td>-0.500000</td>\n",
       "      <td>-0.621212</td>\n",
       "      <td>-0.847291</td>\n",
       "      <td>1</td>\n",
       "    </tr>\n",
       "    <tr>\n",
       "      <th>1</th>\n",
       "      <td>14412022.0</td>\n",
       "      <td>11872022.0</td>\n",
       "      <td>0.754902</td>\n",
       "      <td>0.658602</td>\n",
       "      <td>0.555556</td>\n",
       "      <td>0.582219</td>\n",
       "      <td>0.930556</td>\n",
       "      <td>0.601307</td>\n",
       "      <td>0.594595</td>\n",
       "      <td>0.578947</td>\n",
       "      <td>...</td>\n",
       "      <td>-0.675676</td>\n",
       "      <td>-0.578947</td>\n",
       "      <td>-0.770270</td>\n",
       "      <td>-0.354167</td>\n",
       "      <td>-0.659091</td>\n",
       "      <td>-0.807692</td>\n",
       "      <td>-0.375000</td>\n",
       "      <td>-0.606061</td>\n",
       "      <td>-0.400841</td>\n",
       "      <td>-1</td>\n",
       "    </tr>\n",
       "    <tr>\n",
       "      <th>2</th>\n",
       "      <td>12522022.0</td>\n",
       "      <td>12592022.0</td>\n",
       "      <td>0.833333</td>\n",
       "      <td>0.763211</td>\n",
       "      <td>0.648148</td>\n",
       "      <td>0.694010</td>\n",
       "      <td>0.555556</td>\n",
       "      <td>0.798333</td>\n",
       "      <td>0.662162</td>\n",
       "      <td>0.236842</td>\n",
       "      <td>...</td>\n",
       "      <td>-0.567568</td>\n",
       "      <td>-0.657895</td>\n",
       "      <td>-0.635135</td>\n",
       "      <td>-0.687500</td>\n",
       "      <td>-0.454545</td>\n",
       "      <td>-0.615385</td>\n",
       "      <td>-0.500000</td>\n",
       "      <td>-0.606061</td>\n",
       "      <td>-0.768758</td>\n",
       "      <td>1</td>\n",
       "    </tr>\n",
       "    <tr>\n",
       "      <th>3</th>\n",
       "      <td>12592022.0</td>\n",
       "      <td>12522022.0</td>\n",
       "      <td>0.699346</td>\n",
       "      <td>0.750538</td>\n",
       "      <td>0.629630</td>\n",
       "      <td>0.404228</td>\n",
       "      <td>0.712963</td>\n",
       "      <td>0.706472</td>\n",
       "      <td>0.513513</td>\n",
       "      <td>0.280702</td>\n",
       "      <td>...</td>\n",
       "      <td>-0.675676</td>\n",
       "      <td>-0.543860</td>\n",
       "      <td>-0.702703</td>\n",
       "      <td>-0.569444</td>\n",
       "      <td>-0.666667</td>\n",
       "      <td>-0.615385</td>\n",
       "      <td>-0.458333</td>\n",
       "      <td>-0.545455</td>\n",
       "      <td>-0.541014</td>\n",
       "      <td>-1</td>\n",
       "    </tr>\n",
       "    <tr>\n",
       "      <th>4</th>\n",
       "      <td>13292022.0</td>\n",
       "      <td>13412022.0</td>\n",
       "      <td>0.700980</td>\n",
       "      <td>0.737634</td>\n",
       "      <td>0.750000</td>\n",
       "      <td>0.435882</td>\n",
       "      <td>0.583333</td>\n",
       "      <td>0.632353</td>\n",
       "      <td>0.391892</td>\n",
       "      <td>0.684211</td>\n",
       "      <td>...</td>\n",
       "      <td>-0.297297</td>\n",
       "      <td>-0.394737</td>\n",
       "      <td>-0.567568</td>\n",
       "      <td>-0.312500</td>\n",
       "      <td>-0.863636</td>\n",
       "      <td>-0.538462</td>\n",
       "      <td>-0.562500</td>\n",
       "      <td>-0.439394</td>\n",
       "      <td>-0.598615</td>\n",
       "      <td>1</td>\n",
       "    </tr>\n",
       "  </tbody>\n",
       "</table>\n",
       "<p>5 rows × 117 columns</p>\n",
       "</div>"
      ],
      "text/plain": [
       "     team1_id    team2_id       Pts      FG%2      FGA2      FG%3      FGA3  \\\n",
       "0  11872022.0  14412022.0  0.750000  0.633800  0.787037  0.439078  0.680556   \n",
       "1  14412022.0  11872022.0  0.754902  0.658602  0.555556  0.582219  0.930556   \n",
       "2  12522022.0  12592022.0  0.833333  0.763211  0.648148  0.694010  0.555556   \n",
       "3  12592022.0  12522022.0  0.699346  0.750538  0.629630  0.404228  0.712963   \n",
       "4  13292022.0  13412022.0  0.700980  0.737634  0.750000  0.435882  0.583333   \n",
       "\n",
       "        FT%       FTA        OR  ...    xFTA_a     xOR_a     xDR_a    xAst_a  \\\n",
       "0  0.750842  0.662162  0.605263  ... -0.567568 -0.605263 -0.675676 -0.479167   \n",
       "1  0.601307  0.594595  0.578947  ... -0.675676 -0.578947 -0.770270 -0.354167   \n",
       "2  0.798333  0.662162  0.236842  ... -0.567568 -0.657895 -0.635135 -0.687500   \n",
       "3  0.706472  0.513513  0.280702  ... -0.675676 -0.543860 -0.702703 -0.569444   \n",
       "4  0.632353  0.391892  0.684211  ... -0.297297 -0.394737 -0.567568 -0.312500   \n",
       "\n",
       "      xTO_a    xStl_a    xBlk_a     xPF_a    xStr_a  solution  \n",
       "0 -0.659091 -0.538462 -0.500000 -0.621212 -0.847291         1  \n",
       "1 -0.659091 -0.807692 -0.375000 -0.606061 -0.400841        -1  \n",
       "2 -0.454545 -0.615385 -0.500000 -0.606061 -0.768758         1  \n",
       "3 -0.666667 -0.615385 -0.458333 -0.545455 -0.541014        -1  \n",
       "4 -0.863636 -0.538462 -0.562500 -0.439394 -0.598615         1  \n",
       "\n",
       "[5 rows x 117 columns]"
      ]
     },
     "execution_count": 6,
     "metadata": {},
     "output_type": "execute_result"
    }
   ],
   "source": [
    "file_path = given_data_folder + '/' + training_data_file \n",
    "training_df  = pd.read_csv(file_path)\n",
    "print(len(training_df))\n",
    "\n",
    "training_df.head(5)"
   ]
  },
  {
   "cell_type": "markdown",
   "id": "e7fd3499",
   "metadata": {},
   "source": [
    "## get as rows"
   ]
  },
  {
   "cell_type": "code",
   "execution_count": 7,
   "id": "25ede746",
   "metadata": {},
   "outputs": [],
   "source": [
    "# wether or not to keep the data for stats against a team\n",
    "keep_against = True"
   ]
  },
  {
   "cell_type": "code",
   "execution_count": 8,
   "id": "fa9d2ec5",
   "metadata": {},
   "outputs": [
    {
     "name": "stdout",
     "output_type": "stream",
     "text": [
      "46338 114\n",
      "46338 1\n",
      "46338 2\n"
     ]
    }
   ],
   "source": [
    "training_column_names = training_df.columns.tolist()\n",
    "\n",
    "# get all data as columns\n",
    "training_columns = []\n",
    "for i in range(len(training_column_names)):\n",
    "    new_column = list(training_df[training_column_names[i]])\n",
    "    training_columns.append(new_column)\n",
    "    \n",
    "\n",
    "    \n",
    "# indicis\n",
    "# 30 each 0:15, 15:30, 30:45, 45:60\n",
    "if not keep_against:\n",
    "    new_training_columns = training_columns[0:15] + training_columns[30:45] + [training_columns[60]]\n",
    "    training_columns = new_training_columns\n",
    "    \n",
    "    \n",
    "    \n",
    "# get as rows\n",
    "training_input_rows    = []\n",
    "training_solution_rows = []\n",
    "embedding_key_rows     = []\n",
    "for i in range(len(training_columns[0])):\n",
    "    new_input_row         = []\n",
    "    new_solution_row      = [training_columns[-1][i]]\n",
    "    new_embedding_key_row = [int(training_columns[0][i]), int(training_columns[1][i])]\n",
    "    for j in range(2, len(training_columns)-1):\n",
    "        new_input_row.append(training_columns[j][i])\n",
    "        \n",
    "    training_input_rows   .append(new_input_row)\n",
    "    training_solution_rows.append(new_solution_row)\n",
    "    embedding_key_rows    .append(new_embedding_key_row)\n",
    "    \n",
    "print(len(training_input_rows), len(training_input_rows[0]))\n",
    "print(len(training_solution_rows), len(training_solution_rows[0]))\n",
    "print(len(embedding_key_rows), len(embedding_key_rows[0]))"
   ]
  },
  {
   "cell_type": "code",
   "execution_count": 9,
   "id": "b8ef8ac4",
   "metadata": {},
   "outputs": [],
   "source": [
    "split = 7_000\n",
    "np_inputs    = np.array(training_input_rows[:split])\n",
    "np_solutions = np.array(training_solution_rows[:split])\n",
    "\n",
    "embedding_key_rows = embedding_key_rows[:split]\n",
    "\n",
    "#np_inputs    = np.array(training_input_rows)\n",
    "#np_solutions = np.array(training_solution_rows)\n",
    "\n",
    "np_data = [np_inputs, np_solutions]"
   ]
  },
  {
   "cell_type": "markdown",
   "id": "8a6e37e9",
   "metadata": {},
   "source": [
    "# Create and Train population"
   ]
  },
  {
   "cell_type": "code",
   "execution_count": 10,
   "id": "d5d17f7c",
   "metadata": {},
   "outputs": [],
   "source": [
    "import sys\n",
    "sys.path.append(\"../../..\")\n",
    "\n",
    "from network_matrix.population_v3 import Population\n",
    "from network_matrix.population_v3 import create_embedding"
   ]
  },
  {
   "cell_type": "markdown",
   "id": "1dfc03d6",
   "metadata": {},
   "source": [
    "### create embeddings"
   ]
  },
  {
   "cell_type": "code",
   "execution_count": 11,
   "id": "b834e8de",
   "metadata": {},
   "outputs": [],
   "source": [
    "'''\n",
    "embedding_length = 75\n",
    "\n",
    "unique_team_ids = []\n",
    "embeddings_dict = {}\n",
    "for i in range(len(embedding_key_rows)):\n",
    "    row = embedding_key_rows[i]\n",
    "    \n",
    "    for team in row:\n",
    "        if team not in unique_team_ids:\n",
    "            unique_team_ids.append(team)\n",
    "            embeddings_dict[team] = create_embedding(embedding_length, init_range=1.0)\n",
    "        \n",
    "embeddings_dict[11872022]\n",
    "''';"
   ]
  },
  {
   "cell_type": "code",
   "execution_count": 12,
   "id": "5249e7bd",
   "metadata": {},
   "outputs": [],
   "source": [
    "#embedding_key_rows[0] # = [11872022, 14412022]"
   ]
  },
  {
   "cell_type": "code",
   "execution_count": 13,
   "id": "2b0bd94f",
   "metadata": {},
   "outputs": [],
   "source": [
    "#embeddings_dict[11872022]"
   ]
  },
  {
   "cell_type": "code",
   "execution_count": 14,
   "id": "9ee500c0",
   "metadata": {},
   "outputs": [],
   "source": [
    "\n",
    "embedding_length = 75\n",
    "num_inputs       = len(np_inputs[0])\n",
    "\n",
    "unique_team_ids = []\n",
    "embeddings_dict = {}\n",
    "for i in range(len(embedding_key_rows)):\n",
    "    row = embedding_key_rows[i]\n",
    "    \n",
    "    for team in row:\n",
    "        if team not in unique_team_ids:\n",
    "            unique_team_ids.append(team)\n",
    "            embeddings_dict[team] = create_embedding((embedding_length, num_inputs), init_range=0.25)\n",
    "        \n",
    "#embeddings_dict[11872022][0]\n"
   ]
  },
  {
   "cell_type": "code",
   "execution_count": 15,
   "id": "fb69a28b",
   "metadata": {},
   "outputs": [
    {
     "name": "stdout",
     "output_type": "stream",
     "text": [
      "average: -0.0077 | abs_avg: 0.1202 | sum: -0.8723\n"
     ]
    }
   ],
   "source": [
    "sample_embedding = np.copy(embeddings_dict[11872022])\n",
    "\n",
    "#sample_neuron = list(sample_embedding)\n",
    "sample_neuron = list(sample_embedding[0])\n",
    "\n",
    "s_average  = 0\n",
    "s_abs_avg  = 0\n",
    "s_norm_sum = 0\n",
    "\n",
    "for weight in sample_neuron:\n",
    "    s_average  += weight\n",
    "    s_abs_avg  += abs(weight)\n",
    "    s_norm_sum += weight\n",
    "    \n",
    "s_average = (s_average/len(sample_neuron))\n",
    "s_abs_avg = (s_abs_avg/len(sample_neuron))\n",
    "\n",
    "print(\"average: {:>6} | abs_avg: {:>6} | sum: {}\".format(\n",
    "    round(s_average,  4), \n",
    "    round(s_abs_avg,  4), \n",
    "    round(s_norm_sum, 4)\n",
    "))"
   ]
  },
  {
   "cell_type": "code",
   "execution_count": 16,
   "id": "f0460a58",
   "metadata": {},
   "outputs": [],
   "source": [
    "#embeddings_dict[11872022][0]"
   ]
  },
  {
   "cell_type": "markdown",
   "id": "b8411328",
   "metadata": {},
   "source": [
    "### create it here"
   ]
  },
  {
   "cell_type": "code",
   "execution_count": 17,
   "id": "ae937842",
   "metadata": {},
   "outputs": [
    {
     "data": {
      "text/plain": [
       "114"
      ]
     },
     "execution_count": 17,
     "metadata": {},
     "output_type": "execute_result"
    }
   ],
   "source": [
    "'''\n",
    "learning_rate, steps, batch_size,    cost,      acc,\n",
    "-------------- ------ ----------- -------- ---------\n",
    "       0.0001,    50,          2,   0.215,   65.51%,\n",
    "       \n",
    "       0.0001     50,          2,   0.190,   71.27%,  # recent 5 games, no stats against\n",
    "       0.0001    100,          2,   0.188,   71.19%,  # recent 5 games, with stats against\n",
    "''';\n",
    "\n",
    "num_inputs = len(np_inputs[0])\n",
    "#num_inputs = len(np_inputs[0]) + (2*embedding_length)\n",
    "num_inputs"
   ]
  },
  {
   "cell_type": "code",
   "execution_count": 18,
   "id": "1cbe2499",
   "metadata": {},
   "outputs": [
    {
     "data": {
      "text/plain": [
       "14400"
      ]
     },
     "execution_count": 18,
     "metadata": {},
     "output_type": "execute_result"
    }
   ],
   "source": [
    "4*60*60"
   ]
  },
  {
   "cell_type": "code",
   "execution_count": 19,
   "id": "8601d91f",
   "metadata": {},
   "outputs": [],
   "source": [
    "TEST_population  = Population(num_inputs, 1, learning_rate=0.001, embedding_size=int(num_inputs*3/2))\n",
    "\n",
    "#TEST_population  = Population(num_inputs, 1, learning_rate=0.0001, embedding_size=(2*embedding_length))\n",
    "#TEST_population  = Population(num_inputs, 1, learning_rate=0.001, embedding_size=num_inputs)\n",
    "\n",
    "all_times = [0,0,0,0,0]\n",
    "all_costs = []\n",
    "all_accuracies = []"
   ]
  },
  {
   "cell_type": "code",
   "execution_count": 20,
   "id": "b4688e0d",
   "metadata": {},
   "outputs": [
    {
     "name": "stdout",
     "output_type": "stream",
     "text": [
      "(1, 171)\n"
     ]
    }
   ],
   "source": [
    "print(TEST_population.layers[-1][\"weights\"].shape)"
   ]
  },
  {
   "cell_type": "code",
   "execution_count": 37,
   "id": "46dbbed7",
   "metadata": {
    "scrolled": true
   },
   "outputs": [
    {
     "name": "stdout",
     "output_type": "stream",
     "text": [
      "Training Progress:                             |    cost     acc  |     steps           time      remaining  \n",
      "                                               | --------  ------ | ----------  -------------  ------------- \n",
      "[                                 ] -   1.52%  |  0.24229  65.29% |    61/4000        8m 7.0s   8h 56m 13.1s     \r"
     ]
    }
   ],
   "source": [
    "# training loops\n",
    "# ---------------\n",
    "#times, costs, accuracies = TEST_population.train_and_test(np_data, 6_000)\n",
    "#times, costs, accuracies = TEST_population.train_and_test_stochastic(np_data, 100, batch_size=10)\n",
    "\n",
    "\n",
    "times, data, costs, accuracies = TEST_population.train_and_test_base(np_inputs, \n",
    "                                                                     np_solutions,\n",
    "                                                                     batch_size=100,\n",
    "                                                                     steps=4000, \n",
    "                                                                     training_time=480, \n",
    "                                                                     use_time=True, \n",
    "                                                                     report_frequency=1\n",
    ")\n",
    "\n",
    "\n",
    "'''\n",
    "times, data, costs, accuracies = TEST_population.train_and_test_embeddings(np_inputs, embedding_key_rows, \n",
    "                                                                           np_solutions, \n",
    "                                                                           embeddings_dict, \n",
    "                                                                           steps=9000,\n",
    "                                                                           training_time=480,\n",
    "                                                                           use_time=True,\n",
    "                                                                           report_frequency=1\n",
    ")\n",
    "\n",
    "times, data, costs, accuracies = TEST_population.train_and_test_embeddings_WEIGHTS(np_inputs, embedding_key_rows, \n",
    "                                                                                   np_solutions, \n",
    "                                                                                   embeddings_dict, \n",
    "                                                                                   steps=4000,\n",
    "                                                                                   training_time=120,\n",
    "                                                                                   use_time=True,\n",
    "                                                                                   report_frequency=1\n",
    ")\n",
    "                                    \n",
    "'''\n",
    "\n",
    "# update tracking\n",
    "# ---------------\n",
    "for i in range(len(all_times)):\n",
    "    all_times[i] += times[i]\n",
    "all_costs      += costs\n",
    "all_accuracies += accuracies"
   ]
  },
  {
   "cell_type": "code",
   "execution_count": 39,
   "id": "b0bc3161",
   "metadata": {
    "scrolled": false
   },
   "outputs": [
    {
     "name": "stdout",
     "output_type": "stream",
     "text": [
      " \n",
      "                  time(s)   percent  per step       | steps:              120\n",
      "            -------------  --------  --------       | learning rate:    0.001\n",
      "set inputs           0.4s      0.09%     0.01       | # connections:   136629\n",
      "calc value       1m 43.1s     21.17%     1.72       | L1 (sum):        0.0001\n",
      "grad dscnt       5m 39.6s     69.73%     5.66       | L2 (**2):        0.0021\n",
      "update vals          1.6s      0.34%     0.03\n",
      "scoring             41.5s      8.51%     0.69       \n",
      "step time       16m 11.6s     100.0%    16.19\n",
      "\n",
      "cost:  0.24326  0.24302  0.24278  0.24256  0.24229 \n",
      "acc:     65.24%   65.62%   65.19%   65.19%   65.29%\n"
     ]
    },
    {
     "data": {
      "image/png": "[encoded data removed]",
      "text/plain": [
       "<Figure size 720x360 with 2 Axes>"
      ]
     },
     "metadata": {
      "needs_background": "light"
     },
     "output_type": "display_data"
    }
   ],
   "source": [
    "TEST_population.report_training_progress(all_times, data) # timing\n",
    "graph_progress(all_costs, all_accuracies)                 # graphs\n",
    "#graph_progress(all_costs[70:], all_accuracies[70:], show_recents=False) # graphs (recent)"
   ]
  },
  {
   "cell_type": "code",
   "execution_count": 23,
   "id": "52096475",
   "metadata": {},
   "outputs": [
    {
     "name": "stdout",
     "output_type": "stream",
     "text": [
      "\n",
      "           abs_avg   abs_med       sum       max       min\n",
      "          --------  --------  --------  --------  --------\n",
      "values       0.542     0.575     2.442     0.973    -0.995\n",
      "biases         0.0       0.0       0.0       0.0       0.0\n",
      "weights      0.036     0.024    -5.623     0.337    -0.311\n",
      "          --------  --------  --------  --------  --------\n",
      "values       0.267     0.235     0.098      0.73    -0.816\n",
      "biases         0.0       0.0       0.0       0.0       0.0\n",
      "weights       0.03     0.019     8.432     0.301     -0.22\n",
      "          --------  --------  --------  --------  --------\n",
      "values       0.146     0.144     3.989     0.445    -0.368\n",
      "biases         0.0       0.0       0.0       0.0       0.0\n",
      "weights       0.03     0.019     -0.36     0.293    -0.267\n",
      "          --------  --------  --------  --------  --------\n",
      "values       0.074      0.06    -1.422     0.251    -0.254\n",
      "biases         0.0       0.0       0.0       0.0       0.0\n",
      "weights       0.03     0.019    -1.244     0.262    -0.299\n",
      "          --------  --------  --------  --------  --------\n",
      "values       0.043     0.036     -0.49     0.126    -0.138\n",
      "biases         0.0       0.0    -0.003       0.0       0.0\n",
      "weights       0.03     0.019     8.799     0.266    -0.247\n",
      "          --------  --------  --------  --------  --------\n",
      "values       0.003     0.003    -0.003    -0.003    -0.003\n",
      "biases       0.003     0.003    -0.003    -0.003    -0.003\n",
      "weights      0.035     0.025      1.05     0.185    -0.163\n"
     ]
    }
   ],
   "source": [
    "TEST_population.print_magnitudes_report()"
   ]
  },
  {
   "cell_type": "code",
   "execution_count": 24,
   "id": "b378ab44",
   "metadata": {},
   "outputs": [
    {
     "name": "stdout",
     "output_type": "stream",
     "text": [
      "\n",
      "           abs_avg   abs_med       sum       max       min\n",
      "          --------  --------  --------  --------  --------\n",
      "values       0.542     0.575     2.442     0.973    -0.995\n",
      "biases         0.0       0.0       0.0       0.0       0.0\n",
      "weights      0.036     0.024    -5.623     0.337    -0.311\n",
      "          --------  --------  --------  --------  --------\n",
      "values       0.267     0.235     0.098      0.73    -0.816\n",
      "biases         0.0       0.0       0.0       0.0       0.0\n",
      "weights       0.03     0.019     8.432     0.301     -0.22\n",
      "          --------  --------  --------  --------  --------\n",
      "values       0.146     0.144     3.989     0.445    -0.368\n",
      "biases         0.0       0.0       0.0       0.0       0.0\n",
      "weights       0.03     0.019     -0.36     0.293    -0.267\n",
      "          --------  --------  --------  --------  --------\n",
      "values       0.074      0.06    -1.422     0.251    -0.254\n",
      "biases         0.0       0.0       0.0       0.0       0.0\n",
      "weights       0.03     0.019    -1.244     0.262    -0.299\n",
      "          --------  --------  --------  --------  --------\n",
      "values       0.043     0.036     -0.49     0.126    -0.138\n",
      "biases         0.0       0.0    -0.003       0.0       0.0\n",
      "weights       0.03     0.019     8.799     0.266    -0.247\n",
      "          --------  --------  --------  --------  --------\n",
      "values       0.003     0.003    -0.003    -0.003    -0.003\n",
      "biases       0.003     0.003    -0.003    -0.003    -0.003\n",
      "weights      0.035     0.025      1.05     0.185    -0.163\n"
     ]
    }
   ],
   "source": [
    "TEST_population.print_magnitudes_report()"
   ]
  },
  {
   "cell_type": "code",
   "execution_count": 25,
   "id": "9aa2a8a4",
   "metadata": {},
   "outputs": [
    {
     "name": "stdout",
     "output_type": "stream",
     "text": [
      "OLD:      average: -0.0077 | abs_avg:  0.1202 | sum: -0.8723\n",
      "NEW:      average: -0.0077 | abs_avg:  0.1202 | sum: -0.8723\n",
      "CHANGE:   0.0\n"
     ]
    }
   ],
   "source": [
    "new_sample_embedding = np.copy(embeddings_dict[11872022])\n",
    "\n",
    "#new_sample_neuron = list(new_sample_embedding)\n",
    "new_sample_neuron = list(new_sample_embedding[0])\n",
    "\n",
    "change = 0\n",
    "\n",
    "average  = 0\n",
    "abs_avg  = 0\n",
    "norm_sum = 0\n",
    "\n",
    "for i in range(len(new_sample_neuron)):\n",
    "    orig_w = sample_neuron[i]\n",
    "    weight = new_sample_neuron[i]\n",
    "    \n",
    "    average  += weight\n",
    "    abs_avg  += abs(weight)\n",
    "    norm_sum += weight\n",
    "    \n",
    "    change += (weight-orig_w)\n",
    "    \n",
    "average = (average/len(new_sample_neuron))\n",
    "abs_avg = (abs_avg/len(new_sample_neuron))\n",
    "\n",
    "change = (change/len(new_sample_neuron))\n",
    "\n",
    "\n",
    "print(\"OLD:      average: {:>7} | abs_avg: {:>7} | sum: {}\".format(\n",
    "    round(s_average,  4), \n",
    "    round(s_abs_avg,  4), \n",
    "    round(s_norm_sum, 4)\n",
    "))\n",
    "\n",
    "\n",
    "print(\"NEW:      average: {:>7} | abs_avg: {:>7} | sum: {}\".format(\n",
    "    round(average,  4), \n",
    "    round(abs_avg,  4), \n",
    "    round(norm_sum, 4)\n",
    "))\n",
    "\n",
    "print(\"CHANGE:   {}\".format(change))\n"
   ]
  },
  {
   "cell_type": "code",
   "execution_count": 26,
   "id": "49b06e01",
   "metadata": {},
   "outputs": [],
   "source": [
    "'''\n",
    "create embeddings\n",
    "calculate num inputs\n",
    "create test population\n",
    "record values\n",
    "\n",
    "values:\n",
    "--------\n",
    "\n",
    "steps/time\n",
    "learning rate     - [0.01, 0.001, 0.0001]\n",
    "\n",
    "embedding size    - [50, 75, 100]\n",
    "neurons per layer - [1, 1.5, 2]\n",
    "layers            - [1,2,3]\n",
    "\n",
    "cost\n",
    "accuracy\n",
    "\n",
    "[-0.72383175]\n",
    "[1.13564593]\n",
    "[-4.14703678]\n",
    "[3.30995677]\n",
    "[3.73987126]\n",
    "[-6.78590187]\n",
    "[4.47202037]\n",
    "[-5.16833236]\n",
    "[2.4957738]\n",
    "[-1.05856062]\n",
    "[3.76802237]\n",
    "[-4.41886608]\n",
    "[5.08741867]\n",
    "[-0.23680327]\n",
    "[-2.70222323]\n",
    "[3.68004333]\n",
    "[-3.83485353]\n",
    "[1.17818429]\n",
    "[-1.17616444]\n",
    "[0.17298058]\n",
    "[-0.76645789]\n",
    "[4.01161471]\n",
    "[-3.74295765]\n",
    "[1.78408998]\n",
    "[4.1263263]\n",
    "[-4.50350624]\n",
    "[-2.54199513]\n",
    "[5.70228093]\n",
    "[-3.78165697]\n",
    "[-0.3927466]\n",
    "[1.16065072]\n",
    "[-1.45276148]\n",
    "[5.01859125]\n",
    "[-3.09915987]\n",
    "[-1.05334723]\n",
    "[3.81865802]\n",
    "[-2.22734303]\n",
    "[2.8338316]\n",
    "[1.75992775]\n",
    "[-3.07603825]\n",
    "[-3.3700461]\n",
    "[3.05309275]\n",
    "[-2.27501006]\n",
    "[-0.66296897]\n",
    "[3.44383752]\n",
    "[-2.57672221]\n",
    "[-2.32793955]\n",
    "[2.58281851]\n",
    "[-0.91397023]\n",
    "[-2.01809243]\n",
    "[4.34655069]\n",
    "[1.90379848]\n",
    "[-3.20581836]\n",
    "[0.61568965]\n",
    "[4.4766478]\n",
    "[-3.03258218]\n",
    "[-2.60835699]\n",
    "[4.04092111]\n",
    "[1.9259041]\n",
    "[-2.56965]\n",
    "[3.60626376]\n",
    "[-4.73459113]\n",
    "[-1.37565169]\n",
    "[-0.86545982]\n",
    "[3.04192589]\n",
    "\n",
    "\n",
    "old\n",
    "\n",
    "[-0.11783873  0.00863854 -0.10431334  0.02452002  0.00522983 -0.23687609\n",
    "  0.13002336 -0.22897251 -0.24174758  0.05009583  0.07064174  0.15055666\n",
    " -0.19306719  0.20137571 -0.01941111 -0.23612443  0.18999594  0.24123012\n",
    "  0.1394493  -0.13752703 -0.09443847  0.03010571  0.23178616  0.05707828\n",
    " -0.07564377  0.19056055 -0.20630282  0.18162342  0.1020699   0.14689828\n",
    "  0.16066953 -0.07216362 -0.1639651  -0.20434558 -0.02192809 -0.10630754\n",
    " -0.02355929 -0.00663807 -0.0704983   0.09061832 -0.18074218  0.0052779\n",
    " -0.09234561  0.10671351  0.05796006 -0.02589949 -0.14350782 -0.12607149\n",
    " -0.22285823 -0.15661145 -0.15263906 -0.19973721  0.03865251 -0.25437531\n",
    " -0.00940026  0.11197241 -0.00660668 -0.22453837  0.07315953  0.17235723\n",
    "  0.1999117   0.04798949  0.08882527 -0.2065553   0.2453784  -0.07306001\n",
    "  0.24877829 -0.10818403 -0.23509703 -0.18112227  0.1280429  -0.14161153\n",
    "  0.2433819  -0.16497541 -0.06951603 -0.06555819  0.16563227 -0.04989101\n",
    " -0.05766004  0.16457384 -0.04383063  0.20570952 -0.20571765  0.02317843\n",
    " -0.08978175 -0.07352925 -0.16542104 -0.13266355 -0.22485317  0.0211347\n",
    " -0.23464246 -0.20663028 -0.16001541 -0.19688082  0.00196723 -0.07859316\n",
    "  0.04973935 -0.09983323  0.07346632  0.18607269  0.19978743  0.18503013\n",
    " -0.2105172  -0.08597663  0.00345986  0.25428411  0.02780476  0.1305638\n",
    " -0.10290878 -0.13247146  0.12480071  0.11310695  0.00856541  0.22892001]\n",
    "\n",
    "\n",
    "#1 of the 4\n",
    "[-0.1463689   0.01073004 -0.12956886  0.03045661  0.00649603 -0.29422664\n",
    "  0.16150358 -0.28440951 -0.30027758  0.06222463  0.08774495  0.18700824\n",
    " -0.23981108  0.25013119 -0.02411077 -0.293293    0.23599624  0.29963483\n",
    "  0.17321165 -0.17082398 -0.11730316  0.03739466  0.28790438  0.07089762\n",
    " -0.09395803  0.23669756 -0.25625122  0.22559664  0.12678225  0.18246412\n",
    "  0.19956956 -0.0896353  -0.20366303 -0.2538201  -0.02723715 -0.13204587\n",
    " -0.02926328 -0.00824523 -0.08756678  0.11255811 -0.22450204  0.00655575\n",
    " -0.11470359  0.13255014  0.07199289 -0.03217006 -0.17825279 -0.15659491\n",
    " -0.27681489 -0.19452897 -0.18959481 -0.24809599  0.04801075 -0.31596264\n",
    " -0.01167617  0.13908227 -0.00820624 -0.27890182  0.09087233  0.21408699\n",
    "  0.24831273  0.05960832  0.11033094 -0.25656482  0.30478747 -0.09074872\n",
    "  0.3090105  -0.13437668 -0.29201684 -0.22497415  0.15904363 -0.17589739\n",
    "  0.30230759 -0.20491794 -0.08634669 -0.08143062  0.20573383 -0.06197023\n",
    " -0.07162023  0.20441915 -0.05444255  0.25551426 -0.25552437  0.02879021\n",
    " -0.111519   -0.09133157 -0.20547146 -0.16478299 -0.27929283  0.02625167\n",
    " -0.29145222 -0.25665796 -0.19875707 -0.24454803  0.00244352 -0.09762151\n",
    "  0.06178184 -0.12400406  0.0912534   0.23112312  0.24815837  0.22982816\n",
    " -0.26148594 -0.10679261  0.00429753  0.31584935  0.03453663  0.16217487\n",
    " -0.12782423 -0.16454439  0.15501647  0.1404915   0.01063919  0.2843443 ]\n",
    "\n",
    "# swap mult (middl)\n",
    "[-0.16793027  0.01231066 -0.14865545  0.03494313  0.00745295 -0.33756871\n",
    "  0.18529442 -0.32630543 -0.344511    0.07139084  0.10067053  0.21455613\n",
    " -0.27513727  0.28697763 -0.02766249 -0.33649753  0.27076048  0.34377357\n",
    "  0.19872719 -0.19598779 -0.1345829   0.04290321  0.33031512  0.08134143\n",
    " -0.10779884  0.2715651  -0.29399918  0.25882892  0.14545834  0.20934262\n",
    "  0.22896784 -0.10283934 -0.23366431 -0.29120995 -0.03124941 -0.15149734\n",
    " -0.033574   -0.00945982 -0.10046611  0.12913887 -0.25757308  0.00752146\n",
    " -0.1316004   0.15207589  0.08259805 -0.03690898 -0.20451093 -0.17966266\n",
    " -0.31759205 -0.22318473 -0.21752373 -0.28464262  0.05508314 -0.3625066\n",
    " -0.01339617  0.15957026 -0.00941509 -0.31998641  0.10425859  0.24562381\n",
    "  0.28489129  0.06838913  0.12658362 -0.29435898  0.34968523 -0.10411677\n",
    "  0.35453035 -0.1541715  -0.33503339 -0.25811474  0.1824721  -0.20180856\n",
    "  0.34684005 -0.23510408 -0.09906629 -0.09342604  0.23604016 -0.07109896\n",
    " -0.0821705   0.23453181 -0.0624624   0.29315367 -0.29316526  0.03303124\n",
    " -0.12794669 -0.10478547 -0.23573914 -0.18905691 -0.32043502  0.03011876\n",
    " -0.33438559 -0.29446584 -0.22803566 -0.28057202  0.00280347 -0.11200198\n",
    "  0.07088283 -0.1422709   0.1046958   0.26516951  0.28471419  0.26368378\n",
    " -0.30000503 -0.12252406  0.00493059  0.36237662  0.03962416  0.18606459\n",
    " -0.14665382 -0.18878317  0.1778517   0.16118709  0.01220644  0.32623061]\n",
    " \n",
    " \n",
    " \n",
    "''';"
   ]
  },
  {
   "cell_type": "code",
   "execution_count": 27,
   "id": "802e5b6b",
   "metadata": {},
   "outputs": [],
   "source": [
    "'''\n",
    "# middles with tanh\n",
    "\n",
    "[ 0.44907467 -0.03292085  0.39753044 -0.09344398 -0.01993048  0.90271725\n",
    " -0.4955094   0.87259729  0.92128215 -0.1909115  -0.26921044 -0.5737603\n",
    "  0.73576477 -0.76742793  0.07397431  0.89985275 -0.72406046 -0.91931012\n",
    " -0.53143096  0.52410533  0.35989802 -0.11473063 -0.8833199  -0.2175211\n",
    "  0.2882728  -0.72621217  0.78620478 -0.69215342 -0.38898083 -0.55981847\n",
    " -0.6122997   0.27501021  0.62485887  0.77874589  0.08356634  0.40513016\n",
    "  0.0897827   0.0252972   0.26866379 -0.34533973  0.68879509 -0.0201137\n",
    "  0.35192229 -0.40667731 -0.22088151  0.09870102  0.54689769  0.48044911\n",
    "  0.84929621  0.59683465  0.58169617  0.76118372 -0.14730186  0.9694055\n",
    "  0.03582368 -0.42671855  0.02517757  0.85569913 -0.27880554 -0.65684065\n",
    " -0.76184871 -0.18288439 -0.33850654  0.78716696 -0.93511893  0.27842629\n",
    " -0.94807564  0.41228133  0.89593737  0.69024356 -0.48796203  0.53967108\n",
    " -0.92751043  0.62870907  0.26492044  0.24983743 -0.63121231  0.19013096\n",
    "  0.21973816 -0.62717873  0.16703529 -0.78394374  0.78397474 -0.08833128\n",
    "  0.34215162  0.28021453  0.63040733  0.50557096  0.8568988  -0.08054278\n",
    "  0.89420504  0.78745272  0.60980689  0.75029823 -0.00749696  0.29951271\n",
    " -0.18955298  0.38045706 -0.27997471 -0.70910924 -0.7613751  -0.70513615\n",
    "  0.80226546  0.32765058 -0.01318525 -0.96905791 -0.10596188 -0.49756898\n",
    "  0.39217774  0.50483893 -0.47560629 -0.43104222 -0.03264213 -0.87239722]\n",
    "\n",
    "\n",
    "''';"
   ]
  },
  {
   "cell_type": "code",
   "execution_count": 28,
   "id": "74960028",
   "metadata": {},
   "outputs": [],
   "source": [
    "'''\n",
    "[ 1.9018924  -4.06993031 -4.14753532  2.37148048  1.37991472  2.92957658\n",
    "  1.48577266  7.87255822  2.14280241  3.76948898 -2.09319859 -3.82639823\n",
    "  1.71755874  7.373037   -1.74749259 -1.66226714 -3.88784093 -6.95934784\n",
    " -1.15951576  1.6833907   0.47400815 -4.2271603   0.79812254  3.65658523\n",
    " -1.34057905 -7.85487675 -0.27058865  6.42625094 -1.68800054  9.23660249\n",
    " -5.07363849  2.55797088  1.65804168  8.92240126  0.06530703 -1.08031994\n",
    " -0.74477114 -1.32408448 -3.32152288  2.34727204 -0.17152773  8.65247753\n",
    "  7.59703996  1.19085281 -6.4137089  -2.71769278 -5.22428554 -2.40755892\n",
    "  6.98239556 -6.12131763 -2.8567065   2.51252049 -2.52857245  0.90721049\n",
    " -4.13644032 -1.04216795  2.52647005  1.74359265 -4.74727834 -2.03026825\n",
    "  8.11937827 -4.53422362  1.06094789  2.91997795  1.2885032   4.43198887\n",
    " -3.11145558  9.11538675 -1.72964257 -5.42150958 -2.09462502 -2.07793367\n",
    " -1.40802633  2.17752169  2.97071548 -5.72844703 -0.24977795 -0.62498252\n",
    "  1.83835564  3.59003363 -6.09187871  4.74407554  5.80881205 -0.55005587\n",
    " -1.92741101 -2.14812469  6.04260996 -4.3176181  -5.10904657  0.55197559\n",
    " -0.31568253  5.88860089 -1.60265323  0.25121221 -5.97363596  6.17699513\n",
    "  7.99978897  4.87960397  4.0722268  -1.62475566  1.28912152 -0.32174531\n",
    "  0.25869224 -0.10338295  6.42450878 -4.95062891 -5.43574402  5.7587411\n",
    " -6.17115979  6.26572661  2.3682954  -5.97615088  6.04458463  1.44890901]\n",
    " \n",
    "[-0.46764204  0.84293214  2.10195147 -1.82406043 -0.49634265 -0.60298874\n",
    " -1.37581508 -2.69984655 -0.31663753 -0.68555051  0.06171935  0.43211381\n",
    " -0.66039818 -2.17690508  0.87275006  0.52171986  2.08982766  2.18370553\n",
    " -0.24669336 -0.59936353  0.18102404  0.65311585  0.29156974 -0.29618163\n",
    "  0.70617748  3.29994196  0.63013259 -1.65556853  0.16100321 -2.47111301\n",
    "  2.14531314 -1.29406148 -0.07692803 -2.45216155 -0.32577352 -0.08192167\n",
    "  0.28567756  0.12785297  0.54966429 -1.42829941  0.80594417 -2.20755624\n",
    " -1.95543188  0.0904675   1.31201615  0.2359808   1.04642751  0.11129976\n",
    " -2.31462357  1.3779267   0.31240829 -1.26914492  1.3314201   0.42872206\n",
    "  1.93483534  0.88102344 -1.38400683  0.48241903  1.06638506  0.01024759\n",
    " -1.82432329  1.53206479 -0.64656492 -0.45252455 -1.5503663  -1.76346046\n",
    "  0.23198731 -1.78679471  0.94299677  1.41333325  0.29727093  1.07906843\n",
    "  0.66697039  0.02929538 -0.546577    1.77011566  0.54856645  0.2971812\n",
    " -1.02088308 -0.46972211  1.03341443 -1.33726812 -1.14610157 -0.13457071\n",
    "  0.4455136   1.09829863 -1.49563927  1.10028346  1.73340897  0.21387033\n",
    "  0.26135789 -1.10374072  0.84054785  0.24795276  1.67928456 -1.23952071\n",
    " -2.20596492 -1.23551206 -0.76729726  0.93937734  0.37907057  0.72390058\n",
    " -0.90377724 -0.65791245 -1.21548728  1.03134111  1.83799897 -2.48031461\n",
    "  1.23222904 -1.54764137  0.04794864  2.02729449 -1.98085373 -0.4165625 ]\n",
    "\n",
    "''';"
   ]
  },
  {
   "cell_type": "code",
   "execution_count": 29,
   "id": "9dce728e",
   "metadata": {},
   "outputs": [
    {
     "name": "stdout",
     "output_type": "stream",
     "text": [
      "(3, 3)\n",
      "(3,)\n"
     ]
    },
    {
     "data": {
      "text/plain": [
       "array([[0, 1, 2],\n",
       "       [3, 4, 5],\n",
       "       [6, 7, 8]])"
      ]
     },
     "execution_count": 29,
     "metadata": {},
     "output_type": "execute_result"
    }
   ],
   "source": [
    "test1 = np.array([[0,1,2], \n",
    "                  [3,4,5], \n",
    "                  [6,7,8]])\n",
    "\n",
    "test2 = np.array([0,1,2])\n",
    "\n",
    "print(test1.shape)\n",
    "print(test2.shape)\n",
    "test1"
   ]
  },
  {
   "cell_type": "code",
   "execution_count": 30,
   "id": "3379c49c",
   "metadata": {},
   "outputs": [
    {
     "data": {
      "text/plain": [
       "array([[0, 3, 6],\n",
       "       [1, 4, 7],\n",
       "       [2, 5, 8]])"
      ]
     },
     "execution_count": 30,
     "metadata": {},
     "output_type": "execute_result"
    }
   ],
   "source": [
    "test4 = np.swapaxes(test1, 0, 1)\n",
    "test4"
   ]
  },
  {
   "cell_type": "code",
   "execution_count": 31,
   "id": "9795852c",
   "metadata": {},
   "outputs": [
    {
     "data": {
      "text/plain": [
       "array([[ 0,  1,  4],\n",
       "       [ 0,  4, 10],\n",
       "       [ 0,  7, 16]])"
      ]
     },
     "execution_count": 31,
     "metadata": {},
     "output_type": "execute_result"
    }
   ],
   "source": [
    "test3 = np.multiply(test1, test2)\n",
    "\n",
    "test3"
   ]
  },
  {
   "cell_type": "code",
   "execution_count": 32,
   "id": "0af44f5a",
   "metadata": {},
   "outputs": [
    {
     "data": {
      "text/plain": [
       "array([ 9, 12, 15])"
      ]
     },
     "execution_count": 32,
     "metadata": {},
     "output_type": "execute_result"
    }
   ],
   "source": [
    "np.sum(test1, axis=0)"
   ]
  },
  {
   "cell_type": "code",
   "execution_count": 33,
   "id": "6ab28073",
   "metadata": {},
   "outputs": [
    {
     "name": "stdout",
     "output_type": "stream",
     "text": [
      "14\n",
      "62\n",
      "\n",
      "[[ 0  0  0]\n",
      " [ 3  4  5]\n",
      " [ 6  8 10]]\n",
      "[[54  0  6]\n",
      " [63  0  7]\n",
      " [72  0  8]]\n",
      "\n",
      "[[  0   0   0]\n",
      " [189   0  35]\n",
      " [432   0  80]]\n",
      "\n",
      "[621   0 115]\n",
      "\n",
      "[[   0    0    0]\n",
      " [ 774    0   86]\n",
      " [1548    0  172]]\n",
      "\n",
      "[2322    0  258]\n"
     ]
    }
   ],
   "source": [
    "test5 = np.array([0,1,2])\n",
    "test6 = np.array([3,4,5])\n",
    "\n",
    "test7 = np.array([6,7,8])\n",
    "test8 = np.array([9,0,1])\n",
    "\n",
    "print(np.dot(test5, test6))\n",
    "print(np.dot(test7, test8))\n",
    "print()\n",
    "\n",
    "\n",
    "test10 = np.outer(test5, test6)\n",
    "test9  = np.outer(test7, test8)\n",
    "print(test10)\n",
    "print(test9)\n",
    "print()\n",
    "\n",
    "test11 = test9*test10 # print(np.multiply(test9, test10))\n",
    "print(test11)\n",
    "print()\n",
    "\n",
    "#print(np.sum(test11, axis=1))\n",
    "print(np.sum(test11, axis=0))\n",
    "print()\n",
    "\n",
    "print(np.dot(test10, test9))\n",
    "#print(np.dot(test9, test10))\n",
    "print()\n",
    "\n",
    "test12 = np.dot(test10, test9)\n",
    "sum_12 = np.sum(test12, axis=0)\n",
    "print(sum_12)\n",
    "\n",
    "\n",
    "#print(np.outer(test5, test6))\n",
    "#print(np.outer(test6, test5))"
   ]
  },
  {
   "cell_type": "code",
   "execution_count": 34,
   "id": "cd8acc47",
   "metadata": {},
   "outputs": [
    {
     "name": "stdout",
     "output_type": "stream",
     "text": [
      "[[ 0  1  4]\n",
      " [ 9 16 25]\n",
      " [36 49 64]]\n",
      "[[ 15  18  21]\n",
      " [ 42  54  66]\n",
      " [ 69  90 111]]\n"
     ]
    }
   ],
   "source": [
    "test7 = np.array([[0,1,2], \n",
    "                  [3,4,5], \n",
    "                  [6,7,8]])\n",
    "print(np.multiply(test7, test7))\n",
    "print(np.dot(test7, test7))"
   ]
  },
  {
   "cell_type": "code",
   "execution_count": 35,
   "id": "eea93ed7",
   "metadata": {},
   "outputs": [
    {
     "name": "stdout",
     "output_type": "stream",
     "text": [
      "[ 3 12 21]\n",
      "[[ 15  18  21]\n",
      " [ 42  54  66]\n",
      " [ 69  90 111]]\n"
     ]
    }
   ],
   "source": [
    "test7 = np.array([[0,1,2], \n",
    "                  [3,4,5], \n",
    "                  [6,7,8]])\n",
    "\n",
    "test10 = np.outer(test7, test7)\n",
    "print(np.sum(test7, axis=1))\n",
    "print(np.dot(test7, test7))"
   ]
  },
  {
   "cell_type": "code",
   "execution_count": 36,
   "id": "5a5c2d4e",
   "metadata": {},
   "outputs": [
    {
     "name": "stdout",
     "output_type": "stream",
     "text": [
      "(3,)\n",
      "[[486   0  54 567   0  63 648   0  72]\n",
      " [  0   0   0   0   0   0   0   0   0]\n",
      " [ 54   0   6  63   0   7  72   0   8]]\n",
      "[558   0  62]\n"
     ]
    },
    {
     "ename": "ValueError",
     "evalue": "shapes (3,9) and (3,9) not aligned: 9 (dim 1) != 3 (dim 0)",
     "output_type": "error",
     "traceback": [
      "\u001b[0;31m---------------------------------------------------------------------------\u001b[0m",
      "\u001b[0;31mValueError\u001b[0m                                Traceback (most recent call last)",
      "\u001b[0;32m/var/folders/ym/7b7x_jyx78zgvfy3352yp71w0000gn/T/ipykernel_48804/3046993986.py\u001b[0m in \u001b[0;36m<module>\u001b[0;34m\u001b[0m\n\u001b[1;32m      7\u001b[0m \u001b[0mprint\u001b[0m\u001b[0;34m(\u001b[0m\u001b[0mnp\u001b[0m\u001b[0;34m.\u001b[0m\u001b[0mouter\u001b[0m\u001b[0;34m(\u001b[0m\u001b[0mtest8\u001b[0m\u001b[0;34m,\u001b[0m \u001b[0mtest9\u001b[0m\u001b[0;34m)\u001b[0m\u001b[0;34m)\u001b[0m\u001b[0;34m\u001b[0m\u001b[0;34m\u001b[0m\u001b[0m\n\u001b[1;32m      8\u001b[0m \u001b[0mprint\u001b[0m\u001b[0;34m(\u001b[0m\u001b[0mnp\u001b[0m\u001b[0;34m.\u001b[0m\u001b[0mdot\u001b[0m\u001b[0;34m(\u001b[0m\u001b[0mtest8\u001b[0m\u001b[0;34m,\u001b[0m \u001b[0mtest9\u001b[0m\u001b[0;34m)\u001b[0m\u001b[0;34m)\u001b[0m\u001b[0;34m\u001b[0m\u001b[0;34m\u001b[0m\u001b[0m\n\u001b[0;32m----> 9\u001b[0;31m \u001b[0mprint\u001b[0m\u001b[0;34m(\u001b[0m\u001b[0mnp\u001b[0m\u001b[0;34m.\u001b[0m\u001b[0mdot\u001b[0m\u001b[0;34m(\u001b[0m\u001b[0mtest10\u001b[0m\u001b[0;34m,\u001b[0m \u001b[0mtest10\u001b[0m\u001b[0;34m)\u001b[0m\u001b[0;34m)\u001b[0m\u001b[0;34m\u001b[0m\u001b[0;34m\u001b[0m\u001b[0m\n\u001b[0m",
      "\u001b[0;32m<__array_function__ internals>\u001b[0m in \u001b[0;36mdot\u001b[0;34m(*args, **kwargs)\u001b[0m\n",
      "\u001b[0;31mValueError\u001b[0m: shapes (3,9) and (3,9) not aligned: 9 (dim 1) != 3 (dim 0)"
     ]
    }
   ],
   "source": [
    "costs = np.array([0,1,2])\n",
    "tanhP = np.array([3,4,5])\n",
    "print(test8.shape)\n",
    "\n",
    "test10 = np.outer(test8, test9)\n",
    "\n",
    "print(np.outer(test8, test9))\n",
    "print(np.dot(test8, test9))\n",
    "print(np.dot(test10, test10))"
   ]
  },
  {
   "cell_type": "code",
   "execution_count": null,
   "id": "cbdffbc0",
   "metadata": {},
   "outputs": [],
   "source": [
    "test8 = np.array([[0,1,2]])\n",
    "test9 = np.array([[3,4,5]])\n",
    "print(test8.shape)\n",
    "\n",
    "test1 = test8.reshape((test8.shape[1],))\n",
    "print(test1.shape)\n",
    "print(test1)\n",
    "print()\n",
    "\n",
    "test10 = np.outer(test8, test9)\n",
    "\n",
    "print(np.outer(test8, test9))\n",
    "print(np.dot(test8, test9))\n",
    "print(np.dot(test10, test10))"
   ]
  },
  {
   "cell_type": "code",
   "execution_count": null,
   "id": "e80b3f20",
   "metadata": {},
   "outputs": [],
   "source": [
    "test1 = np.array([0,1,2])\n",
    "test2 = np.array([3,4,5])\n",
    "\n",
    "test3 = np.outer(test1, test2)\n",
    "print(test3.shape)\n",
    "print(test3)\n",
    "print()\n",
    "\n",
    "test_d = np.multiply(test1, test3)\n",
    "test_s = np.sum(test_d, axis=0)\n",
    "print(test_d)\n",
    "print(test_s)\n",
    "print(\"------------\\n\\n\")\n",
    "\n",
    "\n",
    "test8 = np.array([[0,1,2]])\n",
    "test9 = np.array([[3,4,5]])\n",
    "\n",
    "test4 = np.outer(test8, test9)\n",
    "print(test4.shape)\n",
    "print(test4)\n",
    "print()\n",
    "\n",
    "\n",
    "test5 = np.outer(test8, test8)\n",
    "test6 = np.outer(test9, test9)\n",
    "t56 = np.dot(test5, test6)\n",
    "t65 = np.dot(test6, test5)\n",
    "print(np.sum(t56, axis=0))\n",
    "print(np.sum(t65, axis=0))\n",
    "print()\n",
    "\n",
    "\n",
    "print(np.sum(np.dot(test4, test4), axis=1))"
   ]
  },
  {
   "cell_type": "code",
   "execution_count": null,
   "id": "1ca2ad0d",
   "metadata": {},
   "outputs": [],
   "source": []
  },
  {
   "cell_type": "code",
   "execution_count": null,
   "id": "5f159c27",
   "metadata": {},
   "outputs": [],
   "source": []
  },
  {
   "cell_type": "code",
   "execution_count": null,
   "id": "dea29294",
   "metadata": {},
   "outputs": [],
   "source": []
  },
  {
   "cell_type": "code",
   "execution_count": null,
   "id": "c978377d",
   "metadata": {},
   "outputs": [],
   "source": []
  },
  {
   "cell_type": "code",
   "execution_count": null,
   "id": "48b3cd9d",
   "metadata": {},
   "outputs": [],
   "source": [
    "\n",
    "\n",
    "\n",
    "\n",
    "\n",
    "\n",
    "\n",
    "\n",
    "\n",
    "\n",
    "\n",
    "\n",
    "\n",
    "\n",
    "\n",
    "\n"
   ]
  },
  {
   "cell_type": "code",
   "execution_count": null,
   "id": "1ee9ed75",
   "metadata": {},
   "outputs": [],
   "source": []
  },
  {
   "cell_type": "code",
   "execution_count": null,
   "id": "b02f3b3c",
   "metadata": {},
   "outputs": [],
   "source": []
  },
  {
   "cell_type": "code",
   "execution_count": null,
   "id": "397546de",
   "metadata": {},
   "outputs": [],
   "source": [
    "from sklearn.metrics import log_loss"
   ]
  },
  {
   "cell_type": "code",
   "execution_count": null,
   "id": "afbf51c8",
   "metadata": {},
   "outputs": [],
   "source": [
    "y = np.array([-1, 1])\n",
    "y_pred = np.array([0, 0])"
   ]
  },
  {
   "cell_type": "code",
   "execution_count": null,
   "id": "1c1b7df3",
   "metadata": {},
   "outputs": [],
   "source": [
    "y = np.array([1, 0])\n",
    "y_pred = np.array([0.5, 0.5])"
   ]
  },
  {
   "cell_type": "code",
   "execution_count": null,
   "id": "fd847d3f",
   "metadata": {},
   "outputs": [],
   "source": [
    "y = np.array([[1, 0]])\n",
    "y_pred = np.array([[0.365, 0.635]])"
   ]
  },
  {
   "cell_type": "code",
   "execution_count": null,
   "id": "9bf84cb3",
   "metadata": {},
   "outputs": [],
   "source": [
    "loss = log_loss(y, y_pred)\n",
    "loss"
   ]
  },
  {
   "cell_type": "code",
   "execution_count": null,
   "id": "fd488501",
   "metadata": {},
   "outputs": [],
   "source": [
    "\n",
    "\n",
    "\n",
    "\n",
    "\n",
    "\n",
    "\n",
    "\n",
    "\n",
    "\n",
    "\n",
    "\n",
    "\n"
   ]
  },
  {
   "cell_type": "code",
   "execution_count": null,
   "id": "b3269ee4",
   "metadata": {},
   "outputs": [],
   "source": []
  },
  {
   "cell_type": "code",
   "execution_count": null,
   "id": "7275fb12",
   "metadata": {},
   "outputs": [],
   "source": []
  }
 ],
 "metadata": {
  "kernelspec": {
   "display_name": "Python 3 (ipykernel)",
   "language": "python",
   "name": "python3"
  },
  "language_info": {
   "codemirror_mode": {
    "name": "ipython",
    "version": 3
   },
   "file_extension": ".py",
   "mimetype": "text/x-python",
   "name": "python",
   "nbconvert_exporter": "python",
   "pygments_lexer": "ipython3",
   "version": "3.8.8"
  }
 },
 "nbformat": 4,
 "nbformat_minor": 5
}
