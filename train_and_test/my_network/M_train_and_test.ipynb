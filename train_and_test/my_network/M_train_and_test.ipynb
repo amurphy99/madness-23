{
 "cells": [
  {
   "cell_type": "code",
   "execution_count": 1,
   "id": "f409ff69",
   "metadata": {},
   "outputs": [],
   "source": [
    "from copy import deepcopy\n",
    "from statistics import stdev\n",
    "import matplotlib.pyplot as plt\n",
    "import numpy as np"
   ]
  },
  {
   "cell_type": "code",
   "execution_count": 2,
   "id": "b776e05c",
   "metadata": {},
   "outputs": [],
   "source": [
    "def graph_progress(all_costs, all_accuracies, show_recents=True):\n",
    "    # last 5 results\n",
    "    # ---------------\n",
    "    if show_recents:\n",
    "        line1 = \"cost: \"\n",
    "        line2 = \"acc:  \"\n",
    "        for i in range(-5, 0):\n",
    "            line1 += \"{:>6} \".format(round(all_costs[i], 3))\n",
    "            line2 += \"{:>6}%\".format(round(all_accuracies[i]*100, 2))\n",
    "        print(line1)\n",
    "        print(line2)\n",
    "\n",
    "\n",
    "    # graphs\n",
    "    # -------\n",
    "    fig, axes = plt.subplots(nrows=1, ncols=2, figsize=(10, 5))\n",
    "\n",
    "    axes[0].plot(range(len(all_costs)), all_costs, label=\"costs\")\n",
    "    axes[0].set_xlabel('step') # Set the y axis label of the current axis.\n",
    "    axes[0].set_ylabel('cost') # Set a title of the current axes.\n",
    "    axes[0].set_title('cost over training steps') \n",
    "    axes[0].legend() # show a legend on the plot\n",
    "\n",
    "    axes[1].plot(range(len(all_accuracies)), all_accuracies, label=\"accuracies\")\n",
    "    axes[1].set_xlabel('step') # Set the y axis label of the current axis.\n",
    "    axes[1].set_ylabel('accuracy') # Set a title of the current axes.\n",
    "    axes[1].set_title('accuracy over training steps') \n",
    "    axes[1].legend() # show a legend on the plot\n",
    "\n",
    "    return fig.tight_layout()"
   ]
  },
  {
   "cell_type": "markdown",
   "id": "15b1b764",
   "metadata": {},
   "source": [
    "# import training data"
   ]
  },
  {
   "cell_type": "code",
   "execution_count": 3,
   "id": "84c684c7",
   "metadata": {},
   "outputs": [],
   "source": [
    "import pandas as pd #1\n",
    "import os           #3"
   ]
  },
  {
   "cell_type": "code",
   "execution_count": 4,
   "id": "52bdd6ed",
   "metadata": {},
   "outputs": [
    {
     "data": {
      "text/plain": [
       "['.DS_Store',\n",
       " 'M_predictions.csv',\n",
       " 'M_testing.csv',\n",
       " 'M_training_data.csv',\n",
       " 'W_predictions.csv',\n",
       " 'W_testing.csv',\n",
       " 'W_training_data.csv',\n",
       " 'predictions']"
      ]
     },
     "execution_count": 4,
     "metadata": {},
     "output_type": "execute_result"
    }
   ],
   "source": [
    "given_data_folder = 'prepped'\n",
    "\n",
    "file_names = os.listdir(given_data_folder)\n",
    "file_names.sort()\n",
    "file_names"
   ]
  },
  {
   "cell_type": "code",
   "execution_count": 5,
   "id": "c31645f4",
   "metadata": {},
   "outputs": [],
   "source": [
    "training_data_file = 'M_training_data.csv'"
   ]
  },
  {
   "cell_type": "code",
   "execution_count": 6,
   "id": "691749c6",
   "metadata": {},
   "outputs": [
    {
     "name": "stdout",
     "output_type": "stream",
     "text": [
      "46338\n"
     ]
    },
    {
     "data": {
      "text/html": [
       "<div>\n",
       "<style scoped>\n",
       "    .dataframe tbody tr th:only-of-type {\n",
       "        vertical-align: middle;\n",
       "    }\n",
       "\n",
       "    .dataframe tbody tr th {\n",
       "        vertical-align: top;\n",
       "    }\n",
       "\n",
       "    .dataframe thead th {\n",
       "        text-align: right;\n",
       "    }\n",
       "</style>\n",
       "<table border=\"1\" class=\"dataframe\">\n",
       "  <thead>\n",
       "    <tr style=\"text-align: right;\">\n",
       "      <th></th>\n",
       "      <th>Pts</th>\n",
       "      <th>FGM</th>\n",
       "      <th>FGA</th>\n",
       "      <th>FGM3</th>\n",
       "      <th>FGA3</th>\n",
       "      <th>FTM</th>\n",
       "      <th>FTA</th>\n",
       "      <th>OR</th>\n",
       "      <th>DR</th>\n",
       "      <th>Ast</th>\n",
       "      <th>...</th>\n",
       "      <th>xFTA_a</th>\n",
       "      <th>xOR_a</th>\n",
       "      <th>xDR_a</th>\n",
       "      <th>xAst_a</th>\n",
       "      <th>xTO_a</th>\n",
       "      <th>xStl_a</th>\n",
       "      <th>xBlk_a</th>\n",
       "      <th>xPF_a</th>\n",
       "      <th>xStr_a</th>\n",
       "      <th>solution</th>\n",
       "    </tr>\n",
       "  </thead>\n",
       "  <tbody>\n",
       "    <tr>\n",
       "      <th>0</th>\n",
       "      <td>0.750000</td>\n",
       "      <td>0.633800</td>\n",
       "      <td>0.787037</td>\n",
       "      <td>0.439078</td>\n",
       "      <td>0.680556</td>\n",
       "      <td>0.750842</td>\n",
       "      <td>0.662162</td>\n",
       "      <td>0.605263</td>\n",
       "      <td>0.851351</td>\n",
       "      <td>0.645833</td>\n",
       "      <td>...</td>\n",
       "      <td>-0.567568</td>\n",
       "      <td>-0.605263</td>\n",
       "      <td>-0.675676</td>\n",
       "      <td>-0.479167</td>\n",
       "      <td>-0.659091</td>\n",
       "      <td>-0.538462</td>\n",
       "      <td>-0.500000</td>\n",
       "      <td>-0.621212</td>\n",
       "      <td>-0.847291</td>\n",
       "      <td>1</td>\n",
       "    </tr>\n",
       "    <tr>\n",
       "      <th>1</th>\n",
       "      <td>0.754902</td>\n",
       "      <td>0.658602</td>\n",
       "      <td>0.555556</td>\n",
       "      <td>0.582219</td>\n",
       "      <td>0.930556</td>\n",
       "      <td>0.601307</td>\n",
       "      <td>0.594595</td>\n",
       "      <td>0.578947</td>\n",
       "      <td>0.783784</td>\n",
       "      <td>0.645833</td>\n",
       "      <td>...</td>\n",
       "      <td>-0.675676</td>\n",
       "      <td>-0.578947</td>\n",
       "      <td>-0.770270</td>\n",
       "      <td>-0.354167</td>\n",
       "      <td>-0.659091</td>\n",
       "      <td>-0.807692</td>\n",
       "      <td>-0.375000</td>\n",
       "      <td>-0.606061</td>\n",
       "      <td>-0.400841</td>\n",
       "      <td>-1</td>\n",
       "    </tr>\n",
       "    <tr>\n",
       "      <th>2</th>\n",
       "      <td>0.833333</td>\n",
       "      <td>0.763211</td>\n",
       "      <td>0.648148</td>\n",
       "      <td>0.694010</td>\n",
       "      <td>0.555556</td>\n",
       "      <td>0.798333</td>\n",
       "      <td>0.662162</td>\n",
       "      <td>0.236842</td>\n",
       "      <td>0.810811</td>\n",
       "      <td>0.791667</td>\n",
       "      <td>...</td>\n",
       "      <td>-0.567568</td>\n",
       "      <td>-0.657895</td>\n",
       "      <td>-0.635135</td>\n",
       "      <td>-0.687500</td>\n",
       "      <td>-0.454545</td>\n",
       "      <td>-0.615385</td>\n",
       "      <td>-0.500000</td>\n",
       "      <td>-0.606061</td>\n",
       "      <td>-0.768758</td>\n",
       "      <td>1</td>\n",
       "    </tr>\n",
       "    <tr>\n",
       "      <th>3</th>\n",
       "      <td>0.699346</td>\n",
       "      <td>0.750538</td>\n",
       "      <td>0.629630</td>\n",
       "      <td>0.404228</td>\n",
       "      <td>0.712963</td>\n",
       "      <td>0.706472</td>\n",
       "      <td>0.513513</td>\n",
       "      <td>0.280702</td>\n",
       "      <td>0.684685</td>\n",
       "      <td>0.625000</td>\n",
       "      <td>...</td>\n",
       "      <td>-0.675676</td>\n",
       "      <td>-0.543860</td>\n",
       "      <td>-0.702703</td>\n",
       "      <td>-0.569444</td>\n",
       "      <td>-0.666667</td>\n",
       "      <td>-0.615385</td>\n",
       "      <td>-0.458333</td>\n",
       "      <td>-0.545455</td>\n",
       "      <td>-0.541014</td>\n",
       "      <td>-1</td>\n",
       "    </tr>\n",
       "    <tr>\n",
       "      <th>4</th>\n",
       "      <td>0.700980</td>\n",
       "      <td>0.737634</td>\n",
       "      <td>0.750000</td>\n",
       "      <td>0.435882</td>\n",
       "      <td>0.583333</td>\n",
       "      <td>0.632353</td>\n",
       "      <td>0.391892</td>\n",
       "      <td>0.684211</td>\n",
       "      <td>0.716216</td>\n",
       "      <td>0.708333</td>\n",
       "      <td>...</td>\n",
       "      <td>-0.297297</td>\n",
       "      <td>-0.394737</td>\n",
       "      <td>-0.567568</td>\n",
       "      <td>-0.312500</td>\n",
       "      <td>-0.863636</td>\n",
       "      <td>-0.538462</td>\n",
       "      <td>-0.562500</td>\n",
       "      <td>-0.439394</td>\n",
       "      <td>-0.598615</td>\n",
       "      <td>1</td>\n",
       "    </tr>\n",
       "  </tbody>\n",
       "</table>\n",
       "<p>5 rows × 123 columns</p>\n",
       "</div>"
      ],
      "text/plain": [
       "        Pts       FGM       FGA      FGM3      FGA3       FTM       FTA  \\\n",
       "0  0.750000  0.633800  0.787037  0.439078  0.680556  0.750842  0.662162   \n",
       "1  0.754902  0.658602  0.555556  0.582219  0.930556  0.601307  0.594595   \n",
       "2  0.833333  0.763211  0.648148  0.694010  0.555556  0.798333  0.662162   \n",
       "3  0.699346  0.750538  0.629630  0.404228  0.712963  0.706472  0.513513   \n",
       "4  0.700980  0.737634  0.750000  0.435882  0.583333  0.632353  0.391892   \n",
       "\n",
       "         OR        DR       Ast  ...    xFTA_a     xOR_a     xDR_a    xAst_a  \\\n",
       "0  0.605263  0.851351  0.645833  ... -0.567568 -0.605263 -0.675676 -0.479167   \n",
       "1  0.578947  0.783784  0.645833  ... -0.675676 -0.578947 -0.770270 -0.354167   \n",
       "2  0.236842  0.810811  0.791667  ... -0.567568 -0.657895 -0.635135 -0.687500   \n",
       "3  0.280702  0.684685  0.625000  ... -0.675676 -0.543860 -0.702703 -0.569444   \n",
       "4  0.684211  0.716216  0.708333  ... -0.297297 -0.394737 -0.567568 -0.312500   \n",
       "\n",
       "      xTO_a    xStl_a    xBlk_a     xPF_a    xStr_a  solution  \n",
       "0 -0.659091 -0.538462 -0.500000 -0.621212 -0.847291         1  \n",
       "1 -0.659091 -0.807692 -0.375000 -0.606061 -0.400841        -1  \n",
       "2 -0.454545 -0.615385 -0.500000 -0.606061 -0.768758         1  \n",
       "3 -0.666667 -0.615385 -0.458333 -0.545455 -0.541014        -1  \n",
       "4 -0.863636 -0.538462 -0.562500 -0.439394 -0.598615         1  \n",
       "\n",
       "[5 rows x 123 columns]"
      ]
     },
     "execution_count": 6,
     "metadata": {},
     "output_type": "execute_result"
    }
   ],
   "source": [
    "file_path = given_data_folder + '/' + training_data_file \n",
    "training_df  = pd.read_csv(file_path)\n",
    "print(len(training_df))\n",
    "\n",
    "training_df.head(5)"
   ]
  },
  {
   "cell_type": "markdown",
   "id": "d897b85b",
   "metadata": {},
   "source": [
    "## get as rows"
   ]
  },
  {
   "cell_type": "code",
   "execution_count": 9,
   "id": "17941a72",
   "metadata": {},
   "outputs": [],
   "source": [
    "# wether or not to keep the data for stats against a team\n",
    "keep_against = True"
   ]
  },
  {
   "cell_type": "code",
   "execution_count": 10,
   "id": "ffe3e167",
   "metadata": {},
   "outputs": [
    {
     "name": "stdout",
     "output_type": "stream",
     "text": [
      "46338 122\n",
      "46338 1\n"
     ]
    }
   ],
   "source": [
    "training_column_names = training_df.columns.tolist()\n",
    "\n",
    "# get all data as columns\n",
    "training_columns = []\n",
    "for i in range(len(training_column_names)):\n",
    "    new_column = list(training_df[training_column_names[i]])\n",
    "    training_columns.append(new_column)\n",
    "\n",
    "    \n",
    "    \n",
    "# indicis\n",
    "# 30 each 0:15, 15:30, 30:45, 45:60\n",
    "if not keep_against:\n",
    "    new_training_columns = training_columns[0:15] + training_columns[30:45] + [training_columns[60]]\n",
    "    training_columns = new_training_columns\n",
    "\n",
    "\n",
    "    \n",
    "# get as rows\n",
    "training_input_rows    = []\n",
    "training_solution_rows = []\n",
    "for i in range(len(training_columns[0])):\n",
    "    new_input_row    = []\n",
    "    new_solution_row = [training_columns[-1][i]]\n",
    "    for j in range(len(training_columns)-1):\n",
    "        new_input_row.append(training_columns[j][i])\n",
    "        \n",
    "    training_input_rows   .append(new_input_row)\n",
    "    training_solution_rows.append(new_solution_row)\n",
    "    \n",
    "print(len(training_input_rows), len(training_input_rows[0]))\n",
    "print(len(training_solution_rows), len(training_solution_rows[0]))"
   ]
  },
  {
   "cell_type": "code",
   "execution_count": 11,
   "id": "e2461fe0",
   "metadata": {},
   "outputs": [],
   "source": [
    "#split = 14000\n",
    "#np_inputs    = np.array(training_input_rows[:split])\n",
    "#np_solutions = np.array(training_solution_rows[:split])\n",
    "\n",
    "np_inputs    = np.array(training_input_rows)\n",
    "np_solutions = np.array(training_solution_rows)\n",
    "\n",
    "np_data = [np_inputs, np_solutions]"
   ]
  },
  {
   "cell_type": "markdown",
   "id": "28ba61f1",
   "metadata": {},
   "source": [
    "# Create and Train population"
   ]
  },
  {
   "cell_type": "code",
   "execution_count": 12,
   "id": "a97db36d",
   "metadata": {},
   "outputs": [],
   "source": [
    "import sys\n",
    "sys.path.append(\"../../..\")\n",
    "\n",
    "from network_matrix.population_v3 import Population"
   ]
  },
  {
   "cell_type": "markdown",
   "id": "8c980f9f",
   "metadata": {},
   "source": [
    "### create it here"
   ]
  },
  {
   "cell_type": "code",
   "execution_count": 13,
   "id": "b9278b44",
   "metadata": {},
   "outputs": [
    {
     "data": {
      "text/plain": [
       "122"
      ]
     },
     "execution_count": 13,
     "metadata": {},
     "output_type": "execute_result"
    }
   ],
   "source": [
    "'''\n",
    "learning_rate, steps, batch_size,    cost,      acc,\n",
    "-------------- ------ ----------- -------- ---------\n",
    "       0.0001,    50,          2,   0.215,   65.51%,\n",
    "       0.0001,    50,          2,   0.200    68.70%, # 5 recent games, without against\n",
    "       \n",
    "''';\n",
    "num_inputs = len(np_inputs[0])\n",
    "num_inputs"
   ]
  },
  {
   "cell_type": "code",
   "execution_count": 14,
   "id": "a8902a6f",
   "metadata": {},
   "outputs": [],
   "source": [
    "TEST_population  = Population(num_inputs, 1, learning_rate=0.0001)\n",
    "\n",
    "all_times = [0,0,0,0,0]\n",
    "all_costs = []\n",
    "all_accuracies = []"
   ]
  },
  {
   "cell_type": "code",
   "execution_count": 24,
   "id": "49fbe888",
   "metadata": {},
   "outputs": [
    {
     "name": "stdout",
     "output_type": "stream",
     "text": [
      "Training Progress:                             |    cost     acc  |     steps           time      remaining  \n",
      "                                               | --------  ------ | ----------  -------------  ------------- \n",
      "[#################################] -  100.0%  |  0.19049  70.24% |      50/50       28m 3.5s           0.0s     \r"
     ]
    }
   ],
   "source": [
    "# training loops\n",
    "# ---------------\n",
    "#times, costs, accuracies = TEST_population.train_and_test(np_data, 6_000)\n",
    "times, costs, accuracies = TEST_population.train_and_test_stochastic(np_data, 50, batch_size=2)\n",
    "\n",
    "# update tracking\n",
    "# ---------------\n",
    "for i in range(len(all_times)):\n",
    "    all_times[i] += times[i]\n",
    "all_costs      += costs\n",
    "all_accuracies += accuracies"
   ]
  },
  {
   "cell_type": "code",
   "execution_count": 23,
   "id": "84a8ac94",
   "metadata": {},
   "outputs": [
    {
     "name": "stdout",
     "output_type": "stream",
     "text": [
      " \n",
      "               time(s)   percent  per step       | steps:              150\n",
      "            ----------  --------  --------       | learning rate:   0.0001\n",
      "calc value    24m 0.7s     27.66%      9.6       | # connections:    90344\n",
      "grad dscnt   43m 13.7s      49.8%    17.29       | L1 (sum):        0.0003\n",
      "scoring       3m 37.7s      4.18%     1.45       | L2 (**2):        0.0022\n",
      "step time    1h 26m 48.1s     100.0%    34.72\n",
      "\n",
      "cost:  0.191  0.191  0.191  0.191  0.191 \n",
      "acc:   70.08% 70.07% 70.06% 70.06% 70.05%\n"
     ]
    },
    {
     "data": {
      "image/png": "[encoded data removed]",
      "text/plain": [
       "<Figure size 720x360 with 2 Axes>"
      ]
     },
     "metadata": {
      "needs_background": "light"
     },
     "output_type": "display_data"
    },
    {
     "data": {
      "image/png": "[encoded data removed]",
      "text/plain": [
       "<Figure size 720x360 with 2 Axes>"
      ]
     },
     "metadata": {
      "needs_background": "light"
     },
     "output_type": "display_data"
    }
   ],
   "source": [
    "TEST_population.report_training_progress(all_times)     # timing\n",
    "graph_progress(all_costs, all_accuracies)               # graphs\n",
    "graph_progress(all_costs[30:], all_accuracies[30:], show_recents=False) # graphs (recent)"
   ]
  },
  {
   "cell_type": "code",
   "execution_count": 25,
   "id": "66772705",
   "metadata": {},
   "outputs": [
    {
     "name": "stdout",
     "output_type": "stream",
     "text": [
      "\n",
      "           abs_avg   abs_med       sum       max       min\n",
      "          --------  --------  --------  --------  --------\n",
      "values       0.675     0.735    -2.177     0.999    -0.999\n",
      "biases       0.062     0.039    -0.782     0.374    -0.371\n",
      "weights      0.041     0.028     1.431     0.297    -0.347\n",
      "          --------  --------  --------  --------  --------\n",
      "values       0.258     0.224    -8.174     0.731    -0.788\n",
      "biases       0.019     0.012     0.165     0.112    -0.083\n",
      "weights       0.03      0.02    14.993     0.251    -0.282\n",
      "          --------  --------  --------  --------  --------\n",
      "values       0.131      0.11     -1.58     0.411    -0.445\n",
      "biases        0.01     0.004     0.121      0.07    -0.118\n",
      "weights       0.03      0.02    11.093     0.248    -0.238\n",
      "          --------  --------  --------  --------  --------\n",
      "values       0.223     0.223     0.223     0.223     0.223\n",
      "biases       0.044     0.044    -0.044    -0.044    -0.044\n",
      "weights        0.1     0.078     0.162     0.416    -0.423\n"
     ]
    }
   ],
   "source": [
    "TEST_population.print_magnitudes_report()"
   ]
  },
  {
   "cell_type": "markdown",
   "id": "827d4669",
   "metadata": {},
   "source": [
    "# import testing data"
   ]
  },
  {
   "cell_type": "code",
   "execution_count": 26,
   "id": "4f78d0ad",
   "metadata": {},
   "outputs": [],
   "source": [
    "testing_data_file = 'M_testing.csv'"
   ]
  },
  {
   "cell_type": "code",
   "execution_count": 27,
   "id": "872c9e03",
   "metadata": {},
   "outputs": [
    {
     "name": "stdout",
     "output_type": "stream",
     "text": [
      "617824\n"
     ]
    },
    {
     "data": {
      "text/html": [
       "<div>\n",
       "<style scoped>\n",
       "    .dataframe tbody tr th:only-of-type {\n",
       "        vertical-align: middle;\n",
       "    }\n",
       "\n",
       "    .dataframe tbody tr th {\n",
       "        vertical-align: top;\n",
       "    }\n",
       "\n",
       "    .dataframe thead th {\n",
       "        text-align: right;\n",
       "    }\n",
       "</style>\n",
       "<table border=\"1\" class=\"dataframe\">\n",
       "  <thead>\n",
       "    <tr style=\"text-align: right;\">\n",
       "      <th></th>\n",
       "      <th>team_1_id</th>\n",
       "      <th>team_2_id</th>\n",
       "      <th>Pts</th>\n",
       "      <th>FGM</th>\n",
       "      <th>FGA</th>\n",
       "      <th>FGM3</th>\n",
       "      <th>FGA3</th>\n",
       "      <th>FTM</th>\n",
       "      <th>FTA</th>\n",
       "      <th>OR</th>\n",
       "      <th>...</th>\n",
       "      <th>xFTM_a</th>\n",
       "      <th>xFTA_a</th>\n",
       "      <th>xOR_a</th>\n",
       "      <th>xDR_a</th>\n",
       "      <th>xAst_a</th>\n",
       "      <th>xTO_a</th>\n",
       "      <th>xStl_a</th>\n",
       "      <th>xBlk_a</th>\n",
       "      <th>xPF_a</th>\n",
       "      <th>xStr_a</th>\n",
       "    </tr>\n",
       "  </thead>\n",
       "  <tbody>\n",
       "    <tr>\n",
       "      <th>0</th>\n",
       "      <td>1101_2017</td>\n",
       "      <td>1102_2017</td>\n",
       "      <td>0.700000</td>\n",
       "      <td>0.715833</td>\n",
       "      <td>0.644444</td>\n",
       "      <td>0.596241</td>\n",
       "      <td>0.572222</td>\n",
       "      <td>0.740946</td>\n",
       "      <td>0.421622</td>\n",
       "      <td>0.410526</td>\n",
       "      <td>...</td>\n",
       "      <td>-0.710842</td>\n",
       "      <td>-0.627027</td>\n",
       "      <td>-0.452632</td>\n",
       "      <td>-0.637838</td>\n",
       "      <td>-0.541667</td>\n",
       "      <td>-0.527273</td>\n",
       "      <td>-0.538462</td>\n",
       "      <td>-0.25</td>\n",
       "      <td>-0.466667</td>\n",
       "      <td>-0.698992</td>\n",
       "    </tr>\n",
       "    <tr>\n",
       "      <th>1</th>\n",
       "      <td>1102_2017</td>\n",
       "      <td>1101_2017</td>\n",
       "      <td>0.596078</td>\n",
       "      <td>0.617095</td>\n",
       "      <td>0.548148</td>\n",
       "      <td>0.425862</td>\n",
       "      <td>0.627778</td>\n",
       "      <td>0.713678</td>\n",
       "      <td>0.589189</td>\n",
       "      <td>0.389474</td>\n",
       "      <td>...</td>\n",
       "      <td>-0.753033</td>\n",
       "      <td>-0.421622</td>\n",
       "      <td>-0.421053</td>\n",
       "      <td>-0.767568</td>\n",
       "      <td>-0.733333</td>\n",
       "      <td>-0.563636</td>\n",
       "      <td>-0.523077</td>\n",
       "      <td>-0.30</td>\n",
       "      <td>-0.612121</td>\n",
       "      <td>-0.328371</td>\n",
       "    </tr>\n",
       "    <tr>\n",
       "      <th>2</th>\n",
       "      <td>1101_2017</td>\n",
       "      <td>1103_2017</td>\n",
       "      <td>0.700000</td>\n",
       "      <td>0.715833</td>\n",
       "      <td>0.644444</td>\n",
       "      <td>0.596241</td>\n",
       "      <td>0.572222</td>\n",
       "      <td>0.740946</td>\n",
       "      <td>0.421622</td>\n",
       "      <td>0.410526</td>\n",
       "      <td>...</td>\n",
       "      <td>-0.710842</td>\n",
       "      <td>-0.627027</td>\n",
       "      <td>-0.452632</td>\n",
       "      <td>-0.637838</td>\n",
       "      <td>-0.541667</td>\n",
       "      <td>-0.527273</td>\n",
       "      <td>-0.538462</td>\n",
       "      <td>-0.25</td>\n",
       "      <td>-0.466667</td>\n",
       "      <td>-0.698992</td>\n",
       "    </tr>\n",
       "    <tr>\n",
       "      <th>3</th>\n",
       "      <td>1103_2017</td>\n",
       "      <td>1101_2017</td>\n",
       "      <td>0.703922</td>\n",
       "      <td>0.812919</td>\n",
       "      <td>0.577778</td>\n",
       "      <td>0.534792</td>\n",
       "      <td>0.694444</td>\n",
       "      <td>0.629716</td>\n",
       "      <td>0.454054</td>\n",
       "      <td>0.547368</td>\n",
       "      <td>...</td>\n",
       "      <td>-0.781170</td>\n",
       "      <td>-0.497297</td>\n",
       "      <td>-0.547368</td>\n",
       "      <td>-0.621622</td>\n",
       "      <td>-0.450000</td>\n",
       "      <td>-0.572727</td>\n",
       "      <td>-0.492308</td>\n",
       "      <td>-0.25</td>\n",
       "      <td>-0.509091</td>\n",
       "      <td>-0.467162</td>\n",
       "    </tr>\n",
       "    <tr>\n",
       "      <th>4</th>\n",
       "      <td>1101_2017</td>\n",
       "      <td>1104_2017</td>\n",
       "      <td>0.700000</td>\n",
       "      <td>0.715833</td>\n",
       "      <td>0.644444</td>\n",
       "      <td>0.596241</td>\n",
       "      <td>0.572222</td>\n",
       "      <td>0.740946</td>\n",
       "      <td>0.421622</td>\n",
       "      <td>0.410526</td>\n",
       "      <td>...</td>\n",
       "      <td>-0.710842</td>\n",
       "      <td>-0.627027</td>\n",
       "      <td>-0.452632</td>\n",
       "      <td>-0.637838</td>\n",
       "      <td>-0.541667</td>\n",
       "      <td>-0.527273</td>\n",
       "      <td>-0.538462</td>\n",
       "      <td>-0.25</td>\n",
       "      <td>-0.466667</td>\n",
       "      <td>-0.698992</td>\n",
       "    </tr>\n",
       "  </tbody>\n",
       "</table>\n",
       "<p>5 rows × 124 columns</p>\n",
       "</div>"
      ],
      "text/plain": [
       "   team_1_id  team_2_id       Pts       FGM       FGA      FGM3      FGA3  \\\n",
       "0  1101_2017  1102_2017  0.700000  0.715833  0.644444  0.596241  0.572222   \n",
       "1  1102_2017  1101_2017  0.596078  0.617095  0.548148  0.425862  0.627778   \n",
       "2  1101_2017  1103_2017  0.700000  0.715833  0.644444  0.596241  0.572222   \n",
       "3  1103_2017  1101_2017  0.703922  0.812919  0.577778  0.534792  0.694444   \n",
       "4  1101_2017  1104_2017  0.700000  0.715833  0.644444  0.596241  0.572222   \n",
       "\n",
       "        FTM       FTA        OR  ...    xFTM_a    xFTA_a     xOR_a     xDR_a  \\\n",
       "0  0.740946  0.421622  0.410526  ... -0.710842 -0.627027 -0.452632 -0.637838   \n",
       "1  0.713678  0.589189  0.389474  ... -0.753033 -0.421622 -0.421053 -0.767568   \n",
       "2  0.740946  0.421622  0.410526  ... -0.710842 -0.627027 -0.452632 -0.637838   \n",
       "3  0.629716  0.454054  0.547368  ... -0.781170 -0.497297 -0.547368 -0.621622   \n",
       "4  0.740946  0.421622  0.410526  ... -0.710842 -0.627027 -0.452632 -0.637838   \n",
       "\n",
       "     xAst_a     xTO_a    xStl_a  xBlk_a     xPF_a    xStr_a  \n",
       "0 -0.541667 -0.527273 -0.538462   -0.25 -0.466667 -0.698992  \n",
       "1 -0.733333 -0.563636 -0.523077   -0.30 -0.612121 -0.328371  \n",
       "2 -0.541667 -0.527273 -0.538462   -0.25 -0.466667 -0.698992  \n",
       "3 -0.450000 -0.572727 -0.492308   -0.25 -0.509091 -0.467162  \n",
       "4 -0.541667 -0.527273 -0.538462   -0.25 -0.466667 -0.698992  \n",
       "\n",
       "[5 rows x 124 columns]"
      ]
     },
     "execution_count": 27,
     "metadata": {},
     "output_type": "execute_result"
    }
   ],
   "source": [
    "file_path = given_data_folder + '/' + testing_data_file \n",
    "testing_df  = pd.read_csv(file_path)\n",
    "print(len(testing_df))\n",
    "\n",
    "testing_df.head(5)"
   ]
  },
  {
   "cell_type": "code",
   "execution_count": 28,
   "id": "055e3a8e",
   "metadata": {},
   "outputs": [
    {
     "name": "stdout",
     "output_type": "stream",
     "text": [
      "617824 122\n",
      "617824 2\n"
     ]
    }
   ],
   "source": [
    "testing_column_names = testing_df.columns.tolist()\n",
    "\n",
    "# get all data as columns\n",
    "testing_columns = []\n",
    "for i in range(len(testing_column_names)):\n",
    "    new_column = list(testing_df[testing_column_names[i]])\n",
    "    testing_columns.append(new_column)\n",
    "    \n",
    "\n",
    "    \n",
    "# indicis\n",
    "# 30 each 2:17, 17:32, 32:47, 47:62\n",
    "if not keep_against:\n",
    "    new_testing_columns = testing_columns[0:2] + testing_columns[2:17] + testing_columns[32:47]\n",
    "    testing_columns = new_testing_columns\n",
    "\n",
    "\n",
    "    \n",
    "# get as rows\n",
    "testing_input_rows    = []\n",
    "testing_solution_rows = []\n",
    "for i in range(len(testing_columns[0])):\n",
    "    new_input_row    = []\n",
    "    new_solution_row = [testing_columns[0][i], testing_columns[1][i]]\n",
    "    for j in range(2, len(testing_columns)):\n",
    "        new_input_row.append(testing_columns[j][i])\n",
    "        \n",
    "    testing_input_rows   .append(new_input_row)\n",
    "    testing_solution_rows.append(new_solution_row)\n",
    "    \n",
    "print(len(testing_input_rows), len(testing_input_rows[0]))\n",
    "print(len(testing_solution_rows), len(testing_solution_rows[0]))"
   ]
  },
  {
   "cell_type": "code",
   "execution_count": 29,
   "id": "e1046c1f",
   "metadata": {},
   "outputs": [],
   "source": [
    "testing_inputs = np.array(testing_input_rows)"
   ]
  },
  {
   "cell_type": "markdown",
   "id": "aba37256",
   "metadata": {},
   "source": [
    "### testing"
   ]
  },
  {
   "cell_type": "code",
   "execution_count": 30,
   "id": "8d128dea",
   "metadata": {},
   "outputs": [],
   "source": [
    "#             ID, Pred\n",
    "# 2017_1101_1102,  0.5"
   ]
  },
  {
   "cell_type": "code",
   "execution_count": 31,
   "id": "ae266b35",
   "metadata": {},
   "outputs": [
    {
     "name": "stdout",
     "output_type": "stream",
     "text": [
      "100.0%\n",
      " 308912\n"
     ]
    }
   ],
   "source": [
    "# each matchup has two outputs\n",
    "output_rows = []\n",
    "\n",
    "outputs = []\n",
    "for i in range(len(testing_input_rows)):\n",
    "    TEST_population.layers[0][\"values\"] = testing_inputs[i]\n",
    "    output = TEST_population.calculate_values()\n",
    "    outputs.append(output[0]) \n",
    "    \n",
    "    if len(outputs) == 2:\n",
    "        team_1 = testing_solution_rows[i-1][0].split('_') # 1101_2017\n",
    "        team_2 = testing_solution_rows[i-1][1].split('_') # 1102_2017\n",
    "        year = team_1[1]\n",
    "        matchup_ID = \"{}_{}_{}\".format(year, team_1[0], team_2[0])\n",
    "        \n",
    "        output_pred = (outputs[0] + (outputs[1]*-1))/2\n",
    "        final_pred  = (output_pred+1)/2\n",
    "        \n",
    "        \n",
    "        output_rows.append([matchup_ID, final_pred])\n",
    "        outputs = []\n",
    "        \n",
    "        \n",
    "    progress = \"{:>5}%\".format(round( (i/len(testing_input_rows))*100, 2 ))\n",
    "    print(progress, end=\"\\r\")\n",
    "        \n",
    "print('\\n', len(output_rows))"
   ]
  },
  {
   "cell_type": "code",
   "execution_count": 32,
   "id": "e26ec8b2",
   "metadata": {},
   "outputs": [
    {
     "name": "stdout",
     "output_type": "stream",
     "text": [
      "average: 0.47281 | abs average: 0.47281 | sum: 146055.59669\n"
     ]
    }
   ],
   "source": [
    "out_sum = 0\n",
    "out_avg = 0\n",
    "abs_sum = 0\n",
    "abs_avg = 0\n",
    "\n",
    "for i in range(len(output_rows)):\n",
    "    out_sum += output_rows[i][1]\n",
    "    abs_sum += abs(output_rows[i][1])\n",
    "\n",
    "out_avg = round(out_sum / len(output_rows), 5)\n",
    "abs_avg = round(abs_sum / len(output_rows), 5)\n",
    "out_sum = round(out_sum, 5)\n",
    "\n",
    "\n",
    "print(\"average: {:>7} | abs average: {:>7} | sum: {:>7}\".format(  out_avg, abs_avg, out_sum ))"
   ]
  },
  {
   "cell_type": "markdown",
   "id": "8d296cd4",
   "metadata": {},
   "source": [
    "### create output file"
   ]
  },
  {
   "cell_type": "code",
   "execution_count": 33,
   "id": "7ff1db8d",
   "metadata": {},
   "outputs": [],
   "source": [
    "output_headers = [\"ID\", \"Pred\"]"
   ]
  },
  {
   "cell_type": "code",
   "execution_count": 34,
   "id": "c1f804ee",
   "metadata": {},
   "outputs": [
    {
     "name": "stdout",
     "output_type": "stream",
     "text": [
      "(308912, 2)\n"
     ]
    },
    {
     "data": {
      "text/html": [
       "<div>\n",
       "<style scoped>\n",
       "    .dataframe tbody tr th:only-of-type {\n",
       "        vertical-align: middle;\n",
       "    }\n",
       "\n",
       "    .dataframe tbody tr th {\n",
       "        vertical-align: top;\n",
       "    }\n",
       "\n",
       "    .dataframe thead th {\n",
       "        text-align: right;\n",
       "    }\n",
       "</style>\n",
       "<table border=\"1\" class=\"dataframe\">\n",
       "  <thead>\n",
       "    <tr style=\"text-align: right;\">\n",
       "      <th></th>\n",
       "      <th>ID</th>\n",
       "      <th>Pred</th>\n",
       "    </tr>\n",
       "  </thead>\n",
       "  <tbody>\n",
       "    <tr>\n",
       "      <th>0</th>\n",
       "      <td>2017_1101_1102</td>\n",
       "      <td>0.304698</td>\n",
       "    </tr>\n",
       "    <tr>\n",
       "      <th>1</th>\n",
       "      <td>2017_1101_1103</td>\n",
       "      <td>0.054563</td>\n",
       "    </tr>\n",
       "    <tr>\n",
       "      <th>2</th>\n",
       "      <td>2017_1101_1104</td>\n",
       "      <td>0.029072</td>\n",
       "    </tr>\n",
       "    <tr>\n",
       "      <th>3</th>\n",
       "      <td>2017_1101_1105</td>\n",
       "      <td>0.736127</td>\n",
       "    </tr>\n",
       "    <tr>\n",
       "      <th>4</th>\n",
       "      <td>2017_1101_1106</td>\n",
       "      <td>0.728175</td>\n",
       "    </tr>\n",
       "  </tbody>\n",
       "</table>\n",
       "</div>"
      ],
      "text/plain": [
       "               ID      Pred\n",
       "0  2017_1101_1102  0.304698\n",
       "1  2017_1101_1103  0.054563\n",
       "2  2017_1101_1104  0.029072\n",
       "3  2017_1101_1105  0.736127\n",
       "4  2017_1101_1106  0.728175"
      ]
     },
     "execution_count": 34,
     "metadata": {},
     "output_type": "execute_result"
    }
   ],
   "source": [
    "# create the final dataframe\n",
    "predictions_df = pd.DataFrame(output_rows, columns=output_headers)\n",
    "\n",
    "print(predictions_df.shape)\n",
    "predictions_df.head()"
   ]
  },
  {
   "cell_type": "code",
   "execution_count": 35,
   "id": "716686b1",
   "metadata": {},
   "outputs": [],
   "source": [
    "# to csv\n",
    "file_name = \"prepped/M_predictions.csv\"\n",
    "predictions_df.to_csv(file_name, index=False)"
   ]
  },
  {
   "cell_type": "code",
   "execution_count": null,
   "id": "a7ecdca5",
   "metadata": {},
   "outputs": [],
   "source": []
  },
  {
   "cell_type": "code",
   "execution_count": null,
   "id": "f9502bdf",
   "metadata": {},
   "outputs": [],
   "source": [
    "\n",
    "\n",
    "\n",
    "\n",
    "\n",
    "\n",
    "\n",
    "\n",
    "\n",
    "\n",
    "\n",
    "\n",
    "\n"
   ]
  },
  {
   "cell_type": "code",
   "execution_count": null,
   "id": "c7f45031",
   "metadata": {},
   "outputs": [],
   "source": []
  }
 ],
 "metadata": {
  "kernelspec": {
   "display_name": "Python 3 (ipykernel)",
   "language": "python",
   "name": "python3"
  },
  "language_info": {
   "codemirror_mode": {
    "name": "ipython",
    "version": 3
   },
   "file_extension": ".py",
   "mimetype": "text/x-python",
   "name": "python",
   "nbconvert_exporter": "python",
   "pygments_lexer": "ipython3",
   "version": "3.8.8"
  }
 },
 "nbformat": 4,
 "nbformat_minor": 5
}
