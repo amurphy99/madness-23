{
 "cells": [
  {
   "cell_type": "code",
   "execution_count": 1,
   "id": "7f4e418e",
   "metadata": {},
   "outputs": [],
   "source": [
    "import pandas as pd #1\n",
    "import os           #3\n",
    "import numpy as np"
   ]
  },
  {
   "cell_type": "code",
   "execution_count": 2,
   "id": "b78bae5a",
   "metadata": {},
   "outputs": [
    {
     "data": {
      "text/plain": [
       "['.DS_Store',\n",
       " '.ipynb_checkpoints',\n",
       " 'M_predictions_embeddings.csv',\n",
       " 'M_predictions_embeddings_2023.csv',\n",
       " 'W_predictions_embeddings.csv',\n",
       " 'W_predictions_embeddings_2023.csv',\n",
       " 'aem_actual_230315_23.28.csv',\n",
       " 'aem_actual_230316_09.42.csv',\n",
       " 'aem_sample_230315_23.24.csv',\n",
       " 'display_data',\n",
       " 'display_results.ipynb',\n",
       " 'modifying_outputs.ipynb']"
      ]
     },
     "execution_count": 2,
     "metadata": {},
     "output_type": "execute_result"
    }
   ],
   "source": [
    "given_data_folder = '.'\n",
    "\n",
    "file_names = os.listdir(given_data_folder)\n",
    "file_names.sort()\n",
    "file_names"
   ]
  },
  {
   "cell_type": "markdown",
   "id": "f1d9652c",
   "metadata": {},
   "source": [
    "## This file is the one with my top score in Kaggle"
   ]
  },
  {
   "cell_type": "code",
   "execution_count": 3,
   "id": "17633c5a",
   "metadata": {},
   "outputs": [],
   "source": [
    "predictions_file_name = 'aem_actual_230315_23.28.csv'"
   ]
  },
  {
   "cell_type": "code",
   "execution_count": 4,
   "id": "02b269db",
   "metadata": {},
   "outputs": [
    {
     "name": "stdout",
     "output_type": "stream",
     "text": [
      "130683\n"
     ]
    },
    {
     "data": {
      "text/html": [
       "<div>\n",
       "<style scoped>\n",
       "    .dataframe tbody tr th:only-of-type {\n",
       "        vertical-align: middle;\n",
       "    }\n",
       "\n",
       "    .dataframe tbody tr th {\n",
       "        vertical-align: top;\n",
       "    }\n",
       "\n",
       "    .dataframe thead th {\n",
       "        text-align: right;\n",
       "    }\n",
       "</style>\n",
       "<table border=\"1\" class=\"dataframe\">\n",
       "  <thead>\n",
       "    <tr style=\"text-align: right;\">\n",
       "      <th></th>\n",
       "      <th>ID</th>\n",
       "      <th>Pred</th>\n",
       "    </tr>\n",
       "  </thead>\n",
       "  <tbody>\n",
       "    <tr>\n",
       "      <th>0</th>\n",
       "      <td>2023_1101_1102</td>\n",
       "      <td>0.728315</td>\n",
       "    </tr>\n",
       "    <tr>\n",
       "      <th>1</th>\n",
       "      <td>2023_1101_1103</td>\n",
       "      <td>0.426748</td>\n",
       "    </tr>\n",
       "    <tr>\n",
       "      <th>2</th>\n",
       "      <td>2023_1101_1104</td>\n",
       "      <td>0.177597</td>\n",
       "    </tr>\n",
       "    <tr>\n",
       "      <th>3</th>\n",
       "      <td>2023_1101_1105</td>\n",
       "      <td>0.844958</td>\n",
       "    </tr>\n",
       "    <tr>\n",
       "      <th>4</th>\n",
       "      <td>2023_1101_1106</td>\n",
       "      <td>0.894379</td>\n",
       "    </tr>\n",
       "  </tbody>\n",
       "</table>\n",
       "</div>"
      ],
      "text/plain": [
       "               ID      Pred\n",
       "0  2023_1101_1102  0.728315\n",
       "1  2023_1101_1103  0.426748\n",
       "2  2023_1101_1104  0.177597\n",
       "3  2023_1101_1105  0.844958\n",
       "4  2023_1101_1106  0.894379"
      ]
     },
     "execution_count": 4,
     "metadata": {},
     "output_type": "execute_result"
    }
   ],
   "source": [
    "file_path = predictions_file_name \n",
    "predictions  = pd.read_csv(file_path)\n",
    "print(len(predictions))\n",
    "\n",
    "predictions.head(5)"
   ]
  },
  {
   "cell_type": "markdown",
   "id": "2f6e8b4b",
   "metadata": {},
   "source": [
    "## Get as columns"
   ]
  },
  {
   "cell_type": "code",
   "execution_count": 5,
   "id": "ef3575c6",
   "metadata": {},
   "outputs": [],
   "source": [
    "def get_as_columns(df):\n",
    "    # Creates list of the column names from the df\n",
    "    columns = df.columns.tolist()\n",
    "\n",
    "    # Creates list of the columns\n",
    "    df_columns = []\n",
    "    for expected_column in columns:\n",
    "        df_columns.append( df[expected_column].tolist() )\n",
    "\n",
    "    return df_columns"
   ]
  },
  {
   "cell_type": "code",
   "execution_count": 6,
   "id": "9912bbaf",
   "metadata": {},
   "outputs": [
    {
     "name": "stdout",
     "output_type": "stream",
     "text": [
      "Rows:     2\n",
      "Columns:  130683\n"
     ]
    }
   ],
   "source": [
    "predictions_columns = get_as_columns(predictions)\n",
    "\n",
    "print(\"Rows:    \", len(predictions_columns) )\n",
    "print(\"Columns: \", len(predictions_columns[0]) )"
   ]
  },
  {
   "cell_type": "markdown",
   "id": "d7168930",
   "metadata": {},
   "source": [
    "## Adjust Predictions"
   ]
  },
  {
   "cell_type": "code",
   "execution_count": 16,
   "id": "d1d04b90",
   "metadata": {},
   "outputs": [],
   "source": [
    "np_predictions = np.array(predictions_columns[1])"
   ]
  },
  {
   "cell_type": "code",
   "execution_count": 17,
   "id": "d1b4c533",
   "metadata": {},
   "outputs": [],
   "source": [
    "# do whatever to the predictions\n",
    "method_used = \"mult_by_1.2\""
   ]
  },
  {
   "cell_type": "code",
   "execution_count": 18,
   "id": "adb71dab",
   "metadata": {},
   "outputs": [],
   "source": [
    "new_predictions = np.multiply(np_predictions, 1.2)\n",
    "\n",
    "new_predictions[(new_predictions>1.0)] = 1.0"
   ]
  },
  {
   "cell_type": "markdown",
   "id": "2fce3596",
   "metadata": {},
   "source": [
    "## Put it back together into a DF and output"
   ]
  },
  {
   "cell_type": "code",
   "execution_count": 19,
   "id": "ca8f1aa1",
   "metadata": {},
   "outputs": [
    {
     "name": "stdout",
     "output_type": "stream",
     "text": [
      "(130683, 2)\n"
     ]
    },
    {
     "data": {
      "text/html": [
       "<div>\n",
       "<style scoped>\n",
       "    .dataframe tbody tr th:only-of-type {\n",
       "        vertical-align: middle;\n",
       "    }\n",
       "\n",
       "    .dataframe tbody tr th {\n",
       "        vertical-align: top;\n",
       "    }\n",
       "\n",
       "    .dataframe thead th {\n",
       "        text-align: right;\n",
       "    }\n",
       "</style>\n",
       "<table border=\"1\" class=\"dataframe\">\n",
       "  <thead>\n",
       "    <tr style=\"text-align: right;\">\n",
       "      <th></th>\n",
       "      <th>ID</th>\n",
       "      <th>Pred</th>\n",
       "    </tr>\n",
       "  </thead>\n",
       "  <tbody>\n",
       "    <tr>\n",
       "      <th>0</th>\n",
       "      <td>2023_1101_1102</td>\n",
       "      <td>0.873978</td>\n",
       "    </tr>\n",
       "    <tr>\n",
       "      <th>1</th>\n",
       "      <td>2023_1101_1103</td>\n",
       "      <td>0.512097</td>\n",
       "    </tr>\n",
       "    <tr>\n",
       "      <th>2</th>\n",
       "      <td>2023_1101_1104</td>\n",
       "      <td>0.213117</td>\n",
       "    </tr>\n",
       "    <tr>\n",
       "      <th>3</th>\n",
       "      <td>2023_1101_1105</td>\n",
       "      <td>1.000000</td>\n",
       "    </tr>\n",
       "    <tr>\n",
       "      <th>4</th>\n",
       "      <td>2023_1101_1106</td>\n",
       "      <td>1.000000</td>\n",
       "    </tr>\n",
       "  </tbody>\n",
       "</table>\n",
       "</div>"
      ],
      "text/plain": [
       "               ID      Pred\n",
       "0  2023_1101_1102  0.873978\n",
       "1  2023_1101_1103  0.512097\n",
       "2  2023_1101_1104  0.213117\n",
       "3  2023_1101_1105  1.000000\n",
       "4  2023_1101_1106  1.000000"
      ]
     },
     "execution_count": 19,
     "metadata": {},
     "output_type": "execute_result"
    }
   ],
   "source": [
    "# create the final dataframe\n",
    "predictions_df = pd.DataFrame(data    = list(zip(predictions_columns[0], new_predictions)), \n",
    "                              columns = (\"ID\", \"Pred\"))\n",
    "\n",
    "print(predictions_df.shape)\n",
    "predictions_df.head()"
   ]
  },
  {
   "cell_type": "code",
   "execution_count": 20,
   "id": "63c7277c",
   "metadata": {},
   "outputs": [
    {
     "data": {
      "text/plain": [
       "'aem_actual_mult_by_1.2.csv'"
      ]
     },
     "execution_count": 20,
     "metadata": {},
     "output_type": "execute_result"
    }
   ],
   "source": [
    "file_prefix = \"aem_actual\"\n",
    "\n",
    "file_name = \"{}_{}.csv\".format(file_prefix, method_used)\n",
    "file_name"
   ]
  },
  {
   "cell_type": "code",
   "execution_count": 21,
   "id": "c34bc7d8",
   "metadata": {},
   "outputs": [],
   "source": [
    "# to csv\n",
    "file_name = \"modified/\" + file_name\n",
    "predictions_df.to_csv(file_name, index=False)"
   ]
  },
  {
   "cell_type": "code",
   "execution_count": null,
   "id": "059095b5",
   "metadata": {},
   "outputs": [],
   "source": []
  },
  {
   "cell_type": "code",
   "execution_count": null,
   "id": "4e90c86d",
   "metadata": {},
   "outputs": [],
   "source": []
  }
 ],
 "metadata": {
  "kernelspec": {
   "display_name": "Python 3 (ipykernel)",
   "language": "python",
   "name": "python3"
  },
  "language_info": {
   "codemirror_mode": {
    "name": "ipython",
    "version": 3
   },
   "file_extension": ".py",
   "mimetype": "text/x-python",
   "name": "python",
   "nbconvert_exporter": "python",
   "pygments_lexer": "ipython3",
   "version": "3.8.8"
  }
 },
 "nbformat": 4,
 "nbformat_minor": 5
}
